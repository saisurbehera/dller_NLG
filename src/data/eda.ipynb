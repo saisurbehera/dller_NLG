{
 "cells": [
  {
   "cell_type": "code",
   "execution_count": 68,
   "metadata": {},
   "outputs": [
    {
     "name": "stdout",
     "output_type": "stream",
     "text": [
      "['../../data/raw/streaminqa_valid.jsonl', '../../data/raw/streaminqa_train.jsonl', '../../data/raw/streaminqa_eval.jsonl']\n"
     ]
    },
    {
     "name": "stderr",
     "output_type": "stream",
     "text": [
      "Using custom data configuration default-d244b28f1b15863e\n",
      "Found cached dataset json (/root/.cache/huggingface/datasets/json/default-d244b28f1b15863e/0.0.0/e6070c77f18f01a5ad4551a8b7edfba20b8438b7cad4d94e6ad9378022ce4aab)\n",
      "100%|██████████| 1/1 [00:00<00:00, 375.09it/s]\n",
      "Using custom data configuration default-f0b49b41b445f076\n",
      "Found cached dataset json (/root/.cache/huggingface/datasets/json/default-f0b49b41b445f076/0.0.0/e6070c77f18f01a5ad4551a8b7edfba20b8438b7cad4d94e6ad9378022ce4aab)\n",
      "100%|██████████| 1/1 [00:00<00:00, 241.08it/s]\n",
      "Using custom data configuration default-886a77e275fbf5b2\n",
      "Found cached dataset json (/root/.cache/huggingface/datasets/json/default-886a77e275fbf5b2/0.0.0/e6070c77f18f01a5ad4551a8b7edfba20b8438b7cad4d94e6ad9378022ce4aab)\n",
      "100%|██████████| 1/1 [00:00<00:00, 276.74it/s]\n"
     ]
    }
   ],
   "source": [
    "from glob import glob\n",
    "from datasets import load_dataset\n",
    "files = glob(\"../../data/raw/*.jsonl\")\n",
    "print(files)\n",
    "ds_l = [load_dataset(\"json\",data_files=i) for i in files]\n",
    "ds_sm = ds_l[1]\n",
    "ds_sm[\"test\"] = ds_l[0][\"train\"]\n",
    "ds_sm[\"validation\"] = ds_l[2][\"train\"]"
   ]
  },
  {
   "cell_type": "code",
   "execution_count": 53,
   "metadata": {},
   "outputs": [],
   "source": []
  },
  {
   "cell_type": "code",
   "execution_count": 69,
   "metadata": {},
   "outputs": [],
   "source": [
    "# convert to pandas\n",
    "df = ds_sm[\"validation\"].to_pandas()"
   ]
  },
  {
   "cell_type": "code",
   "execution_count": 70,
   "metadata": {},
   "outputs": [
    {
     "data": {
      "text/html": [
       "<div>\n",
       "<style scoped>\n",
       "    .dataframe tbody tr th:only-of-type {\n",
       "        vertical-align: middle;\n",
       "    }\n",
       "\n",
       "    .dataframe tbody tr th {\n",
       "        vertical-align: top;\n",
       "    }\n",
       "\n",
       "    .dataframe thead th {\n",
       "        text-align: right;\n",
       "    }\n",
       "</style>\n",
       "<table border=\"1\" class=\"dataframe\">\n",
       "  <thead>\n",
       "    <tr style=\"text-align: right;\">\n",
       "      <th></th>\n",
       "      <th>0</th>\n",
       "      <th>1</th>\n",
       "      <th>2</th>\n",
       "      <th>3</th>\n",
       "      <th>4</th>\n",
       "    </tr>\n",
       "  </thead>\n",
       "  <tbody>\n",
       "    <tr>\n",
       "      <th>qa_id</th>\n",
       "      <td>eval-000000</td>\n",
       "      <td>eval-000001</td>\n",
       "      <td>eval-000002</td>\n",
       "      <td>eval-000003</td>\n",
       "      <td>eval-000004</td>\n",
       "    </tr>\n",
       "    <tr>\n",
       "      <th>question</th>\n",
       "      <td>For what reason did the Greek navy refuse to t...</td>\n",
       "      <td>Which US State did Donald Trump and Bernie San...</td>\n",
       "      <td>Who was running in the French presidential ele...</td>\n",
       "      <td>What is the name of the Nobel Laurete who oppo...</td>\n",
       "      <td>Katy Perry reportedly got cozy with which prod...</td>\n",
       "    </tr>\n",
       "    <tr>\n",
       "      <th>answers</th>\n",
       "      <td>[It listed heavily during trials in the North ...</td>\n",
       "      <td>[New Hampshire, New Hampshire , New Hampshire.]</td>\n",
       "      <td>[Nicolas Sarkozy and Alain Juppe and Marine Le...</td>\n",
       "      <td>[Aung San Suu Kyi, Aung San Suu., Aung San Suu...</td>\n",
       "      <td>[Diplo, Diplo, diplo]</td>\n",
       "    </tr>\n",
       "    <tr>\n",
       "      <th>answers_additional</th>\n",
       "      <td>[ground listed heavily during trails.]</td>\n",
       "      <td>[New Hampshire.]</td>\n",
       "      <td>[Alain Juppe.]</td>\n",
       "      <td>[Aung San Suu Kyi]</td>\n",
       "      <td>[Diplo at Coachella ]</td>\n",
       "    </tr>\n",
       "    <tr>\n",
       "      <th>question_ts</th>\n",
       "      <td>1581321600</td>\n",
       "      <td>1578211200</td>\n",
       "      <td>1584428400</td>\n",
       "      <td>1587020400</td>\n",
       "      <td>1586674800</td>\n",
       "    </tr>\n",
       "    <tr>\n",
       "      <th>evidence_ts</th>\n",
       "      <td>1268982000</td>\n",
       "      <td>1455091200</td>\n",
       "      <td>1450425600</td>\n",
       "      <td>1211871600</td>\n",
       "      <td>1398409200</td>\n",
       "    </tr>\n",
       "    <tr>\n",
       "      <th>evidence_id</th>\n",
       "      <td>20100319000000000000\u0000\u000161b9939a46fc0d51858d4545...</td>\n",
       "      <td>20160210000000000000\u0000\u00012fd588895c7820f7af4a938d...</td>\n",
       "      <td>20151218000000000000\u0000\u0001047561f5d0bd0248dec23033...</td>\n",
       "      <td>20080527000000000000\u0000\u00010e0cd4de9b15ebf58a5476a7...</td>\n",
       "      <td>20140425000000000000\u0000\u00013e3d1a7024a169201f147db8...</td>\n",
       "    </tr>\n",
       "    <tr>\n",
       "      <th>recent_or_past</th>\n",
       "      <td>past</td>\n",
       "      <td>past</td>\n",
       "      <td>past</td>\n",
       "      <td>past</td>\n",
       "      <td>past</td>\n",
       "    </tr>\n",
       "    <tr>\n",
       "      <th>written_or_generated</th>\n",
       "      <td>written</td>\n",
       "      <td>written</td>\n",
       "      <td>written</td>\n",
       "      <td>written</td>\n",
       "      <td>written</td>\n",
       "    </tr>\n",
       "    <tr>\n",
       "      <th>toxicity_identity_attack</th>\n",
       "      <td>0.020176</td>\n",
       "      <td>0.103757</td>\n",
       "      <td>0.046074</td>\n",
       "      <td>0.117355</td>\n",
       "      <td>0.124631</td>\n",
       "    </tr>\n",
       "    <tr>\n",
       "      <th>toxicity_insult</th>\n",
       "      <td>0.010176</td>\n",
       "      <td>0.189533</td>\n",
       "      <td>0.042911</td>\n",
       "      <td>0.207143</td>\n",
       "      <td>0.127789</td>\n",
       "    </tr>\n",
       "    <tr>\n",
       "      <th>toxicity_profanity</th>\n",
       "      <td>0.007968</td>\n",
       "      <td>0.046727</td>\n",
       "      <td>0.026101</td>\n",
       "      <td>0.083517</td>\n",
       "      <td>0.183672</td>\n",
       "    </tr>\n",
       "    <tr>\n",
       "      <th>toxicity_severe_toxicity</th>\n",
       "      <td>0.00733</td>\n",
       "      <td>0.068845</td>\n",
       "      <td>0.019743</td>\n",
       "      <td>0.069818</td>\n",
       "      <td>0.127304</td>\n",
       "    </tr>\n",
       "    <tr>\n",
       "      <th>toxicity_sexually_explicit</th>\n",
       "      <td>0.018344</td>\n",
       "      <td>0.076966</td>\n",
       "      <td>0.05214</td>\n",
       "      <td>0.051312</td>\n",
       "      <td>0.194523</td>\n",
       "    </tr>\n",
       "    <tr>\n",
       "      <th>toxicity_threat</th>\n",
       "      <td>0.027375</td>\n",
       "      <td>0.209927</td>\n",
       "      <td>0.044939</td>\n",
       "      <td>0.097653</td>\n",
       "      <td>0.146666</td>\n",
       "    </tr>\n",
       "  </tbody>\n",
       "</table>\n",
       "</div>"
      ],
      "text/plain": [
       "                                                                            0  \\\n",
       "qa_id                                                             eval-000000   \n",
       "question                    For what reason did the Greek navy refuse to t...   \n",
       "answers                     [It listed heavily during trials in the North ...   \n",
       "answers_additional                     [ground listed heavily during trails.]   \n",
       "question_ts                                                        1581321600   \n",
       "evidence_ts                                                        1268982000   \n",
       "evidence_id                 20100319000000000000\u0000\u000161b9939a46fc0d51858d4545...   \n",
       "recent_or_past                                                           past   \n",
       "written_or_generated                                                  written   \n",
       "toxicity_identity_attack                                             0.020176   \n",
       "toxicity_insult                                                      0.010176   \n",
       "toxicity_profanity                                                   0.007968   \n",
       "toxicity_severe_toxicity                                              0.00733   \n",
       "toxicity_sexually_explicit                                           0.018344   \n",
       "toxicity_threat                                                      0.027375   \n",
       "\n",
       "                                                                            1  \\\n",
       "qa_id                                                             eval-000001   \n",
       "question                    Which US State did Donald Trump and Bernie San...   \n",
       "answers                       [New Hampshire, New Hampshire , New Hampshire.]   \n",
       "answers_additional                                           [New Hampshire.]   \n",
       "question_ts                                                        1578211200   \n",
       "evidence_ts                                                        1455091200   \n",
       "evidence_id                 20160210000000000000\u0000\u00012fd588895c7820f7af4a938d...   \n",
       "recent_or_past                                                           past   \n",
       "written_or_generated                                                  written   \n",
       "toxicity_identity_attack                                             0.103757   \n",
       "toxicity_insult                                                      0.189533   \n",
       "toxicity_profanity                                                   0.046727   \n",
       "toxicity_severe_toxicity                                             0.068845   \n",
       "toxicity_sexually_explicit                                           0.076966   \n",
       "toxicity_threat                                                      0.209927   \n",
       "\n",
       "                                                                            2  \\\n",
       "qa_id                                                             eval-000002   \n",
       "question                    Who was running in the French presidential ele...   \n",
       "answers                     [Nicolas Sarkozy and Alain Juppe and Marine Le...   \n",
       "answers_additional                                             [Alain Juppe.]   \n",
       "question_ts                                                        1584428400   \n",
       "evidence_ts                                                        1450425600   \n",
       "evidence_id                 20151218000000000000\u0000\u0001047561f5d0bd0248dec23033...   \n",
       "recent_or_past                                                           past   \n",
       "written_or_generated                                                  written   \n",
       "toxicity_identity_attack                                             0.046074   \n",
       "toxicity_insult                                                      0.042911   \n",
       "toxicity_profanity                                                   0.026101   \n",
       "toxicity_severe_toxicity                                             0.019743   \n",
       "toxicity_sexually_explicit                                            0.05214   \n",
       "toxicity_threat                                                      0.044939   \n",
       "\n",
       "                                                                            3  \\\n",
       "qa_id                                                             eval-000003   \n",
       "question                    What is the name of the Nobel Laurete who oppo...   \n",
       "answers                     [Aung San Suu Kyi, Aung San Suu., Aung San Suu...   \n",
       "answers_additional                                         [Aung San Suu Kyi]   \n",
       "question_ts                                                        1587020400   \n",
       "evidence_ts                                                        1211871600   \n",
       "evidence_id                 20080527000000000000\u0000\u00010e0cd4de9b15ebf58a5476a7...   \n",
       "recent_or_past                                                           past   \n",
       "written_or_generated                                                  written   \n",
       "toxicity_identity_attack                                             0.117355   \n",
       "toxicity_insult                                                      0.207143   \n",
       "toxicity_profanity                                                   0.083517   \n",
       "toxicity_severe_toxicity                                             0.069818   \n",
       "toxicity_sexually_explicit                                           0.051312   \n",
       "toxicity_threat                                                      0.097653   \n",
       "\n",
       "                                                                            4  \n",
       "qa_id                                                             eval-000004  \n",
       "question                    Katy Perry reportedly got cozy with which prod...  \n",
       "answers                                                 [Diplo, Diplo, diplo]  \n",
       "answers_additional                                      [Diplo at Coachella ]  \n",
       "question_ts                                                        1586674800  \n",
       "evidence_ts                                                        1398409200  \n",
       "evidence_id                 20140425000000000000\u0000\u00013e3d1a7024a169201f147db8...  \n",
       "recent_or_past                                                           past  \n",
       "written_or_generated                                                  written  \n",
       "toxicity_identity_attack                                             0.124631  \n",
       "toxicity_insult                                                      0.127789  \n",
       "toxicity_profanity                                                   0.183672  \n",
       "toxicity_severe_toxicity                                             0.127304  \n",
       "toxicity_sexually_explicit                                           0.194523  \n",
       "toxicity_threat                                                      0.146666  "
      ]
     },
     "execution_count": 70,
     "metadata": {},
     "output_type": "execute_result"
    }
   ],
   "source": [
    "df.head().T"
   ]
  },
  {
   "cell_type": "code",
   "execution_count": 71,
   "metadata": {},
   "outputs": [
    {
     "data": {
      "text/plain": [
       "1268982000"
      ]
     },
     "execution_count": 71,
     "metadata": {},
     "output_type": "execute_result"
    }
   ],
   "source": [
    "df[\"evidence_ts\"][0]"
   ]
  },
  {
   "cell_type": "code",
   "execution_count": 72,
   "metadata": {},
   "outputs": [],
   "source": [
    "# df[\"evidence_ts\"].to_datetime()\n",
    "import pandas as pd\n",
    "df[\"evidence_ts\"] =  pd.to_datetime(df[\"evidence_ts\"],unit='s')"
   ]
  },
  {
   "cell_type": "code",
   "execution_count": 73,
   "metadata": {},
   "outputs": [],
   "source": [
    "years = [i.year for i in df[\"evidence_ts\"]]"
   ]
  },
  {
   "cell_type": "code",
   "execution_count": 74,
   "metadata": {},
   "outputs": [
    {
     "data": {
      "text/plain": [
       "Counter({2010: 613,\n",
       "         2016: 936,\n",
       "         2015: 1189,\n",
       "         2008: 875,\n",
       "         2014: 1236,\n",
       "         2020: 21681,\n",
       "         2009: 1114,\n",
       "         2013: 1369,\n",
       "         2018: 1093,\n",
       "         2017: 1343,\n",
       "         2019: 2586,\n",
       "         2011: 1030,\n",
       "         2012: 889,\n",
       "         2007: 424})"
      ]
     },
     "execution_count": 74,
     "metadata": {},
     "output_type": "execute_result"
    }
   ],
   "source": [
    "from collections import Counter\n",
    "years = Counter(years)\n",
    "years"
   ]
  },
  {
   "cell_type": "code",
   "execution_count": 76,
   "metadata": {},
   "outputs": [
    {
     "data": {
      "text/plain": [
       "<BarContainer object of 14 artists>"
      ]
     },
     "execution_count": 76,
     "metadata": {},
     "output_type": "execute_result"
    },
    {
     "data": {
      "image/png": "[encoded data removed]",
      "text/plain": [
       "<Figure size 640x480 with 1 Axes>"
      ]
     },
     "metadata": {},
     "output_type": "display_data"
    }
   ],
   "source": [
    "import collections\n",
    "import matplotlib.pyplot as plt\n",
    "plt.xticks(rotation=45)\n",
    "plt.bar(years.keys(), years.values())"
   ]
  },
  {
   "cell_type": "code",
   "execution_count": 67,
   "metadata": {},
   "outputs": [
    {
     "data": {
      "text/plain": [
       "<BarContainer object of 13 artists>"
      ]
     },
     "execution_count": 67,
     "metadata": {},
     "output_type": "execute_result"
    },
    {
     "data": {
      "image/png": "[encoded data removed]",
      "text/plain": [
       "<Figure size 640x480 with 1 Axes>"
      ]
     },
     "metadata": {},
     "output_type": "display_data"
    }
   ],
   "source": [
    "import collections\n",
    "import matplotlib.pyplot as plt\n",
    "plt.xticks(rotation=45)\n",
    "plt.bar(years.keys(), years.values())"
   ]
  },
  {
   "cell_type": "code",
   "execution_count": 52,
   "metadata": {},
   "outputs": [
    {
     "data": {
      "text/plain": [
       "<BarContainer object of 13 artists>"
      ]
     },
     "execution_count": 52,
     "metadata": {},
     "output_type": "execute_result"
    },
    {
     "data": {
      "image/png": "[encoded data removed]",
      "text/plain": [
       "<Figure size 640x480 with 1 Axes>"
      ]
     },
     "metadata": {},
     "output_type": "display_data"
    }
   ],
   "source": [
    "import collections\n",
    "import matplotlib.pyplot as plt\n",
    "plt.xticks(rotation=45)\n",
    "plt.bar(years.keys(), years.values())"
   ]
  },
  {
   "cell_type": "code",
   "execution_count": null,
   "metadata": {},
   "outputs": [],
   "source": []
  }
 ],
 "metadata": {
  "kernelspec": {
   "display_name": "Python 3.8.13 (conda)",
   "language": "python",
   "name": "python3"
  },
  "language_info": {
   "codemirror_mode": {
    "name": "ipython",
    "version": 3
   },
   "file_extension": ".py",
   "mimetype": "text/x-python",
   "name": "python",
   "nbconvert_exporter": "python",
   "pygments_lexer": "ipython3",
   "version": "3.8.13"
  },
  "orig_nbformat": 4,
  "vscode": {
   "interpreter": {
    "hash": "3e07452f7771a2d638be93455f1c0200b874dbc452b50f251bda6ae7f0359742"
   }
  }
 },
 "nbformat": 4,
 "nbformat_minor": 2
}
