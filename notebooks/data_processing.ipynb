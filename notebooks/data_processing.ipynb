{
 "cells": [
  {
   "cell_type": "markdown",
   "metadata": {},
   "source": [
    "# Data Processing\n",
    "\n",
    "This files contains the code to process the streamingqa dataset"
   ]
  },
  {
   "cell_type": "code",
   "execution_count": 1,
   "metadata": {},
   "outputs": [
    {
     "name": "stdout",
     "output_type": "stream",
     "text": [
      "\u001b[0m\u001b[01;34mfiltered\u001b[0m/              streaminqa_train.jsonl  wmt_sorting_key_ids.txt\n",
      "streaminqa_eval.jsonl  streaminqa_valid.jsonl\n"
     ]
    }
   ],
   "source": [
    "ls /home/saisur/streaming_qa"
   ]
  },
  {
   "cell_type": "code",
   "execution_count": 1,
   "metadata": {},
   "outputs": [
    {
     "data": {
      "text/plain": [
       "['/home/saisur/streaming_qa/streaminqa_train.jsonl',\n",
       " '/home/saisur/streaming_qa/streaminqa_eval.jsonl',\n",
       " '/home/saisur/streaming_qa/streaminqa_valid.jsonl']"
      ]
     },
     "execution_count": 1,
     "metadata": {},
     "output_type": "execute_result"
    }
   ],
   "source": [
    "import glob\n",
    "files_qa = glob.glob(\"/home/saisur/streaming_qa/*.jsonl\")\n",
    "files_qa\n"
   ]
  },
  {
   "cell_type": "code",
   "execution_count": 2,
   "metadata": {},
   "outputs": [
    {
     "name": "stderr",
     "output_type": "stream",
     "text": [
      "Using custom data configuration default-9abcb2bb7b1156aa\n",
      "Found cached dataset json (/home/saisur/.cache/huggingface/datasets/json/default-9abcb2bb7b1156aa/0.0.0/e6070c77f18f01a5ad4551a8b7edfba20b8438b7cad4d94e6ad9378022ce4aab)\n"
     ]
    },
    {
     "data": {
      "application/vnd.jupyter.widget-view+json": {
       "model_id": "3460e9e9cb5240ef971af07acf03c5f7",
       "version_major": 2,
       "version_minor": 0
      },
      "text/plain": [
       "  0%|          | 0/1 [00:00<?, ?it/s]"
      ]
     },
     "metadata": {},
     "output_type": "display_data"
    },
    {
     "name": "stderr",
     "output_type": "stream",
     "text": [
      "Using custom data configuration default-4d5fe5e1c684f3c2\n",
      "Found cached dataset json (/home/saisur/.cache/huggingface/datasets/json/default-4d5fe5e1c684f3c2/0.0.0/e6070c77f18f01a5ad4551a8b7edfba20b8438b7cad4d94e6ad9378022ce4aab)\n"
     ]
    },
    {
     "data": {
      "application/vnd.jupyter.widget-view+json": {
       "model_id": "687d3c509ca24811be49d5eceaa74bea",
       "version_major": 2,
       "version_minor": 0
      },
      "text/plain": [
       "  0%|          | 0/1 [00:00<?, ?it/s]"
      ]
     },
     "metadata": {},
     "output_type": "display_data"
    },
    {
     "name": "stderr",
     "output_type": "stream",
     "text": [
      "Using custom data configuration default-3defb22cdfd0db83\n",
      "Found cached dataset json (/home/saisur/.cache/huggingface/datasets/json/default-3defb22cdfd0db83/0.0.0/e6070c77f18f01a5ad4551a8b7edfba20b8438b7cad4d94e6ad9378022ce4aab)\n"
     ]
    },
    {
     "data": {
      "application/vnd.jupyter.widget-view+json": {
       "model_id": "4c469ad3776e445281cc3a5bf46ddb23",
       "version_major": 2,
       "version_minor": 0
      },
      "text/plain": [
       "  0%|          | 0/1 [00:00<?, ?it/s]"
      ]
     },
     "metadata": {},
     "output_type": "display_data"
    },
    {
     "data": {
      "text/plain": [
       "DatasetDict({\n",
       "    train: Dataset({\n",
       "        features: ['qa_id', 'question', 'answers', 'answers_additional', 'question_ts', 'evidence_ts', 'evidence_id', 'recent_or_past', 'written_or_generated', 'toxicity_identity_attack', 'toxicity_insult', 'toxicity_profanity', 'toxicity_severe_toxicity', 'toxicity_sexually_explicit', 'toxicity_threat'],\n",
       "        num_rows: 99402\n",
       "    })\n",
       "    validation: Dataset({\n",
       "        features: ['qa_id', 'question', 'answers', 'answers_additional', 'question_ts', 'evidence_ts', 'evidence_id', 'recent_or_past', 'written_or_generated', 'toxicity_identity_attack', 'toxicity_insult', 'toxicity_profanity', 'toxicity_severe_toxicity', 'toxicity_sexually_explicit', 'toxicity_threat'],\n",
       "        num_rows: 36378\n",
       "    })\n",
       "    test: Dataset({\n",
       "        features: ['qa_id', 'question', 'answers', 'answers_additional', 'question_ts', 'evidence_ts', 'evidence_id', 'recent_or_past', 'written_or_generated', 'toxicity_identity_attack', 'toxicity_insult', 'toxicity_profanity', 'toxicity_severe_toxicity', 'toxicity_sexually_explicit', 'toxicity_threat'],\n",
       "        num_rows: 9939\n",
       "    })\n",
       "})"
      ]
     },
     "execution_count": 2,
     "metadata": {},
     "output_type": "execute_result"
    }
   ],
   "source": [
    "from datasets import load_dataset\n",
    "dataset = load_dataset('json', data_files=files_qa[0])\n",
    "valid_dataset = load_dataset('json', data_files=files_qa[1])\n",
    "test_dataset = load_dataset('json', data_files=files_qa[2])\n",
    "dataset[\"validation\"] = valid_dataset[\"train\"]\n",
    "dataset[\"test\"] = test_dataset[\"train\"]\n",
    "del valid_dataset, test_dataset\n",
    "dataset"
   ]
  },
  {
   "cell_type": "code",
   "execution_count": null,
   "metadata": {},
   "outputs": [],
   "source": []
  },
  {
   "cell_type": "code",
   "execution_count": 3,
   "metadata": {},
   "outputs": [],
   "source": [
    "train_evidemceid = dataset[\"train\"][\"evidence_id\"]\n",
    "test_evidemceid = dataset[\"test\"][\"evidence_id\"]\n",
    "valid_evidemceid = dataset[\"validation\"][\"evidence_id\"]\n",
    "all_evidence = train_evidemceid + test_evidemceid + valid_evidemceid\n",
    "all_evidence = set([x.split(\"\\x00\\x01\")[1] for x in all_evidence])\n",
    "all_evidence = set(all_evidence)"
   ]
  },
  {
   "cell_type": "code",
   "execution_count": null,
   "metadata": {},
   "outputs": [],
   "source": []
  },
  {
   "cell_type": "code",
   "execution_count": 4,
   "metadata": {},
   "outputs": [
    {
     "name": "stdout",
     "output_type": "stream",
     "text": [
      "b6e394c8ace3b529e2c65d87ad952729d97af4335e83482a646eedec256ef97c\n"
     ]
    }
   ],
   "source": [
    "for i in all_evidence:\n",
    "    print(i)\n",
    "    break"
   ]
  },
  {
   "cell_type": "code",
   "execution_count": 5,
   "metadata": {},
   "outputs": [
    {
     "ename": "TypeError",
     "evalue": "'set' object is not subscriptable",
     "output_type": "error",
     "traceback": [
      "\u001b[0;31m---------------------------------------------------------------------------\u001b[0m",
      "\u001b[0;31mTypeError\u001b[0m                                 Traceback (most recent call last)",
      "Cell \u001b[0;32mIn [5], line 1\u001b[0m\n\u001b[0;32m----> 1\u001b[0m \u001b[39mlen\u001b[39m(all_evidence[\u001b[39m0\u001b[39;49m])\n",
      "\u001b[0;31mTypeError\u001b[0m: 'set' object is not subscriptable"
     ]
    }
   ],
   "source": [
    "len(all_evidence[0])"
   ]
  },
  {
   "cell_type": "code",
   "execution_count": 6,
   "metadata": {},
   "outputs": [],
   "source": [
    "location_hashes = \"/home/saisur/streaming_qa/wmt_sorting_key_ids.txt\"\n",
    "with open(location_hashes, \"r\") as f:\n",
    "    hashes = f.readlines()\n",
    "hashes = set([x.strip().split(\"\\x00\\x01\")[1] for x in hashes])"
   ]
  },
  {
   "cell_type": "code",
   "execution_count": 7,
   "metadata": {},
   "outputs": [
    {
     "data": {
      "text/plain": [
       "{'8fcbce3a094e6e8339b6c6cc1a90867f6b145ea54e86a8588829a7e7b3809e62',\n",
       " '0ebf6de4232426880bc396804c2e36db23cf9badcd96062866ef0394d3eaec55',\n",
       " '017160216cf5b38af742f9ab52b2dc1cd224a5d8e55651f58c7a34fce8f8eaee',\n",
       " 'eb21829dbf7806ba9fa2874b0ed2617c495cc32ac284d470e762d1d8c8671dfa',\n",
       " '799120df6ce93f40e20e817ea7cf2fb8fe6736ff4aecd83c73215aad8a74defe',\n",
       " 'd3f9de2d82238a63497f09bd3ab9a040073d2c0ef8e71444b398447ce44483bf',\n",
       " 'f544ea86e341cf967c4f648df62db4f1c5494ca6e2c639d3b1c82ea735fdc48a',\n",
       " '3f23db0895bf53d7117b1bd8dec573a48a61e54c1b000254c09bd400e35e8c52',\n",
       " 'eb1aa786123935011ef5a45915bb656303623fce57cc4d293c56f7270a77a784',\n",
       " '15153953ea8f6a021c9011eaa37e8219c801ad2f896861f2f49f010e5a83a227',\n",
       " '3d3ae8c49fba53a116d3092e2a0676e3f4d2d8888d721d6fb158be64b3850c72',\n",
       " '58b6f90a4eb6c82c391b662cce6670d819118df75a45be449127614f89df2170',\n",
       " 'b11f29ebe9da255d539ca69dc838df6efef550c9caf4613639400d923fa781dd',\n",
       " '1d5c949a6ed7bc0eeebcdd1278607ee0714d46b144f8a6e3819b3e1c6f8fa9af',\n",
       " '996a9a4da0cd2366b3d3c5d15b0968c37a7584294738b28614810aa7e4349111',\n",
       " '796636c67404edb54d078fafae98512b91b55b1b334deba071d7ccfb5cd9291b',\n",
       " '3be2b20dc703856a48a72227072d8aad4214fe733549b30d61c47b14a611d17f',\n",
       " 'b76be115a37bdb1e3ab44bf0e27963a355258aef08dbfccc1106c28232d29a03',\n",
       " 'b5182bc64e779ae88d91afeb6e26d31ce465e8cb442872e90ba5cea93c13c3e3',\n",
       " '5c198a58ac2f31ae6d255b4e774d6ac56c7dd8f262c1416ad858252ccf350005',\n",
       " '480513ba66e3c7c435a2a495e2e0fce2a42c8fd9d8e0ec78738cefccefc7fccd',\n",
       " 'c828e317626d5e4681f11a9e383deff0ef5229459fe535c6f189935cc07c0b39',\n",
       " 'd6444e190b19956257988c9546b4ca4f20f99c7ef72b1d3feb508c74db980ac7',\n",
       " 'cc1e12836581075d367e863955bc5a1096bfeb14a27e9bdf5dc9c83779bd9f1b',\n",
       " '6fafb851d22943e189df49a048a3633a3a0f41f1ce5d4433ca78d08aed6c9126',\n",
       " 'afc850b9406d8ac2f4f89aa89af9f032127fd6cba486aa6a10488a4e68daec81',\n",
       " 'c35a9e6afbe27663241a4b1421830459094d03bd9d02230b9e3f257c75e2a1d0',\n",
       " '472cc5b8bd5501a03592ea76260d0a102dd2409aa1b188614e127837d5ee3846',\n",
       " '3c0886e1579a64c838b5544a2345ea3b0b0359dae2f1f480692c4d069ab28775',\n",
       " 'a39815edeca191f809faa81fc5bb8566f0da2fa1970e8dd4a14e226bc1c3d2c2',\n",
       " '5c81d8e9d9fc08efd5f082ceddc6bb3d082232b69830a87dff34fd04b51e9492',\n",
       " 'a1dfc1d52246eb86077d84aecadb302234a2bbbf4d4361d6fd03e0c5ebce03ec',\n",
       " 'f16e73265b38ecf88cb0a9489e0035d3593d269218afb301556b81fd58721a0f',\n",
       " '3ef636d8b8b8e115e28781f5d7b3858e683a47bb223f25ab1b23e86f6e9ccaa9',\n",
       " '83e65e0e6fad6410ac61747ce4672abe1cf203d74ad403eebf980959c1018457',\n",
       " '9c2ed81d44dd4beb20d5940b4ce7f1765765cb982febbc555fb234174b7e3509',\n",
       " '16bdf39a8f7f39d1bd9427c55c651d5b465f9f2bb98d9596e23e8b02ccd69053',\n",
       " 'e20b90b0937475efcaadaa5cf13fdc56a276357da111fad44a6f4f9087bfa30c',\n",
       " 'e2b3714bcb2f9aa9eac734664bb10ef9f2db80c9bfd8da76722ce0456c02dabb',\n",
       " '492018f84e75f75571a1d3c110f3bc68d87c047dac66919443b59e76dc8cb869',\n",
       " '46c637d196070e0d515bfdc36f8820d937fc9d4b7fdf7e86805b703ecd4110cf',\n",
       " '00cc0bd9aecbf84bdce0f26bb6e0a77505b57e1bdb75f652d05ae83e31591f75',\n",
       " 'b753e43c865efa602dbdc7e43b4c12c599dd6bc26244a31a0261ca6c0c078ba9',\n",
       " 'ea9501dc0a13610126b2070ece9fce2971c8ce51336a6aab6035403840c00c89',\n",
       " '0751c0fd66ccf5f3d55c6e8e97fa16bf371d80e67c074f92d3c0fc56d8ca3b59',\n",
       " '91f2a47a0033c37259ddbcdb9ec96a7ea8a989a65570e56fdc0a1f3ffaf5a518',\n",
       " '3991b2b88aa0bef1442470568d89d9114f9181cb1420275ebb4fb88f8594f557',\n",
       " '1bd1151d3112a5f4c46134a125e45a07466ce9a34e3642f898f463c3fe3de31f',\n",
       " '93d28ff0e7dbfdeec2e494e13ab8af1a9077bba1e567fb5e456598ee45b52d1a',\n",
       " '22b9afc3f58162478a83ff805da576d5651ef3ac0cbc402d8c512db1436209d4',\n",
       " '595c297e847f8b6cec06df6bddadfe82981d747d7dce085821750d23591687b6',\n",
       " 'c68a0022236ab18d2374d1010440b29196ceed6b060cc4db276b206192561d9e',\n",
       " '08c9c2574587c43bd04e16ef0fbd94c83cfcbf7dd23f804d6d9d35a68998af36',\n",
       " 'a3c0f6fb5ebb2df70f7babd2d5ad4fdc348e7472b761013c7a1a9bc6f2bb10a6',\n",
       " '296a7f7cdbcc5506917dfd4a7b06956bf45d30db7ff58312fd39df377e6026c0',\n",
       " '984fbb5c3b17581742de85ee11b1cdbee8caf319094df4a097093e4928ff3658',\n",
       " '45770169ad901f0be2cbf304c7811b064155d20d862ebc6e4a94bc82d7274b30',\n",
       " 'f210b1525fc8f881bd51c1683ee7746e0351698893eb450abe1bc21e44dcb2b4',\n",
       " '2cb5bc892b6b7bc9205ed4c6d6b234e47456a78eae1def7f1581f6d212081aa0',\n",
       " 'df2072584d8c4e15309cf9adb523b743c349b98b8d77aedd71223f2981f8f747',\n",
       " '0ab0f500256fd3b9576e2ed5005548e97c349273378d1c4b05e53218a6142689',\n",
       " 'd0e1f8a45de93ebb6017cb81be3e0dbfef2bab56256cc37d8eb12b3fcefed9af',\n",
       " '965611b2f0411ba50209d2f4feea59ea719be1026e86b400412d99ba65406ebc',\n",
       " '9641de7d297368e5a2934089de953d3f9212ab5014cc896482dd21193f6848a5',\n",
       " '32ef6a34e39dfecd0665b1b79461670725c5e51fc697f89b9776f0f952e309e3',\n",
       " 'c8ddab6c0dfc60568606cb06c2f854df53b53bb0dd7f7fad90dded149a62ab64',\n",
       " '40a82aaea883bffdc816cf41e5b816fff45b0a28a44fc0028d7cc6f0923533bb',\n",
       " 'b8bacca5f4d7ce27aa4cc004e4115ec0735c89f01c7d65cbcbf7c0f3e5ad7dc8',\n",
       " '4284750083d70780ce9a76884bb8a1176d48d4b1bce27aaed92230e51d1924fc',\n",
       " 'af44b231f4e0d1debf97f35ffac39d226f6580efd01d71f18b44b46d3ffe2656',\n",
       " 'd95e07ab53f8c2c6803b3ff93d8d3bd83733c029dffb32861cc4317aebbde417',\n",
       " 'a21cade7435b5014417a085af63d4d018ce33e5a75ff7c555b0675e4f491dbdb',\n",
       " '8d279f2a761cc5cf2c5205a48ecd33399de240c66c2c4f2e905154dd34bca54c',\n",
       " 'd6fc3184cc8210494e3aad72e2d3eb04e125d7c2276e11e7e2c426b33255e3cb',\n",
       " '23898d90a048d454751d3a7a3e2af806e1af8c99e760ba787e4a23e6d93288d8',\n",
       " 'cdb7693f440c87d17c6fbbbe74468047f12ba13a00a707362f946c81321f9759',\n",
       " '9c2b03b75f3426050085450f5508500f9cf973b6ff294e6ef91b522dfcab804d',\n",
       " '087395d89d8cde1ee874d836b856c1272d0600ce4949ea5b64a9c90a44657fe7',\n",
       " 'ca25e03f9305be2e242c63d22bc6db6a41fad793c976804188e719e63ab4108d',\n",
       " 'c905cfce980df0b9eb497f59041c44efecd13c492c9795ad92dc2f83fa3ae334',\n",
       " '16d941711d334f296e6e766ffbfe6ee2b53eb871c6dfa3225158617a6f52c5ea',\n",
       " '9595a44bf1f20b34acf78faf74eb935c1f291557a5acdc4b67cacf3eff56e403',\n",
       " '60b376ddfa5c471228540dea59d7f2e7c29b38d7ded873a529ff79e6d2685543',\n",
       " '466a3c0b379076b9d3f17ebefa309fc01d8d4e8b4783abba8956cf0f5f313da6',\n",
       " '29c6a032f39d2bce07e578e9b10f1114c9e251a7d5d7046b209e26f93693bab4',\n",
       " 'ed0d28d039fad8a50b480cb18ed16f9bd928009beb8f47dfcf861227c32ff6cc',\n",
       " '488d961e8451cbdf1dce533f17ee299b95e67a1f03399b3e13d72de826923693',\n",
       " '6529cf928dd77c9919fcfd4d5128296c403b0dcaef90731011280b9044db4b89',\n",
       " 'e77069da93aa0967309e1ecdc05daa3cd915ca22b05749eef523450325b39009',\n",
       " '318d9a16efd35b65ee7036bd0df4b0bd54d7be866ea4d580c5a0a31e03150b91',\n",
       " '4f8c5e975a3fae5da709842bcae40b45a8331d05cb8b9b1762c919feb550dfef',\n",
       " 'a4ee905b543108d96d492233fb7d16f67d7bbc061a18e39b7472deb0b862af8f',\n",
       " '9b9cee0f51ef4d42388ee7431e37ca37a40918c8c5b9968c736023b3cb2005fe',\n",
       " '7cc6af251b8712b35ca8b67d28b4d096669248b5b60878f8880c9a7379ce4808',\n",
       " '3921a0b1947a8c02a03e16c98d2fd8b2b58bd69dea1a5188d4f749321c6e0b5e',\n",
       " '3f8b9e529640172793717d074fd8721cd2a76ce7cc33703842ff757d0d04eb96',\n",
       " '5a66ee71c4ac09bcd5ee2e0fdd564954df4a47d0666a04dfe47a72ebeee7bee3',\n",
       " 'e6cb63dc73f50d41cb50760ad3646f15afe37111123c58f2b61ceb897bcf8d6e',\n",
       " '04bd7e62238ffc9ab3cec58b14b3af8708d7404c862f831ce1b0aefbd4d3b1cf',\n",
       " '8ded85e1ecea33bfd1f0450b3a85baa22fc60061c2132ab0793d6027ec5cdf8a',\n",
       " '2948dcf716f71621b562bd0bb6b1e07f2b2c513b25451748dd91aacaf8748753',\n",
       " 'f9d1b8ce6155cdb6110f9ad709521d1df6a297d5b3e73cd4dda448bd5ce3a705',\n",
       " '7858d40c19a5df7d5b91a7896731f1ec00f2f5343200d1dd64729f6f44c974a0',\n",
       " 'a30bdea230e5870224d14fe63e5c7247816a5547a15e12e945db07136990a65b',\n",
       " '3ef25b0e499bce683937d615d85459435b89f6c095045e2e0fbc240ee6fd1611',\n",
       " '8c37d4343cec0e0d5819dfe11270694c111d33f124e5cc0260b72a1874a0b3f6',\n",
       " '691c990f8820b1ae182d0e384903c00ad11557af60d291ed2a5281d1f674b498',\n",
       " '3ce07ee688a29fb2f0cc40ea81ab0c5155b90adeba3b304a764b0a9ab77c6e62',\n",
       " 'f18302576691f881300a9d458b81debfc3d1a401932e91d37c7c9e88ba64ba00',\n",
       " '413fc5ad0433d170b32e6a81d619c17d3c26bd7ae66d257f5955238f4104cda3',\n",
       " '08efb7aa0510a18d452bb9bfb7d357259f2f903f65758b734b0914673e505890',\n",
       " 'ae9c935bfd2626bba0de67d98d3b1fe81dde724657ebfc50d7d9712381c3a74a',\n",
       " '2aeb00f0487c37793211ece8bb87f422e39dd192b6b7c540227abae98a11874b',\n",
       " '055128140cad9bdd8821deecb2dfdcfb0e30db2260e9848a3d6e508555784251',\n",
       " '84317854ff698e2bcefc09c3d9a947542a0a99701b42acfbb3f772dab2e58d48',\n",
       " 'a1671af4dfe22e5aaa6b9663d3149b1138e3b8db0576f985acc65c8df7b2a330',\n",
       " '138e860aaf95bef4e6cab4d6abe7b3a02d9c538bb0fcdf217f7f34e66c4ba295',\n",
       " 'c3ef7a29f254a0c6875538f54dff7662d4c19f91019ad52b218a0c18ea571203',\n",
       " '5fb8b8191d4e48a32d7261de7b170a855f0647875bc2a2f3be2b3339319d554f',\n",
       " '9c9fb25a94e214c9125d0060f2a92da20264ffda7285d200f003451d2f53d5f3',\n",
       " 'fa148bc9d81f41d6ba9d6f3cd462fdd7c404cf943af58f55bdb21a82c356e2b5',\n",
       " '6d94dfd0eba2a840a9affd51430d3af56c66ed3153bd74b3fea6cc7ba562dd49',\n",
       " 'f10e8aa44043da4b461b9c78327e293b1eb7828e30f0dc77cee41c48cc0fa83f',\n",
       " '127a3c8f4aa484dd682b34cfe8cec312884327b95a77b55605a8fb4fd2c31c9f',\n",
       " '3705a418a472a6c015e8290b75a60c9c65a9b1fb4a888fb27c44e3d8e055e1d8',\n",
       " '2abc5a31eec3ac515169a321a513193663dc55d5f3d11501e6f5dcc67f0b32bb',\n",
       " 'dd9215e034c3a1f9d0ec5702e52c4c30e7820bbff24bdcab70e02d7a3ae2abec',\n",
       " 'bdf0ddf84cea1e1bd4ac72d67ff74bfc3cee16fa67c6f80aec13f022b5429928',\n",
       " '5857cd02709814712037d138aeb7cf5af08a5d27447c250346aec967644e5181',\n",
       " '4809b2a167d9beb0e25b0ee533454828994c5fd3d7d7e59bd267ef87384e1c9c',\n",
       " 'ce26a6ba0e3f2e97e5973bb9f0cdb189a44ba8b6e736737d8f5053ae61a93fd8',\n",
       " 'b608697ae9c2cf90ca258d683c69d5f3d7bdf0559084bcf55efb02c6c9729aa0',\n",
       " '4df03dacbc7bfd07702bace0ae08bdad42c2d8b01031c259484b9779d5c12815',\n",
       " 'fd7cdd926276771ab81b323f9d5ffb4f286e1d372a9e27688f6a1da6d9a5f83e',\n",
       " 'f55590f78666dbfe7af9a4d316b2c6efacf4a524c5cede2a84495a407bd11cac',\n",
       " '1cf40694f5b45431897dbe6b549dc5de14b2e8a3136dadfcf7c095133f345937',\n",
       " '55b74a1deb1ed6aad92f392d29b5e04ebd378e0cb65be84d310c3a7fd8ab2553',\n",
       " '24a525f9a03eb7ff1da1e6df627ee5c24139cfedee3b0bbc3ccc79a094b72005',\n",
       " '4ed67a112217d520d1455138fc7253355ffd4b06d71019a888739f350741398e',\n",
       " 'ecc5c52f42ed9603ed83e77a281ce975029ce7a9f8b3f3bd2e9b6ed189bde728',\n",
       " '4cfc55176cfae4069b425e4a1b609c11fbbe15af8ab85daae66df82af1873fb5',\n",
       " '01697003ea6485c685a49047d7e4ec143320003652519cfc9fe95c622e32c5c6',\n",
       " 'd8dd902b46a07a3541b0ca185730bdbc84d1665034bf00f494853232e1103ca3',\n",
       " 'de6ab7bc4958f4ec0edf8d95fed391a8e1cb3a948197fc1736816043d4037467',\n",
       " '3a2a051fd17396d83278937dc7119ae801b9f7fb4229c75b99978f346ce709d0',\n",
       " '05c22caaddb6f87906619d67b5343d870393726424b0cd707a0eb3b24a8350f6',\n",
       " '472b89ae4a2a42a828d3d2f38904a7a2224714620218a2bbd9c6917474469c77',\n",
       " 'dc655965272d64836c7d7745dec53b2f7bcbe84a86025b4a0d5527296d7796b8',\n",
       " '5a773ba03ae44a69a77c7ec3a4190fbb85c74b172ec347b2ac4ebd257a3306de',\n",
       " '5cb00e5dae9cf8e7f5c66832954585d989e21359fc1d07f7f337f8bf6ea9725f',\n",
       " 'c6dc34e9cc510ec2d03afbe74281afeb1f3df85a11298eeb7bddaaa4c7dd7536',\n",
       " '20917179905983e4b9c4384b598a3a967fb6cf42f5fb213b1283442d6593f716',\n",
       " '407900075626c5eef0779bd96e8d09811598809baab5e04118331efb8e43e008',\n",
       " '8d005ddf6b1e199bb367f86ad40a7d6a72e780c200fd7a90b85a8d1203b7e828',\n",
       " '95b1db4253e84d383d984ae09edca5ea6a8f1296c9d9c46498de90c1d5924caf',\n",
       " '32bf977ea3dff106bb8c4388dfe41317f2ddfcf5184d82e58710bf637a1aa1dc',\n",
       " '95e4864d5a53863611ed1f58d039e1c917bac20b24f7c27b9cf611cbf67236e3',\n",
       " '4e01e478e54a855d13b178fbd3b669e49927c2934e12123e617a8f5e36a4faea',\n",
       " '32b84b7e6dda41bf76423eb31caa1c488c0d0e986ed63d77a1c2d9548b6a277b',\n",
       " 'd38abe768c8290c76d13fa0b89c5c1ff11ad19bde0fba7d57e0724bf136308b5',\n",
       " 'a77ff3803c1c8f7c524281a044267c146333c17c848355c75a473a3d697c7d9c',\n",
       " 'c0a519e4d0bbae6b678b7e1ce7229456f595b23c6bf62879287bb56dabc17355',\n",
       " '17135a0f6b261d305ad23ff96ec4b9c3e8cc75593fb127ba8ed84ce8131d2a0d',\n",
       " '1a95cfdc7ec5947396d33a302016cb4a3893f76cf85dceeb19a07f389c965d96',\n",
       " '820d81bc84db8a51ad0f74f384f252297fb87fbc07e92df77f9ac5dea7a1eae1',\n",
       " '43b69b228bdd402d36801b2ca3f7faaf39587107329de0e694996aacbef0db30',\n",
       " '036e997cf4da0ce499c61a59937c21d8794807cd95a3430468c97484e31e7e5f',\n",
       " '75361495fdce82b09ae6197054d1833a798b4d1a7079b6d7ca53cd8fb3664804',\n",
       " '44e8ce67418994c31b64f84e7e302a0d1b339ef518c1ed83abe8c0c872118d29',\n",
       " '6377ac77177c803f059716dbddb3374dedac527dd503fbd61c280c3b47cfd269',\n",
       " '35e3c31fd83de782010cb967475f8c2d05348323d871b6bc4abd0bb42eb4bd48',\n",
       " 'a39dc3a78ca0cecdec6fe72cd7355b1558561fad5f1cd312fe5248ab06020fde',\n",
       " 'b388e158d9b09d64e9319029b0e9f1306f1bf1165951399b4289c9f7c6788c9b',\n",
       " 'e50cfddd4f18cb18f2965948b30838990f56ce34946aed993e073872c3df1048',\n",
       " '17c0ad4137a4f1748615fc11bde11037f4c3a955171cfa6cd40d2498c13196af',\n",
       " '8ac54381f8f4cd3b1c235c3740bb635069ce34960c7deca45d09f169910f8f21',\n",
       " 'd02897df7c75359ebb0f31e70a72d923c6fa213c64b09bc7e6ad008288f7c42e',\n",
       " 'ba2afe672b8129de9f8ca2c0e88aa85c3f6f704d09636323aca2ca1966609c55',\n",
       " '8345d9964dab0a61619f3e3d47fd13375bcde28241ccf35ec3241f0fd98eb554',\n",
       " 'aa969f49ee4ff19b4b783a441cf0f5ee01da1f71ea4931ef527c65a966a7e931',\n",
       " '4047c0cadc4e8052ba8997fbf9abb740f4a32ebaedfefeb6a7f657c96fa0ac14',\n",
       " 'edfd5e935a563e3e85e7a8b339d325a769d4b8afb0d413da20937c10d7bc237e',\n",
       " 'c5beedba918f062b7d72d0acce0413b81068961675c6c079fb9c7d76000c7e5b',\n",
       " '7d7c22e4db9a1c29bb63004e4e5b4d4400ec2b43a67fe0b95eaaa918d022e59c',\n",
       " '1900edd2c7df43e19b19148624273a47540e73ad357d6af399ae7ad16b0882f9',\n",
       " 'a30ed28be5143b62ced2b245b00ed986997592991e1043e98250a50e08e11331',\n",
       " '537c9a69079159c198b47c4ec4481740aa60225ddc7699109f6460ec5a630a61',\n",
       " '52ed01581f9f230459831d43bcb7aed9a5cecf671cdc390356826e2d40ff5fe7',\n",
       " '0d87831084eabe025fff09e86a5d9d97f925a90908d7e23f65db115876b3bfde',\n",
       " '7a3e336f9c80327aa4c0e8e949538decadc056190e16455fc4ec4fc0520cfa39',\n",
       " '4650c54a12ea979637fa2bfa8451beb5a9c71bcc80cced7f36887d8061b3a2cf',\n",
       " 'c2af51b0858e2062f8b5349431bef7fbb8375c5d6b3a92ae1e562c8170c2acb5',\n",
       " '46215c5b4fee96548036c341a5e22c425a2961dd88e384b120099918e7abd840',\n",
       " '63b18c028505c45d7485b5f4356d85abfcec5a5f9f283532bacd689b8bf33ccb',\n",
       " '3aec1d81c892b8614f3a6fbbbfe322021add4b088b05a0f4ac433292e3def2d1',\n",
       " '64ad39c4158ead793b69784610ffb65e177a3f0247ec678e71a98df728db2ad8',\n",
       " '12b75fd9eeffd9007614172c0d4cd6223155ed9e9a0e6ed1117464b5008a4746',\n",
       " '9dff25d4d8c23b9edf62c92ea4f7a9004361b92ee336f97cbb2afc742fab450a',\n",
       " '384999ec4552b19afd9feab06baf4e70db3f444015d1ff615e7589c6a386732c',\n",
       " 'e733919f8a0a0856c43989555b05b3563a169ff9e88cb62c5059788c4140459f',\n",
       " '303d950394cdfbcbd2c72920e63eb63df27f54c4696858d23d1969f23b409142',\n",
       " 'c3e92748aa101b9b2b9a7f5a71aebc791df6d263b7743586f237c1ff2e777e29',\n",
       " 'f1c746604e1960a5cbd0a7ffa369926115e95b343e6a1f385db7519c4a658b6b',\n",
       " '69198c888d9c13759903da9c79e0dfdec0bb6a5a4e2e9d0001cce7bfb5d52520',\n",
       " '0116e263f779abce45f21592cd19c8cb535dd71ccc93c7ee01f5895b35abf96e',\n",
       " '3f87ff84709efa38c4ebeddefbfbbf50d9e3c394082c7a18c8c3cc5b30ca4f21',\n",
       " '74e53b5abbc1e500286975a374447c9eff54701d208674c119a2e77f7da9d032',\n",
       " '5303a047836bd229eeea8b5a451367bcdcb1cb852ce50c12123935a6408c2172',\n",
       " '5507a4d416e80dd42c07368f5c840f38f3359eaee9731240ea0a6ab897834413',\n",
       " '7d8c95b39a33c1e0693705c54ab1e8aac8b54431114831f9951e2874bc6d2624',\n",
       " '4dab71b5db730d18afe0ba3c9c75e8c066b8dc83d9eb705ccf8a8b3a3ef8ef18',\n",
       " '2b96c83644a464fe4f4ed6a3ae85976aad9c3d168f0e06be9ac8b7d77a14f2e9',\n",
       " '8c3babf4eb984d01415a976961b8345a368d74385d18f9e0b35ea0dc9c16505d',\n",
       " '43111db8037c1222f3eca59ff3b7acbc3db3e4e0ee2d2165f906daa8f9e25e61',\n",
       " '25b2e47105a14175f1305276a0aa31c7a4f2826d93b3231ffe04c19f562299e8',\n",
       " '9540e2c19eb3d4fd70b029ad37cb7de5932e1737cff56b9827bfefc3d61e358a',\n",
       " 'b0022cfd3464956141179f584e3ebe0a362ef1bfdd5a7c18c3db86928f9d2580',\n",
       " 'a0f983321322f4b215554a7cffee9d85940e33a95573ee5eba97c8b86155ea47',\n",
       " '64b82c169357feae128dd6e2a637cc80009e2347f3f24f24bc8baa7a2553aedd',\n",
       " '7eb7f56fe4ff887b4df013aae977525daf0a9293ef0a88277976ea16f67d9661',\n",
       " '19f5e3807aaf0d7db75ea0c0fea5ae9a1b7a46996b8e190376a1604ab089ede9',\n",
       " 'cbdaf8dd9c37abb465b6d68af92ff779b60822c78e437185b72af63791f94c28',\n",
       " 'cb810c98a655bbf1264cea9babcb691c5efd8a30e69200a839bf7a1eea02be0f',\n",
       " 'bd1ae0f628b6e4e97a4617950d00b56b792ab10506d406fbce7d35afca2addf0',\n",
       " '90920ab8032cf722331c738683ed3636ab3dece6c8c420b70102ace340200217',\n",
       " '9e1ff298e4977ec4c606d2ca4ce5ffddfdc6f6ba787f9ab23e8549d87bca4596',\n",
       " 'eae78d89f396fed6accd57f96a4da01a737cdde05911f5ca033d84ebb81f270e',\n",
       " 'f361e1862a4113bb89ddda316d3ddc06cda4120db180e1362f56e2469a3a8a73',\n",
       " 'de3fcf710ee4d413cb03b335d7fedd8b54f151917b5682ad99b00d19fa07b304',\n",
       " 'e2998ef1075d652df8b12ca687a9969f4ac763a0e6e91701c19b21d613d892d0',\n",
       " 'e0eccc3f2bee20a8fb5be368df933caca87ad146ef255f3ba93269121e71f6f1',\n",
       " 'd0ff9a53a38b13914ac3bdddd8532dc444146e8dad0279e8d38ebe5995b03959',\n",
       " '11c5e73bf56c93ff68fda9ff1f15fd5c63390441e57cdb3e616daca7d6d74bf3',\n",
       " '2edac520c46419aab20b2e0386bf7c372f8cefb5e53a931677e05113c14538b3',\n",
       " 'db482477b0d6e3a9dcb667127d1b5a953d9b831e9ba2504f65e037150f0732d8',\n",
       " 'e3ace300ede792cf8c0119f17ac768347695556e069933b0034455006a149171',\n",
       " 'a1d31d304f28f0211ab069bbc0152a599260252ac1503822d56c32bdc3db659a',\n",
       " '31ca6a1e7848a9b51131d623cb7589345f739ad084fdaaf55d733c5a7f0e77b2',\n",
       " '38f521968fe9955a71c8f55d328795b12a154b93b5bcb350e32f091e7057c4ca',\n",
       " '02534e6a83828aa4c73f8af7266a30d6028168ea7ac6240d4b8b430e3cff2be0',\n",
       " '3e4f484da11e6ce864eee7387d08b7ab8fda20c38d926a7158bd5f5969777e02',\n",
       " '27f67396dfc364f2a7200221519a22cc285f5bd71edfdf40985485f09ccc49f9',\n",
       " '71c8da4739f2a9ef0de6fa47a0beca5c3e2eed5cdb3e6a5030c1471f6212994e',\n",
       " 'ba62fe19d2fa55a5569c243c07a8e616edf1bead49568ce5bb150998d1cec0e0',\n",
       " '21e316dbf8f72b6bf33511727eaad8e14dee79f820653ecf5eb1bbc14fc93f79',\n",
       " '33abf5a33f27e643e589a9654abea7f985baf972fe43d0fd1da5a504bc6fdd4b',\n",
       " 'f2ceade075c7f4f03f7115229922bdc15ca096863daddeabef8181a4c3e96f60',\n",
       " '805ceb7a4e35965158c83fccfdbdf96c739a5c0bc70d74c1fe6e5a73280af23b',\n",
       " '025f14d940b68689f58163cf2a948751488eebfd21e2ee111bfc14c2663c2c7f',\n",
       " '0db5e57052ff096964ff299c452554ae5fe0a3bd967c05aeb782a8019cedfc02',\n",
       " '585ffd2eda74f7333efe3a59202210fe40491760d32cebb51449165c7bac83d9',\n",
       " '0903d90382afadfb0dda80adf614fc9778bd909d88b63125391b5f932226d539',\n",
       " '42d75fa88f6a94fa04f0fd226ce7d6e01fb7fbad9b2b70f8361ccff177f61bc5',\n",
       " '7cd88ce148b74646988220b7fca338fd80a3d013928c0f7ccf7067b54283d681',\n",
       " '36ffc3d80f86c14798098b7e6dd7b8ef56c385aa89be0fd4fd13f16881b02cb7',\n",
       " 'c24b8736b6086dbffc3e5653e8f0b9ca75861197b3d8f9f9947f497cd61b2961',\n",
       " '81336e6275536cc91824ca6fc78870f1f03e40aac12ac675cc64db988ec178f6',\n",
       " 'a43284da238faa475ff7b65af5afc67b005c5dfc1a1cd9ecf1f7703e453c878e',\n",
       " '04b1e1f43eecef6410672b4280528608b5705ab8594d86d42bcf59483660fb2a',\n",
       " 'd795ab5a2f1f2705154d045dfce0df84ba875ab090c843b70a62ffa0c0262c4a',\n",
       " '9d1b942c85ef047d0b8b6e5e8495c43ca98d0ba640202d7cb210d9cfa5aacb22',\n",
       " 'f8353696d272c74c1815e159ce680967c8c77526345a000b162f83340b5ce873',\n",
       " 'a30d8016194ab854f091ae8f530b924bb62414adeb20d0c187a47c1447339834',\n",
       " '980298813ba5f45229f2f73bec02f995a1aa3840bdc8ffde6aa32475bac54f0f',\n",
       " '2bc908d5373c3558cce7f21f7d68ecc2cb9943557af9b011570b414cbcba5ef3',\n",
       " '1e81af0014bcfe8510819ce324fec20c606a8565679d832e2ec63521e5289f62',\n",
       " '54013e83a5103a05a52a007f9d3b4f6e94d32a7250baf6f8552d48a95bbcd6d0',\n",
       " '14fdcaed411d2be77731a857a1efe437e4b33bb968e9ed366be8c65cbf3d377f',\n",
       " 'cdb0b732d1b292b4df2254226f5ee2ec43b9d4b321759b77b77a6827e2f86efb',\n",
       " 'a64a0f0e7848acf349a666973eaaea254931e86cf935fb732ca2c8f5ff6d5c79',\n",
       " 'e8e12ce0568ef7be287248eb5c7b7971c0dbcc84afa577e15d9d1e62ace1c074',\n",
       " '5979a1f42597ef96b14cbb22cb0ba35b3683dfa55469318d03107c14fa649fee',\n",
       " 'f9119a862c0444445d062edcd61b67ea6e0854c41118c9208d5fa7ac539308d3',\n",
       " '8cd355eb337360ded4e855d50c93a1007dcef502293bb11074fb37dbb2f411dc',\n",
       " '637341f69a24fd7b99857ad4f0a34efb8ffbc28154f3ed65493e6ea597e7aa8e',\n",
       " 'd6427ab63156ae3b59fd36a0c3b1d22438184fa8f5979f103c3d1056e9972017',\n",
       " 'be07e4d85d968c025a52797a498a785d328df011e4b645a93e4f97edd335139d',\n",
       " '9cdaf805028bc30851de8c6393806b639cf350d5616679e0b8a357c0c18e8881',\n",
       " '80bc6f10c9f980d74c6fe93d61490eaeaca208e757b8f1b760ed6826b875550d',\n",
       " '2f7c9ceefae14ef1a2b544f205c1abffbf0bce659fb7a467eea142cc5098d703',\n",
       " '6bf308a4018160a2b9be5f930ea05720d8b6644b74afe6ca8f619a593c38d285',\n",
       " '2b1b39db4d00c8d7374f9f39a37e6ac9fc4a6f1b88e2dd97e6076ee74ad128ca',\n",
       " 'dc2282c78b6c36da3cc4436e49fb3e69ceaa3234c924960ba81152599d0e454b',\n",
       " '38ffc869064dc3901a37e087881d9ad4477b0202e753946b94c1c8625fd00ea5',\n",
       " 'af847b34a133a9795f537c766c0f77227e324f2dcbe3a88220cfe191a09c516d',\n",
       " 'f33f6f49ed3e66c901a1695fe5335cb3aca6f0337d07d9badfd0db617c3f7c3c',\n",
       " 'd9813b17e5de4512f911d683ba8d046b28d2d9919d104bcec78e99e455fb98dd',\n",
       " '1c41455735a8a74b2dd91282fb6edcf560cb98585144e8cf23d437889b08c10d',\n",
       " '6772386081433e6f427eb7b7d6c62a2d22d0ba110b3a26d97c94ef277779b2a4',\n",
       " '4d6778ddd9346bc7284c72e92f580db7809309856843cabcf8a611a38f4f7cf1',\n",
       " '12b171f871b4e20bd1961f83165edba4848ceca0b3bda5b8a0c17fb4e4b68919',\n",
       " 'b652b70111672e1c4d5aeae473ae6c0aa0ab96f6eac38dfcb49a890f69aebb83',\n",
       " 'a86cb13346e64b9ffb742b172627e1a78348b56c02f3a740f188c69210d2d47e',\n",
       " 'd88edc758dba31c2f5488cb13b954d1b9b0ceab997002000dc0aaa6bfb1458e3',\n",
       " '25c9a0eb6db58dbe7d1b5ad38c17d82e7b6ce717a0e7cc84a1b43ce08eeecf99',\n",
       " '210bbd157ed2ab61417a6fc92c10fd49da58408b34c8c6305b68878c15ae07df',\n",
       " '253927e0a8e2f5dd4c28746b472a115b9a08f4e51f531eae7d0cf8f1082a5544',\n",
       " '86c20c3ab6fc250a3f19c228ea40ff985e9c7dcb2b30ba61d55ecccc3cb7d7a0',\n",
       " 'f9f61ebc382bc6b74e4afd23cbbdf1216c6e5ae1b3443a35f0c95e1d09e52927',\n",
       " '47c78124564b5173baa0ac77492a5303e10b7b708d8f080ef4222a3967f6281a',\n",
       " '76ee8f241a398cb7c643b8fe59b4e7016f0d0b8241ae4640a32e97a1034f8eac',\n",
       " '321c7e7988aaca0d700f1d972a2db35286db4276079f11438d9638f9e5d28ae3',\n",
       " 'cef791556185e0ebaab67f82d081db28ab94d82579c7c6e9313c2ab38f3dd277',\n",
       " 'b6436017ba5bf6dc58523f7b8b0a607664043178a8fcc6b2d8cc6b91779bd970',\n",
       " '4e94bed228418f2a03e2e0543c9051af9c9b8a4e598aab4c1aa37ea62c69b0ba',\n",
       " '36b8af68d354c769908bb15830e2aecf51958f445afdbf2a960360a26bc7955b',\n",
       " '7a4b38d3f9ccf8f5269bfceb18c465185ce0c5d58901edbc4c846476f57496fd',\n",
       " '99cad54668717556a7cc38e832c8e27e9a2ae7b233ed27772ced571e7ad20076',\n",
       " 'e271f34223db9e159fab31f1b2da3907ecb9ca851bfe85544f2d8e706fdcb328',\n",
       " '4f1f8180139b27c742a416c1b8ead05180c51e8555dfe4c2c755cabc42483637',\n",
       " '7096c511df1bdd9fc6d5ef48423e01dfda66262e27edfc18bdb5097937eea649',\n",
       " '1b783fdd6ef9d5ccd5bb91c2564d9384951c8679011ed931c11e46e0611b7dea',\n",
       " '70808403c04a3d9dd7e6d35d36f28b1dc04958497d6f7e7a4e1d2e73fb21e094',\n",
       " 'e281eff30e470824f026d69e5424d351e6d387725c8d282988c4c458c90b9acd',\n",
       " 'f74889c039fcf191b6e7b18b2239f63840c0fbe40c14eae07dadf502e6b27e1d',\n",
       " 'f2eaaa89eaab65a0050df09f18d1869c36c97b05772387c157d36a1d5b443adb',\n",
       " '4bf5070cf9f567cc900628bcdecd58a0bbaa1286ab3d6d6e94e17f2096d5851e',\n",
       " '120a5fec9516d856b07f1260e1e4a2f3c0d09c004bab59440631835527bd1f84',\n",
       " '0cfc7b12ebc12faed29f8c67e93d9663e11e8a268a6fff934f9c27aec539fa96',\n",
       " '6371108d0935ea1ee0c55e4b117213b54dae3224a43749679b77f3bc99e99d82',\n",
       " '6f53cad85755b8215648a155ccaf0ca70f5e300bce28adfb943b140112c13fc0',\n",
       " '0f16ab23bd30fddf6979de2bc8e969fdaae805fd5017a77012ef29aa89a19e50',\n",
       " '9085c6f603bf94e2eefe3099b8065eebb6a7f695f51053cc9362bf3cd3071389',\n",
       " 'f2d3252ba28518092d053e28a46fe2d2703e053b43df8d605dcfae83bb3dbd91',\n",
       " '73a4d401d0bcbcbe79a5778227e97089b135ab6f5fb6e77037011db89724c779',\n",
       " '2b2594c995a306eeb6fab48c924358a9e575d190b020229e675b12b9698ac02a',\n",
       " '0a86d74dc048a6f9078d3655dd3f7bbce58c34842375aed3c97ca3bb17f1a322',\n",
       " 'd0649a2a9abb3602b08c210924167de89748b30e9b5ce671a0b756acc43de71e',\n",
       " 'c30b390b2a43a2c9646a6e9369ab1d1a69999e1f5ab3b51fab2f5e6155f2d487',\n",
       " 'e51bbef0b1696b01969182abb0b0e3f9c2f2bec97c4a9aba7efe31197f18db78',\n",
       " 'a7c1142e1dd3642c2edab35119f8b19d06e6ef2f38e897728b67305dd6be8cf4',\n",
       " 'b5570198aa6035620b135be385ccee1c1f440c189b92a37c6010e1adcad88aa4',\n",
       " '018a562bcf9aefd9526d1f4a9a8535309972ad36ebb3f98691c61f6bcd764128',\n",
       " 'ec830d94edfeb8055ad0d343dd02a1eff66cc9a437ac378ac0ea2597ffef0e57',\n",
       " 'f8f6581491300fe615f68c52ab59945b2eddf42768850547312f2367a2e72307',\n",
       " '7e8b32d91830dcc14fa6cd66133768e4b506e1f0975f342a4f56eacf7fd7484c',\n",
       " '7b4433146f72f56e039029e4197371f43cd439c2b2cacfced66f197ecbdf37aa',\n",
       " '979c135131483088dc16a5c1a9119ca843ef2102a40764ca1d709af749d72273',\n",
       " 'dcfd653b4b6cce09022d839bd038a7305e7678865d8fb78755cec7bcae7ee4d3',\n",
       " '1feedd1183349257c09c3709dc1dd275ec1839b3a293aaee395776b114b99c1e',\n",
       " '79771bea816041492bffb4166ad76acf0b1c4837d02c45888fd22e044c46cea2',\n",
       " 'd8e488933eba598e634a272422b1fbdcab30e5b874e76f9a9cc0a4d52c0b48cb',\n",
       " 'c779c2b317bdc3ee341b8693b2101ab04921f538e4b03a810690f6ac8fec85b9',\n",
       " 'b55350eaf5ffe65fd3ef865611a06205170169a64af1f46164045e352b443976',\n",
       " '8976901569ba3ffda90c7d35f01470f89d2fa0da1d21f74a3357aa0a5e1ad1f7',\n",
       " '663fb685f4182da28d9323f3296d7c89f2170856e8ba87943224496252fd2315',\n",
       " '5f8ef8e6ff219569deb4ae6b4d48cad7b47356ce4e49f089adc17152be99b6a0',\n",
       " '9a57a2a707c35179c6a7e2ee5a2594efa6eacd4c2ba3df98a4b776a27937ba9b',\n",
       " '14e496e3052a47ec66541a2cdb0dacbd4ba1370a26a655d334c213371d5c4a72',\n",
       " '937cf41ef48a38fb3cafd46ce762f6f937dd299670e1e9ddfd62595376700ad1',\n",
       " '9e9d132f9e692b8b58617cf1340426ee4bd6d59c5532e437b756df1e069c1b94',\n",
       " '316e350cc0c4ddbd19d2af8949b60b1434f4ee6a7de51b1addfcf86fed1f772e',\n",
       " '7e8ab50bbeb6cfc1a2a3b07713c88ac8d5510db47648656e58a28fead6a17a34',\n",
       " '7f481b90ba3a3f255ed0c2a5b08a6bad9a2a3e2453f7ffdbac5490204a86c50b',\n",
       " '89e125fc617b675579479eee3ed2836b65d17a059141bb537f9a75b631af1444',\n",
       " 'c989f09eb0b6424ded70de3859745c0ee564a8861e14c465e47c84ccc5d7ee60',\n",
       " 'd45d7b0210dffd5e220b1f7306836baabbd66b3e3e25ab9125b515098d9358c6',\n",
       " '7029777b56f8172bd8a8cc73b4641e9c923e6eff292cd755c2ff7bbf1d0ae4b5',\n",
       " 'add51f2b7ce1600eb41471faf80e7d4f0b307e92e92c3159937a6ef0d6b49458',\n",
       " 'e5e87763ae7a44cac301b9fde77d4237de8f7197b5461cebe33aba05f1051280',\n",
       " 'a040d084957a6dda81550dbdbe9e4b7f600f7729c10f10b375d9901a34fa3dd0',\n",
       " '507eeba3dcc7360d5e6fb4e09c2c0ea0a53ca218d37d3813b39bd64ef8abb087',\n",
       " 'c2ffe550bd172772dc8597c7d63ad6417688f0796fb4026eddcbb4db74868d90',\n",
       " 'c8ff9cd275de5ee62e4eda765c6bc4f68921b6853733e94fa95778a71edbe94a',\n",
       " 'b327c3675facd0e3a8a67bbbdade8d5a1bbc3ea916ea023f9b05852356b417e5',\n",
       " '63fc34de71ba5ecd0d65e14bd2523c462f3cd4c41f26f96824edcfd080c65188',\n",
       " '4540a500b23bb843f268debe69683b83a63d02a6703dd94648aa7bd2c0d5311e',\n",
       " '61a4a7c0803589d1f21d391e0c49f47191fa2769d18ffd6e7fd9dd097428ecda',\n",
       " 'a2b8c3ea4de7781f2390adf275c475be52739d820f60138ab634f880cda34696',\n",
       " '288528d9e96f371350995120e101fd0398030ba2d4d16e80de7bac4114e16107',\n",
       " 'ea30c2ab2b660f4c469319fcd009a511f4b8029f877e6d5743ae10d868ddd299',\n",
       " '568aa661f27fce1030825d0d60e6b8594290e8b3da353f9d26ea6c6157808cf1',\n",
       " '452d609bf7d96ec7ea814e2168fa2e22ebdec2604406a354423b4fe6a8ccf026',\n",
       " 'e0d0564ad876e70a408e79cc21e444690a01fd0a89500db41550261f6adf62b9',\n",
       " 'f265ec4728fdb5b867b615b73ec1d559c8a69d4f4839540d36837b898d03db8f',\n",
       " 'a692766244dd16e653245b5447413bd638f8ae3090ac9967dac9c873ca22f0b1',\n",
       " '4e385cc49a0663cca9f1e4f3e43eaeada2d44731eaf4edec72ac06a231024d3a',\n",
       " '65eae961c13499c837ee5da01dafd9f562020590d5e6b414fb5f1bbed6d758d2',\n",
       " '2ebdeb814f71fd60584973728cfc35f10bb055bf2257c152d5f594215880fbd5',\n",
       " '7eca2c74b82f8190cc8f60824759b9daf250af8bdf2a93d17e6d42e0c3c0f325',\n",
       " 'e881020c579b4f9e1670a70c1050fd6f1d85c7177441efc02a56f7e936b14dab',\n",
       " '6d8186c2daa0d4d5a04eb2ca6650d36fa6eb127b97f7cfe6cf99a9ced5f92af6',\n",
       " '6059ad9d5154386ec39b903cc9df8c9ab53dd9bb8ace3979ef162813b3b478f5',\n",
       " '906e99a485c12ef9ae0e5716e57a7f678fd4ad238d2a908dcfbb03fc2227a0ad',\n",
       " '4690eb9f1ee6926675806278e9ff2db4235729707ee24d70ee83f2cfcc6b3963',\n",
       " '6d335bcce2e45332164b8291a3e690740f7c917efc15c3cc39e8c6980a7bcfec',\n",
       " 'b1cfeb008789b262c1d194d0d34a6db849530d5783486aac4f142740812ed960',\n",
       " '7ab6f0caf6401fbe1cd561d76f03ac9542e1ed2050dbd14c1e5b2c823d68b710',\n",
       " '31f33142fd52f9f99aa95ec5c0c1d7d58b3a7104df7e8ef3d6f124093afd03ec',\n",
       " 'cb799c16389e3e472b3affa2963f1bcca93f1f046af232b34eab0d96f72eca73',\n",
       " '186995663f3fddd30ec1e4ef6080aae1d9b9f42a5fa04a67e37613d74fd95270',\n",
       " 'de048036bbceb049b960f7d7b87bc0ee0aaf0af60a429a94022a12f1f3bc6240',\n",
       " '220abdcaa7855e0a348dbb7501ee871549108a444bf83f434d63db1e40c5549f',\n",
       " '79be73bb14b3813436d9fe9ced06a10e59d083dd9002d00629c231150582ed4e',\n",
       " '008fa93a77377012562e873e8fa5b4011f9f727b1989b979f66f80bd725f545c',\n",
       " 'c7f3edb9696ce86e31bd092bb1ed9aa94db196b724d09d41b9a959364f3812d8',\n",
       " 'a1425e21c2070facea1d805e4afa86534df229ca0da1130611c9260302124ded',\n",
       " '31474cbb8bec2478b8fe3e90d9bb5ce10449590905bbc170208f4a63c0bbfceb',\n",
       " '3e200c33b1e697fbe5314786ae44b36e1fe996107611abe860587283f8983f92',\n",
       " '55d5c287a894d9e476320122fed3d527e02bd24b2f5e3262c4b9b9ed93c91809',\n",
       " '958e9b55ba4e121ca42b69e9e121cd26895331bb0086858c210f9d50f2132952',\n",
       " '16eb410b076442e25127ff7b9c8e7bb58344c34b8472a27951169531628549fc',\n",
       " '39c0fbfd9b405c4f8a42930791067ded63f51aae6acb33c14eb8c35fccf7a412',\n",
       " '3c7ce5f1db37475e820eba35a5787ba356c3431be49407e851666f8f554ab919',\n",
       " '17db4d0841086e7296e142ac687ad93be589f21ce633d6bd5d2b4491754473b4',\n",
       " '9717d21f61fe243982ea74592be23fc761ac66bc90a40106a28115cdf7f37924',\n",
       " '4801a1f12b47d33eaf2460bf17c1d5c6425dfaddcccf4554ec9e7b20afb89210',\n",
       " '4a740297b97d5d9d96b1655b7890a9a906e99158e85ebd63878b5e0e043cf00d',\n",
       " 'fe2e6e65501d113b5745123a75bc8cbc3a4786f6d4a3b305503c77c19bbfd534',\n",
       " '10e4875bd7653eb1bb0085b808cbfed20f12b68e1d0c9334e367e835e1144d83',\n",
       " '9bf57fa09d3e9d3cdf27ad8c665b3d457e350cd403893911d364dc213ae15991',\n",
       " 'febdd7077cf6c568c0730c81c7604e4d882c3f92b75c4b9fde71690c96b04a17',\n",
       " '31355a92076cbc0bf67ff97fe6b803ef72c4f331d6c90178fc7081cbd858488b',\n",
       " 'a338e8f2153fde0e3a08607b507f9ae4ba44e6412084969fe449ca2b8b80728c',\n",
       " 'f1815cbde2995d615cb91978ee9f051a94a50b5d3d362d734ea3496c4ba92fbb',\n",
       " '923ccddcf5d96e936221b6770c3b81a9ef8c060b13bc50a1a4f2e20055b325aa',\n",
       " 'a5138f3ac81bf5a6a09afb6f9fde31fa57f0edb330ecb7e359d4dc38ea45c734',\n",
       " 'bfa6728a460706913adfaa93aa91632a1ae5f29b81e1c30a66f82baa91e6af53',\n",
       " '967533555815c88c7305255b79939feea71a4dd200ed970366f749b9ab85e3ba',\n",
       " '1289af7bb61b362c2d0f0b4f6a428af48aa5018ae6997877bf9696bd50bafc09',\n",
       " 'f8a827b90a2559b96b7bde12f2575d3c245e6d37f1b92f14cf5fd7b5fb8c323a',\n",
       " '01ff2c6088fdb3097afd2aa780bd6ab1edab1597ebbefaf78d755a718f26302a',\n",
       " '54abfe6becf1d5440e8ac08d3368f9d8e9f528b1a6e3effab20385a44287883c',\n",
       " 'b861e82fe3a566a9e8e2b523e28208d415308015205c24954c1046181aa52d15',\n",
       " '0b9f7104f84709ea4b26dd0a2ae95b9318b049597da1a6d8be66f57571e71528',\n",
       " 'da754a2dad433c7912583e1356cc30172111bb6b089236dcbd322d43e37996c4',\n",
       " '934b7e80d203501e360763307b4f3185d224ce7dfd0fbe2f4d0a95ce266fad3a',\n",
       " '3ca4983841197257b56408a8953f46307a05fba22fdff1baf232ba79b2da8aa2',\n",
       " '0495ac4e208f5cbf9e472e691b6f54d5e5818c0a1a558323c91e52f98fd6ead6',\n",
       " '5da8c63901e90db85709e378585e6b8cda2187b85d1c0fa1db7fac64f30754c6',\n",
       " '1b036c0d9de6ed2e2f31e9fe2f3b70b6c62c9543cdee13ae5d43ec5242e2947c',\n",
       " 'a669c979e172f51aca3f4a20ff08f6e85a6aad9110d29671e51d565249ddc341',\n",
       " '2d2aad52784227ad8544d9e3e312fc160f9976bb61edad02ba085aaa19ea81f0',\n",
       " 'fac81066d14fdad29d7e23c8997e791c72d4e17d47815327ff2026c2f8386cff',\n",
       " '3a83aaf779e143ddf1b115ec8b72902e74598f547f66353299e27d08bf50d3be',\n",
       " '1c21b1b2ee49bd8cb58872c0200584918f8cebe529b3b847871fb0587318286e',\n",
       " '8a3b06167a2bc523cb5e64fc436bec9d1ccbc0537d58a8449d31104a764f4ef6',\n",
       " '03be4affcde6f38f4194452b859acb204a1615f03ae033fe9adb665aa5e16a3d',\n",
       " 'e328325ee3c15cd7a45e8ac2694e622c2306cf659bb79b2a11809cbec5feebf8',\n",
       " '09301e0c73a73bf162259a69dbb48d0964147d02140847d3cb9161725cd95cdd',\n",
       " 'c9c12136ff74702a7cb93869231b43c5a27209c1063db362955425c6487aab9a',\n",
       " 'ceacb3197ec93f4ffde0cbbf2dd4d26572f465048820bde6d13a053b8ee51c3f',\n",
       " 'a002599bd4f74a229cf7c2b0c4174ca3544008df619f0967acf25f29042c6d31',\n",
       " '980d932b91f3a2b513b2eab723f2811db4907c1907f50c322874544ce8cc2cff',\n",
       " 'dd57a3f6592b29940521f6adc7635800ebfea9ea433be37959521bc9ea087d26',\n",
       " '7563c0c0a3cff58bf883b0952450661746e169e12b9d9e8cc975427b272620b2',\n",
       " 'fe17ce8791b8eaec960850091398b8cdfa6bdfa2161b14c78db212634dfe8f3e',\n",
       " '7c95debc90da7d8c02fbb3c1bc9347235aaf743baa98233e0ecd813c9a411f30',\n",
       " 'edc65474271bcea9de6eea5e15bb6f7632fe1f8e61a97cc29c8e1d69492b19a8',\n",
       " 'e58c17834856e4b4b2c0c4cc3f5d77e2a46b06ef851b08f5947cd6d803a4ca33',\n",
       " 'c1a32e7d13882202bef0d1590befd9302668eb79f8e93cf2f43f071676575ceb',\n",
       " '5bff8fc883b2fb729c95808b70e02bc114b81cb121f77178628ce17fef782e2b',\n",
       " 'a20264cc52a7b88efaa419bb6ce7ab832c03bf1ec1e8e8eb4c74f06a7a0ff22a',\n",
       " '52e9ab53a3f3b52c6a49b83a292569805ac84a9416d5a2cd636cd3c2e9e2b6ea',\n",
       " 'adde674c0c5e03761557382fdd594a70d0b0259b0b5dc35ac791db0a4ab1d32a',\n",
       " '00b99a09b98143f5e772b80d797877fcf81adc0e85560b8c57f2cfd7bba5c78e',\n",
       " '20dde1db49a910d0f7db6e5d2d6965b4ed3d2f63a5cd55b8dd26642ae291c04e',\n",
       " '35274611e083e3ff4ed24eba93029962221b518b3983041ac895766254b95379',\n",
       " '1e3607d911fdd43476503550b1b55fadac7fa0ea52be28318efcb1f19f5cb504',\n",
       " '5413ddcc752d47a9248faa54421ccb73abde26b97fedafa54705af610c126bab',\n",
       " 'cc9fc0cf2dbb62a2165489f8319bf6cf39778bb17f3f75fa53b6ae851ce71c56',\n",
       " '179f562fdf526e2647bd1100a7ae397e39800a3e852492c5f3f4dbc9776f163f',\n",
       " 'b484ef11416daea4317c5a856fe39dc28c6ecc0a4947e660703939d1c22a0535',\n",
       " '5122eed8953d55f5fbde7a57f9082b04aed740868c9310614d3d2378f44d5a40',\n",
       " 'baf62c1b1854730b3a65d0ad1c76370aa77e5dead7c235bf90a4f6d5e6e2d66b',\n",
       " '1fac6274bff5e4abb5a728a870850a06e0bb39e12d09c5798f2175218612c43e',\n",
       " 'e4e054c16325bea1466824f9a8f00bc2a86919530a6425e6c5380fffc698c7be',\n",
       " 'bab38cb703bf372db7ba0427cec0f8bc9bc2f1d59e812b3a4904d7f46cdc08ec',\n",
       " '9264ecdaac15b16bc56bac73aae38c83ba491489717d65b861a8dd755d5735b6',\n",
       " 'faafe07cdd7dc56667e762429dda979a466a5ffe0da10fa1159f41c2c2876051',\n",
       " '1b6b6b69be9b52aaa17e07de4fe6dad7d102424151acd60293b381087d22e665',\n",
       " '9cd41f5bd7b078fd0af1c385986a2412b916f7f9020a314ae48f53cdb1511b94',\n",
       " '9f2279f499fde8deded8ac4fa524f272fadad920e5924be5394895ad3cf6c361',\n",
       " 'b458746e6bd31477641d00f30a634da4af531cb48b1ca2fd27c635c0540ec7ee',\n",
       " '50439b5107cbd0c4d69e823317a50bca5a03169c6cb36722131c2a4d49299446',\n",
       " '3ac91031d224c63bc8dda083d2508b8d949f88e12f3852f0a588c4040a581c59',\n",
       " 'fa205082de6692e4deba44feffa3d45c5f2494cec9a2bd5e6609dc8f730427b8',\n",
       " 'f0f3c95d9b9a20cbb190c2e05fa4b546eb19291bbb417f8eea367b305451ac49',\n",
       " 'f06447c3d4518f53eec27a12e720222ea91e62c2dea72373e97fbf0f53b1099e',\n",
       " 'ba0b12700b06187d82a16486dd3e46d393836f80848b33b582e91be3f45a6805',\n",
       " '1e27ae453ffbd81e765ba556a6d32fe0fb924a13b1041986e2b65605898a68b7',\n",
       " '1de924350e4bdf4245189c63c28da2a959a2840d377026a66469dfb2c7da5199',\n",
       " '71852ac7fc115bea8bd7e01b9056a83109a0bc6d921a0254382a07c2c4723eb5',\n",
       " 'bcd877b2dad04dcc223ef7aad99e04045cbff507e06dc130705de0af97d925fa',\n",
       " '5eff4b85f7894ffcb1e8671591879c111aa8503c69b0d5a77e7cfe075fa1ab7e',\n",
       " '23565882f3b3deb0e49d084bf702047b189b33ae40669bb19fc3889dc7b1c93d',\n",
       " 'd1460a53a54dc83c91f5e6261a5413dfd537195ba336ef2ac10496548979ebb5',\n",
       " '23f71debdb4608fb91e2d9337011629881c20dd8df3b753fdc062b8a8cd8514d',\n",
       " '16790b8c8b524451d9b3e9f5f81a4e94000e232c091e8922a9d8e204b7c398cf',\n",
       " '1aaa8d9652f20415a566701679e37c072e7aba535d4082b0ae342cdba18b7561',\n",
       " '8209f3fbb87c3192fe363d26707d4accf4c3231c9c534fbb0725255ba7350f55',\n",
       " '0119be2fed3ef062e92f3ae0fe90193964cc683c8beb0a8a6480c2e4aee27225',\n",
       " '45a95fc9dcaa9ca960092b7aaff52c996312ceb25968da61b1d29cfc57f34b37',\n",
       " '69988bc71fa75a44ec65c49e863a8d215fd119895486ca355ca75f7597972ddf',\n",
       " '4a217d6935bee07fd4bc0ccabb15838c29833ad0c2fb62a368ef74ad0a93763a',\n",
       " '56421e340635bd62cb9df0c1043e39553bddfeaa4fc1279ad21bf16ea019cee1',\n",
       " '1eeb557bab2781f04ae9d7e65ad9d0b22769239cc3484bc743203bafa4b55405',\n",
       " '98493b03e3863349251bfea37b9854517578d51801cfcbbc90321b3be9dc8401',\n",
       " '30b5c38fd88b68afc0a7f2042c6d8b5c98659c0995d1d2ecc0319c329a50539c',\n",
       " 'b7a3778f3f30414dcbbea9f93e9be8d878b4090b12e759a68ec5ef11b37de726',\n",
       " 'a285ba2708c2f8dc7872acba5342a6ef0ae2352813eee734d0fcb129be00a602',\n",
       " '62b2c8472233ad7803270489391ab9b7890189ddb18465809038c01141f072d0',\n",
       " '2fff5beca7b9149163c9a2d68915e283f02c2388abbdb86d21bdb930311f0438',\n",
       " '1708197a630d26a660febb40e1a8ed3b312b4be009afac400410aa7891687dc6',\n",
       " '3c26dbb69cb49defcb0cf429822ef2a9407afc30826fe635fc11706f7d35ac41',\n",
       " 'a3ecc90275231e7d9f10427d843632b44ca54e2071345183df35ba6a2d1448b0',\n",
       " 'ea97b5b884fd7a6ca0fb728bb37c6d0575780ec98d5d264a27114ab1f11ff27e',\n",
       " 'dda417abf7b3e79e23c2e40c6429009fdcc08e7f331d7efa5905c85eb33033e2',\n",
       " '872d9ffc8c378df8792967b2960687f42cde24806ab09b07dac61a5286f9fea2',\n",
       " '3fd6b65c986d10c7635eebbf056d5f2451b4963a3ce4f637e2a448d9dfa6261b',\n",
       " 'e94625f10ef639eead541e231c0c985cae7e94e4610567ee0ca806aca8594a7b',\n",
       " '1f05300fa8239eaf4db66215216b884a13f640eeab02bb1c6be958e9da643a2c',\n",
       " '407eefebe3f053faa60b20073339c49b5df8713ef502cbf3e5e40caf30899244',\n",
       " 'a4051f3c134292c6db76da3d8ecffc66c2d05274828ba52f4f4d805510701828',\n",
       " 'bb2bdfe3b1f66dbbc11e8612ff89b7b6fa5198e0dca6a8a8981490281f2c2c1a',\n",
       " '96314147f644e79005548255938883b8429861657e981fc60dcc7d5e644e2b99',\n",
       " '3506ddaf3e33f7da6c1f099aa7bea4e01d040d32532e142ac9f7b78a5de50a06',\n",
       " '1eabf94dfef36bdbfb59b2f38e3387c4f4b196319a3636ec208badd216cf99ab',\n",
       " 'aa7b731065fe2c470ebea371d17e107896619d4966742fe5189be5ca98b97d9e',\n",
       " '6ab18cc062535e6905ecd3e6d990062aaaf282bd4f16e639b5e13907f40af154',\n",
       " '36f9b9eea9301e8c7c6cc4e9dd18265f52fa7a8cf72a135c0fca050b5e1a6685',\n",
       " '9b59bbad6f08e9e22c8212d286b257e48b199ade8875f3e8ded6bfa37ef914fc',\n",
       " '75bdb430ab669377d2985261fb8126bfbcceb0969af5f78f97faced85f35e875',\n",
       " '40e31da690ac7ca6287f94702de7b5e53b507003e9e40426a7774ecbf5913377',\n",
       " 'b0566ead3719086224efc7886f6f7f0c5ccd551dcce19d5b2130f0cf99fefa35',\n",
       " '6b93baf82a47b63af922a1ea0ea361bf835105ec6da58d78fc7d434239a1099d',\n",
       " 'de4a84144d42469655470f4b57cf427da82b97bb94350b66749776a826b3b701',\n",
       " '21d62ff1f54f6d4abf6a253ea6e7e53323c0bee8775b7a49a542665a599e2d35',\n",
       " '67ae3eb6fcce75fb1154d4614ed0a82e1a2f7f24ce2fd7a5bf10a9aec91ee4ea',\n",
       " 'd5142a87550f8bf4f9ea7db3fe9a9cc26e0066063d8a36d20730233f55c30ce8',\n",
       " 'af036541f3b6fe91cdafeb9620126758d6d518e93c8c0826fe6ee7bc888bd66f',\n",
       " '1fa7f5d4ee3f8af5d2f72e2590cae022cc4a84810e665151cf3b4ac4422f778c',\n",
       " '113d1124dfa6b710eca27b20fb07eb952c33a764cdf4454c35338faabac03f7c',\n",
       " '5652aabc59cd3c7e8c6d1cc844255a70610cd083ee8c1cfdb7233f662c644d94',\n",
       " '75ad50a96e4dbd9a16ed94de86750eb00376ef5f133451b059dc4daa949b5f37',\n",
       " '54999f7685e4b7ffca3b3edff0be443fc876b0e58b57965081d29265ff9b8cfb',\n",
       " 'a50ad97e2c1d2c7ec834ac54a4fe0718a528e31ba4e4f333a24f98a9e067cc80',\n",
       " '8693f46deb4b53068ecf0fb8640af3daf931cb19330e7b8dbac12cfb0eae90d0',\n",
       " 'b75befd3f6e1fd8be2a1b60d37d7d461370083647f8c8d72e0275fba762bf3a8',\n",
       " 'e5d5d507742c70fe6ca737728789aedb2ac5f184795db81114d6935f5436124a',\n",
       " 'ccb6d47a74173fcbe681b73613e5a10279a723c99b72bd68a2954809e9e9da33',\n",
       " '912be6faef526a2cc07d731fe941c89dc8a2c4586b5df299e9138bab27c8aa1a',\n",
       " '85d29eef13f9f5d80f9513fee4ad87eee05631833a8417c872968bf4acbc72ba',\n",
       " '06e783836489dc45a543cf780b865ec200021b19cb2cef62123b726c4e4ae04a',\n",
       " 'e19bb139d33fa1f84c08d556cfe07acc5f74d93d607c119f52f3462447122e99',\n",
       " '611c98fb9a3898ed8b12169f8a113c88ec03dec4af44a6643d04d929a6befda4',\n",
       " '200186eb90453fefaacec0e897eea599ad89c7f07e63ce2706986beca3450462',\n",
       " '1b64b83a050655edfe09954d7205a83ff9620ff74a88992135e6ec9e8e4eca7e',\n",
       " 'b1d6776bc27ca4b792c92b841ec425f5e57b5ae4c1d3098bba7b45787e0af268',\n",
       " '63418f9fa524a04910306858d319fe1f44dbbeac5b9b26d9a88bce87a5ec554d',\n",
       " 'e60f53046d237b1558c801da75eb7202a639aa5df0d71e7697f35d6aa1a34ea2',\n",
       " '51b400299c08f30e876e0b13783f5183c6709c748ac9c815a554db3ff3b82967',\n",
       " '816773fb65e3c74ffeb6816024dd2dce25017058197ceccaf3cb395d4d1d95f5',\n",
       " '4d6d70da4a0dcfdd45a2142e44ceec5e2b20fb287c37a63201dc7a35f49e2351',\n",
       " '1e371e1a3fa2f2b1e5f76b6b338e322343f066f8a1617253dc0bbc81d06fd7d0',\n",
       " 'fd072d0f20d9a53d8d068604b3500b4befd9c3c5954342966d34d4cfa55cafe1',\n",
       " '8970a4c3ac264acdf26895d0ad9a6588d966de4de5688f89a8f7db35534ab9df',\n",
       " 'bc9052a1e3da494016b15a600a347a796e5b01aaf94336aa1f907b3650789f9b',\n",
       " '407f0637c99804414b6b84189f84ec98257150c0ed85b23d58d06652b1f87855',\n",
       " '6045509b5f232b9ce704f74b067e13088c36a80cb3b508de3a4beba8b6759029',\n",
       " '57c02181e7ea4e02e0d746a4a4681ab95a155dab78e9d70c1e0bcf02d596b6e5',\n",
       " '7d5fa5b31f820c59cf76b671412b778bffc2abd9baeefa511ed0b13774bec1f0',\n",
       " 'e436a374fc15fb7afc136657606d8200400f4aa4b0a168eb2cf02a4543b5ea94',\n",
       " '301c566b6535f5779437a807123dc84d198a9aaaf9199bcfa7082dc84b81b4cf',\n",
       " 'af7ce392aea0f850fb7527de93785638aa6f85a360f49e7825386930bd67cb41',\n",
       " 'e61e1b2661c14464dd0a5a7a12a6995dcfa846340f62e4696bebcef0da69ae6b',\n",
       " 'dc79510ab023fd76f23631c787defa1586d9e0e804c6d1f9c7f06acf9edaef06',\n",
       " 'ff2ede5b824de3b4980cb15e93a83784c4d6660e7113cd1bd69e54efb2fb838c',\n",
       " '4b22d6031026020cc3308a06eb36a52737985fd10c3c21d1727cfcadacb1d384',\n",
       " '4fc656a4ff2dea667b4be4f98b5ea493f58edf5ec35c17fe3b27120cc1367678',\n",
       " '708cbc0c41434572d7779258ecbd7a05f46d221cd3bb3f62dca722ad52814adb',\n",
       " '6af7613529b46f93c9dcb985f5a01890db08312cbbfd68769c671f8fa751c9c0',\n",
       " '69809782c32694411f589a2fd982869cbb9758350b6227742f76caa3baed57cc',\n",
       " '5fd291bec27e76e27af9729521357fe1f95bb4cf4ecf6398c6205b463ddd6f5d',\n",
       " 'f76720fc1573571be2a8ba1c956a73947dc9a4990620c1a82a6440c7099927e6',\n",
       " 'adcb01da5fba058c8618ff51ff8771b49f434e0bb630e2d99feb41bcfda7f60b',\n",
       " 'e4fb1fce62825d4a80a6868ff4387dc29a09a2758e0430fb9bd5d0c3ebec798c',\n",
       " '58c689b999dcc8fc14290033b5802ec46abac3d1cd603dbba85480e54cdf7f54',\n",
       " 'f9db312d55b0371e735d76cd064171468769a578bcef7a69ce2fa7041da26cb7',\n",
       " '5a2881dcd6a419ee5d94d70abc06fb2b0cc1c1080b70e5899cc92b19f3caddc6',\n",
       " 'dc4e9f47e796187591aec20e004b981ea8b5d21eb5408fc125985ec96affbcda',\n",
       " '0c8197ffc775d5bba387bc070e8d792b02775b9a6847335dbe3ee5c61c582159',\n",
       " 'aba4fa5a0d276b8e14e5788794357ce66ad60295fc20965a7ed8a47d56bcf4a6',\n",
       " '994a771fb7bd59c9aa1161024b65d2a69805dfe32e93e778b405ad8301def011',\n",
       " '0f47912b82fa143ae77395106119067770cdbc13032b7e404029fd6c37c25384',\n",
       " 'e6b0ce0b1009050eafd7d7de2a9d9839eeb954fc9cde60191b01de4e229d3c54',\n",
       " '0293de2a1f69593019acd8fe1f0b540aa86f6c404555182645182ae104aeb248',\n",
       " '7bfb42b7a8efae1cc45709a37d16bd2c8d7ac20a8cef06c6e793ad5bd0e625d7',\n",
       " 'ad9151a0bebcd0ab87769a75f5ca362955477b2cf52bc05902bacdf72c2fc62b',\n",
       " '16d768c055afc054edc272b33bc0324892e2ffd0de91f6b50a5a0ca39d57b0bc',\n",
       " '1c38d24dbb3e3b6d45664586d5d2f58c8f51078401b5acf2b87a943766370701',\n",
       " 'fbde8c152016aba57715c5f908f555852815026005d94647848068f936f97118',\n",
       " '1911749cc22f01703b576032f782e71f63b4f4e71199d33c321ffb08ad9e9df4',\n",
       " 'b54e7496a711887aaa3ea6f24c295eed2cfca017de1df7543e6f33165d8a3159',\n",
       " '33fc816cf9b5fcc6170cb7443832e5736342b1b2f6aeb9333787e1b580497b59',\n",
       " '63d40d966683315dc98dd7bc5d3c4a9c371baf577adc867ce2b1e427d5a9805d',\n",
       " 'c74e7973f826ee13187048e42c91feac5024c725d83e0528c7f0d055c6e087c1',\n",
       " '381e325226e79dea19a4b4ac6076e37d0ffb1aca41eb0c919a7b456527209662',\n",
       " '1999087f749e8ef6af0fef090fd518d39c30ee7fdc38ea6d103f614f93837561',\n",
       " '3535d8908d38cfa989169eaf7074f353e84e8d7154f1c4bbd82e0d6eef5a0962',\n",
       " '0fc0d6a9e87d6486a995b6068b516922546b4fb37a3f36f7aabd354198f294b7',\n",
       " '72f7003eb318f4bf65ed66af08143a453e8635e55b59e7c171e5a4b5de207291',\n",
       " '37608d2a84151849a91f5f286bc87e37f561986f4950cb14af6205724c439348',\n",
       " 'a819198b9eb00bd7e5b9b80710e04a5f103b3ade8841e65be29f4225bbf82a2c',\n",
       " 'a3e0530b40d6d91488db15958a6a8697853c798fea5df4ccf0f192e09d302a79',\n",
       " 'af671daf43df2977d6ee4466011c98a179e865a2adc2434e0bfcee415d79c423',\n",
       " 'ea9e40cedee66e50108bad71ed826c472f3cc51c9dc8c7658877ededeb3780e2',\n",
       " '17bda38c0c24100dcd93e364d599e9036356fd586f83b980f3374bb2f8a886da',\n",
       " 'ce0defe72a89a6ebcf696c6d452e2afde58a5f8f326be96178cad5a35ccc6d01',\n",
       " '9bf99a18a68baa799d9188b2173057dd2e1393f89678accd30f86c6cfb2c6fe7',\n",
       " '5662be2eb33081c9c6feabea03d1035c3894052766309dba596282e3a22dc04c',\n",
       " '7cd4581914086a43d183fb2c4580ecb94a6b1d33269eb42bffd8c3c1df0b38d9',\n",
       " '0d3c391721cb407ac605dce0b967a67a764812a212cd3e07f672f15d57632dc5',\n",
       " '116ebd27a805f9d12db80cf85d81eefe82eef93752f49a34dab686f6aef3645a',\n",
       " 'e9e092f7c24904e66aeddb5de3c40b12661fce722c748d9b137318c607508703',\n",
       " '0e33454fe4400411e516457db64ab931ffb295044d3ab5ee8d5670cac1cbdd83',\n",
       " 'b4e276e6209d027965c384fcf01f35eaf25a6a70b841a1ab51f4aedc9051326f',\n",
       " 'f3e5801f1c884f5bc6979b8b3e5a9e10753272f72fa197c75dce4ee23477a2f0',\n",
       " '44e83d808e6de868bd5dfd0396ed2a072b511297546a9683eef53a8c8e2fe135',\n",
       " '8b394dae243dde855d404bfac7cbf95d725b9eaba773782cbd5d82d6c0e475a1',\n",
       " 'b7ec40868a60a986adccb7b0de7b9bdaf5a743d15d02893d9705dbab031622a6',\n",
       " '28455c5a4cc784f3fd9058b949ededc6b4c1dd4d704e04b7b652837d280d1482',\n",
       " '37ec449ef8ece5429ed7715df3921d889dd330c56be39f13a60600e4ec0931fd',\n",
       " '58e5a0edd1f455ad09674982e091234380c3d9f58545d30cbdc74da2e841752c',\n",
       " '19194cf930987147ce4f3df13a2a97657b052d332fa0ff7bcf7d9096f7405953',\n",
       " '38dc6aaba5be4c394b028e158192b6f152cd8b7de6307327b209342a0a69d329',\n",
       " '545fd8a0bfe140a8605531a522eca745a58f90bc455569b664e4dc527800feb1',\n",
       " '6351c31033af7c68cdd27cd0013f144706e0307f529bfa7bc623f99857a76def',\n",
       " '7ce397ce313218474f528f981b21d0464551973a333a8a1ec9204a53134a7aef',\n",
       " '3fdb608fbaa31ec5935e12160435acc3d3de8d888fb992b1f4df69ce9791b465',\n",
       " 'e2cd95b2b427d4e1e3d9c369ff77d97a1f7fcf0642a334b22a38ab4c8728d486',\n",
       " '32d5e594456c3955e247c04ce6cedf09f47f4edb7691e7cd7f5b7c44e9afed4d',\n",
       " '56db62f1626b7aa801fe4ba1cccf91a9d77cfebc4bdfb88937ad6c31597c8c9f',\n",
       " 'a5896a90bb6dabb3d6f5454585e45009e37232e5f066f91de408e3a223f26005',\n",
       " 'c112898f6a24bd024bb993393faf8eae033e0de380540373bf229da5ef9a79b1',\n",
       " '77680497c8cf9fb0cab95bf75805de400cc32b694a5237c4c4d20550081fa3d5',\n",
       " '4580b5527ad0ba2295adbb0d4b13bb40eb9dc482c78938ccb211b3304eeac6b0',\n",
       " 'abacbafcfc281eeba82e8c9076d2a7d43c3b36daa0aff5a7ee0c24085524e373',\n",
       " '79f4aa846283f5f5a9df0ff96f91fb99cde104d797399a07f241105fce295654',\n",
       " 'e457d5fdd3a96a18df8e29a5180d7bd3945499c9f58c3f9790da81aeaef56d9d',\n",
       " 'cfb3324578270026acdf554343507c796f9a26363d779f52bb20d301ef11e4f6',\n",
       " '33372a0e1d43f04d1562c699bd51c6017e93502da77db4c1da11b0db9a3f346c',\n",
       " '4a20b26b8af80e9bd21d8eafa2f3d918a5fb99c46a8ae4bdf49e5a23716fc0e4',\n",
       " 'f48898918e7411ab71b2c63da6ac72ea7b3141b3dd5eb5980d9bb43d3dd18ba8',\n",
       " '2f2b37b253c0bc86e20d6c4c7a3e69c9793324dc344b13cc7c4a5052ac7e134e',\n",
       " '0dd7d53443e92c42386a34f2e50451311651ff2817bbb332f288fd2867380b7b',\n",
       " '9aa7653ae11ea69879ae596a7e54c58fb0f248c07e131952f4315bd701a6e49a',\n",
       " '54431541c07af61ce8ef2a4bb6a691f1ef993ea8457c045a1f88384a05129375',\n",
       " '4fa376477c17977b93c8f556ca21c6f7636625f0033f852cd7e8be45acefea70',\n",
       " 'ee32f22cc405a23f014bc71d50c1fc157d8557988e413db6daf735a60d7c277c',\n",
       " '92cc25c9ecac3ddea2b81920e896f8e0957c9c03ad29a17133e967df2b934a2d',\n",
       " 'e3a296f143ad5e98ed3782273eaa4fdc79a6eabcf7823b337997e8f4375b1c51',\n",
       " '16bd778663c97a87d220d40d7809a4cc18fec0230ee634b4c5543c3a8a08350e',\n",
       " '67738793ea5d410b3357b6991344cde9bd3e7cee29305a2327e2d56e11de5365',\n",
       " '5fe34c46b582c44591def844a9a5e78734be3079c6595f034152565c6e6de024',\n",
       " '9651f8a034802e5fe958361f39d4bba3c2fd78aa42bd6f855d8bd384387940ae',\n",
       " '973efc56f59e7cfe2d6dc311e8014fee7cde06cd2493a54c83204ed6c22047e6',\n",
       " 'ef57666de45627bf0a005abe3ac6472b4728caffdcf29de24e4b08e92bbc3a33',\n",
       " '5b24f7ef8ffbe7bcf65efdbf6c6fa4a2e0a883cade9de666389f7a5b7bef0c51',\n",
       " '9437cee9742bde5aaf1703910dc07437281a1c794e2c0c7935977bb694486acf',\n",
       " 'dd16748cfb0935cfce91da487f5a04574d174864191fe7fd8dbf2e01198255a0',\n",
       " 'c812d7b87e8f8156941ee06fed3ecef42bbd1251697854906d9b9e1d140160ec',\n",
       " '955355483f67f47dda64c2342a1bbe50d3461ecdb5102c2888ecdd10e90dab14',\n",
       " '95673c0c5f4686c810e973211937f76d6b45b0cb6bd13ace4507985ffb06bc01',\n",
       " '449a25ac12ce1ff3e69b6a2099573f2e3ba184539fe25d14d663fd19076deb7e',\n",
       " '1035b8b720dc574694e96596550b2c6667193f5ac074507c02561b755abbfec0',\n",
       " '00ed3d8e35a9bfc9450e8230967359ec4f2dc43b09c4975ca89a5ea95a76fd4a',\n",
       " 'b1c17ca7421653a2f0840d08f48d084bb2994b57f65029487c4e6229dd018b03',\n",
       " '2f7862f23812cef90c475c6661bcbbb5d9a9a6a77fe2f7250796fc3363d07865',\n",
       " 'b4d8c76e423c5eb3e2a3e72b122232ce3edfc072d2c49cb06de61aa363dd9a19',\n",
       " 'b41869b8d6de61770d1152bb227af44d96385361085801599983c9fb25e76a3e',\n",
       " 'fbbbebbfa8c9331fc1c889a992f9b12ee00b6b7acc79f481ff9b61bbb71331ad',\n",
       " '43459d13759caf3cc0528e33c37b1beb31070a0d1c35f5da5e059adb4609b336',\n",
       " 'fceae0914fc54c130ce275c3e577cfdf5fe5aab65e3020942b00330e2ed91cb2',\n",
       " '2575882493d1f3b03d80424bf16b12088ca3ddca96a5dbab74418ffff50028ca',\n",
       " '4749cb08ae1b72688b3e2bb7cee305ea81fcd6544b10ccf353569f46c4377128',\n",
       " '4bbdd58ef3412da1a890345a431a8ec89b197e0b9aa7020674ccb2b356942042',\n",
       " 'c2a0d21d1379dc114daa842f25846e8afb88c81bed1bbdc302a956b5822bdf37',\n",
       " '6035204902884f62f93ebeecd8b8c3a5e74493813cfc9d7af81e25590a9a128a',\n",
       " '31ba8cebe1ae1c9ffacbdadc2b48ec5f878cdeb775e8051f82636c91c679c4c5',\n",
       " '167f68606fae046304152f1f5af0dd0f7f2e484915bc107e5dfb816c1e7b5752',\n",
       " '907e2a445abe27ee0d5b9d1d09f6e680ef8ebd7022a55fc2f011dfc6d3749617',\n",
       " '39d77ac8cff5c98fdf736ad1ba657872a810fe1f8ab24074271c208ab20fa61b',\n",
       " 'f714b367ef37ae941109649374c171fb7b1d9771bf20c69def2f3c8fbef7fa5e',\n",
       " 'a68985515177dccd41824330423c0644fccdbcd0b0b7c8ccf713dd80f5b15c93',\n",
       " '9be442abf1d7429d8c8924a31ca2588432ba5e1c89c95b2b594529f88e31ea3d',\n",
       " 'ae56202dff7fef1d0a4474b0d3eb888739e95255e5949533afba4e64e84dc151',\n",
       " '60e4b39ee6092ab79ac01db433db226499d81e77db9e06707bbc963f7d3591b7',\n",
       " 'd7c98480ba65a3b684319ec67bdcec83bf65c55b123e774a913ae981c56788c5',\n",
       " '7e5190c88cd236aff14fadb550f197c8345410b812b8aeaa14085751f629ff1c',\n",
       " 'fc2eeec1a2271a4ff9a3597c97753b017150fadb6890f3d5dd3c04b0d35e1fa8',\n",
       " '1d1c0618137af0dba0adacc115a30fb08187295f2851788a3d61b6454ff79bb4',\n",
       " '56e0739dfb9e873042073fb361f66c44eb0b2a90a5790efe9853053350229bff',\n",
       " '6a41abdaae9661e2efa2cab27fccd243f8a1769209ff95035b3a50d2a70af3ca',\n",
       " '1fa971414c7d668798e7ed970a6e5b30dc3f338a773b79401fd26f4fb828ffe2',\n",
       " 'bacaec1bf6a9a402e278091d9b432c933debeec2b21724a3278a5d4b6eb54ea0',\n",
       " '54f829229b475a79a85763ca59e3baa3b6283a01cc954ee9e654aeac29cea5c3',\n",
       " '8b563bc8283dd287981a3678faca666b91b038285a8c528b966892bca7d144fd',\n",
       " '1b675c1596fb94972500963c005bd28fe1496d06644f09e58a042a0966700758',\n",
       " 'c1a2e8a3a8d79ad16ab74f00f65bd0694dae5c3819cb09f5097ed8cddfaf622a',\n",
       " '82c1a001e9698dc78b307d92451cb92fa0984b66b44a3ce0133b137f2df86db4',\n",
       " '80213ae85c5ca24b7f7f36714d5680f115a8a75290b7c023479e9c53215b29b8',\n",
       " '0fa2493331374eb8ad65c40c037365f13a77bfe6a7d65a89f536eb68e54c9a79',\n",
       " '6adb9c6ddea8c0612e8d852639e348bb2c1088cb0e216c6d8aa1f7f29af8d33f',\n",
       " '382f83c8f8abf0f3753c56b0f6466a09105f5add17d083ecec2ccb22ba85460f',\n",
       " 'fdeae10f480ca82f9cfe7bc779cbcb0b504c9e4f07fabd86f329269522211521',\n",
       " '59fc1feb3d150e2f2884c9022390d52dc1792a88330da5b6723e3e15b0d2dec3',\n",
       " '9b0dec932145c6f665255e415ffdae1b21209305b15cc0d9a0333b04ac89a371',\n",
       " '1f3bc335a7914acdf7d14ee4473911c58dcba49895f8de0330c0c065e012f336',\n",
       " 'e40dfe8ffd2ab0bc823a14346c5911075220e9b87858009b9fee42af76e724a1',\n",
       " 'e1217951743b0bf89a098e4f25c583cfef916a8e6b8e77bd16b8e6ca47dcae58',\n",
       " '4bea15e89ae43f257c96d81d118ece618a20632fb6fb769146568e91df3fa1bb',\n",
       " 'e72e83af561e1b8b983fa39d40bcb281c558d2da5f4661c1d5ad863991cf215a',\n",
       " 'a2eb12642495ec80903f0dba945232e3b21fec69becada8f37e8c7a38c47ed10',\n",
       " '21a098b78509d62c70a285ce75071ce75dce49fddc9d222fac62c11edb593498',\n",
       " '418cf45f57a59c74233571a088bedd3f67ef9f58dfecdf4f52d491b3eee3ef07',\n",
       " '57a230c73a003d17fa747ff3588d0146ee7f0a4130a0ad0f6e52cb98f23bf949',\n",
       " '3b318bf0b763435a0eea02e459dcf67a8e8f058d71ecf1ea0fcfef8d9cfa750e',\n",
       " '93450f3c50468f1be4bc211a6ee26a5d63a87533cb80263ecf1f97878802db68',\n",
       " '43df4e67b1f3b3e2be8c76502944d28b294138592ce22a1fb68bd9634d49bde8',\n",
       " 'bf1b9010999aaced68dc21a1c6400c84f07939a18c71abe96033603eeada2f3e',\n",
       " '716e91556a702d0454c0fb51da9262ec2233939a72d7c6b4e6c149667bde3bcd',\n",
       " '4410d19e4444301b08cc8c527ed4c52fa162c586eb7f7e287623870377090444',\n",
       " '93951bcebc5ed75cdc2452c0a1bc9e391f5d4bececa6cb6b7effb9c089ab6bbb',\n",
       " 'e53ed609fc1df42c3b9bd58c6c7e8bca111955d1a8d003870c81873f75017fea',\n",
       " 'd1448b3ddae4517f460c9f61e98a1198657bf0b4121b056f1b70d85c2436e272',\n",
       " 'f1f81bdc3262477031d6d1b81bc5095d2691c4b43b0c5ef6b5e3d3dac8b84115',\n",
       " '84e369ff98db1dd0d01eea77fd380f191c42c11708e6bda5f5c0ddbc9ec8301d',\n",
       " 'f7694ffa808df0f65f7eba7f95a40e785d21f40f7d57ee0c3de87180536b652d',\n",
       " '7c18b7f5f0d47f6794c65218d6c9b2a1849ae08064be7a9b61b8d3ddf29fcb8a',\n",
       " 'eddb348147fe91e2deecb433f2b7368004d4d77fac74bb4e3979ca6b4a7ab000',\n",
       " 'b513198595afa594ac7b1ac9a517db063d14733925e15267338e250d56c6ef59',\n",
       " 'f443797273b54aa11e37376b20ade11fd3087cd2ba49b40af620aa60c8e77fcc',\n",
       " 'd68b1afbb791defdd1f6b34c2eaeeb9dadb743298b351bead71dc99a3bdf96c1',\n",
       " '6e365a8d82ff1123fcff75627fdd8dcf4c0b3f37b7157a0ce61bfcdfe7e80bda',\n",
       " '3161c408589827b75c516464b7dabc70deb03216ff4bd00606d9ac869d72abc1',\n",
       " '272a4d04227f001010ba590ffb3efc4b012107d03610c6f47170e3cd247958e2',\n",
       " '41dc8e5d014898d7b1e98d5b6dd8333f512d9bb424b07638b70d6fd2b1a540ca',\n",
       " '60fabb4db4b3c5b77dea216a97838954b4f5432f66573d567973ad542179ed25',\n",
       " 'd4cd363f87a9d981bb6ba8477488a6bfb2ac84f0c742535832564457a815bb06',\n",
       " 'b4f26e6314cb6fdb005e1684f4cabf5c8d051da5026a946aabfbe8bcb6c1bd6c',\n",
       " '622f0acd682036a869e8ba2a5ba26aa446fff9ba661daf2d147a6b9351d5a10a',\n",
       " '4819443ec1e7d201490e1122979da28106913f73d20fad6c5f4c31068318db4f',\n",
       " '322d529b4ceae4a523181bf82d5edfee40d1b89cfe4414a79d3bac8562208014',\n",
       " '47b97cca1118cf84bf1f46e183c1c06708f85775436a626fd85ca3debdbf1ed4',\n",
       " '6965af5d20cf4b94bdc22c82754c15d7707080b0e057595a96d14dd86bda3887',\n",
       " '04482472ff16994c91fb097c4f9b0486cdae14c085f1d46f2e4313e00c42a3f1',\n",
       " '35937d51340043b67c209d679cc12b6cc9701a3e8480906a903cbd2a100a2b5a',\n",
       " '9f004f310779ec376cbabdbf2fae1a432e2ac1b0215a58bae2ea017d0a0c8718',\n",
       " 'c9b9fafc0fc370206bfdddb9c31f21e578bddf9d868ed9e3412b562b0b8d161e',\n",
       " '84eec6551c9e3aca6f8d94f2b71b78f41f42fa2d860b4348b83be71b7dcb675e',\n",
       " '8180c70701c0f328cb317461be11a2e73ab0114b2273e41639bd488db6af4798',\n",
       " 'b3cd2ba4d1bf1c89b761bc16847e34d45fa7f069676b3bd1eab8a7d29684bcf3',\n",
       " 'c20eb20073eac1e9d5c988df1b3663c8018811ef7170aac935279a6adc5dfd1f',\n",
       " 'e30149e49fe67fbe7a6b0fdfaebc95bee7aa9b18e4df94572e3e5463bf6fa8ac',\n",
       " '2b3605044c80d133dc00ee4d003a03de70315fc305a7210d78afe85a72fe4bda',\n",
       " '2671c352c381c9561e9de53b80318444520d5052f655a1bbd31d59ddb9bce321',\n",
       " '9b53b101e1753c489bde786518773efe734da6c1e5c63986a7476b1c6e36136b',\n",
       " '36a2e438b5130773af590ed0349615e8bc921b40e29983fa4a1d791180d31872',\n",
       " '213bb035c7bd00d1da4eb29f0dd4eeadbf657e393711aaaa2b0fcdbdaf3803e2',\n",
       " 'a1e326bf8a8fbdbbe1eb760d7297a551098f82e6ed38516bb2e3124b975d83de',\n",
       " '4bf028ae893c4d11e62650875f588c879ea6bc8c232b1c5af1dff85199e0c545',\n",
       " '3d0e0db766fc0fa2f1ef19c7997e9d2495e80c5928dc9bd5eb1e45d254093eee',\n",
       " 'cd6389362904e793594724d60ba752e77347befda7754c04e34d73e372f98021',\n",
       " '110af2145791fd6d21b3a3bd27756308f12298721e19dcff3b44bee7f4b096fb',\n",
       " 'bcafb50e36d7ccd7dd053b9d9f1427586cef3effea18b4fb60f87bbc18f544b5',\n",
       " 'f023b552bd26b1f093ce7b6703bcd6361bdfe881a4928619f87a0b70540b7f64',\n",
       " 'aea1c7cf0818a77267940215a5cf1ea67700913860c523394c028213e6ec4941',\n",
       " 'e2b57cf5123a05f71653b0f4b93ceb25428cff0a790709d10befe86c1756eeb2',\n",
       " 'f621c198a8905fe3ab8a3bfff358ea444b63ae010b7a42316334bfebb4f71c35',\n",
       " '63f02fb33c6b1f75bd0997058e7fd4ae27788ee42ebb99ff065036efc789893e',\n",
       " 'bf5672577dd7951f1cd0d1528c5e156118ccd38190662f8acb839d722e978076',\n",
       " 'beecb4e3ad1f052d96f00115e742fe8a9d52c946fcd797d7e36449dc4cebaa7c',\n",
       " '3580112c74733da087246c71848069ebd105db366d6e7ed0f8b1986c90d4d6e4',\n",
       " '22430ae5a3fe5fd52313b30b15d64de8936b9889d1515ef92c5aac1d48e84f05',\n",
       " '6c5c2f8b70d7b74686b9eccc2ea4939aeb8e0ff7986575171bd14da2a3a0fe1c',\n",
       " 'b0390689801f4ac2fae79a4eec73252b7fab0bb98319fe30c3004c54de3e5b4e',\n",
       " '14621e6daa25733a9506cd2d870bd3938a16226525f5b3b9945778208f902e4a',\n",
       " '1c93a7b5ddd14ab8b868bffcde01c0a574093bf54c32b6a6e0a949dd08e325d6',\n",
       " 'e252357eb6c9e87417d6b9574bb61697e0ec26ef1227414b34d36b524b8f3f70',\n",
       " '4a64ec88be26e330081431262c83a09939271b1384211266f99b10099c7a6249',\n",
       " 'a2f4f1b0d4f96a3122cffd797faeaa040ea37fbb163763c1e62807db0edd1433',\n",
       " '9d5578d413940d42be16d782a3698013dbb20f7ece07753cc8d93d24d5bfbef7',\n",
       " '2b51c10525201db3a989806c5c2c797a9a394a6a5b46011d98f0b31032b76035',\n",
       " '48e05852d3874fcb7c08251a706cce2722ee4f5564aa6a6e0c447e61afc938c2',\n",
       " 'fda4243509c7a24742527b4ba97a14429b57429d0eb55da59feedd293855b056',\n",
       " 'e26bde1516a1179f6d9ca1427983188b8a045c00a4510dc8f0e6f00ef91871a6',\n",
       " '6b843bd91ec517ad72b197e8f1f9e8e98f5fd6fb3fecbcb94e7a075e9b49c02f',\n",
       " '2757b91c762a63201ab025ca517de493802e4e2e9199758955bb641db40422b1',\n",
       " '6d6fc2165bbb25adf47e45d39d19e5b45c67ea69b5b2ce9b4174229fe80d7128',\n",
       " '07250e9c18c4cfacd1804403e05210532c9f540268469361854aeab79aa13291',\n",
       " '5c5a37021b5c23a0073b90857a66b86a0caae2e391fa7e5ec3d0b5cc28a0377e',\n",
       " '8878b5f3fd61f919f83690e39400fdc96d243efd120bfcaa1729711f2861d4a6',\n",
       " 'b5a92c36f5d4bcedfd3d45c85a19a55f36887649549df1b4a6886123fec34374',\n",
       " '41620794a9f3d9254ccf5f7647d3234c21c03abbe4c779354e8ec6ff5d33e758',\n",
       " '88dd78cbe8d83c15ce4216cbd49a175b3ae0e40df191c7c63f5384212ec961e7',\n",
       " 'fcfa34b9a5abe15457dd3005756a89d91c6252602baa407c2113f512f9db8594',\n",
       " '3f66c38b31f8602039e6ba06d87894b498021d6d0cfe0c8292e761f94665a3c0',\n",
       " '5166f56cc5034ed2be4362a0db4cad30d6f2f5d2a35d0ef706ec9a623bf99c06',\n",
       " '8e6597aadf549eecc73825d087dee9bf901ebe132cd65de535d42f6e8b39de52',\n",
       " '0d3c9498ed684ae63ccfd4e0d786cc9bdee82de08938aa4ab3ad597a410929d7',\n",
       " '19cd7206328e4bce09b471487600d3f8c7c38d5d463d92ad1e710449e1bd5d3f',\n",
       " '31c9fd287cc23fab9075de44c7b4bacd5bd5e530287462515d1ebf615f8371b4',\n",
       " '25e90d7bc024e28bca4d2c71288504b153d8e2711c3c2eacfbe4247782bd1933',\n",
       " 'b2df3b19942887111973d5a44441b60c144cb4950776bbcd8b25680832d15254',\n",
       " 'ed3729cc5ff862834eb925c622a4c59ff600b0573cd5c1601c9331631ae435fb',\n",
       " '7ed2a6a197458064ed811240c13f02e249c630fe6189b40b3e11e45776068085',\n",
       " '36e957566708e2ac0f185471dc1fe46350a6ea9cbd1dbf6c07ceb6d8e2889f02',\n",
       " '7a6b04f44f1920875f53683b705a75cc2c30c56d0188fed3d766511772d4c3d2',\n",
       " '86d0300ac71e92b9f3b46f55fdf33f1f457414b66c287ebd2a5a16fcc57ab747',\n",
       " '660bb9fde55bb3e8ab78309505302c295f564404cf05ab2e940cc9878da19769',\n",
       " 'c8e1168cf6c8de873679eb323df0104b83d21f48cb56860601ff61b889af4617',\n",
       " 'dd71f462f6b6766492fdb84cf99f3a15a9d0179c4c95b23f97689035dbf8ca6a',\n",
       " 'bbeb011ecb78f0db33c6eb68d3e4e411300192d6cf0f02fa83980e6f89f6a4e3',\n",
       " '5bef1d0e2f0827770a35d0da5bcc7a38102021bdf75e8d18a7fec9d8297f84c7',\n",
       " '61023132fa4a88f03cd716a030868b79cb784ba73ab71b534b57d84cbb925088',\n",
       " '2716b026fd418151ba135a03fc530723d6a78467d5744da3c670541536cf5441',\n",
       " 'c6096386f9798f705aa6c8e52d49a24405499c088c6e1731a93be153c1141877',\n",
       " '0d9b7646ebe562fe997bce22404dae5924a94db7bcb8fd294c99036fe5848809',\n",
       " 'c23e0fa9bd1456ed6f920c34a447df5f8d148a7544de2d98c9cf5c37bde01aad',\n",
       " 'd18db9523cb600d1d3ed306194cf73e1bafc19d1118fec722f1cec4fa7e25b16',\n",
       " '0aa6b49f259e3af82f7a7c2dc3a78fa01e75b8ab1d0384a771aa85f615ee03e9',\n",
       " '73764caa7b015536821efd5cc48427ce4718423f938041a8c28c1578d5664010',\n",
       " '15f42dd482a6ca598722449cd2b537a202fa5a8f32f184a1ddf6703d9db36caa',\n",
       " '0dfc7b572539711c5558aafdbdafb176d8436aa80814f9abe38421d67f0f85c4',\n",
       " '3bda3e1145b7d39323ccf3d2897cb2166c82cc9d0e35d88b02e5cc9b95b0ecb0',\n",
       " 'e62184136a4ee8e06f6e87c2159ff85961f1008f973a5da9ebeaacc6f5b51280',\n",
       " 'bb516732b7ac3eff1a740892220fa825ad7f1a67f83fc644f6df03b0c5b81db0',\n",
       " 'dc3a4f790f3f8f1ac777175eeea9084e66f0edb7e75d61f31355df813aa3ca2a',\n",
       " '5490afee31598a3d8bb780b02ec3f5fcddf4c708b7f27ed86321d01815b06552',\n",
       " 'eaf81fce461e1a7069a6a5c63d8bb9044a73805da14e2c75aeeab1edc6108a8b',\n",
       " '33f5fd23392864db0c31970d3aee6b2599a4256a0d644d379546eb727952990a',\n",
       " '40b0763bb556e1530c8fcdb7ec413199cf28ea7543cc45e7dd90ccd7d8888d16',\n",
       " '11c411ef2eee45b273f51da50706267d1734a677cff14ecd574bbf8cb8409439',\n",
       " 'b66e86ba13860c96ce138913ef81216dca8d02ed4d3aef96d34388ec646e2d63',\n",
       " '26b7ab5143c05044a3ac4c0ed98a30180d40bc010ad2b9f5243b0096578e827e',\n",
       " 'b89428c1a5ec48038e8e3dcfa8d8caadc6d8addfaa9d2d8957ab637a305353f0',\n",
       " '7a02c4171be90f2f18ca98ee39e8446053df2485de1c4cf578e97ba326da84d5',\n",
       " '613edc1b90549f1be637d373af953e2c74e14b5d6d46a6b3a7ba4406fde84dcb',\n",
       " 'b4e0aca58ce6fa853eedfe8f4f076aee5ef0cbaaf5add3db25ca97affc5e4d8e',\n",
       " 'b884650536cf6d644d55d44106ac9bbbe234b7256e4780f60148757372d17cee',\n",
       " '321bdee89b8a4f024b25f1a603fc84acbc3b8e0811fc9205135b89a187fd1e4e',\n",
       " '8950aea92acee8fbbde44bf3da341f592b8e8c85e310e1cc8d8caee7332ba91f',\n",
       " '7e76d8b7fc4d51b4a819e5f74888ed828fd937f619029678189933378053bc15',\n",
       " 'cdaae746d7c513ee801c0524a5c82d6b3f7255c7e31a2666b86ac30d34513eae',\n",
       " '25702608e73d6b3cc0aacd6feb4e2fb2b27610b2feca3f10ddf01d79d8c213ef',\n",
       " 'a9a34d3e28f4f1c8de76821f70686621010b90623aa61c07d374de31d0e2b5eb',\n",
       " '195107515cbfa9a55f319a9d1e5b0ee97e3bd123e854ab6e65d5d3ff66f4aa7a',\n",
       " '90016af93a7840d4b642c136e5a2974d7eba25c0f03b761a191b3ed5bd3db415',\n",
       " '2f476d384a74852de2913693f0683ee0546042087c98b90d3c9eae1b3508a210',\n",
       " '516a7f38f711605d34d982a0ce32e27fa130837c770c7efaae8f0624c9b424e6',\n",
       " 'b190571da364e5a69dc4ed395cbdcca0dbf0633db6263de5fbcbbc8bbd6cf608',\n",
       " '633c325c1e9cd4ea0bd54c40e7e9936fbab32577db846cf5e045f1dff64dfd42',\n",
       " '3a115445d80c6b144f82111ed395d4daa51d1c30d698547dcc11228739bfb95c',\n",
       " '354c178c8f782bddb38437d40335528b430c2914d42eb447c0e66485d5b21510',\n",
       " '294e738ebb829e170773a7d897df2f7e9a5fc29c4602812cfd318872e7dcd412',\n",
       " '20b5127e093d6d80cf1e283d252b4751ec006b53e2a6d3a3edd2c88369a577bd',\n",
       " '5729083fe25debdcc491705334ffad80e54dd8d9f9a5f0b7f81225fd0a51a6fc',\n",
       " 'be7fe76107dd25c059f575b013f97a62821de27597e03fce074468c5d78ec7f3',\n",
       " 'c9108660323f84cf1cc429f6a66076ebcc05827c046ae5acfe5bce19e4194e17',\n",
       " '471c5d8c8e5a036534160b7a2e30b4b5de81af4e98de8efb01e1f588bb7d2935',\n",
       " '2a56e6dc61dbf2c3e6128701eec688faa4fbd85e63fd75821418226d1bfe7a8a',\n",
       " 'a88830d7adbaa3c2d50ca3cf6a1773f6eaf3ba0ca282170a78735fe9cc1b0f75',\n",
       " '6d0596abd4a360af10a4cbd660def77757ec90379c999a7f5e02288d14aff3a0',\n",
       " '8d182e183c244912377de8d57b906a1a50453175b4ac3ca22f5fa53ba64fc2e7',\n",
       " '71a991eadd869a398a6d43529e86e5c544b0bf6a535f0f33f8656fb6e94a9360',\n",
       " 'e97e63a53267522cbd04159cff1034ec5e76d2fdde11d7d19e9416adccbdb6ee',\n",
       " 'c1e9f40d0ee0bb543e9fbb6d391c9ba4cd16c0612248f1a1675b3685540c0502',\n",
       " '3ac94fdd7c5ccdb83b48902c0fe25f3432f4af4b4225108cbde0dd33266e4df8',\n",
       " 'e3fb15b79d9a7bff6b56fa276d88c6a53aa20f8df83a6aba0fa2a72e11a4622e',\n",
       " '3bbaaaf0a8e769572d645c74b627bb35582c6eefbd8735a72e3720a36d621d24',\n",
       " '7e2c85bf572675c21e0b843107382fcad7f1d1d919d7913da7621aa4bcdf4533',\n",
       " 'b562894ef2ae56433ab3a29710d51153330fe4840afd97f328745724f32e37af',\n",
       " '264aa2b03651733d32cffc6e0f611f97cd15a5db71729fdca6db47a802087b98',\n",
       " '77178d9820896162b99f9d75cd36e892159fff04f508713c54d0b28f1a7a10e2',\n",
       " '23e9a3e4f45b9f8802d799645103c86fb861b555441136173151b6f1d8b373ce',\n",
       " '53148cdb96cfc76840b24214d2c85227f8c4b7934a3990c8e9f2eda9b3559483',\n",
       " '9ff53eff2e54981ddc3f85fc18bbd7e9f765a30ab9596e2a41f928f4dd3b03b7',\n",
       " '5c0e5d9e5cacbbfb21f836ba800481d8e572f5e168819453eac69120c5dd9d8f',\n",
       " '51d8618a246476b938ef76e3ebb9e948b93edcdffaafbf272d8d2c9105f12ac5',\n",
       " '4edd7eae1011842aafe7403abf29b114189185eae6b1ff9b972a1c40b9fad1c0',\n",
       " '21a80a81ec6f1ec294d60e2d5d19d678f5a85e2195887574f9535343618168b8',\n",
       " '99b4ecd77030796cb6a9d5f7b9b5ae8e6bf9814bac6f95809f3e9f0abe0d2470',\n",
       " 'b0b031fc52823e151f1d2218ffbaeba5a047f587e5f79c837860849498532995',\n",
       " '8892b3ef2fa711d80577e6cb291bc32e758ef01911a93e317db3875bb45dcedb',\n",
       " '3c86dd0619a1bdb7154462444d6bf9b3b20e4cf62edec6835e94e0faebc1d036',\n",
       " '81bb0a197302888e72fc0b56dbb5eaacd3e593b188d94715bebc7f82f7487095',\n",
       " '2772ac4881476643a0908bf128b0659e6bdfe56e3227480dfd2c4d1464296919',\n",
       " '4bd8a02c8225d32efa36352743e0bdc6dcaac82c5e1cb02ee3dd60f86d0f0e52',\n",
       " '55d4bd6f5cb6479e51abe891e1e3572d58352420da54ee5e2d1c9fcd07eb0e93',\n",
       " 'c45f68c97dad9920465f7fcf5affce4ae596ec6924615deb263b2cd9fdae28ce',\n",
       " 'cf00965ca8de4ac338b24b82e43fb9bb6e5dae003804c268bf6f35d20312651b',\n",
       " 'aa7865284373608726b38387e8ab5e45031c49fdd073d187fb4a45ffcb11f5a2',\n",
       " 'a58e2e88e29344f621db2d7a8db4c58601e0e8a3e7b509f7e1a6071a67e24c79',\n",
       " 'a9366439abca085ad6e55f93aa5d1b3ed51730b0c28b7adc6d4d318316d0fc2b',\n",
       " '2d68d380ed968323b545d9565127f58b016d2428996c63028442b1c6e4680727',\n",
       " '4f7cc0cbbf615afc0f2dbe090eaf147caa317d91042e01604da0ac6cf04ee87b',\n",
       " '6a76731e0bb76c58912139a7e798b6cfd8d5c5157610dc265ec2e6b4b9da6d28',\n",
       " 'bffc1744b57c7f609c4523446d26116046cfe926622afae23f4b9c246df7233c',\n",
       " '567a1c4f856c60c5085f87080fab2e580b6cc21632ada1cb7de6e895ac105a54',\n",
       " 'a7e7aa05064216522b975d71cd0922f910c884e16dbf41628dc11fff1f8d9605',\n",
       " 'edb5346ada02a618676ae66c27e55086d29dd02e4fdbcde7f861cc808951a7a9',\n",
       " '8c639471c64dcf2dd7dd0d78bb2a5603a29fa5ca93972b2a6f09cbf70e14a25f',\n",
       " 'a9c4c2bd43ae2cdc13582e4548347b797ee2bd36e2c8a59f2081682aaca0d305',\n",
       " '3a21839176268f205497ecaf7ff0d288cccc25ab8d2ee70951eb8d0436477e63',\n",
       " '134803ad073351c588d99a956f3f4e8062d513dfc7af36a78e01c89a8ee35e39',\n",
       " 'd946a19e4f33c5d71f2d2bb5d49a22fb2352e5e9374b46126b5206f6b87c2bfa',\n",
       " '54cec314a86546b4368fba1ecbbf6bbe8b2f9233e647f750df20f7a57a2eb611',\n",
       " '30f6bd3236dc3f297f8be5ea3cb89678fb1542748127e9bea726493d0a74de09',\n",
       " '2b26147572c163780c28c2ca0ec1b2069c09f6cad39a1d1f2176f08930b16215',\n",
       " '7dedd6de255191f1ccbc313a0afa6da8a67a7acffd919564e88db5407a506ae0',\n",
       " '92c2684d376d7a0baae1beb4addd952888f121fc37d6084130c181fef25f87fd',\n",
       " '431b872557b4b739a02e7ed33ef7c6ee118e80303cb0ee53e43c91f2dccc52ac',\n",
       " '9a8200673b4a4cac47ba60c8afbbbc33763badaaa28690d14c3f908731ed23d7',\n",
       " '6349c39d00eba1df59f7ac406d296b0701b09d7086a4afa091af618642740184',\n",
       " '29da93f4dd6aabbeac2460ade5c7612062505bdaa6471977d6b7342e5e4e2929',\n",
       " '81990b27415d727ffbc922073819a48d2cea9cdceacf239c4f1ba901e3e8e1d7',\n",
       " '03701269ec28e4ab938a82aa7be97e97e6c1a6db96e7060ee9e859ab2a6e12ab',\n",
       " '3245574cd23cdbe194658ddc2d5bbc42f96698f6bd7af52366ae5452b4100bec',\n",
       " 'd285680aa356a1853d3b903c6688616686bbcffca216e90eca2d9a5eb91777c8',\n",
       " '61b65a5711b77f40b40e0c18b845994f04510a279f3a9797129b2a6494021838',\n",
       " '98f4f0de3ca3e1a68610fb001af47259536848dc56828da4e034db8b455b0e94',\n",
       " 'a98aa77313b57637af14726ec28c25f27ced7bcee1259ccb6257372ae3be89c4',\n",
       " '60291173874e2a1bd8c76885bab3daccfd168fdb3566202e0594d36bddd09f7d',\n",
       " '7779ef92839b83a406881a07ca62bc5c315756bc7b6770a433fa59ac56714e27',\n",
       " '2cdc9556111469a622dfe78989cdfea474fab33045c6d0a6c82a119d17170abc',\n",
       " '7af43ec8051e4baa3102af8536868ee6dd77ac26bc3f5cbb99c29517a62f3a83',\n",
       " '1ea97e9b3664505dbff466d20f214c36a3e68d64e41d46a6d42b2e3f58c633b9',\n",
       " '1d991af12edad657af0d7793d4cde2374e95115231f1edee21a857084bbceef9',\n",
       " '0b2e627e1c86260c3a264f72833c581a3ac3199026578b41ca785603e7d93bb4',\n",
       " '0124f558d0b452c37ad027918b6623bfad5c767558ef5e4d85915cf78f4b8ebc',\n",
       " '4c40dd5912a93eacc4085cf70f73096b9dfa977294077deb22d3ed337c57e3e5',\n",
       " '3b0f9a94512867b28c535d9b49f8077135c7b60d6f1729f16143c653bf833cea',\n",
       " 'd898723752617217718bb0d2545079000f6c4dfaa2020e425b54376b5ca334bd',\n",
       " 'd8c52bedf2711e91cb4a5cf8921aecefecc055d3c39d46faede2808759fc27ef',\n",
       " '0200637e97c04392e29c98e985eb1a3441f1cc9586b9ede657be2a7447fd98c1',\n",
       " 'ef151c42a331b2e1285a5df8a9475151639299eaeef765cc31048cd60e60a2bc',\n",
       " 'a442ab54074958909eec1b82d685ac92eed20e65d79191df199ebfb17a4e05f9',\n",
       " '28f1604c8834c4c013d65fab82de89448d30aa36528526a45dbd7da23502d493',\n",
       " '1e1ff850ee638796c454a0a5c0d1cfed439b3ec5e3ce28c67f5ca624b8c8da4e',\n",
       " 'a8dc2ce1342839ee7319db24ee4c79adba0be8b858cc399814abd89ede0eebae',\n",
       " '39cd55af5f49db9f5f4075db26a9ca0d468bfc7877f4c45818f9651c1156ee61',\n",
       " 'c4f82cfcebee3dcd1fff8667cfc1f61db03065bae9679a586bcd510dea9f3c45',\n",
       " 'd92eaa5f73aec579fccce815cb1d03987532977db2ea02229d058fd003dabcab',\n",
       " '689e7ceec2f1c851e366081049176eda56b41d3c64496656662ba8ac18eb0dbd',\n",
       " 'e4934dbf05ee9e2c17b36b75fecddd19498be1c1211815b8454b1b8442e2d6bb',\n",
       " '5fc68d45b6efb7142825d4e13d5a85e50e080d23d83e3dd2852566d41d242767',\n",
       " 'ee6d213299953cfbc97d6379717d5f86628adbe441abb287c6895c9983b34032',\n",
       " 'ad8969da4477997ebd70824087eb7c82b86125b1dadfbbf7711401ed965f17f4',\n",
       " '305b265c02a55c051251fbcbc8c5e0a59ff91d75b11f4b7659ae2960ea2d97ef',\n",
       " '0432ab02353d9df6a073d40a5c0bab59b4982b4c636be3d87a22cd66ccd208e5',\n",
       " '52a5d78f296912b166bdfb1ffd165a3468897354714c1b1c2415a0eb320498f5',\n",
       " 'd4b1ec6c36fab5441fd5cd39dd8a1f906c147020bcf592315aa3aed6bd3302c9',\n",
       " '1f9569258cf6f9ce61478e2220bd0eae50c79b81397c07baf685b379b50bed72',\n",
       " '30649270f462525e53b03efea26a0053533abd30482e2885d1879569e30ae60a',\n",
       " '20efb92f9d16ca6a05e4e6713ae7f28984621032cd7f9389f71fb3694dd87a20',\n",
       " 'd410537b1d6c24287669d47d88ae56551c001612e9af580eed8dd99eb42a2189',\n",
       " '2aa21309da972591b6c29ff4a204227646221f37f5857712d2cda0555d0d35d8',\n",
       " 'd8e1d9b1e1b6c2681b388718e333629df9ab33992bf42b64e89dd286929df373',\n",
       " '74ae9fd38fcb1390dbee4824d75ea9bb227a9c78deaae7b51cde0e57e5aff96e',\n",
       " 'f292f1da11c6c28a99ca206e707879c28bc3dac305ffc2061a1172586db5d2fa',\n",
       " 'b843dd8d8c7ffdd8fa00ba0c0ab30e76718ccc36422d9af933ac31fb04a64541',\n",
       " '2250cd1c69bc7e113a322c1a618969a7afb8af3e0851f9531203399bf24c234b',\n",
       " '2c225b7d0aa18dd797b33ed1b4a1f0acdf21e0c8e880d152a06772f3610fa114',\n",
       " '12519f0da9417ef9a9ee1ee99251fa67a3fe147277fb91fbc29eb4fa1275e5b4',\n",
       " '0fea7d0205c97f078b1b1a06cd8009c475ca56fff1d51110efd1cd68e75ad931',\n",
       " 'f5fce044e9e651690d435197b804d8dfa6610f99d7af0eb86ed258fb8eb8ce9c',\n",
       " '0aa49d54d84438746045adec1488c8d198a472ff82fc58d27a1939a5af38434e',\n",
       " '5fe166fbb73c2cc12aed1a41ed1612f3e3b332086e1748ccdb88787a061c4fc7',\n",
       " 'c2d53f6ffb29add3df4cf2868e4c39e977f545fde9cf9d5eaa3875ef3a65cbe0',\n",
       " 'e5c77849c6a7366a1552dd82ddd5b88371eb63563c72ab102e189f5c7aab3a4b',\n",
       " '8ded8d17769a04b1e96943d6065c73c074929be09490c4f9275785eb67a472ef',\n",
       " 'bfbe7656c85bc71d9790762e5f67c9281e648cc9086c532313efa125fd850925',\n",
       " 'd0f27779407dd1c197b4b6a836ee9f66d64cb3c4ea3fca316621f9fc2d2843ed',\n",
       " 'fca82712ac84d1c88941d3f96ae76f217b5965eed4ad75da676347c599d7c89b',\n",
       " '1ea027bcb9f712d3ab93123b0971ba35d01b29b692482cda7daef987749b6fd3',\n",
       " '674de2d59a1f51dff8a7941b36dc91deeafb6c149ed59e7b489681a663a41d8f',\n",
       " '14686b27acc998b05ddaf8d1d90a9cc40670c5601103b9a452efe2f90f2ded40',\n",
       " 'd213f5f91e6b5aacb9ba1e75669d5aea52d1798a993dd5c7a1432ef87c60e70c',\n",
       " '7f7a52e22eb3a87d83a25694851bfc8dad67b96d2d60f3b02260f419511a0cfe',\n",
       " '7c555b8ec4c7fb25d6aadc0f8440057fc2006ced784d165a96e2b091fe70500e',\n",
       " '312d17ea9192e89dd86bc091d326858796e90ec8434ecac1b0ed8bc55f25103a',\n",
       " '186362f4edfed1e67c7dcf33827b4df7dbb6c11e572bcb62d72d6c2dd88ca1ba',\n",
       " 'd4a14adc6638e43fc39ecc22873d39d8220ba3c6033932b8de9aba6486abfda0',\n",
       " '3d59d60bbb5307726a60d0771ccdaaa1f6b3f65e3be1760685e21026a39083e6',\n",
       " 'b256f6045da62fe0b43f3c47558b407d1d9679aa6debbdb1bc54ee2d2bc35c41',\n",
       " '6c0b8ecf1506337552747b162e7ae1c484cba0f2bfd3b765f35d28843d5be470',\n",
       " '1ca40827163d7db502e9f1d8bff56b64b85bc714a952ea98b49fe95b568171a9',\n",
       " 'e226e87d3d16712c0921156b9f1ee5b120abed13c5eec1e5be617d343e8a6e1d',\n",
       " '06adf62424701ee3dec00352cad131ac139ab4ea76ed6280d123039c111fa83d',\n",
       " '1c70b5a137ef73da4a8cc59e9087df16a7ee5c10c522810c0414ce9ec91212d2',\n",
       " '8718bca87c66d7e856854cd152490d95a64a87b4a7eaf342552d0f98edf3a1fc',\n",
       " '7b7006edec2adb873730e659b9897b40dfeeee7cf22343e03f3418aba89124b5',\n",
       " '926a8e19350d8ccce67745720db796344f5fb29843c9b5e5009ad1de2c960b5c',\n",
       " '78ab8116aec3bb588feaadf1a2257e9409f7fb65078774000af8cb5ea4d348ea',\n",
       " '888a3db64de5e2dbf25388773cf0f89daf7e44bcf7753eb6077131426da0e73a',\n",
       " '79397fd37eb0a48fd52f35065eadaed3235ff4905169fcbb41d6b8130e88fdcb',\n",
       " 'ceca5b25a67cecfa370b8adf4b9765914d66934896de7f6305ccd55da4098b4e',\n",
       " '673ee39f14405b4615b0fa487727e470bb38ea9a6f4286f8198625b667172fd7',\n",
       " '6bcbc426a36173163f5423307871ec0cc536e5bf9cbe51b8e5898520e190e57f',\n",
       " ...}"
      ]
     },
     "execution_count": 7,
     "metadata": {},
     "output_type": "execute_result"
    }
   ],
   "source": [
    "hashes"
   ]
  },
  {
   "cell_type": "code",
   "execution_count": 8,
   "metadata": {},
   "outputs": [
    {
     "data": {
      "text/plain": [
       "138502"
      ]
     },
     "execution_count": 8,
     "metadata": {},
     "output_type": "execute_result"
    }
   ],
   "source": [
    "len(hashes.intersection(set(all_evidence)))"
   ]
  },
  {
   "cell_type": "code",
   "execution_count": 9,
   "metadata": {},
   "outputs": [],
   "source": [
    "all_raw = glob.glob(\"/home/saisur/data/*.filtered\")"
   ]
  },
  {
   "cell_type": "code",
   "execution_count": 10,
   "metadata": {},
   "outputs": [
    {
     "name": "stderr",
     "output_type": "stream",
     "text": [
      "Using custom data configuration default-58cde7c1770b75d0\n",
      "Found cached dataset csv (/home/saisur/.cache/huggingface/datasets/csv/default-58cde7c1770b75d0/0.0.0/6b34fb8fcf56f7c8ba51dc895bfa2bfbe43546f190a60fcf74bb5e8afdcc2317)\n"
     ]
    },
    {
     "data": {
      "application/vnd.jupyter.widget-view+json": {
       "model_id": "1547dd55c71544edab7ca4847b3c2656",
       "version_major": 2,
       "version_minor": 0
      },
      "text/plain": [
       "  0%|          | 0/1 [00:00<?, ?it/s]"
      ]
     },
     "metadata": {},
     "output_type": "display_data"
    }
   ],
   "source": [
    "raw_datasets = load_dataset('csv', data_files=all_raw,  column_names=[\"date\", \"sentence_split\", \"non_split\"], delimiter=\"\\t\")"
   ]
  },
  {
   "cell_type": "code",
   "execution_count": 11,
   "metadata": {},
   "outputs": [
    {
     "data": {
      "text/plain": [
       "DatasetDict({\n",
       "    train: Dataset({\n",
       "        features: ['date', 'sentence_split', 'non_split'],\n",
       "        num_rows: 19863186\n",
       "    })\n",
       "})"
      ]
     },
     "execution_count": 11,
     "metadata": {},
     "output_type": "execute_result"
    }
   ],
   "source": [
    "raw_datasets"
   ]
  },
  {
   "cell_type": "code",
   "execution_count": null,
   "metadata": {},
   "outputs": [],
   "source": [
    "raw_datasets_non_split = raw_datasets[\"train\"][\"non_split\"]"
   ]
  },
  {
   "cell_type": "code",
   "execution_count": 12,
   "metadata": {},
   "outputs": [
    {
     "name": "stdout",
     "output_type": "stream",
     "text": [
      "                                               "
     ]
    },
    {
     "name": "stderr",
     "output_type": "stream",
     "text": [
      "Loading cached processed dataset at /home/saisur/.cache/huggingface/datasets/csv/default-58cde7c1770b75d0/0.0.0/6b34fb8fcf56f7c8ba51dc895bfa2bfbe43546f190a60fcf74bb5e8afdcc2317/cache-fad28191870ac572.arrow\n"
     ]
    },
    {
     "name": "stdout",
     "output_type": "stream",
     "text": [
      " "
     ]
    },
    {
     "name": "stderr",
     "output_type": "stream",
     "text": [
      "Loading cached processed dataset at /home/saisur/.cache/huggingface/datasets/csv/default-58cde7c1770b75d0/0.0.0/6b34fb8fcf56f7c8ba51dc895bfa2bfbe43546f190a60fcf74bb5e8afdcc2317/cache-285e6c0313dc4c5a.arrow\n"
     ]
    },
    {
     "name": "stdout",
     "output_type": "stream",
     "text": [
      " "
     ]
    },
    {
     "name": "stderr",
     "output_type": "stream",
     "text": [
      "Loading cached processed dataset at /home/saisur/.cache/huggingface/datasets/csv/default-58cde7c1770b75d0/0.0.0/6b34fb8fcf56f7c8ba51dc895bfa2bfbe43546f190a60fcf74bb5e8afdcc2317/cache-1ee91e18c1638ee8.arrow\n"
     ]
    },
    {
     "name": "stdout",
     "output_type": "stream",
     "text": [
      " "
     ]
    },
    {
     "name": "stderr",
     "output_type": "stream",
     "text": [
      "Loading cached processed dataset at /home/saisur/.cache/huggingface/datasets/csv/default-58cde7c1770b75d0/0.0.0/6b34fb8fcf56f7c8ba51dc895bfa2bfbe43546f190a60fcf74bb5e8afdcc2317/cache-904e61a5cc6d4afc.arrow\n"
     ]
    },
    {
     "name": "stdout",
     "output_type": "stream",
     "text": [
      " "
     ]
    },
    {
     "name": "stderr",
     "output_type": "stream",
     "text": [
      "Loading cached processed dataset at /home/saisur/.cache/huggingface/datasets/csv/default-58cde7c1770b75d0/0.0.0/6b34fb8fcf56f7c8ba51dc895bfa2bfbe43546f190a60fcf74bb5e8afdcc2317/cache-bb966843fbe7df24.arrow\n"
     ]
    },
    {
     "name": "stdout",
     "output_type": "stream",
     "text": [
      " "
     ]
    },
    {
     "name": "stderr",
     "output_type": "stream",
     "text": [
      "Loading cached processed dataset at /home/saisur/.cache/huggingface/datasets/csv/default-58cde7c1770b75d0/0.0.0/6b34fb8fcf56f7c8ba51dc895bfa2bfbe43546f190a60fcf74bb5e8afdcc2317/cache-bd0fc796e6287b35.arrow\n"
     ]
    },
    {
     "name": "stdout",
     "output_type": "stream",
     "text": [
      " "
     ]
    },
    {
     "name": "stderr",
     "output_type": "stream",
     "text": [
      "Loading cached processed dataset at /home/saisur/.cache/huggingface/datasets/csv/default-58cde7c1770b75d0/0.0.0/6b34fb8fcf56f7c8ba51dc895bfa2bfbe43546f190a60fcf74bb5e8afdcc2317/cache-36e5e14ac3296054.arrow\n"
     ]
    },
    {
     "name": "stdout",
     "output_type": "stream",
     "text": [
      " "
     ]
    },
    {
     "name": "stderr",
     "output_type": "stream",
     "text": [
      "Loading cached processed dataset at /home/saisur/.cache/huggingface/datasets/csv/default-58cde7c1770b75d0/0.0.0/6b34fb8fcf56f7c8ba51dc895bfa2bfbe43546f190a60fcf74bb5e8afdcc2317/cache-17fa46dbd86d9ba8.arrow\n"
     ]
    },
    {
     "name": "stdout",
     "output_type": "stream",
     "text": [
      " "
     ]
    },
    {
     "name": "stderr",
     "output_type": "stream",
     "text": [
      "Loading cached processed dataset at /home/saisur/.cache/huggingface/datasets/csv/default-58cde7c1770b75d0/0.0.0/6b34fb8fcf56f7c8ba51dc895bfa2bfbe43546f190a60fcf74bb5e8afdcc2317/cache-3fa827b4c0ae1127.arrow\n"
     ]
    },
    {
     "name": "stdout",
     "output_type": "stream",
     "text": [
      " "
     ]
    },
    {
     "name": "stderr",
     "output_type": "stream",
     "text": [
      "Loading cached processed dataset at /home/saisur/.cache/huggingface/datasets/csv/default-58cde7c1770b75d0/0.0.0/6b34fb8fcf56f7c8ba51dc895bfa2bfbe43546f190a60fcf74bb5e8afdcc2317/cache-28aa254095578514.arrow\n"
     ]
    },
    {
     "name": "stdout",
     "output_type": "stream",
     "text": [
      " "
     ]
    },
    {
     "name": "stderr",
     "output_type": "stream",
     "text": [
      "Loading cached processed dataset at /home/saisur/.cache/huggingface/datasets/csv/default-58cde7c1770b75d0/0.0.0/6b34fb8fcf56f7c8ba51dc895bfa2bfbe43546f190a60fcf74bb5e8afdcc2317/cache-c744c47742e36a54.arrow\n"
     ]
    },
    {
     "name": "stdout",
     "output_type": "stream",
     "text": [
      " "
     ]
    },
    {
     "name": "stderr",
     "output_type": "stream",
     "text": [
      "Loading cached processed dataset at /home/saisur/.cache/huggingface/datasets/csv/default-58cde7c1770b75d0/0.0.0/6b34fb8fcf56f7c8ba51dc895bfa2bfbe43546f190a60fcf74bb5e8afdcc2317/cache-3421ef93f6cc1d98.arrow\n"
     ]
    },
    {
     "name": "stdout",
     "output_type": "stream",
     "text": [
      " "
     ]
    },
    {
     "name": "stderr",
     "output_type": "stream",
     "text": [
      "Loading cached processed dataset at /home/saisur/.cache/huggingface/datasets/csv/default-58cde7c1770b75d0/0.0.0/6b34fb8fcf56f7c8ba51dc895bfa2bfbe43546f190a60fcf74bb5e8afdcc2317/cache-643f1a3588399f20.arrow\n"
     ]
    },
    {
     "name": "stdout",
     "output_type": "stream",
     "text": [
      " "
     ]
    },
    {
     "name": "stderr",
     "output_type": "stream",
     "text": [
      "Loading cached processed dataset at /home/saisur/.cache/huggingface/datasets/csv/default-58cde7c1770b75d0/0.0.0/6b34fb8fcf56f7c8ba51dc895bfa2bfbe43546f190a60fcf74bb5e8afdcc2317/cache-6132692672162550.arrow\n"
     ]
    },
    {
     "name": "stdout",
     "output_type": "stream",
     "text": [
      " "
     ]
    },
    {
     "name": "stderr",
     "output_type": "stream",
     "text": [
      "Loading cached processed dataset at /home/saisur/.cache/huggingface/datasets/csv/default-58cde7c1770b75d0/0.0.0/6b34fb8fcf56f7c8ba51dc895bfa2bfbe43546f190a60fcf74bb5e8afdcc2317/cache-8aa7851f6b783c2c.arrow\n"
     ]
    },
    {
     "name": "stdout",
     "output_type": "stream",
     "text": [
      " "
     ]
    },
    {
     "name": "stderr",
     "output_type": "stream",
     "text": [
      "Loading cached processed dataset at /home/saisur/.cache/huggingface/datasets/csv/default-58cde7c1770b75d0/0.0.0/6b34fb8fcf56f7c8ba51dc895bfa2bfbe43546f190a60fcf74bb5e8afdcc2317/cache-45282b064652ff2f.arrow\n"
     ]
    },
    {
     "name": "stdout",
     "output_type": "stream",
     "text": [
      " "
     ]
    },
    {
     "name": "stderr",
     "output_type": "stream",
     "text": [
      "Loading cached processed dataset at /home/saisur/.cache/huggingface/datasets/csv/default-58cde7c1770b75d0/0.0.0/6b34fb8fcf56f7c8ba51dc895bfa2bfbe43546f190a60fcf74bb5e8afdcc2317/cache-10e6b57033abdbd7.arrow\n"
     ]
    },
    {
     "name": "stdout",
     "output_type": "stream",
     "text": [
      " "
     ]
    },
    {
     "name": "stderr",
     "output_type": "stream",
     "text": [
      "Loading cached processed dataset at /home/saisur/.cache/huggingface/datasets/csv/default-58cde7c1770b75d0/0.0.0/6b34fb8fcf56f7c8ba51dc895bfa2bfbe43546f190a60fcf74bb5e8afdcc2317/cache-4b448c67ae6009cb.arrow\n"
     ]
    },
    {
     "name": "stdout",
     "output_type": "stream",
     "text": [
      " "
     ]
    },
    {
     "name": "stderr",
     "output_type": "stream",
     "text": [
      "Loading cached processed dataset at /home/saisur/.cache/huggingface/datasets/csv/default-58cde7c1770b75d0/0.0.0/6b34fb8fcf56f7c8ba51dc895bfa2bfbe43546f190a60fcf74bb5e8afdcc2317/cache-5040c9fd2acc2eb4.arrow\n"
     ]
    },
    {
     "name": "stdout",
     "output_type": "stream",
     "text": [
      " "
     ]
    },
    {
     "name": "stderr",
     "output_type": "stream",
     "text": [
      "Loading cached processed dataset at /home/saisur/.cache/huggingface/datasets/csv/default-58cde7c1770b75d0/0.0.0/6b34fb8fcf56f7c8ba51dc895bfa2bfbe43546f190a60fcf74bb5e8afdcc2317/cache-ce4aba0a06b034e1.arrow\n"
     ]
    },
    {
     "name": "stdout",
     "output_type": "stream",
     "text": [
      "  "
     ]
    },
    {
     "name": "stderr",
     "output_type": "stream",
     "text": [
      "Loading cached processed dataset at /home/saisur/.cache/huggingface/datasets/csv/default-58cde7c1770b75d0/0.0.0/6b34fb8fcf56f7c8ba51dc895bfa2bfbe43546f190a60fcf74bb5e8afdcc2317/cache-ed323ebf03042914.arrow\n",
      "Loading cached processed dataset at /home/saisur/.cache/huggingface/datasets/csv/default-58cde7c1770b75d0/0.0.0/6b34fb8fcf56f7c8ba51dc895bfa2bfbe43546f190a60fcf74bb5e8afdcc2317/cache-fcc537467fb529b2.arrow\n"
     ]
    },
    {
     "name": "stdout",
     "output_type": "stream",
     "text": [
      " "
     ]
    },
    {
     "name": "stderr",
     "output_type": "stream",
     "text": [
      "Loading cached processed dataset at /home/saisur/.cache/huggingface/datasets/csv/default-58cde7c1770b75d0/0.0.0/6b34fb8fcf56f7c8ba51dc895bfa2bfbe43546f190a60fcf74bb5e8afdcc2317/cache-6eb32827180d3283.arrow\n"
     ]
    },
    {
     "name": "stdout",
     "output_type": "stream",
     "text": [
      " "
     ]
    },
    {
     "name": "stderr",
     "output_type": "stream",
     "text": [
      "Loading cached processed dataset at /home/saisur/.cache/huggingface/datasets/csv/default-58cde7c1770b75d0/0.0.0/6b34fb8fcf56f7c8ba51dc895bfa2bfbe43546f190a60fcf74bb5e8afdcc2317/cache-a582833109fd0cc4.arrow\n"
     ]
    },
    {
     "name": "stdout",
     "output_type": "stream",
     "text": [
      " "
     ]
    },
    {
     "name": "stderr",
     "output_type": "stream",
     "text": [
      "Loading cached processed dataset at /home/saisur/.cache/huggingface/datasets/csv/default-58cde7c1770b75d0/0.0.0/6b34fb8fcf56f7c8ba51dc895bfa2bfbe43546f190a60fcf74bb5e8afdcc2317/cache-45653832b2404407.arrow\n"
     ]
    },
    {
     "name": "stdout",
     "output_type": "stream",
     "text": [
      " "
     ]
    },
    {
     "name": "stderr",
     "output_type": "stream",
     "text": [
      "Loading cached processed dataset at /home/saisur/.cache/huggingface/datasets/csv/default-58cde7c1770b75d0/0.0.0/6b34fb8fcf56f7c8ba51dc895bfa2bfbe43546f190a60fcf74bb5e8afdcc2317/cache-260e9dbda9ab1304.arrow\n"
     ]
    },
    {
     "name": "stdout",
     "output_type": "stream",
     "text": [
      " "
     ]
    },
    {
     "name": "stderr",
     "output_type": "stream",
     "text": [
      "Loading cached processed dataset at /home/saisur/.cache/huggingface/datasets/csv/default-58cde7c1770b75d0/0.0.0/6b34fb8fcf56f7c8ba51dc895bfa2bfbe43546f190a60fcf74bb5e8afdcc2317/cache-7cf44e1047479509.arrow\n"
     ]
    },
    {
     "name": "stdout",
     "output_type": "stream",
     "text": [
      " "
     ]
    },
    {
     "name": "stderr",
     "output_type": "stream",
     "text": [
      "Loading cached processed dataset at /home/saisur/.cache/huggingface/datasets/csv/default-58cde7c1770b75d0/0.0.0/6b34fb8fcf56f7c8ba51dc895bfa2bfbe43546f190a60fcf74bb5e8afdcc2317/cache-a549a5c6e63f53ac.arrow\n"
     ]
    },
    {
     "name": "stdout",
     "output_type": "stream",
     "text": [
      " "
     ]
    },
    {
     "name": "stderr",
     "output_type": "stream",
     "text": [
      "Loading cached processed dataset at /home/saisur/.cache/huggingface/datasets/csv/default-58cde7c1770b75d0/0.0.0/6b34fb8fcf56f7c8ba51dc895bfa2bfbe43546f190a60fcf74bb5e8afdcc2317/cache-695d0e1f31bdd14b.arrow\n"
     ]
    },
    {
     "name": "stdout",
     "output_type": "stream",
     "text": [
      " "
     ]
    },
    {
     "name": "stderr",
     "output_type": "stream",
     "text": [
      "Loading cached processed dataset at /home/saisur/.cache/huggingface/datasets/csv/default-58cde7c1770b75d0/0.0.0/6b34fb8fcf56f7c8ba51dc895bfa2bfbe43546f190a60fcf74bb5e8afdcc2317/cache-81bfcdb2d5e63c54.arrow\n"
     ]
    },
    {
     "name": "stdout",
     "output_type": "stream",
     "text": [
      " "
     ]
    },
    {
     "name": "stderr",
     "output_type": "stream",
     "text": [
      "Loading cached processed dataset at /home/saisur/.cache/huggingface/datasets/csv/default-58cde7c1770b75d0/0.0.0/6b34fb8fcf56f7c8ba51dc895bfa2bfbe43546f190a60fcf74bb5e8afdcc2317/cache-d23d2611cb1fde9b.arrow\n"
     ]
    },
    {
     "name": "stdout",
     "output_type": "stream",
     "text": [
      " "
     ]
    },
    {
     "name": "stderr",
     "output_type": "stream",
     "text": [
      "Loading cached processed dataset at /home/saisur/.cache/huggingface/datasets/csv/default-58cde7c1770b75d0/0.0.0/6b34fb8fcf56f7c8ba51dc895bfa2bfbe43546f190a60fcf74bb5e8afdcc2317/cache-6472bab3ac155b4d.arrow\n"
     ]
    },
    {
     "name": "stdout",
     "output_type": "stream",
     "text": [
      " "
     ]
    },
    {
     "name": "stderr",
     "output_type": "stream",
     "text": [
      "Loading cached processed dataset at /home/saisur/.cache/huggingface/datasets/csv/default-58cde7c1770b75d0/0.0.0/6b34fb8fcf56f7c8ba51dc895bfa2bfbe43546f190a60fcf74bb5e8afdcc2317/cache-2329b3c150c8171f.arrow\n"
     ]
    },
    {
     "name": "stdout",
     "output_type": "stream",
     "text": [
      " "
     ]
    },
    {
     "name": "stderr",
     "output_type": "stream",
     "text": [
      "Loading cached processed dataset at /home/saisur/.cache/huggingface/datasets/csv/default-58cde7c1770b75d0/0.0.0/6b34fb8fcf56f7c8ba51dc895bfa2bfbe43546f190a60fcf74bb5e8afdcc2317/cache-dec244b08b92ff70.arrow\n"
     ]
    },
    {
     "name": "stdout",
     "output_type": "stream",
     "text": [
      " "
     ]
    },
    {
     "name": "stderr",
     "output_type": "stream",
     "text": [
      "Loading cached processed dataset at /home/saisur/.cache/huggingface/datasets/csv/default-58cde7c1770b75d0/0.0.0/6b34fb8fcf56f7c8ba51dc895bfa2bfbe43546f190a60fcf74bb5e8afdcc2317/cache-4ad3adcdccd45914.arrow\n"
     ]
    },
    {
     "name": "stdout",
     "output_type": "stream",
     "text": [
      " "
     ]
    },
    {
     "name": "stderr",
     "output_type": "stream",
     "text": [
      "Loading cached processed dataset at /home/saisur/.cache/huggingface/datasets/csv/default-58cde7c1770b75d0/0.0.0/6b34fb8fcf56f7c8ba51dc895bfa2bfbe43546f190a60fcf74bb5e8afdcc2317/cache-ddc1dfaaf0128fe3.arrow\n"
     ]
    },
    {
     "name": "stdout",
     "output_type": "stream",
     "text": [
      " "
     ]
    },
    {
     "name": "stderr",
     "output_type": "stream",
     "text": [
      "Loading cached processed dataset at /home/saisur/.cache/huggingface/datasets/csv/default-58cde7c1770b75d0/0.0.0/6b34fb8fcf56f7c8ba51dc895bfa2bfbe43546f190a60fcf74bb5e8afdcc2317/cache-22c9a1931fc05675.arrow\n"
     ]
    },
    {
     "name": "stdout",
     "output_type": "stream",
     "text": [
      " "
     ]
    },
    {
     "name": "stderr",
     "output_type": "stream",
     "text": [
      "Loading cached processed dataset at /home/saisur/.cache/huggingface/datasets/csv/default-58cde7c1770b75d0/0.0.0/6b34fb8fcf56f7c8ba51dc895bfa2bfbe43546f190a60fcf74bb5e8afdcc2317/cache-97eac87c85ae2526.arrow\n"
     ]
    },
    {
     "name": "stdout",
     "output_type": "stream",
     "text": [
      " "
     ]
    },
    {
     "name": "stderr",
     "output_type": "stream",
     "text": [
      "Loading cached processed dataset at /home/saisur/.cache/huggingface/datasets/csv/default-58cde7c1770b75d0/0.0.0/6b34fb8fcf56f7c8ba51dc895bfa2bfbe43546f190a60fcf74bb5e8afdcc2317/cache-31a412aea4015f97.arrow\n"
     ]
    },
    {
     "name": "stdout",
     "output_type": "stream",
     "text": [
      " "
     ]
    },
    {
     "name": "stderr",
     "output_type": "stream",
     "text": [
      "Loading cached processed dataset at /home/saisur/.cache/huggingface/datasets/csv/default-58cde7c1770b75d0/0.0.0/6b34fb8fcf56f7c8ba51dc895bfa2bfbe43546f190a60fcf74bb5e8afdcc2317/cache-c0ee384ac97f952c.arrow\n"
     ]
    },
    {
     "name": "stdout",
     "output_type": "stream",
     "text": [
      " "
     ]
    },
    {
     "name": "stderr",
     "output_type": "stream",
     "text": [
      "Loading cached processed dataset at /home/saisur/.cache/huggingface/datasets/csv/default-58cde7c1770b75d0/0.0.0/6b34fb8fcf56f7c8ba51dc895bfa2bfbe43546f190a60fcf74bb5e8afdcc2317/cache-428024403764fac6.arrow\n"
     ]
    },
    {
     "name": "stdout",
     "output_type": "stream",
     "text": [
      " "
     ]
    },
    {
     "name": "stderr",
     "output_type": "stream",
     "text": [
      "Loading cached processed dataset at /home/saisur/.cache/huggingface/datasets/csv/default-58cde7c1770b75d0/0.0.0/6b34fb8fcf56f7c8ba51dc895bfa2bfbe43546f190a60fcf74bb5e8afdcc2317/cache-8c4707a226c3d70e.arrow\n"
     ]
    },
    {
     "name": "stdout",
     "output_type": "stream",
     "text": [
      " "
     ]
    },
    {
     "name": "stderr",
     "output_type": "stream",
     "text": [
      "Loading cached processed dataset at /home/saisur/.cache/huggingface/datasets/csv/default-58cde7c1770b75d0/0.0.0/6b34fb8fcf56f7c8ba51dc895bfa2bfbe43546f190a60fcf74bb5e8afdcc2317/cache-f82ad15a38471b45.arrow\n"
     ]
    },
    {
     "name": "stdout",
     "output_type": "stream",
     "text": [
      " "
     ]
    },
    {
     "name": "stderr",
     "output_type": "stream",
     "text": [
      "Loading cached processed dataset at /home/saisur/.cache/huggingface/datasets/csv/default-58cde7c1770b75d0/0.0.0/6b34fb8fcf56f7c8ba51dc895bfa2bfbe43546f190a60fcf74bb5e8afdcc2317/cache-b5608b045b9f851e.arrow\n"
     ]
    },
    {
     "name": "stdout",
     "output_type": "stream",
     "text": [
      "  "
     ]
    },
    {
     "name": "stderr",
     "output_type": "stream",
     "text": [
      "Loading cached processed dataset at /home/saisur/.cache/huggingface/datasets/csv/default-58cde7c1770b75d0/0.0.0/6b34fb8fcf56f7c8ba51dc895bfa2bfbe43546f190a60fcf74bb5e8afdcc2317/cache-3ee7be9b955cd22a.arrow\n",
      "Loading cached processed dataset at /home/saisur/.cache/huggingface/datasets/csv/default-58cde7c1770b75d0/0.0.0/6b34fb8fcf56f7c8ba51dc895bfa2bfbe43546f190a60fcf74bb5e8afdcc2317/cache-7251293f14d0d6fc.arrow\n"
     ]
    }
   ],
   "source": [
    "# Write a function which takes sting and hashes it with sha256\n",
    "import hashlib\n",
    "def hash_string(string):\n",
    "    return hashlib.sha256(string.encode()).hexdigest()\n",
    "\n",
    "def hash_list(example):\n",
    "    list_of_strings = example[\"non_split\"]\n",
    "    example[\"hash\"] = [hash_string(x) for x in list_of_strings]    \n",
    "    return example\n",
    "\n",
    "raw_datasets = raw_datasets.map(hash_list, batched=True, num_proc=46)"
   ]
  },
  {
   "cell_type": "code",
   "execution_count": 13,
   "metadata": {},
   "outputs": [
    {
     "data": {
      "text/plain": [
       "{'date': 20080101,\n",
       " 'sentence_split': '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',\n",
       " 'non_split': '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',\n",
       " 'hash': '2ff9227120529db5ac3c4873328e9d6dd5e0e2d62d50f51c836f19037702743e'}"
      ]
     },
     "execution_count": 13,
     "metadata": {},
     "output_type": "execute_result"
    }
   ],
   "source": [
    "raw_datasets[\"train\"][90]"
   ]
  },
  {
   "cell_type": "code",
   "execution_count": null,
   "metadata": {},
   "outputs": [],
   "source": []
  },
  {
   "cell_type": "code",
   "execution_count": 14,
   "metadata": {},
   "outputs": [
    {
     "data": {
      "text/plain": [
       "{'8fcbce3a094e6e8339b6c6cc1a90867f6b145ea54e86a8588829a7e7b3809e62',\n",
       " '0ebf6de4232426880bc396804c2e36db23cf9badcd96062866ef0394d3eaec55',\n",
       " '017160216cf5b38af742f9ab52b2dc1cd224a5d8e55651f58c7a34fce8f8eaee',\n",
       " 'eb21829dbf7806ba9fa2874b0ed2617c495cc32ac284d470e762d1d8c8671dfa',\n",
       " '799120df6ce93f40e20e817ea7cf2fb8fe6736ff4aecd83c73215aad8a74defe',\n",
       " 'd3f9de2d82238a63497f09bd3ab9a040073d2c0ef8e71444b398447ce44483bf',\n",
       " 'f544ea86e341cf967c4f648df62db4f1c5494ca6e2c639d3b1c82ea735fdc48a',\n",
       " '3f23db0895bf53d7117b1bd8dec573a48a61e54c1b000254c09bd400e35e8c52',\n",
       " 'eb1aa786123935011ef5a45915bb656303623fce57cc4d293c56f7270a77a784',\n",
       " '15153953ea8f6a021c9011eaa37e8219c801ad2f896861f2f49f010e5a83a227',\n",
       " '3d3ae8c49fba53a116d3092e2a0676e3f4d2d8888d721d6fb158be64b3850c72',\n",
       " '58b6f90a4eb6c82c391b662cce6670d819118df75a45be449127614f89df2170',\n",
       " 'b11f29ebe9da255d539ca69dc838df6efef550c9caf4613639400d923fa781dd',\n",
       " '1d5c949a6ed7bc0eeebcdd1278607ee0714d46b144f8a6e3819b3e1c6f8fa9af',\n",
       " '996a9a4da0cd2366b3d3c5d15b0968c37a7584294738b28614810aa7e4349111',\n",
       " '796636c67404edb54d078fafae98512b91b55b1b334deba071d7ccfb5cd9291b',\n",
       " '3be2b20dc703856a48a72227072d8aad4214fe733549b30d61c47b14a611d17f',\n",
       " 'b76be115a37bdb1e3ab44bf0e27963a355258aef08dbfccc1106c28232d29a03',\n",
       " 'b5182bc64e779ae88d91afeb6e26d31ce465e8cb442872e90ba5cea93c13c3e3',\n",
       " '5c198a58ac2f31ae6d255b4e774d6ac56c7dd8f262c1416ad858252ccf350005',\n",
       " '480513ba66e3c7c435a2a495e2e0fce2a42c8fd9d8e0ec78738cefccefc7fccd',\n",
       " 'c828e317626d5e4681f11a9e383deff0ef5229459fe535c6f189935cc07c0b39',\n",
       " 'd6444e190b19956257988c9546b4ca4f20f99c7ef72b1d3feb508c74db980ac7',\n",
       " 'cc1e12836581075d367e863955bc5a1096bfeb14a27e9bdf5dc9c83779bd9f1b',\n",
       " '6fafb851d22943e189df49a048a3633a3a0f41f1ce5d4433ca78d08aed6c9126',\n",
       " 'afc850b9406d8ac2f4f89aa89af9f032127fd6cba486aa6a10488a4e68daec81',\n",
       " 'c35a9e6afbe27663241a4b1421830459094d03bd9d02230b9e3f257c75e2a1d0',\n",
       " '472cc5b8bd5501a03592ea76260d0a102dd2409aa1b188614e127837d5ee3846',\n",
       " '3c0886e1579a64c838b5544a2345ea3b0b0359dae2f1f480692c4d069ab28775',\n",
       " 'a39815edeca191f809faa81fc5bb8566f0da2fa1970e8dd4a14e226bc1c3d2c2',\n",
       " '5c81d8e9d9fc08efd5f082ceddc6bb3d082232b69830a87dff34fd04b51e9492',\n",
       " 'a1dfc1d52246eb86077d84aecadb302234a2bbbf4d4361d6fd03e0c5ebce03ec',\n",
       " 'f16e73265b38ecf88cb0a9489e0035d3593d269218afb301556b81fd58721a0f',\n",
       " '3ef636d8b8b8e115e28781f5d7b3858e683a47bb223f25ab1b23e86f6e9ccaa9',\n",
       " '83e65e0e6fad6410ac61747ce4672abe1cf203d74ad403eebf980959c1018457',\n",
       " '9c2ed81d44dd4beb20d5940b4ce7f1765765cb982febbc555fb234174b7e3509',\n",
       " '16bdf39a8f7f39d1bd9427c55c651d5b465f9f2bb98d9596e23e8b02ccd69053',\n",
       " 'e20b90b0937475efcaadaa5cf13fdc56a276357da111fad44a6f4f9087bfa30c',\n",
       " 'e2b3714bcb2f9aa9eac734664bb10ef9f2db80c9bfd8da76722ce0456c02dabb',\n",
       " '492018f84e75f75571a1d3c110f3bc68d87c047dac66919443b59e76dc8cb869',\n",
       " '46c637d196070e0d515bfdc36f8820d937fc9d4b7fdf7e86805b703ecd4110cf',\n",
       " '00cc0bd9aecbf84bdce0f26bb6e0a77505b57e1bdb75f652d05ae83e31591f75',\n",
       " 'b753e43c865efa602dbdc7e43b4c12c599dd6bc26244a31a0261ca6c0c078ba9',\n",
       " 'ea9501dc0a13610126b2070ece9fce2971c8ce51336a6aab6035403840c00c89',\n",
       " '0751c0fd66ccf5f3d55c6e8e97fa16bf371d80e67c074f92d3c0fc56d8ca3b59',\n",
       " '91f2a47a0033c37259ddbcdb9ec96a7ea8a989a65570e56fdc0a1f3ffaf5a518',\n",
       " '3991b2b88aa0bef1442470568d89d9114f9181cb1420275ebb4fb88f8594f557',\n",
       " '1bd1151d3112a5f4c46134a125e45a07466ce9a34e3642f898f463c3fe3de31f',\n",
       " '93d28ff0e7dbfdeec2e494e13ab8af1a9077bba1e567fb5e456598ee45b52d1a',\n",
       " '22b9afc3f58162478a83ff805da576d5651ef3ac0cbc402d8c512db1436209d4',\n",
       " '595c297e847f8b6cec06df6bddadfe82981d747d7dce085821750d23591687b6',\n",
       " 'c68a0022236ab18d2374d1010440b29196ceed6b060cc4db276b206192561d9e',\n",
       " '08c9c2574587c43bd04e16ef0fbd94c83cfcbf7dd23f804d6d9d35a68998af36',\n",
       " 'a3c0f6fb5ebb2df70f7babd2d5ad4fdc348e7472b761013c7a1a9bc6f2bb10a6',\n",
       " '296a7f7cdbcc5506917dfd4a7b06956bf45d30db7ff58312fd39df377e6026c0',\n",
       " '984fbb5c3b17581742de85ee11b1cdbee8caf319094df4a097093e4928ff3658',\n",
       " '45770169ad901f0be2cbf304c7811b064155d20d862ebc6e4a94bc82d7274b30',\n",
       " 'f210b1525fc8f881bd51c1683ee7746e0351698893eb450abe1bc21e44dcb2b4',\n",
       " '2cb5bc892b6b7bc9205ed4c6d6b234e47456a78eae1def7f1581f6d212081aa0',\n",
       " 'df2072584d8c4e15309cf9adb523b743c349b98b8d77aedd71223f2981f8f747',\n",
       " '0ab0f500256fd3b9576e2ed5005548e97c349273378d1c4b05e53218a6142689',\n",
       " 'd0e1f8a45de93ebb6017cb81be3e0dbfef2bab56256cc37d8eb12b3fcefed9af',\n",
       " '965611b2f0411ba50209d2f4feea59ea719be1026e86b400412d99ba65406ebc',\n",
       " '9641de7d297368e5a2934089de953d3f9212ab5014cc896482dd21193f6848a5',\n",
       " '32ef6a34e39dfecd0665b1b79461670725c5e51fc697f89b9776f0f952e309e3',\n",
       " 'c8ddab6c0dfc60568606cb06c2f854df53b53bb0dd7f7fad90dded149a62ab64',\n",
       " '40a82aaea883bffdc816cf41e5b816fff45b0a28a44fc0028d7cc6f0923533bb',\n",
       " 'b8bacca5f4d7ce27aa4cc004e4115ec0735c89f01c7d65cbcbf7c0f3e5ad7dc8',\n",
       " '4284750083d70780ce9a76884bb8a1176d48d4b1bce27aaed92230e51d1924fc',\n",
       " 'af44b231f4e0d1debf97f35ffac39d226f6580efd01d71f18b44b46d3ffe2656',\n",
       " 'd95e07ab53f8c2c6803b3ff93d8d3bd83733c029dffb32861cc4317aebbde417',\n",
       " 'a21cade7435b5014417a085af63d4d018ce33e5a75ff7c555b0675e4f491dbdb',\n",
       " '8d279f2a761cc5cf2c5205a48ecd33399de240c66c2c4f2e905154dd34bca54c',\n",
       " 'd6fc3184cc8210494e3aad72e2d3eb04e125d7c2276e11e7e2c426b33255e3cb',\n",
       " '23898d90a048d454751d3a7a3e2af806e1af8c99e760ba787e4a23e6d93288d8',\n",
       " 'cdb7693f440c87d17c6fbbbe74468047f12ba13a00a707362f946c81321f9759',\n",
       " '9c2b03b75f3426050085450f5508500f9cf973b6ff294e6ef91b522dfcab804d',\n",
       " '087395d89d8cde1ee874d836b856c1272d0600ce4949ea5b64a9c90a44657fe7',\n",
       " 'ca25e03f9305be2e242c63d22bc6db6a41fad793c976804188e719e63ab4108d',\n",
       " 'c905cfce980df0b9eb497f59041c44efecd13c492c9795ad92dc2f83fa3ae334',\n",
       " '16d941711d334f296e6e766ffbfe6ee2b53eb871c6dfa3225158617a6f52c5ea',\n",
       " '9595a44bf1f20b34acf78faf74eb935c1f291557a5acdc4b67cacf3eff56e403',\n",
       " '60b376ddfa5c471228540dea59d7f2e7c29b38d7ded873a529ff79e6d2685543',\n",
       " '466a3c0b379076b9d3f17ebefa309fc01d8d4e8b4783abba8956cf0f5f313da6',\n",
       " '29c6a032f39d2bce07e578e9b10f1114c9e251a7d5d7046b209e26f93693bab4',\n",
       " 'ed0d28d039fad8a50b480cb18ed16f9bd928009beb8f47dfcf861227c32ff6cc',\n",
       " '488d961e8451cbdf1dce533f17ee299b95e67a1f03399b3e13d72de826923693',\n",
       " '6529cf928dd77c9919fcfd4d5128296c403b0dcaef90731011280b9044db4b89',\n",
       " 'e77069da93aa0967309e1ecdc05daa3cd915ca22b05749eef523450325b39009',\n",
       " '318d9a16efd35b65ee7036bd0df4b0bd54d7be866ea4d580c5a0a31e03150b91',\n",
       " '4f8c5e975a3fae5da709842bcae40b45a8331d05cb8b9b1762c919feb550dfef',\n",
       " 'a4ee905b543108d96d492233fb7d16f67d7bbc061a18e39b7472deb0b862af8f',\n",
       " '9b9cee0f51ef4d42388ee7431e37ca37a40918c8c5b9968c736023b3cb2005fe',\n",
       " '7cc6af251b8712b35ca8b67d28b4d096669248b5b60878f8880c9a7379ce4808',\n",
       " '3921a0b1947a8c02a03e16c98d2fd8b2b58bd69dea1a5188d4f749321c6e0b5e',\n",
       " '3f8b9e529640172793717d074fd8721cd2a76ce7cc33703842ff757d0d04eb96',\n",
       " '5a66ee71c4ac09bcd5ee2e0fdd564954df4a47d0666a04dfe47a72ebeee7bee3',\n",
       " 'e6cb63dc73f50d41cb50760ad3646f15afe37111123c58f2b61ceb897bcf8d6e',\n",
       " '04bd7e62238ffc9ab3cec58b14b3af8708d7404c862f831ce1b0aefbd4d3b1cf',\n",
       " '8ded85e1ecea33bfd1f0450b3a85baa22fc60061c2132ab0793d6027ec5cdf8a',\n",
       " '2948dcf716f71621b562bd0bb6b1e07f2b2c513b25451748dd91aacaf8748753',\n",
       " 'f9d1b8ce6155cdb6110f9ad709521d1df6a297d5b3e73cd4dda448bd5ce3a705',\n",
       " '7858d40c19a5df7d5b91a7896731f1ec00f2f5343200d1dd64729f6f44c974a0',\n",
       " 'a30bdea230e5870224d14fe63e5c7247816a5547a15e12e945db07136990a65b',\n",
       " '3ef25b0e499bce683937d615d85459435b89f6c095045e2e0fbc240ee6fd1611',\n",
       " '8c37d4343cec0e0d5819dfe11270694c111d33f124e5cc0260b72a1874a0b3f6',\n",
       " '691c990f8820b1ae182d0e384903c00ad11557af60d291ed2a5281d1f674b498',\n",
       " '3ce07ee688a29fb2f0cc40ea81ab0c5155b90adeba3b304a764b0a9ab77c6e62',\n",
       " 'f18302576691f881300a9d458b81debfc3d1a401932e91d37c7c9e88ba64ba00',\n",
       " '413fc5ad0433d170b32e6a81d619c17d3c26bd7ae66d257f5955238f4104cda3',\n",
       " '08efb7aa0510a18d452bb9bfb7d357259f2f903f65758b734b0914673e505890',\n",
       " 'ae9c935bfd2626bba0de67d98d3b1fe81dde724657ebfc50d7d9712381c3a74a',\n",
       " '2aeb00f0487c37793211ece8bb87f422e39dd192b6b7c540227abae98a11874b',\n",
       " '055128140cad9bdd8821deecb2dfdcfb0e30db2260e9848a3d6e508555784251',\n",
       " '84317854ff698e2bcefc09c3d9a947542a0a99701b42acfbb3f772dab2e58d48',\n",
       " 'a1671af4dfe22e5aaa6b9663d3149b1138e3b8db0576f985acc65c8df7b2a330',\n",
       " '138e860aaf95bef4e6cab4d6abe7b3a02d9c538bb0fcdf217f7f34e66c4ba295',\n",
       " 'c3ef7a29f254a0c6875538f54dff7662d4c19f91019ad52b218a0c18ea571203',\n",
       " '5fb8b8191d4e48a32d7261de7b170a855f0647875bc2a2f3be2b3339319d554f',\n",
       " '9c9fb25a94e214c9125d0060f2a92da20264ffda7285d200f003451d2f53d5f3',\n",
       " 'fa148bc9d81f41d6ba9d6f3cd462fdd7c404cf943af58f55bdb21a82c356e2b5',\n",
       " '6d94dfd0eba2a840a9affd51430d3af56c66ed3153bd74b3fea6cc7ba562dd49',\n",
       " 'f10e8aa44043da4b461b9c78327e293b1eb7828e30f0dc77cee41c48cc0fa83f',\n",
       " '127a3c8f4aa484dd682b34cfe8cec312884327b95a77b55605a8fb4fd2c31c9f',\n",
       " '3705a418a472a6c015e8290b75a60c9c65a9b1fb4a888fb27c44e3d8e055e1d8',\n",
       " '2abc5a31eec3ac515169a321a513193663dc55d5f3d11501e6f5dcc67f0b32bb',\n",
       " 'dd9215e034c3a1f9d0ec5702e52c4c30e7820bbff24bdcab70e02d7a3ae2abec',\n",
       " 'bdf0ddf84cea1e1bd4ac72d67ff74bfc3cee16fa67c6f80aec13f022b5429928',\n",
       " '5857cd02709814712037d138aeb7cf5af08a5d27447c250346aec967644e5181',\n",
       " '4809b2a167d9beb0e25b0ee533454828994c5fd3d7d7e59bd267ef87384e1c9c',\n",
       " 'ce26a6ba0e3f2e97e5973bb9f0cdb189a44ba8b6e736737d8f5053ae61a93fd8',\n",
       " 'b608697ae9c2cf90ca258d683c69d5f3d7bdf0559084bcf55efb02c6c9729aa0',\n",
       " '4df03dacbc7bfd07702bace0ae08bdad42c2d8b01031c259484b9779d5c12815',\n",
       " 'fd7cdd926276771ab81b323f9d5ffb4f286e1d372a9e27688f6a1da6d9a5f83e',\n",
       " 'f55590f78666dbfe7af9a4d316b2c6efacf4a524c5cede2a84495a407bd11cac',\n",
       " '1cf40694f5b45431897dbe6b549dc5de14b2e8a3136dadfcf7c095133f345937',\n",
       " '55b74a1deb1ed6aad92f392d29b5e04ebd378e0cb65be84d310c3a7fd8ab2553',\n",
       " '24a525f9a03eb7ff1da1e6df627ee5c24139cfedee3b0bbc3ccc79a094b72005',\n",
       " '4ed67a112217d520d1455138fc7253355ffd4b06d71019a888739f350741398e',\n",
       " 'ecc5c52f42ed9603ed83e77a281ce975029ce7a9f8b3f3bd2e9b6ed189bde728',\n",
       " '4cfc55176cfae4069b425e4a1b609c11fbbe15af8ab85daae66df82af1873fb5',\n",
       " '01697003ea6485c685a49047d7e4ec143320003652519cfc9fe95c622e32c5c6',\n",
       " 'd8dd902b46a07a3541b0ca185730bdbc84d1665034bf00f494853232e1103ca3',\n",
       " 'de6ab7bc4958f4ec0edf8d95fed391a8e1cb3a948197fc1736816043d4037467',\n",
       " '3a2a051fd17396d83278937dc7119ae801b9f7fb4229c75b99978f346ce709d0',\n",
       " '05c22caaddb6f87906619d67b5343d870393726424b0cd707a0eb3b24a8350f6',\n",
       " '472b89ae4a2a42a828d3d2f38904a7a2224714620218a2bbd9c6917474469c77',\n",
       " 'dc655965272d64836c7d7745dec53b2f7bcbe84a86025b4a0d5527296d7796b8',\n",
       " '5a773ba03ae44a69a77c7ec3a4190fbb85c74b172ec347b2ac4ebd257a3306de',\n",
       " '5cb00e5dae9cf8e7f5c66832954585d989e21359fc1d07f7f337f8bf6ea9725f',\n",
       " 'c6dc34e9cc510ec2d03afbe74281afeb1f3df85a11298eeb7bddaaa4c7dd7536',\n",
       " '20917179905983e4b9c4384b598a3a967fb6cf42f5fb213b1283442d6593f716',\n",
       " '407900075626c5eef0779bd96e8d09811598809baab5e04118331efb8e43e008',\n",
       " '8d005ddf6b1e199bb367f86ad40a7d6a72e780c200fd7a90b85a8d1203b7e828',\n",
       " '95b1db4253e84d383d984ae09edca5ea6a8f1296c9d9c46498de90c1d5924caf',\n",
       " '32bf977ea3dff106bb8c4388dfe41317f2ddfcf5184d82e58710bf637a1aa1dc',\n",
       " '95e4864d5a53863611ed1f58d039e1c917bac20b24f7c27b9cf611cbf67236e3',\n",
       " '4e01e478e54a855d13b178fbd3b669e49927c2934e12123e617a8f5e36a4faea',\n",
       " '32b84b7e6dda41bf76423eb31caa1c488c0d0e986ed63d77a1c2d9548b6a277b',\n",
       " 'd38abe768c8290c76d13fa0b89c5c1ff11ad19bde0fba7d57e0724bf136308b5',\n",
       " 'a77ff3803c1c8f7c524281a044267c146333c17c848355c75a473a3d697c7d9c',\n",
       " 'c0a519e4d0bbae6b678b7e1ce7229456f595b23c6bf62879287bb56dabc17355',\n",
       " '17135a0f6b261d305ad23ff96ec4b9c3e8cc75593fb127ba8ed84ce8131d2a0d',\n",
       " '1a95cfdc7ec5947396d33a302016cb4a3893f76cf85dceeb19a07f389c965d96',\n",
       " '820d81bc84db8a51ad0f74f384f252297fb87fbc07e92df77f9ac5dea7a1eae1',\n",
       " '43b69b228bdd402d36801b2ca3f7faaf39587107329de0e694996aacbef0db30',\n",
       " '036e997cf4da0ce499c61a59937c21d8794807cd95a3430468c97484e31e7e5f',\n",
       " '75361495fdce82b09ae6197054d1833a798b4d1a7079b6d7ca53cd8fb3664804',\n",
       " '44e8ce67418994c31b64f84e7e302a0d1b339ef518c1ed83abe8c0c872118d29',\n",
       " '6377ac77177c803f059716dbddb3374dedac527dd503fbd61c280c3b47cfd269',\n",
       " '35e3c31fd83de782010cb967475f8c2d05348323d871b6bc4abd0bb42eb4bd48',\n",
       " 'a39dc3a78ca0cecdec6fe72cd7355b1558561fad5f1cd312fe5248ab06020fde',\n",
       " 'b388e158d9b09d64e9319029b0e9f1306f1bf1165951399b4289c9f7c6788c9b',\n",
       " 'e50cfddd4f18cb18f2965948b30838990f56ce34946aed993e073872c3df1048',\n",
       " '17c0ad4137a4f1748615fc11bde11037f4c3a955171cfa6cd40d2498c13196af',\n",
       " '8ac54381f8f4cd3b1c235c3740bb635069ce34960c7deca45d09f169910f8f21',\n",
       " 'd02897df7c75359ebb0f31e70a72d923c6fa213c64b09bc7e6ad008288f7c42e',\n",
       " 'ba2afe672b8129de9f8ca2c0e88aa85c3f6f704d09636323aca2ca1966609c55',\n",
       " '8345d9964dab0a61619f3e3d47fd13375bcde28241ccf35ec3241f0fd98eb554',\n",
       " 'aa969f49ee4ff19b4b783a441cf0f5ee01da1f71ea4931ef527c65a966a7e931',\n",
       " '4047c0cadc4e8052ba8997fbf9abb740f4a32ebaedfefeb6a7f657c96fa0ac14',\n",
       " 'edfd5e935a563e3e85e7a8b339d325a769d4b8afb0d413da20937c10d7bc237e',\n",
       " 'c5beedba918f062b7d72d0acce0413b81068961675c6c079fb9c7d76000c7e5b',\n",
       " '7d7c22e4db9a1c29bb63004e4e5b4d4400ec2b43a67fe0b95eaaa918d022e59c',\n",
       " '1900edd2c7df43e19b19148624273a47540e73ad357d6af399ae7ad16b0882f9',\n",
       " 'a30ed28be5143b62ced2b245b00ed986997592991e1043e98250a50e08e11331',\n",
       " '537c9a69079159c198b47c4ec4481740aa60225ddc7699109f6460ec5a630a61',\n",
       " '52ed01581f9f230459831d43bcb7aed9a5cecf671cdc390356826e2d40ff5fe7',\n",
       " '0d87831084eabe025fff09e86a5d9d97f925a90908d7e23f65db115876b3bfde',\n",
       " '7a3e336f9c80327aa4c0e8e949538decadc056190e16455fc4ec4fc0520cfa39',\n",
       " '4650c54a12ea979637fa2bfa8451beb5a9c71bcc80cced7f36887d8061b3a2cf',\n",
       " 'c2af51b0858e2062f8b5349431bef7fbb8375c5d6b3a92ae1e562c8170c2acb5',\n",
       " '46215c5b4fee96548036c341a5e22c425a2961dd88e384b120099918e7abd840',\n",
       " '63b18c028505c45d7485b5f4356d85abfcec5a5f9f283532bacd689b8bf33ccb',\n",
       " '3aec1d81c892b8614f3a6fbbbfe322021add4b088b05a0f4ac433292e3def2d1',\n",
       " '64ad39c4158ead793b69784610ffb65e177a3f0247ec678e71a98df728db2ad8',\n",
       " '12b75fd9eeffd9007614172c0d4cd6223155ed9e9a0e6ed1117464b5008a4746',\n",
       " '9dff25d4d8c23b9edf62c92ea4f7a9004361b92ee336f97cbb2afc742fab450a',\n",
       " '384999ec4552b19afd9feab06baf4e70db3f444015d1ff615e7589c6a386732c',\n",
       " 'e733919f8a0a0856c43989555b05b3563a169ff9e88cb62c5059788c4140459f',\n",
       " '303d950394cdfbcbd2c72920e63eb63df27f54c4696858d23d1969f23b409142',\n",
       " 'c3e92748aa101b9b2b9a7f5a71aebc791df6d263b7743586f237c1ff2e777e29',\n",
       " 'f1c746604e1960a5cbd0a7ffa369926115e95b343e6a1f385db7519c4a658b6b',\n",
       " '69198c888d9c13759903da9c79e0dfdec0bb6a5a4e2e9d0001cce7bfb5d52520',\n",
       " '0116e263f779abce45f21592cd19c8cb535dd71ccc93c7ee01f5895b35abf96e',\n",
       " '3f87ff84709efa38c4ebeddefbfbbf50d9e3c394082c7a18c8c3cc5b30ca4f21',\n",
       " '74e53b5abbc1e500286975a374447c9eff54701d208674c119a2e77f7da9d032',\n",
       " '5303a047836bd229eeea8b5a451367bcdcb1cb852ce50c12123935a6408c2172',\n",
       " '5507a4d416e80dd42c07368f5c840f38f3359eaee9731240ea0a6ab897834413',\n",
       " '7d8c95b39a33c1e0693705c54ab1e8aac8b54431114831f9951e2874bc6d2624',\n",
       " '4dab71b5db730d18afe0ba3c9c75e8c066b8dc83d9eb705ccf8a8b3a3ef8ef18',\n",
       " '2b96c83644a464fe4f4ed6a3ae85976aad9c3d168f0e06be9ac8b7d77a14f2e9',\n",
       " '8c3babf4eb984d01415a976961b8345a368d74385d18f9e0b35ea0dc9c16505d',\n",
       " '43111db8037c1222f3eca59ff3b7acbc3db3e4e0ee2d2165f906daa8f9e25e61',\n",
       " '25b2e47105a14175f1305276a0aa31c7a4f2826d93b3231ffe04c19f562299e8',\n",
       " '9540e2c19eb3d4fd70b029ad37cb7de5932e1737cff56b9827bfefc3d61e358a',\n",
       " 'b0022cfd3464956141179f584e3ebe0a362ef1bfdd5a7c18c3db86928f9d2580',\n",
       " 'a0f983321322f4b215554a7cffee9d85940e33a95573ee5eba97c8b86155ea47',\n",
       " '64b82c169357feae128dd6e2a637cc80009e2347f3f24f24bc8baa7a2553aedd',\n",
       " '7eb7f56fe4ff887b4df013aae977525daf0a9293ef0a88277976ea16f67d9661',\n",
       " '19f5e3807aaf0d7db75ea0c0fea5ae9a1b7a46996b8e190376a1604ab089ede9',\n",
       " 'cbdaf8dd9c37abb465b6d68af92ff779b60822c78e437185b72af63791f94c28',\n",
       " 'cb810c98a655bbf1264cea9babcb691c5efd8a30e69200a839bf7a1eea02be0f',\n",
       " 'bd1ae0f628b6e4e97a4617950d00b56b792ab10506d406fbce7d35afca2addf0',\n",
       " '90920ab8032cf722331c738683ed3636ab3dece6c8c420b70102ace340200217',\n",
       " '9e1ff298e4977ec4c606d2ca4ce5ffddfdc6f6ba787f9ab23e8549d87bca4596',\n",
       " 'eae78d89f396fed6accd57f96a4da01a737cdde05911f5ca033d84ebb81f270e',\n",
       " 'f361e1862a4113bb89ddda316d3ddc06cda4120db180e1362f56e2469a3a8a73',\n",
       " 'de3fcf710ee4d413cb03b335d7fedd8b54f151917b5682ad99b00d19fa07b304',\n",
       " 'e2998ef1075d652df8b12ca687a9969f4ac763a0e6e91701c19b21d613d892d0',\n",
       " 'e0eccc3f2bee20a8fb5be368df933caca87ad146ef255f3ba93269121e71f6f1',\n",
       " 'd0ff9a53a38b13914ac3bdddd8532dc444146e8dad0279e8d38ebe5995b03959',\n",
       " '11c5e73bf56c93ff68fda9ff1f15fd5c63390441e57cdb3e616daca7d6d74bf3',\n",
       " '2edac520c46419aab20b2e0386bf7c372f8cefb5e53a931677e05113c14538b3',\n",
       " 'db482477b0d6e3a9dcb667127d1b5a953d9b831e9ba2504f65e037150f0732d8',\n",
       " 'e3ace300ede792cf8c0119f17ac768347695556e069933b0034455006a149171',\n",
       " 'a1d31d304f28f0211ab069bbc0152a599260252ac1503822d56c32bdc3db659a',\n",
       " '31ca6a1e7848a9b51131d623cb7589345f739ad084fdaaf55d733c5a7f0e77b2',\n",
       " '38f521968fe9955a71c8f55d328795b12a154b93b5bcb350e32f091e7057c4ca',\n",
       " '02534e6a83828aa4c73f8af7266a30d6028168ea7ac6240d4b8b430e3cff2be0',\n",
       " '3e4f484da11e6ce864eee7387d08b7ab8fda20c38d926a7158bd5f5969777e02',\n",
       " '27f67396dfc364f2a7200221519a22cc285f5bd71edfdf40985485f09ccc49f9',\n",
       " '71c8da4739f2a9ef0de6fa47a0beca5c3e2eed5cdb3e6a5030c1471f6212994e',\n",
       " 'ba62fe19d2fa55a5569c243c07a8e616edf1bead49568ce5bb150998d1cec0e0',\n",
       " '21e316dbf8f72b6bf33511727eaad8e14dee79f820653ecf5eb1bbc14fc93f79',\n",
       " '33abf5a33f27e643e589a9654abea7f985baf972fe43d0fd1da5a504bc6fdd4b',\n",
       " 'f2ceade075c7f4f03f7115229922bdc15ca096863daddeabef8181a4c3e96f60',\n",
       " '805ceb7a4e35965158c83fccfdbdf96c739a5c0bc70d74c1fe6e5a73280af23b',\n",
       " '025f14d940b68689f58163cf2a948751488eebfd21e2ee111bfc14c2663c2c7f',\n",
       " '0db5e57052ff096964ff299c452554ae5fe0a3bd967c05aeb782a8019cedfc02',\n",
       " '585ffd2eda74f7333efe3a59202210fe40491760d32cebb51449165c7bac83d9',\n",
       " '0903d90382afadfb0dda80adf614fc9778bd909d88b63125391b5f932226d539',\n",
       " '42d75fa88f6a94fa04f0fd226ce7d6e01fb7fbad9b2b70f8361ccff177f61bc5',\n",
       " '7cd88ce148b74646988220b7fca338fd80a3d013928c0f7ccf7067b54283d681',\n",
       " '36ffc3d80f86c14798098b7e6dd7b8ef56c385aa89be0fd4fd13f16881b02cb7',\n",
       " 'c24b8736b6086dbffc3e5653e8f0b9ca75861197b3d8f9f9947f497cd61b2961',\n",
       " '81336e6275536cc91824ca6fc78870f1f03e40aac12ac675cc64db988ec178f6',\n",
       " 'a43284da238faa475ff7b65af5afc67b005c5dfc1a1cd9ecf1f7703e453c878e',\n",
       " '04b1e1f43eecef6410672b4280528608b5705ab8594d86d42bcf59483660fb2a',\n",
       " 'd795ab5a2f1f2705154d045dfce0df84ba875ab090c843b70a62ffa0c0262c4a',\n",
       " '9d1b942c85ef047d0b8b6e5e8495c43ca98d0ba640202d7cb210d9cfa5aacb22',\n",
       " 'f8353696d272c74c1815e159ce680967c8c77526345a000b162f83340b5ce873',\n",
       " 'a30d8016194ab854f091ae8f530b924bb62414adeb20d0c187a47c1447339834',\n",
       " '980298813ba5f45229f2f73bec02f995a1aa3840bdc8ffde6aa32475bac54f0f',\n",
       " '2bc908d5373c3558cce7f21f7d68ecc2cb9943557af9b011570b414cbcba5ef3',\n",
       " '1e81af0014bcfe8510819ce324fec20c606a8565679d832e2ec63521e5289f62',\n",
       " '54013e83a5103a05a52a007f9d3b4f6e94d32a7250baf6f8552d48a95bbcd6d0',\n",
       " '14fdcaed411d2be77731a857a1efe437e4b33bb968e9ed366be8c65cbf3d377f',\n",
       " 'cdb0b732d1b292b4df2254226f5ee2ec43b9d4b321759b77b77a6827e2f86efb',\n",
       " 'a64a0f0e7848acf349a666973eaaea254931e86cf935fb732ca2c8f5ff6d5c79',\n",
       " 'e8e12ce0568ef7be287248eb5c7b7971c0dbcc84afa577e15d9d1e62ace1c074',\n",
       " '5979a1f42597ef96b14cbb22cb0ba35b3683dfa55469318d03107c14fa649fee',\n",
       " 'f9119a862c0444445d062edcd61b67ea6e0854c41118c9208d5fa7ac539308d3',\n",
       " '8cd355eb337360ded4e855d50c93a1007dcef502293bb11074fb37dbb2f411dc',\n",
       " '637341f69a24fd7b99857ad4f0a34efb8ffbc28154f3ed65493e6ea597e7aa8e',\n",
       " 'd6427ab63156ae3b59fd36a0c3b1d22438184fa8f5979f103c3d1056e9972017',\n",
       " 'be07e4d85d968c025a52797a498a785d328df011e4b645a93e4f97edd335139d',\n",
       " '9cdaf805028bc30851de8c6393806b639cf350d5616679e0b8a357c0c18e8881',\n",
       " '80bc6f10c9f980d74c6fe93d61490eaeaca208e757b8f1b760ed6826b875550d',\n",
       " '2f7c9ceefae14ef1a2b544f205c1abffbf0bce659fb7a467eea142cc5098d703',\n",
       " '6bf308a4018160a2b9be5f930ea05720d8b6644b74afe6ca8f619a593c38d285',\n",
       " '2b1b39db4d00c8d7374f9f39a37e6ac9fc4a6f1b88e2dd97e6076ee74ad128ca',\n",
       " 'dc2282c78b6c36da3cc4436e49fb3e69ceaa3234c924960ba81152599d0e454b',\n",
       " '38ffc869064dc3901a37e087881d9ad4477b0202e753946b94c1c8625fd00ea5',\n",
       " 'af847b34a133a9795f537c766c0f77227e324f2dcbe3a88220cfe191a09c516d',\n",
       " 'f33f6f49ed3e66c901a1695fe5335cb3aca6f0337d07d9badfd0db617c3f7c3c',\n",
       " 'd9813b17e5de4512f911d683ba8d046b28d2d9919d104bcec78e99e455fb98dd',\n",
       " '1c41455735a8a74b2dd91282fb6edcf560cb98585144e8cf23d437889b08c10d',\n",
       " '6772386081433e6f427eb7b7d6c62a2d22d0ba110b3a26d97c94ef277779b2a4',\n",
       " '4d6778ddd9346bc7284c72e92f580db7809309856843cabcf8a611a38f4f7cf1',\n",
       " '12b171f871b4e20bd1961f83165edba4848ceca0b3bda5b8a0c17fb4e4b68919',\n",
       " 'b652b70111672e1c4d5aeae473ae6c0aa0ab96f6eac38dfcb49a890f69aebb83',\n",
       " 'a86cb13346e64b9ffb742b172627e1a78348b56c02f3a740f188c69210d2d47e',\n",
       " 'd88edc758dba31c2f5488cb13b954d1b9b0ceab997002000dc0aaa6bfb1458e3',\n",
       " '25c9a0eb6db58dbe7d1b5ad38c17d82e7b6ce717a0e7cc84a1b43ce08eeecf99',\n",
       " '210bbd157ed2ab61417a6fc92c10fd49da58408b34c8c6305b68878c15ae07df',\n",
       " '253927e0a8e2f5dd4c28746b472a115b9a08f4e51f531eae7d0cf8f1082a5544',\n",
       " '86c20c3ab6fc250a3f19c228ea40ff985e9c7dcb2b30ba61d55ecccc3cb7d7a0',\n",
       " 'f9f61ebc382bc6b74e4afd23cbbdf1216c6e5ae1b3443a35f0c95e1d09e52927',\n",
       " '47c78124564b5173baa0ac77492a5303e10b7b708d8f080ef4222a3967f6281a',\n",
       " '76ee8f241a398cb7c643b8fe59b4e7016f0d0b8241ae4640a32e97a1034f8eac',\n",
       " '321c7e7988aaca0d700f1d972a2db35286db4276079f11438d9638f9e5d28ae3',\n",
       " 'cef791556185e0ebaab67f82d081db28ab94d82579c7c6e9313c2ab38f3dd277',\n",
       " 'b6436017ba5bf6dc58523f7b8b0a607664043178a8fcc6b2d8cc6b91779bd970',\n",
       " '4e94bed228418f2a03e2e0543c9051af9c9b8a4e598aab4c1aa37ea62c69b0ba',\n",
       " '36b8af68d354c769908bb15830e2aecf51958f445afdbf2a960360a26bc7955b',\n",
       " '7a4b38d3f9ccf8f5269bfceb18c465185ce0c5d58901edbc4c846476f57496fd',\n",
       " '99cad54668717556a7cc38e832c8e27e9a2ae7b233ed27772ced571e7ad20076',\n",
       " 'e271f34223db9e159fab31f1b2da3907ecb9ca851bfe85544f2d8e706fdcb328',\n",
       " '4f1f8180139b27c742a416c1b8ead05180c51e8555dfe4c2c755cabc42483637',\n",
       " '7096c511df1bdd9fc6d5ef48423e01dfda66262e27edfc18bdb5097937eea649',\n",
       " '1b783fdd6ef9d5ccd5bb91c2564d9384951c8679011ed931c11e46e0611b7dea',\n",
       " '70808403c04a3d9dd7e6d35d36f28b1dc04958497d6f7e7a4e1d2e73fb21e094',\n",
       " 'e281eff30e470824f026d69e5424d351e6d387725c8d282988c4c458c90b9acd',\n",
       " 'f74889c039fcf191b6e7b18b2239f63840c0fbe40c14eae07dadf502e6b27e1d',\n",
       " 'f2eaaa89eaab65a0050df09f18d1869c36c97b05772387c157d36a1d5b443adb',\n",
       " '4bf5070cf9f567cc900628bcdecd58a0bbaa1286ab3d6d6e94e17f2096d5851e',\n",
       " '120a5fec9516d856b07f1260e1e4a2f3c0d09c004bab59440631835527bd1f84',\n",
       " '0cfc7b12ebc12faed29f8c67e93d9663e11e8a268a6fff934f9c27aec539fa96',\n",
       " '6371108d0935ea1ee0c55e4b117213b54dae3224a43749679b77f3bc99e99d82',\n",
       " '6f53cad85755b8215648a155ccaf0ca70f5e300bce28adfb943b140112c13fc0',\n",
       " '0f16ab23bd30fddf6979de2bc8e969fdaae805fd5017a77012ef29aa89a19e50',\n",
       " '9085c6f603bf94e2eefe3099b8065eebb6a7f695f51053cc9362bf3cd3071389',\n",
       " 'f2d3252ba28518092d053e28a46fe2d2703e053b43df8d605dcfae83bb3dbd91',\n",
       " '73a4d401d0bcbcbe79a5778227e97089b135ab6f5fb6e77037011db89724c779',\n",
       " '2b2594c995a306eeb6fab48c924358a9e575d190b020229e675b12b9698ac02a',\n",
       " '0a86d74dc048a6f9078d3655dd3f7bbce58c34842375aed3c97ca3bb17f1a322',\n",
       " 'd0649a2a9abb3602b08c210924167de89748b30e9b5ce671a0b756acc43de71e',\n",
       " 'c30b390b2a43a2c9646a6e9369ab1d1a69999e1f5ab3b51fab2f5e6155f2d487',\n",
       " 'e51bbef0b1696b01969182abb0b0e3f9c2f2bec97c4a9aba7efe31197f18db78',\n",
       " 'a7c1142e1dd3642c2edab35119f8b19d06e6ef2f38e897728b67305dd6be8cf4',\n",
       " 'b5570198aa6035620b135be385ccee1c1f440c189b92a37c6010e1adcad88aa4',\n",
       " '018a562bcf9aefd9526d1f4a9a8535309972ad36ebb3f98691c61f6bcd764128',\n",
       " 'ec830d94edfeb8055ad0d343dd02a1eff66cc9a437ac378ac0ea2597ffef0e57',\n",
       " 'f8f6581491300fe615f68c52ab59945b2eddf42768850547312f2367a2e72307',\n",
       " '7e8b32d91830dcc14fa6cd66133768e4b506e1f0975f342a4f56eacf7fd7484c',\n",
       " '7b4433146f72f56e039029e4197371f43cd439c2b2cacfced66f197ecbdf37aa',\n",
       " '979c135131483088dc16a5c1a9119ca843ef2102a40764ca1d709af749d72273',\n",
       " 'dcfd653b4b6cce09022d839bd038a7305e7678865d8fb78755cec7bcae7ee4d3',\n",
       " '1feedd1183349257c09c3709dc1dd275ec1839b3a293aaee395776b114b99c1e',\n",
       " '79771bea816041492bffb4166ad76acf0b1c4837d02c45888fd22e044c46cea2',\n",
       " 'd8e488933eba598e634a272422b1fbdcab30e5b874e76f9a9cc0a4d52c0b48cb',\n",
       " 'c779c2b317bdc3ee341b8693b2101ab04921f538e4b03a810690f6ac8fec85b9',\n",
       " 'b55350eaf5ffe65fd3ef865611a06205170169a64af1f46164045e352b443976',\n",
       " '8976901569ba3ffda90c7d35f01470f89d2fa0da1d21f74a3357aa0a5e1ad1f7',\n",
       " '663fb685f4182da28d9323f3296d7c89f2170856e8ba87943224496252fd2315',\n",
       " '5f8ef8e6ff219569deb4ae6b4d48cad7b47356ce4e49f089adc17152be99b6a0',\n",
       " '9a57a2a707c35179c6a7e2ee5a2594efa6eacd4c2ba3df98a4b776a27937ba9b',\n",
       " '14e496e3052a47ec66541a2cdb0dacbd4ba1370a26a655d334c213371d5c4a72',\n",
       " '937cf41ef48a38fb3cafd46ce762f6f937dd299670e1e9ddfd62595376700ad1',\n",
       " '9e9d132f9e692b8b58617cf1340426ee4bd6d59c5532e437b756df1e069c1b94',\n",
       " '316e350cc0c4ddbd19d2af8949b60b1434f4ee6a7de51b1addfcf86fed1f772e',\n",
       " '7e8ab50bbeb6cfc1a2a3b07713c88ac8d5510db47648656e58a28fead6a17a34',\n",
       " '7f481b90ba3a3f255ed0c2a5b08a6bad9a2a3e2453f7ffdbac5490204a86c50b',\n",
       " '89e125fc617b675579479eee3ed2836b65d17a059141bb537f9a75b631af1444',\n",
       " 'c989f09eb0b6424ded70de3859745c0ee564a8861e14c465e47c84ccc5d7ee60',\n",
       " 'd45d7b0210dffd5e220b1f7306836baabbd66b3e3e25ab9125b515098d9358c6',\n",
       " '7029777b56f8172bd8a8cc73b4641e9c923e6eff292cd755c2ff7bbf1d0ae4b5',\n",
       " 'add51f2b7ce1600eb41471faf80e7d4f0b307e92e92c3159937a6ef0d6b49458',\n",
       " 'e5e87763ae7a44cac301b9fde77d4237de8f7197b5461cebe33aba05f1051280',\n",
       " 'a040d084957a6dda81550dbdbe9e4b7f600f7729c10f10b375d9901a34fa3dd0',\n",
       " '507eeba3dcc7360d5e6fb4e09c2c0ea0a53ca218d37d3813b39bd64ef8abb087',\n",
       " 'c2ffe550bd172772dc8597c7d63ad6417688f0796fb4026eddcbb4db74868d90',\n",
       " 'c8ff9cd275de5ee62e4eda765c6bc4f68921b6853733e94fa95778a71edbe94a',\n",
       " 'b327c3675facd0e3a8a67bbbdade8d5a1bbc3ea916ea023f9b05852356b417e5',\n",
       " '63fc34de71ba5ecd0d65e14bd2523c462f3cd4c41f26f96824edcfd080c65188',\n",
       " '4540a500b23bb843f268debe69683b83a63d02a6703dd94648aa7bd2c0d5311e',\n",
       " '61a4a7c0803589d1f21d391e0c49f47191fa2769d18ffd6e7fd9dd097428ecda',\n",
       " 'a2b8c3ea4de7781f2390adf275c475be52739d820f60138ab634f880cda34696',\n",
       " '288528d9e96f371350995120e101fd0398030ba2d4d16e80de7bac4114e16107',\n",
       " 'ea30c2ab2b660f4c469319fcd009a511f4b8029f877e6d5743ae10d868ddd299',\n",
       " '568aa661f27fce1030825d0d60e6b8594290e8b3da353f9d26ea6c6157808cf1',\n",
       " '452d609bf7d96ec7ea814e2168fa2e22ebdec2604406a354423b4fe6a8ccf026',\n",
       " 'e0d0564ad876e70a408e79cc21e444690a01fd0a89500db41550261f6adf62b9',\n",
       " 'f265ec4728fdb5b867b615b73ec1d559c8a69d4f4839540d36837b898d03db8f',\n",
       " 'a692766244dd16e653245b5447413bd638f8ae3090ac9967dac9c873ca22f0b1',\n",
       " '4e385cc49a0663cca9f1e4f3e43eaeada2d44731eaf4edec72ac06a231024d3a',\n",
       " '65eae961c13499c837ee5da01dafd9f562020590d5e6b414fb5f1bbed6d758d2',\n",
       " '2ebdeb814f71fd60584973728cfc35f10bb055bf2257c152d5f594215880fbd5',\n",
       " '7eca2c74b82f8190cc8f60824759b9daf250af8bdf2a93d17e6d42e0c3c0f325',\n",
       " 'e881020c579b4f9e1670a70c1050fd6f1d85c7177441efc02a56f7e936b14dab',\n",
       " '6d8186c2daa0d4d5a04eb2ca6650d36fa6eb127b97f7cfe6cf99a9ced5f92af6',\n",
       " '6059ad9d5154386ec39b903cc9df8c9ab53dd9bb8ace3979ef162813b3b478f5',\n",
       " '906e99a485c12ef9ae0e5716e57a7f678fd4ad238d2a908dcfbb03fc2227a0ad',\n",
       " '4690eb9f1ee6926675806278e9ff2db4235729707ee24d70ee83f2cfcc6b3963',\n",
       " '6d335bcce2e45332164b8291a3e690740f7c917efc15c3cc39e8c6980a7bcfec',\n",
       " 'b1cfeb008789b262c1d194d0d34a6db849530d5783486aac4f142740812ed960',\n",
       " '7ab6f0caf6401fbe1cd561d76f03ac9542e1ed2050dbd14c1e5b2c823d68b710',\n",
       " '31f33142fd52f9f99aa95ec5c0c1d7d58b3a7104df7e8ef3d6f124093afd03ec',\n",
       " 'cb799c16389e3e472b3affa2963f1bcca93f1f046af232b34eab0d96f72eca73',\n",
       " '186995663f3fddd30ec1e4ef6080aae1d9b9f42a5fa04a67e37613d74fd95270',\n",
       " 'de048036bbceb049b960f7d7b87bc0ee0aaf0af60a429a94022a12f1f3bc6240',\n",
       " '220abdcaa7855e0a348dbb7501ee871549108a444bf83f434d63db1e40c5549f',\n",
       " '79be73bb14b3813436d9fe9ced06a10e59d083dd9002d00629c231150582ed4e',\n",
       " '008fa93a77377012562e873e8fa5b4011f9f727b1989b979f66f80bd725f545c',\n",
       " 'c7f3edb9696ce86e31bd092bb1ed9aa94db196b724d09d41b9a959364f3812d8',\n",
       " 'a1425e21c2070facea1d805e4afa86534df229ca0da1130611c9260302124ded',\n",
       " '31474cbb8bec2478b8fe3e90d9bb5ce10449590905bbc170208f4a63c0bbfceb',\n",
       " '3e200c33b1e697fbe5314786ae44b36e1fe996107611abe860587283f8983f92',\n",
       " '55d5c287a894d9e476320122fed3d527e02bd24b2f5e3262c4b9b9ed93c91809',\n",
       " '958e9b55ba4e121ca42b69e9e121cd26895331bb0086858c210f9d50f2132952',\n",
       " '16eb410b076442e25127ff7b9c8e7bb58344c34b8472a27951169531628549fc',\n",
       " '39c0fbfd9b405c4f8a42930791067ded63f51aae6acb33c14eb8c35fccf7a412',\n",
       " '3c7ce5f1db37475e820eba35a5787ba356c3431be49407e851666f8f554ab919',\n",
       " '17db4d0841086e7296e142ac687ad93be589f21ce633d6bd5d2b4491754473b4',\n",
       " '9717d21f61fe243982ea74592be23fc761ac66bc90a40106a28115cdf7f37924',\n",
       " '4801a1f12b47d33eaf2460bf17c1d5c6425dfaddcccf4554ec9e7b20afb89210',\n",
       " '4a740297b97d5d9d96b1655b7890a9a906e99158e85ebd63878b5e0e043cf00d',\n",
       " 'fe2e6e65501d113b5745123a75bc8cbc3a4786f6d4a3b305503c77c19bbfd534',\n",
       " '10e4875bd7653eb1bb0085b808cbfed20f12b68e1d0c9334e367e835e1144d83',\n",
       " '9bf57fa09d3e9d3cdf27ad8c665b3d457e350cd403893911d364dc213ae15991',\n",
       " 'febdd7077cf6c568c0730c81c7604e4d882c3f92b75c4b9fde71690c96b04a17',\n",
       " '31355a92076cbc0bf67ff97fe6b803ef72c4f331d6c90178fc7081cbd858488b',\n",
       " 'a338e8f2153fde0e3a08607b507f9ae4ba44e6412084969fe449ca2b8b80728c',\n",
       " 'f1815cbde2995d615cb91978ee9f051a94a50b5d3d362d734ea3496c4ba92fbb',\n",
       " '923ccddcf5d96e936221b6770c3b81a9ef8c060b13bc50a1a4f2e20055b325aa',\n",
       " 'a5138f3ac81bf5a6a09afb6f9fde31fa57f0edb330ecb7e359d4dc38ea45c734',\n",
       " 'bfa6728a460706913adfaa93aa91632a1ae5f29b81e1c30a66f82baa91e6af53',\n",
       " '967533555815c88c7305255b79939feea71a4dd200ed970366f749b9ab85e3ba',\n",
       " '1289af7bb61b362c2d0f0b4f6a428af48aa5018ae6997877bf9696bd50bafc09',\n",
       " 'f8a827b90a2559b96b7bde12f2575d3c245e6d37f1b92f14cf5fd7b5fb8c323a',\n",
       " '01ff2c6088fdb3097afd2aa780bd6ab1edab1597ebbefaf78d755a718f26302a',\n",
       " '54abfe6becf1d5440e8ac08d3368f9d8e9f528b1a6e3effab20385a44287883c',\n",
       " 'b861e82fe3a566a9e8e2b523e28208d415308015205c24954c1046181aa52d15',\n",
       " '0b9f7104f84709ea4b26dd0a2ae95b9318b049597da1a6d8be66f57571e71528',\n",
       " 'da754a2dad433c7912583e1356cc30172111bb6b089236dcbd322d43e37996c4',\n",
       " '934b7e80d203501e360763307b4f3185d224ce7dfd0fbe2f4d0a95ce266fad3a',\n",
       " '3ca4983841197257b56408a8953f46307a05fba22fdff1baf232ba79b2da8aa2',\n",
       " '0495ac4e208f5cbf9e472e691b6f54d5e5818c0a1a558323c91e52f98fd6ead6',\n",
       " '5da8c63901e90db85709e378585e6b8cda2187b85d1c0fa1db7fac64f30754c6',\n",
       " '1b036c0d9de6ed2e2f31e9fe2f3b70b6c62c9543cdee13ae5d43ec5242e2947c',\n",
       " 'a669c979e172f51aca3f4a20ff08f6e85a6aad9110d29671e51d565249ddc341',\n",
       " '2d2aad52784227ad8544d9e3e312fc160f9976bb61edad02ba085aaa19ea81f0',\n",
       " 'fac81066d14fdad29d7e23c8997e791c72d4e17d47815327ff2026c2f8386cff',\n",
       " '3a83aaf779e143ddf1b115ec8b72902e74598f547f66353299e27d08bf50d3be',\n",
       " '1c21b1b2ee49bd8cb58872c0200584918f8cebe529b3b847871fb0587318286e',\n",
       " '8a3b06167a2bc523cb5e64fc436bec9d1ccbc0537d58a8449d31104a764f4ef6',\n",
       " '03be4affcde6f38f4194452b859acb204a1615f03ae033fe9adb665aa5e16a3d',\n",
       " 'e328325ee3c15cd7a45e8ac2694e622c2306cf659bb79b2a11809cbec5feebf8',\n",
       " '09301e0c73a73bf162259a69dbb48d0964147d02140847d3cb9161725cd95cdd',\n",
       " 'c9c12136ff74702a7cb93869231b43c5a27209c1063db362955425c6487aab9a',\n",
       " 'ceacb3197ec93f4ffde0cbbf2dd4d26572f465048820bde6d13a053b8ee51c3f',\n",
       " 'a002599bd4f74a229cf7c2b0c4174ca3544008df619f0967acf25f29042c6d31',\n",
       " '980d932b91f3a2b513b2eab723f2811db4907c1907f50c322874544ce8cc2cff',\n",
       " 'dd57a3f6592b29940521f6adc7635800ebfea9ea433be37959521bc9ea087d26',\n",
       " '7563c0c0a3cff58bf883b0952450661746e169e12b9d9e8cc975427b272620b2',\n",
       " 'fe17ce8791b8eaec960850091398b8cdfa6bdfa2161b14c78db212634dfe8f3e',\n",
       " '7c95debc90da7d8c02fbb3c1bc9347235aaf743baa98233e0ecd813c9a411f30',\n",
       " 'edc65474271bcea9de6eea5e15bb6f7632fe1f8e61a97cc29c8e1d69492b19a8',\n",
       " 'e58c17834856e4b4b2c0c4cc3f5d77e2a46b06ef851b08f5947cd6d803a4ca33',\n",
       " 'c1a32e7d13882202bef0d1590befd9302668eb79f8e93cf2f43f071676575ceb',\n",
       " '5bff8fc883b2fb729c95808b70e02bc114b81cb121f77178628ce17fef782e2b',\n",
       " 'a20264cc52a7b88efaa419bb6ce7ab832c03bf1ec1e8e8eb4c74f06a7a0ff22a',\n",
       " '52e9ab53a3f3b52c6a49b83a292569805ac84a9416d5a2cd636cd3c2e9e2b6ea',\n",
       " 'adde674c0c5e03761557382fdd594a70d0b0259b0b5dc35ac791db0a4ab1d32a',\n",
       " '00b99a09b98143f5e772b80d797877fcf81adc0e85560b8c57f2cfd7bba5c78e',\n",
       " '20dde1db49a910d0f7db6e5d2d6965b4ed3d2f63a5cd55b8dd26642ae291c04e',\n",
       " '35274611e083e3ff4ed24eba93029962221b518b3983041ac895766254b95379',\n",
       " '1e3607d911fdd43476503550b1b55fadac7fa0ea52be28318efcb1f19f5cb504',\n",
       " '5413ddcc752d47a9248faa54421ccb73abde26b97fedafa54705af610c126bab',\n",
       " 'cc9fc0cf2dbb62a2165489f8319bf6cf39778bb17f3f75fa53b6ae851ce71c56',\n",
       " '179f562fdf526e2647bd1100a7ae397e39800a3e852492c5f3f4dbc9776f163f',\n",
       " 'b484ef11416daea4317c5a856fe39dc28c6ecc0a4947e660703939d1c22a0535',\n",
       " '5122eed8953d55f5fbde7a57f9082b04aed740868c9310614d3d2378f44d5a40',\n",
       " 'baf62c1b1854730b3a65d0ad1c76370aa77e5dead7c235bf90a4f6d5e6e2d66b',\n",
       " '1fac6274bff5e4abb5a728a870850a06e0bb39e12d09c5798f2175218612c43e',\n",
       " 'e4e054c16325bea1466824f9a8f00bc2a86919530a6425e6c5380fffc698c7be',\n",
       " 'bab38cb703bf372db7ba0427cec0f8bc9bc2f1d59e812b3a4904d7f46cdc08ec',\n",
       " '9264ecdaac15b16bc56bac73aae38c83ba491489717d65b861a8dd755d5735b6',\n",
       " 'faafe07cdd7dc56667e762429dda979a466a5ffe0da10fa1159f41c2c2876051',\n",
       " '1b6b6b69be9b52aaa17e07de4fe6dad7d102424151acd60293b381087d22e665',\n",
       " '9cd41f5bd7b078fd0af1c385986a2412b916f7f9020a314ae48f53cdb1511b94',\n",
       " '9f2279f499fde8deded8ac4fa524f272fadad920e5924be5394895ad3cf6c361',\n",
       " 'b458746e6bd31477641d00f30a634da4af531cb48b1ca2fd27c635c0540ec7ee',\n",
       " '50439b5107cbd0c4d69e823317a50bca5a03169c6cb36722131c2a4d49299446',\n",
       " '3ac91031d224c63bc8dda083d2508b8d949f88e12f3852f0a588c4040a581c59',\n",
       " 'fa205082de6692e4deba44feffa3d45c5f2494cec9a2bd5e6609dc8f730427b8',\n",
       " 'f0f3c95d9b9a20cbb190c2e05fa4b546eb19291bbb417f8eea367b305451ac49',\n",
       " 'f06447c3d4518f53eec27a12e720222ea91e62c2dea72373e97fbf0f53b1099e',\n",
       " 'ba0b12700b06187d82a16486dd3e46d393836f80848b33b582e91be3f45a6805',\n",
       " '1e27ae453ffbd81e765ba556a6d32fe0fb924a13b1041986e2b65605898a68b7',\n",
       " '1de924350e4bdf4245189c63c28da2a959a2840d377026a66469dfb2c7da5199',\n",
       " '71852ac7fc115bea8bd7e01b9056a83109a0bc6d921a0254382a07c2c4723eb5',\n",
       " 'bcd877b2dad04dcc223ef7aad99e04045cbff507e06dc130705de0af97d925fa',\n",
       " '5eff4b85f7894ffcb1e8671591879c111aa8503c69b0d5a77e7cfe075fa1ab7e',\n",
       " '23565882f3b3deb0e49d084bf702047b189b33ae40669bb19fc3889dc7b1c93d',\n",
       " 'd1460a53a54dc83c91f5e6261a5413dfd537195ba336ef2ac10496548979ebb5',\n",
       " '23f71debdb4608fb91e2d9337011629881c20dd8df3b753fdc062b8a8cd8514d',\n",
       " '16790b8c8b524451d9b3e9f5f81a4e94000e232c091e8922a9d8e204b7c398cf',\n",
       " '1aaa8d9652f20415a566701679e37c072e7aba535d4082b0ae342cdba18b7561',\n",
       " '8209f3fbb87c3192fe363d26707d4accf4c3231c9c534fbb0725255ba7350f55',\n",
       " '0119be2fed3ef062e92f3ae0fe90193964cc683c8beb0a8a6480c2e4aee27225',\n",
       " '45a95fc9dcaa9ca960092b7aaff52c996312ceb25968da61b1d29cfc57f34b37',\n",
       " '69988bc71fa75a44ec65c49e863a8d215fd119895486ca355ca75f7597972ddf',\n",
       " '4a217d6935bee07fd4bc0ccabb15838c29833ad0c2fb62a368ef74ad0a93763a',\n",
       " '56421e340635bd62cb9df0c1043e39553bddfeaa4fc1279ad21bf16ea019cee1',\n",
       " '1eeb557bab2781f04ae9d7e65ad9d0b22769239cc3484bc743203bafa4b55405',\n",
       " '98493b03e3863349251bfea37b9854517578d51801cfcbbc90321b3be9dc8401',\n",
       " '30b5c38fd88b68afc0a7f2042c6d8b5c98659c0995d1d2ecc0319c329a50539c',\n",
       " 'b7a3778f3f30414dcbbea9f93e9be8d878b4090b12e759a68ec5ef11b37de726',\n",
       " 'a285ba2708c2f8dc7872acba5342a6ef0ae2352813eee734d0fcb129be00a602',\n",
       " '62b2c8472233ad7803270489391ab9b7890189ddb18465809038c01141f072d0',\n",
       " '2fff5beca7b9149163c9a2d68915e283f02c2388abbdb86d21bdb930311f0438',\n",
       " '1708197a630d26a660febb40e1a8ed3b312b4be009afac400410aa7891687dc6',\n",
       " '3c26dbb69cb49defcb0cf429822ef2a9407afc30826fe635fc11706f7d35ac41',\n",
       " 'a3ecc90275231e7d9f10427d843632b44ca54e2071345183df35ba6a2d1448b0',\n",
       " 'ea97b5b884fd7a6ca0fb728bb37c6d0575780ec98d5d264a27114ab1f11ff27e',\n",
       " 'dda417abf7b3e79e23c2e40c6429009fdcc08e7f331d7efa5905c85eb33033e2',\n",
       " '872d9ffc8c378df8792967b2960687f42cde24806ab09b07dac61a5286f9fea2',\n",
       " '3fd6b65c986d10c7635eebbf056d5f2451b4963a3ce4f637e2a448d9dfa6261b',\n",
       " 'e94625f10ef639eead541e231c0c985cae7e94e4610567ee0ca806aca8594a7b',\n",
       " '1f05300fa8239eaf4db66215216b884a13f640eeab02bb1c6be958e9da643a2c',\n",
       " '407eefebe3f053faa60b20073339c49b5df8713ef502cbf3e5e40caf30899244',\n",
       " 'a4051f3c134292c6db76da3d8ecffc66c2d05274828ba52f4f4d805510701828',\n",
       " 'bb2bdfe3b1f66dbbc11e8612ff89b7b6fa5198e0dca6a8a8981490281f2c2c1a',\n",
       " '96314147f644e79005548255938883b8429861657e981fc60dcc7d5e644e2b99',\n",
       " '3506ddaf3e33f7da6c1f099aa7bea4e01d040d32532e142ac9f7b78a5de50a06',\n",
       " '1eabf94dfef36bdbfb59b2f38e3387c4f4b196319a3636ec208badd216cf99ab',\n",
       " 'aa7b731065fe2c470ebea371d17e107896619d4966742fe5189be5ca98b97d9e',\n",
       " '6ab18cc062535e6905ecd3e6d990062aaaf282bd4f16e639b5e13907f40af154',\n",
       " '36f9b9eea9301e8c7c6cc4e9dd18265f52fa7a8cf72a135c0fca050b5e1a6685',\n",
       " '9b59bbad6f08e9e22c8212d286b257e48b199ade8875f3e8ded6bfa37ef914fc',\n",
       " '75bdb430ab669377d2985261fb8126bfbcceb0969af5f78f97faced85f35e875',\n",
       " '40e31da690ac7ca6287f94702de7b5e53b507003e9e40426a7774ecbf5913377',\n",
       " 'b0566ead3719086224efc7886f6f7f0c5ccd551dcce19d5b2130f0cf99fefa35',\n",
       " '6b93baf82a47b63af922a1ea0ea361bf835105ec6da58d78fc7d434239a1099d',\n",
       " 'de4a84144d42469655470f4b57cf427da82b97bb94350b66749776a826b3b701',\n",
       " '21d62ff1f54f6d4abf6a253ea6e7e53323c0bee8775b7a49a542665a599e2d35',\n",
       " '67ae3eb6fcce75fb1154d4614ed0a82e1a2f7f24ce2fd7a5bf10a9aec91ee4ea',\n",
       " 'd5142a87550f8bf4f9ea7db3fe9a9cc26e0066063d8a36d20730233f55c30ce8',\n",
       " 'af036541f3b6fe91cdafeb9620126758d6d518e93c8c0826fe6ee7bc888bd66f',\n",
       " '1fa7f5d4ee3f8af5d2f72e2590cae022cc4a84810e665151cf3b4ac4422f778c',\n",
       " '113d1124dfa6b710eca27b20fb07eb952c33a764cdf4454c35338faabac03f7c',\n",
       " '5652aabc59cd3c7e8c6d1cc844255a70610cd083ee8c1cfdb7233f662c644d94',\n",
       " '75ad50a96e4dbd9a16ed94de86750eb00376ef5f133451b059dc4daa949b5f37',\n",
       " '54999f7685e4b7ffca3b3edff0be443fc876b0e58b57965081d29265ff9b8cfb',\n",
       " 'a50ad97e2c1d2c7ec834ac54a4fe0718a528e31ba4e4f333a24f98a9e067cc80',\n",
       " '8693f46deb4b53068ecf0fb8640af3daf931cb19330e7b8dbac12cfb0eae90d0',\n",
       " 'b75befd3f6e1fd8be2a1b60d37d7d461370083647f8c8d72e0275fba762bf3a8',\n",
       " 'e5d5d507742c70fe6ca737728789aedb2ac5f184795db81114d6935f5436124a',\n",
       " 'ccb6d47a74173fcbe681b73613e5a10279a723c99b72bd68a2954809e9e9da33',\n",
       " '912be6faef526a2cc07d731fe941c89dc8a2c4586b5df299e9138bab27c8aa1a',\n",
       " '85d29eef13f9f5d80f9513fee4ad87eee05631833a8417c872968bf4acbc72ba',\n",
       " '06e783836489dc45a543cf780b865ec200021b19cb2cef62123b726c4e4ae04a',\n",
       " 'e19bb139d33fa1f84c08d556cfe07acc5f74d93d607c119f52f3462447122e99',\n",
       " '611c98fb9a3898ed8b12169f8a113c88ec03dec4af44a6643d04d929a6befda4',\n",
       " '200186eb90453fefaacec0e897eea599ad89c7f07e63ce2706986beca3450462',\n",
       " '1b64b83a050655edfe09954d7205a83ff9620ff74a88992135e6ec9e8e4eca7e',\n",
       " 'b1d6776bc27ca4b792c92b841ec425f5e57b5ae4c1d3098bba7b45787e0af268',\n",
       " '63418f9fa524a04910306858d319fe1f44dbbeac5b9b26d9a88bce87a5ec554d',\n",
       " 'e60f53046d237b1558c801da75eb7202a639aa5df0d71e7697f35d6aa1a34ea2',\n",
       " '51b400299c08f30e876e0b13783f5183c6709c748ac9c815a554db3ff3b82967',\n",
       " '816773fb65e3c74ffeb6816024dd2dce25017058197ceccaf3cb395d4d1d95f5',\n",
       " '4d6d70da4a0dcfdd45a2142e44ceec5e2b20fb287c37a63201dc7a35f49e2351',\n",
       " '1e371e1a3fa2f2b1e5f76b6b338e322343f066f8a1617253dc0bbc81d06fd7d0',\n",
       " 'fd072d0f20d9a53d8d068604b3500b4befd9c3c5954342966d34d4cfa55cafe1',\n",
       " '8970a4c3ac264acdf26895d0ad9a6588d966de4de5688f89a8f7db35534ab9df',\n",
       " 'bc9052a1e3da494016b15a600a347a796e5b01aaf94336aa1f907b3650789f9b',\n",
       " '407f0637c99804414b6b84189f84ec98257150c0ed85b23d58d06652b1f87855',\n",
       " '6045509b5f232b9ce704f74b067e13088c36a80cb3b508de3a4beba8b6759029',\n",
       " '57c02181e7ea4e02e0d746a4a4681ab95a155dab78e9d70c1e0bcf02d596b6e5',\n",
       " '7d5fa5b31f820c59cf76b671412b778bffc2abd9baeefa511ed0b13774bec1f0',\n",
       " 'e436a374fc15fb7afc136657606d8200400f4aa4b0a168eb2cf02a4543b5ea94',\n",
       " '301c566b6535f5779437a807123dc84d198a9aaaf9199bcfa7082dc84b81b4cf',\n",
       " 'af7ce392aea0f850fb7527de93785638aa6f85a360f49e7825386930bd67cb41',\n",
       " 'e61e1b2661c14464dd0a5a7a12a6995dcfa846340f62e4696bebcef0da69ae6b',\n",
       " 'dc79510ab023fd76f23631c787defa1586d9e0e804c6d1f9c7f06acf9edaef06',\n",
       " 'ff2ede5b824de3b4980cb15e93a83784c4d6660e7113cd1bd69e54efb2fb838c',\n",
       " '4b22d6031026020cc3308a06eb36a52737985fd10c3c21d1727cfcadacb1d384',\n",
       " '4fc656a4ff2dea667b4be4f98b5ea493f58edf5ec35c17fe3b27120cc1367678',\n",
       " '708cbc0c41434572d7779258ecbd7a05f46d221cd3bb3f62dca722ad52814adb',\n",
       " '6af7613529b46f93c9dcb985f5a01890db08312cbbfd68769c671f8fa751c9c0',\n",
       " '69809782c32694411f589a2fd982869cbb9758350b6227742f76caa3baed57cc',\n",
       " '5fd291bec27e76e27af9729521357fe1f95bb4cf4ecf6398c6205b463ddd6f5d',\n",
       " 'f76720fc1573571be2a8ba1c956a73947dc9a4990620c1a82a6440c7099927e6',\n",
       " 'adcb01da5fba058c8618ff51ff8771b49f434e0bb630e2d99feb41bcfda7f60b',\n",
       " 'e4fb1fce62825d4a80a6868ff4387dc29a09a2758e0430fb9bd5d0c3ebec798c',\n",
       " '58c689b999dcc8fc14290033b5802ec46abac3d1cd603dbba85480e54cdf7f54',\n",
       " 'f9db312d55b0371e735d76cd064171468769a578bcef7a69ce2fa7041da26cb7',\n",
       " '5a2881dcd6a419ee5d94d70abc06fb2b0cc1c1080b70e5899cc92b19f3caddc6',\n",
       " 'dc4e9f47e796187591aec20e004b981ea8b5d21eb5408fc125985ec96affbcda',\n",
       " '0c8197ffc775d5bba387bc070e8d792b02775b9a6847335dbe3ee5c61c582159',\n",
       " 'aba4fa5a0d276b8e14e5788794357ce66ad60295fc20965a7ed8a47d56bcf4a6',\n",
       " '994a771fb7bd59c9aa1161024b65d2a69805dfe32e93e778b405ad8301def011',\n",
       " '0f47912b82fa143ae77395106119067770cdbc13032b7e404029fd6c37c25384',\n",
       " 'e6b0ce0b1009050eafd7d7de2a9d9839eeb954fc9cde60191b01de4e229d3c54',\n",
       " '0293de2a1f69593019acd8fe1f0b540aa86f6c404555182645182ae104aeb248',\n",
       " '7bfb42b7a8efae1cc45709a37d16bd2c8d7ac20a8cef06c6e793ad5bd0e625d7',\n",
       " 'ad9151a0bebcd0ab87769a75f5ca362955477b2cf52bc05902bacdf72c2fc62b',\n",
       " '16d768c055afc054edc272b33bc0324892e2ffd0de91f6b50a5a0ca39d57b0bc',\n",
       " '1c38d24dbb3e3b6d45664586d5d2f58c8f51078401b5acf2b87a943766370701',\n",
       " 'fbde8c152016aba57715c5f908f555852815026005d94647848068f936f97118',\n",
       " '1911749cc22f01703b576032f782e71f63b4f4e71199d33c321ffb08ad9e9df4',\n",
       " 'b54e7496a711887aaa3ea6f24c295eed2cfca017de1df7543e6f33165d8a3159',\n",
       " '33fc816cf9b5fcc6170cb7443832e5736342b1b2f6aeb9333787e1b580497b59',\n",
       " '63d40d966683315dc98dd7bc5d3c4a9c371baf577adc867ce2b1e427d5a9805d',\n",
       " 'c74e7973f826ee13187048e42c91feac5024c725d83e0528c7f0d055c6e087c1',\n",
       " '381e325226e79dea19a4b4ac6076e37d0ffb1aca41eb0c919a7b456527209662',\n",
       " '1999087f749e8ef6af0fef090fd518d39c30ee7fdc38ea6d103f614f93837561',\n",
       " '3535d8908d38cfa989169eaf7074f353e84e8d7154f1c4bbd82e0d6eef5a0962',\n",
       " '0fc0d6a9e87d6486a995b6068b516922546b4fb37a3f36f7aabd354198f294b7',\n",
       " '72f7003eb318f4bf65ed66af08143a453e8635e55b59e7c171e5a4b5de207291',\n",
       " '37608d2a84151849a91f5f286bc87e37f561986f4950cb14af6205724c439348',\n",
       " 'a819198b9eb00bd7e5b9b80710e04a5f103b3ade8841e65be29f4225bbf82a2c',\n",
       " 'a3e0530b40d6d91488db15958a6a8697853c798fea5df4ccf0f192e09d302a79',\n",
       " 'af671daf43df2977d6ee4466011c98a179e865a2adc2434e0bfcee415d79c423',\n",
       " 'ea9e40cedee66e50108bad71ed826c472f3cc51c9dc8c7658877ededeb3780e2',\n",
       " '17bda38c0c24100dcd93e364d599e9036356fd586f83b980f3374bb2f8a886da',\n",
       " 'ce0defe72a89a6ebcf696c6d452e2afde58a5f8f326be96178cad5a35ccc6d01',\n",
       " '9bf99a18a68baa799d9188b2173057dd2e1393f89678accd30f86c6cfb2c6fe7',\n",
       " '5662be2eb33081c9c6feabea03d1035c3894052766309dba596282e3a22dc04c',\n",
       " '7cd4581914086a43d183fb2c4580ecb94a6b1d33269eb42bffd8c3c1df0b38d9',\n",
       " '0d3c391721cb407ac605dce0b967a67a764812a212cd3e07f672f15d57632dc5',\n",
       " '116ebd27a805f9d12db80cf85d81eefe82eef93752f49a34dab686f6aef3645a',\n",
       " 'e9e092f7c24904e66aeddb5de3c40b12661fce722c748d9b137318c607508703',\n",
       " '0e33454fe4400411e516457db64ab931ffb295044d3ab5ee8d5670cac1cbdd83',\n",
       " 'b4e276e6209d027965c384fcf01f35eaf25a6a70b841a1ab51f4aedc9051326f',\n",
       " 'f3e5801f1c884f5bc6979b8b3e5a9e10753272f72fa197c75dce4ee23477a2f0',\n",
       " '44e83d808e6de868bd5dfd0396ed2a072b511297546a9683eef53a8c8e2fe135',\n",
       " '8b394dae243dde855d404bfac7cbf95d725b9eaba773782cbd5d82d6c0e475a1',\n",
       " 'b7ec40868a60a986adccb7b0de7b9bdaf5a743d15d02893d9705dbab031622a6',\n",
       " '28455c5a4cc784f3fd9058b949ededc6b4c1dd4d704e04b7b652837d280d1482',\n",
       " '37ec449ef8ece5429ed7715df3921d889dd330c56be39f13a60600e4ec0931fd',\n",
       " '58e5a0edd1f455ad09674982e091234380c3d9f58545d30cbdc74da2e841752c',\n",
       " '19194cf930987147ce4f3df13a2a97657b052d332fa0ff7bcf7d9096f7405953',\n",
       " '38dc6aaba5be4c394b028e158192b6f152cd8b7de6307327b209342a0a69d329',\n",
       " '545fd8a0bfe140a8605531a522eca745a58f90bc455569b664e4dc527800feb1',\n",
       " '6351c31033af7c68cdd27cd0013f144706e0307f529bfa7bc623f99857a76def',\n",
       " '7ce397ce313218474f528f981b21d0464551973a333a8a1ec9204a53134a7aef',\n",
       " '3fdb608fbaa31ec5935e12160435acc3d3de8d888fb992b1f4df69ce9791b465',\n",
       " 'e2cd95b2b427d4e1e3d9c369ff77d97a1f7fcf0642a334b22a38ab4c8728d486',\n",
       " '32d5e594456c3955e247c04ce6cedf09f47f4edb7691e7cd7f5b7c44e9afed4d',\n",
       " '56db62f1626b7aa801fe4ba1cccf91a9d77cfebc4bdfb88937ad6c31597c8c9f',\n",
       " 'a5896a90bb6dabb3d6f5454585e45009e37232e5f066f91de408e3a223f26005',\n",
       " 'c112898f6a24bd024bb993393faf8eae033e0de380540373bf229da5ef9a79b1',\n",
       " '77680497c8cf9fb0cab95bf75805de400cc32b694a5237c4c4d20550081fa3d5',\n",
       " '4580b5527ad0ba2295adbb0d4b13bb40eb9dc482c78938ccb211b3304eeac6b0',\n",
       " 'abacbafcfc281eeba82e8c9076d2a7d43c3b36daa0aff5a7ee0c24085524e373',\n",
       " '79f4aa846283f5f5a9df0ff96f91fb99cde104d797399a07f241105fce295654',\n",
       " 'e457d5fdd3a96a18df8e29a5180d7bd3945499c9f58c3f9790da81aeaef56d9d',\n",
       " 'cfb3324578270026acdf554343507c796f9a26363d779f52bb20d301ef11e4f6',\n",
       " '33372a0e1d43f04d1562c699bd51c6017e93502da77db4c1da11b0db9a3f346c',\n",
       " '4a20b26b8af80e9bd21d8eafa2f3d918a5fb99c46a8ae4bdf49e5a23716fc0e4',\n",
       " 'f48898918e7411ab71b2c63da6ac72ea7b3141b3dd5eb5980d9bb43d3dd18ba8',\n",
       " '2f2b37b253c0bc86e20d6c4c7a3e69c9793324dc344b13cc7c4a5052ac7e134e',\n",
       " '0dd7d53443e92c42386a34f2e50451311651ff2817bbb332f288fd2867380b7b',\n",
       " '9aa7653ae11ea69879ae596a7e54c58fb0f248c07e131952f4315bd701a6e49a',\n",
       " '54431541c07af61ce8ef2a4bb6a691f1ef993ea8457c045a1f88384a05129375',\n",
       " '4fa376477c17977b93c8f556ca21c6f7636625f0033f852cd7e8be45acefea70',\n",
       " 'ee32f22cc405a23f014bc71d50c1fc157d8557988e413db6daf735a60d7c277c',\n",
       " '92cc25c9ecac3ddea2b81920e896f8e0957c9c03ad29a17133e967df2b934a2d',\n",
       " 'e3a296f143ad5e98ed3782273eaa4fdc79a6eabcf7823b337997e8f4375b1c51',\n",
       " '16bd778663c97a87d220d40d7809a4cc18fec0230ee634b4c5543c3a8a08350e',\n",
       " '67738793ea5d410b3357b6991344cde9bd3e7cee29305a2327e2d56e11de5365',\n",
       " '5fe34c46b582c44591def844a9a5e78734be3079c6595f034152565c6e6de024',\n",
       " '9651f8a034802e5fe958361f39d4bba3c2fd78aa42bd6f855d8bd384387940ae',\n",
       " '973efc56f59e7cfe2d6dc311e8014fee7cde06cd2493a54c83204ed6c22047e6',\n",
       " 'ef57666de45627bf0a005abe3ac6472b4728caffdcf29de24e4b08e92bbc3a33',\n",
       " '5b24f7ef8ffbe7bcf65efdbf6c6fa4a2e0a883cade9de666389f7a5b7bef0c51',\n",
       " '9437cee9742bde5aaf1703910dc07437281a1c794e2c0c7935977bb694486acf',\n",
       " 'dd16748cfb0935cfce91da487f5a04574d174864191fe7fd8dbf2e01198255a0',\n",
       " 'c812d7b87e8f8156941ee06fed3ecef42bbd1251697854906d9b9e1d140160ec',\n",
       " '955355483f67f47dda64c2342a1bbe50d3461ecdb5102c2888ecdd10e90dab14',\n",
       " '95673c0c5f4686c810e973211937f76d6b45b0cb6bd13ace4507985ffb06bc01',\n",
       " '449a25ac12ce1ff3e69b6a2099573f2e3ba184539fe25d14d663fd19076deb7e',\n",
       " '1035b8b720dc574694e96596550b2c6667193f5ac074507c02561b755abbfec0',\n",
       " '00ed3d8e35a9bfc9450e8230967359ec4f2dc43b09c4975ca89a5ea95a76fd4a',\n",
       " 'b1c17ca7421653a2f0840d08f48d084bb2994b57f65029487c4e6229dd018b03',\n",
       " '2f7862f23812cef90c475c6661bcbbb5d9a9a6a77fe2f7250796fc3363d07865',\n",
       " 'b4d8c76e423c5eb3e2a3e72b122232ce3edfc072d2c49cb06de61aa363dd9a19',\n",
       " 'b41869b8d6de61770d1152bb227af44d96385361085801599983c9fb25e76a3e',\n",
       " 'fbbbebbfa8c9331fc1c889a992f9b12ee00b6b7acc79f481ff9b61bbb71331ad',\n",
       " '43459d13759caf3cc0528e33c37b1beb31070a0d1c35f5da5e059adb4609b336',\n",
       " 'fceae0914fc54c130ce275c3e577cfdf5fe5aab65e3020942b00330e2ed91cb2',\n",
       " '2575882493d1f3b03d80424bf16b12088ca3ddca96a5dbab74418ffff50028ca',\n",
       " '4749cb08ae1b72688b3e2bb7cee305ea81fcd6544b10ccf353569f46c4377128',\n",
       " '4bbdd58ef3412da1a890345a431a8ec89b197e0b9aa7020674ccb2b356942042',\n",
       " 'c2a0d21d1379dc114daa842f25846e8afb88c81bed1bbdc302a956b5822bdf37',\n",
       " '6035204902884f62f93ebeecd8b8c3a5e74493813cfc9d7af81e25590a9a128a',\n",
       " '31ba8cebe1ae1c9ffacbdadc2b48ec5f878cdeb775e8051f82636c91c679c4c5',\n",
       " '167f68606fae046304152f1f5af0dd0f7f2e484915bc107e5dfb816c1e7b5752',\n",
       " '907e2a445abe27ee0d5b9d1d09f6e680ef8ebd7022a55fc2f011dfc6d3749617',\n",
       " '39d77ac8cff5c98fdf736ad1ba657872a810fe1f8ab24074271c208ab20fa61b',\n",
       " 'f714b367ef37ae941109649374c171fb7b1d9771bf20c69def2f3c8fbef7fa5e',\n",
       " 'a68985515177dccd41824330423c0644fccdbcd0b0b7c8ccf713dd80f5b15c93',\n",
       " '9be442abf1d7429d8c8924a31ca2588432ba5e1c89c95b2b594529f88e31ea3d',\n",
       " 'ae56202dff7fef1d0a4474b0d3eb888739e95255e5949533afba4e64e84dc151',\n",
       " '60e4b39ee6092ab79ac01db433db226499d81e77db9e06707bbc963f7d3591b7',\n",
       " 'd7c98480ba65a3b684319ec67bdcec83bf65c55b123e774a913ae981c56788c5',\n",
       " '7e5190c88cd236aff14fadb550f197c8345410b812b8aeaa14085751f629ff1c',\n",
       " 'fc2eeec1a2271a4ff9a3597c97753b017150fadb6890f3d5dd3c04b0d35e1fa8',\n",
       " '1d1c0618137af0dba0adacc115a30fb08187295f2851788a3d61b6454ff79bb4',\n",
       " '56e0739dfb9e873042073fb361f66c44eb0b2a90a5790efe9853053350229bff',\n",
       " '6a41abdaae9661e2efa2cab27fccd243f8a1769209ff95035b3a50d2a70af3ca',\n",
       " '1fa971414c7d668798e7ed970a6e5b30dc3f338a773b79401fd26f4fb828ffe2',\n",
       " 'bacaec1bf6a9a402e278091d9b432c933debeec2b21724a3278a5d4b6eb54ea0',\n",
       " '54f829229b475a79a85763ca59e3baa3b6283a01cc954ee9e654aeac29cea5c3',\n",
       " '8b563bc8283dd287981a3678faca666b91b038285a8c528b966892bca7d144fd',\n",
       " '1b675c1596fb94972500963c005bd28fe1496d06644f09e58a042a0966700758',\n",
       " 'c1a2e8a3a8d79ad16ab74f00f65bd0694dae5c3819cb09f5097ed8cddfaf622a',\n",
       " '82c1a001e9698dc78b307d92451cb92fa0984b66b44a3ce0133b137f2df86db4',\n",
       " '80213ae85c5ca24b7f7f36714d5680f115a8a75290b7c023479e9c53215b29b8',\n",
       " '0fa2493331374eb8ad65c40c037365f13a77bfe6a7d65a89f536eb68e54c9a79',\n",
       " '6adb9c6ddea8c0612e8d852639e348bb2c1088cb0e216c6d8aa1f7f29af8d33f',\n",
       " '382f83c8f8abf0f3753c56b0f6466a09105f5add17d083ecec2ccb22ba85460f',\n",
       " 'fdeae10f480ca82f9cfe7bc779cbcb0b504c9e4f07fabd86f329269522211521',\n",
       " '59fc1feb3d150e2f2884c9022390d52dc1792a88330da5b6723e3e15b0d2dec3',\n",
       " '9b0dec932145c6f665255e415ffdae1b21209305b15cc0d9a0333b04ac89a371',\n",
       " '1f3bc335a7914acdf7d14ee4473911c58dcba49895f8de0330c0c065e012f336',\n",
       " 'e40dfe8ffd2ab0bc823a14346c5911075220e9b87858009b9fee42af76e724a1',\n",
       " 'e1217951743b0bf89a098e4f25c583cfef916a8e6b8e77bd16b8e6ca47dcae58',\n",
       " '4bea15e89ae43f257c96d81d118ece618a20632fb6fb769146568e91df3fa1bb',\n",
       " 'e72e83af561e1b8b983fa39d40bcb281c558d2da5f4661c1d5ad863991cf215a',\n",
       " 'a2eb12642495ec80903f0dba945232e3b21fec69becada8f37e8c7a38c47ed10',\n",
       " '21a098b78509d62c70a285ce75071ce75dce49fddc9d222fac62c11edb593498',\n",
       " '418cf45f57a59c74233571a088bedd3f67ef9f58dfecdf4f52d491b3eee3ef07',\n",
       " '57a230c73a003d17fa747ff3588d0146ee7f0a4130a0ad0f6e52cb98f23bf949',\n",
       " '3b318bf0b763435a0eea02e459dcf67a8e8f058d71ecf1ea0fcfef8d9cfa750e',\n",
       " '93450f3c50468f1be4bc211a6ee26a5d63a87533cb80263ecf1f97878802db68',\n",
       " '43df4e67b1f3b3e2be8c76502944d28b294138592ce22a1fb68bd9634d49bde8',\n",
       " 'bf1b9010999aaced68dc21a1c6400c84f07939a18c71abe96033603eeada2f3e',\n",
       " '716e91556a702d0454c0fb51da9262ec2233939a72d7c6b4e6c149667bde3bcd',\n",
       " '4410d19e4444301b08cc8c527ed4c52fa162c586eb7f7e287623870377090444',\n",
       " '93951bcebc5ed75cdc2452c0a1bc9e391f5d4bececa6cb6b7effb9c089ab6bbb',\n",
       " 'e53ed609fc1df42c3b9bd58c6c7e8bca111955d1a8d003870c81873f75017fea',\n",
       " 'd1448b3ddae4517f460c9f61e98a1198657bf0b4121b056f1b70d85c2436e272',\n",
       " 'f1f81bdc3262477031d6d1b81bc5095d2691c4b43b0c5ef6b5e3d3dac8b84115',\n",
       " '84e369ff98db1dd0d01eea77fd380f191c42c11708e6bda5f5c0ddbc9ec8301d',\n",
       " 'f7694ffa808df0f65f7eba7f95a40e785d21f40f7d57ee0c3de87180536b652d',\n",
       " '7c18b7f5f0d47f6794c65218d6c9b2a1849ae08064be7a9b61b8d3ddf29fcb8a',\n",
       " 'eddb348147fe91e2deecb433f2b7368004d4d77fac74bb4e3979ca6b4a7ab000',\n",
       " 'b513198595afa594ac7b1ac9a517db063d14733925e15267338e250d56c6ef59',\n",
       " 'f443797273b54aa11e37376b20ade11fd3087cd2ba49b40af620aa60c8e77fcc',\n",
       " 'd68b1afbb791defdd1f6b34c2eaeeb9dadb743298b351bead71dc99a3bdf96c1',\n",
       " '6e365a8d82ff1123fcff75627fdd8dcf4c0b3f37b7157a0ce61bfcdfe7e80bda',\n",
       " '3161c408589827b75c516464b7dabc70deb03216ff4bd00606d9ac869d72abc1',\n",
       " '272a4d04227f001010ba590ffb3efc4b012107d03610c6f47170e3cd247958e2',\n",
       " '41dc8e5d014898d7b1e98d5b6dd8333f512d9bb424b07638b70d6fd2b1a540ca',\n",
       " '60fabb4db4b3c5b77dea216a97838954b4f5432f66573d567973ad542179ed25',\n",
       " 'd4cd363f87a9d981bb6ba8477488a6bfb2ac84f0c742535832564457a815bb06',\n",
       " 'b4f26e6314cb6fdb005e1684f4cabf5c8d051da5026a946aabfbe8bcb6c1bd6c',\n",
       " '622f0acd682036a869e8ba2a5ba26aa446fff9ba661daf2d147a6b9351d5a10a',\n",
       " '4819443ec1e7d201490e1122979da28106913f73d20fad6c5f4c31068318db4f',\n",
       " '322d529b4ceae4a523181bf82d5edfee40d1b89cfe4414a79d3bac8562208014',\n",
       " '47b97cca1118cf84bf1f46e183c1c06708f85775436a626fd85ca3debdbf1ed4',\n",
       " '6965af5d20cf4b94bdc22c82754c15d7707080b0e057595a96d14dd86bda3887',\n",
       " '04482472ff16994c91fb097c4f9b0486cdae14c085f1d46f2e4313e00c42a3f1',\n",
       " '35937d51340043b67c209d679cc12b6cc9701a3e8480906a903cbd2a100a2b5a',\n",
       " '9f004f310779ec376cbabdbf2fae1a432e2ac1b0215a58bae2ea017d0a0c8718',\n",
       " 'c9b9fafc0fc370206bfdddb9c31f21e578bddf9d868ed9e3412b562b0b8d161e',\n",
       " '84eec6551c9e3aca6f8d94f2b71b78f41f42fa2d860b4348b83be71b7dcb675e',\n",
       " '8180c70701c0f328cb317461be11a2e73ab0114b2273e41639bd488db6af4798',\n",
       " 'b3cd2ba4d1bf1c89b761bc16847e34d45fa7f069676b3bd1eab8a7d29684bcf3',\n",
       " 'c20eb20073eac1e9d5c988df1b3663c8018811ef7170aac935279a6adc5dfd1f',\n",
       " 'e30149e49fe67fbe7a6b0fdfaebc95bee7aa9b18e4df94572e3e5463bf6fa8ac',\n",
       " '2b3605044c80d133dc00ee4d003a03de70315fc305a7210d78afe85a72fe4bda',\n",
       " '2671c352c381c9561e9de53b80318444520d5052f655a1bbd31d59ddb9bce321',\n",
       " '9b53b101e1753c489bde786518773efe734da6c1e5c63986a7476b1c6e36136b',\n",
       " '36a2e438b5130773af590ed0349615e8bc921b40e29983fa4a1d791180d31872',\n",
       " '213bb035c7bd00d1da4eb29f0dd4eeadbf657e393711aaaa2b0fcdbdaf3803e2',\n",
       " 'a1e326bf8a8fbdbbe1eb760d7297a551098f82e6ed38516bb2e3124b975d83de',\n",
       " '4bf028ae893c4d11e62650875f588c879ea6bc8c232b1c5af1dff85199e0c545',\n",
       " '3d0e0db766fc0fa2f1ef19c7997e9d2495e80c5928dc9bd5eb1e45d254093eee',\n",
       " 'cd6389362904e793594724d60ba752e77347befda7754c04e34d73e372f98021',\n",
       " '110af2145791fd6d21b3a3bd27756308f12298721e19dcff3b44bee7f4b096fb',\n",
       " 'bcafb50e36d7ccd7dd053b9d9f1427586cef3effea18b4fb60f87bbc18f544b5',\n",
       " 'f023b552bd26b1f093ce7b6703bcd6361bdfe881a4928619f87a0b70540b7f64',\n",
       " 'aea1c7cf0818a77267940215a5cf1ea67700913860c523394c028213e6ec4941',\n",
       " 'e2b57cf5123a05f71653b0f4b93ceb25428cff0a790709d10befe86c1756eeb2',\n",
       " 'f621c198a8905fe3ab8a3bfff358ea444b63ae010b7a42316334bfebb4f71c35',\n",
       " '63f02fb33c6b1f75bd0997058e7fd4ae27788ee42ebb99ff065036efc789893e',\n",
       " 'bf5672577dd7951f1cd0d1528c5e156118ccd38190662f8acb839d722e978076',\n",
       " 'beecb4e3ad1f052d96f00115e742fe8a9d52c946fcd797d7e36449dc4cebaa7c',\n",
       " '3580112c74733da087246c71848069ebd105db366d6e7ed0f8b1986c90d4d6e4',\n",
       " '22430ae5a3fe5fd52313b30b15d64de8936b9889d1515ef92c5aac1d48e84f05',\n",
       " '6c5c2f8b70d7b74686b9eccc2ea4939aeb8e0ff7986575171bd14da2a3a0fe1c',\n",
       " 'b0390689801f4ac2fae79a4eec73252b7fab0bb98319fe30c3004c54de3e5b4e',\n",
       " '14621e6daa25733a9506cd2d870bd3938a16226525f5b3b9945778208f902e4a',\n",
       " '1c93a7b5ddd14ab8b868bffcde01c0a574093bf54c32b6a6e0a949dd08e325d6',\n",
       " 'e252357eb6c9e87417d6b9574bb61697e0ec26ef1227414b34d36b524b8f3f70',\n",
       " '4a64ec88be26e330081431262c83a09939271b1384211266f99b10099c7a6249',\n",
       " 'a2f4f1b0d4f96a3122cffd797faeaa040ea37fbb163763c1e62807db0edd1433',\n",
       " '9d5578d413940d42be16d782a3698013dbb20f7ece07753cc8d93d24d5bfbef7',\n",
       " '2b51c10525201db3a989806c5c2c797a9a394a6a5b46011d98f0b31032b76035',\n",
       " '48e05852d3874fcb7c08251a706cce2722ee4f5564aa6a6e0c447e61afc938c2',\n",
       " 'fda4243509c7a24742527b4ba97a14429b57429d0eb55da59feedd293855b056',\n",
       " 'e26bde1516a1179f6d9ca1427983188b8a045c00a4510dc8f0e6f00ef91871a6',\n",
       " '6b843bd91ec517ad72b197e8f1f9e8e98f5fd6fb3fecbcb94e7a075e9b49c02f',\n",
       " '2757b91c762a63201ab025ca517de493802e4e2e9199758955bb641db40422b1',\n",
       " '6d6fc2165bbb25adf47e45d39d19e5b45c67ea69b5b2ce9b4174229fe80d7128',\n",
       " '07250e9c18c4cfacd1804403e05210532c9f540268469361854aeab79aa13291',\n",
       " '5c5a37021b5c23a0073b90857a66b86a0caae2e391fa7e5ec3d0b5cc28a0377e',\n",
       " '8878b5f3fd61f919f83690e39400fdc96d243efd120bfcaa1729711f2861d4a6',\n",
       " 'b5a92c36f5d4bcedfd3d45c85a19a55f36887649549df1b4a6886123fec34374',\n",
       " '41620794a9f3d9254ccf5f7647d3234c21c03abbe4c779354e8ec6ff5d33e758',\n",
       " '88dd78cbe8d83c15ce4216cbd49a175b3ae0e40df191c7c63f5384212ec961e7',\n",
       " 'fcfa34b9a5abe15457dd3005756a89d91c6252602baa407c2113f512f9db8594',\n",
       " '3f66c38b31f8602039e6ba06d87894b498021d6d0cfe0c8292e761f94665a3c0',\n",
       " '5166f56cc5034ed2be4362a0db4cad30d6f2f5d2a35d0ef706ec9a623bf99c06',\n",
       " '8e6597aadf549eecc73825d087dee9bf901ebe132cd65de535d42f6e8b39de52',\n",
       " '0d3c9498ed684ae63ccfd4e0d786cc9bdee82de08938aa4ab3ad597a410929d7',\n",
       " '19cd7206328e4bce09b471487600d3f8c7c38d5d463d92ad1e710449e1bd5d3f',\n",
       " '31c9fd287cc23fab9075de44c7b4bacd5bd5e530287462515d1ebf615f8371b4',\n",
       " '25e90d7bc024e28bca4d2c71288504b153d8e2711c3c2eacfbe4247782bd1933',\n",
       " 'b2df3b19942887111973d5a44441b60c144cb4950776bbcd8b25680832d15254',\n",
       " 'ed3729cc5ff862834eb925c622a4c59ff600b0573cd5c1601c9331631ae435fb',\n",
       " '7ed2a6a197458064ed811240c13f02e249c630fe6189b40b3e11e45776068085',\n",
       " '36e957566708e2ac0f185471dc1fe46350a6ea9cbd1dbf6c07ceb6d8e2889f02',\n",
       " '7a6b04f44f1920875f53683b705a75cc2c30c56d0188fed3d766511772d4c3d2',\n",
       " '86d0300ac71e92b9f3b46f55fdf33f1f457414b66c287ebd2a5a16fcc57ab747',\n",
       " '660bb9fde55bb3e8ab78309505302c295f564404cf05ab2e940cc9878da19769',\n",
       " 'c8e1168cf6c8de873679eb323df0104b83d21f48cb56860601ff61b889af4617',\n",
       " 'dd71f462f6b6766492fdb84cf99f3a15a9d0179c4c95b23f97689035dbf8ca6a',\n",
       " 'bbeb011ecb78f0db33c6eb68d3e4e411300192d6cf0f02fa83980e6f89f6a4e3',\n",
       " '5bef1d0e2f0827770a35d0da5bcc7a38102021bdf75e8d18a7fec9d8297f84c7',\n",
       " '61023132fa4a88f03cd716a030868b79cb784ba73ab71b534b57d84cbb925088',\n",
       " '2716b026fd418151ba135a03fc530723d6a78467d5744da3c670541536cf5441',\n",
       " 'c6096386f9798f705aa6c8e52d49a24405499c088c6e1731a93be153c1141877',\n",
       " '0d9b7646ebe562fe997bce22404dae5924a94db7bcb8fd294c99036fe5848809',\n",
       " 'c23e0fa9bd1456ed6f920c34a447df5f8d148a7544de2d98c9cf5c37bde01aad',\n",
       " 'd18db9523cb600d1d3ed306194cf73e1bafc19d1118fec722f1cec4fa7e25b16',\n",
       " '0aa6b49f259e3af82f7a7c2dc3a78fa01e75b8ab1d0384a771aa85f615ee03e9',\n",
       " '73764caa7b015536821efd5cc48427ce4718423f938041a8c28c1578d5664010',\n",
       " '15f42dd482a6ca598722449cd2b537a202fa5a8f32f184a1ddf6703d9db36caa',\n",
       " '0dfc7b572539711c5558aafdbdafb176d8436aa80814f9abe38421d67f0f85c4',\n",
       " '3bda3e1145b7d39323ccf3d2897cb2166c82cc9d0e35d88b02e5cc9b95b0ecb0',\n",
       " 'e62184136a4ee8e06f6e87c2159ff85961f1008f973a5da9ebeaacc6f5b51280',\n",
       " 'bb516732b7ac3eff1a740892220fa825ad7f1a67f83fc644f6df03b0c5b81db0',\n",
       " 'dc3a4f790f3f8f1ac777175eeea9084e66f0edb7e75d61f31355df813aa3ca2a',\n",
       " '5490afee31598a3d8bb780b02ec3f5fcddf4c708b7f27ed86321d01815b06552',\n",
       " 'eaf81fce461e1a7069a6a5c63d8bb9044a73805da14e2c75aeeab1edc6108a8b',\n",
       " '33f5fd23392864db0c31970d3aee6b2599a4256a0d644d379546eb727952990a',\n",
       " '40b0763bb556e1530c8fcdb7ec413199cf28ea7543cc45e7dd90ccd7d8888d16',\n",
       " '11c411ef2eee45b273f51da50706267d1734a677cff14ecd574bbf8cb8409439',\n",
       " 'b66e86ba13860c96ce138913ef81216dca8d02ed4d3aef96d34388ec646e2d63',\n",
       " '26b7ab5143c05044a3ac4c0ed98a30180d40bc010ad2b9f5243b0096578e827e',\n",
       " 'b89428c1a5ec48038e8e3dcfa8d8caadc6d8addfaa9d2d8957ab637a305353f0',\n",
       " '7a02c4171be90f2f18ca98ee39e8446053df2485de1c4cf578e97ba326da84d5',\n",
       " '613edc1b90549f1be637d373af953e2c74e14b5d6d46a6b3a7ba4406fde84dcb',\n",
       " 'b4e0aca58ce6fa853eedfe8f4f076aee5ef0cbaaf5add3db25ca97affc5e4d8e',\n",
       " 'b884650536cf6d644d55d44106ac9bbbe234b7256e4780f60148757372d17cee',\n",
       " '321bdee89b8a4f024b25f1a603fc84acbc3b8e0811fc9205135b89a187fd1e4e',\n",
       " '8950aea92acee8fbbde44bf3da341f592b8e8c85e310e1cc8d8caee7332ba91f',\n",
       " '7e76d8b7fc4d51b4a819e5f74888ed828fd937f619029678189933378053bc15',\n",
       " 'cdaae746d7c513ee801c0524a5c82d6b3f7255c7e31a2666b86ac30d34513eae',\n",
       " '25702608e73d6b3cc0aacd6feb4e2fb2b27610b2feca3f10ddf01d79d8c213ef',\n",
       " 'a9a34d3e28f4f1c8de76821f70686621010b90623aa61c07d374de31d0e2b5eb',\n",
       " '195107515cbfa9a55f319a9d1e5b0ee97e3bd123e854ab6e65d5d3ff66f4aa7a',\n",
       " '90016af93a7840d4b642c136e5a2974d7eba25c0f03b761a191b3ed5bd3db415',\n",
       " '2f476d384a74852de2913693f0683ee0546042087c98b90d3c9eae1b3508a210',\n",
       " '516a7f38f711605d34d982a0ce32e27fa130837c770c7efaae8f0624c9b424e6',\n",
       " 'b190571da364e5a69dc4ed395cbdcca0dbf0633db6263de5fbcbbc8bbd6cf608',\n",
       " '633c325c1e9cd4ea0bd54c40e7e9936fbab32577db846cf5e045f1dff64dfd42',\n",
       " '3a115445d80c6b144f82111ed395d4daa51d1c30d698547dcc11228739bfb95c',\n",
       " '354c178c8f782bddb38437d40335528b430c2914d42eb447c0e66485d5b21510',\n",
       " '294e738ebb829e170773a7d897df2f7e9a5fc29c4602812cfd318872e7dcd412',\n",
       " '20b5127e093d6d80cf1e283d252b4751ec006b53e2a6d3a3edd2c88369a577bd',\n",
       " '5729083fe25debdcc491705334ffad80e54dd8d9f9a5f0b7f81225fd0a51a6fc',\n",
       " 'be7fe76107dd25c059f575b013f97a62821de27597e03fce074468c5d78ec7f3',\n",
       " 'c9108660323f84cf1cc429f6a66076ebcc05827c046ae5acfe5bce19e4194e17',\n",
       " '471c5d8c8e5a036534160b7a2e30b4b5de81af4e98de8efb01e1f588bb7d2935',\n",
       " '2a56e6dc61dbf2c3e6128701eec688faa4fbd85e63fd75821418226d1bfe7a8a',\n",
       " 'a88830d7adbaa3c2d50ca3cf6a1773f6eaf3ba0ca282170a78735fe9cc1b0f75',\n",
       " '6d0596abd4a360af10a4cbd660def77757ec90379c999a7f5e02288d14aff3a0',\n",
       " '8d182e183c244912377de8d57b906a1a50453175b4ac3ca22f5fa53ba64fc2e7',\n",
       " '71a991eadd869a398a6d43529e86e5c544b0bf6a535f0f33f8656fb6e94a9360',\n",
       " 'e97e63a53267522cbd04159cff1034ec5e76d2fdde11d7d19e9416adccbdb6ee',\n",
       " 'c1e9f40d0ee0bb543e9fbb6d391c9ba4cd16c0612248f1a1675b3685540c0502',\n",
       " '3ac94fdd7c5ccdb83b48902c0fe25f3432f4af4b4225108cbde0dd33266e4df8',\n",
       " 'e3fb15b79d9a7bff6b56fa276d88c6a53aa20f8df83a6aba0fa2a72e11a4622e',\n",
       " '3bbaaaf0a8e769572d645c74b627bb35582c6eefbd8735a72e3720a36d621d24',\n",
       " '7e2c85bf572675c21e0b843107382fcad7f1d1d919d7913da7621aa4bcdf4533',\n",
       " 'b562894ef2ae56433ab3a29710d51153330fe4840afd97f328745724f32e37af',\n",
       " '264aa2b03651733d32cffc6e0f611f97cd15a5db71729fdca6db47a802087b98',\n",
       " '77178d9820896162b99f9d75cd36e892159fff04f508713c54d0b28f1a7a10e2',\n",
       " '23e9a3e4f45b9f8802d799645103c86fb861b555441136173151b6f1d8b373ce',\n",
       " '53148cdb96cfc76840b24214d2c85227f8c4b7934a3990c8e9f2eda9b3559483',\n",
       " '9ff53eff2e54981ddc3f85fc18bbd7e9f765a30ab9596e2a41f928f4dd3b03b7',\n",
       " '5c0e5d9e5cacbbfb21f836ba800481d8e572f5e168819453eac69120c5dd9d8f',\n",
       " '51d8618a246476b938ef76e3ebb9e948b93edcdffaafbf272d8d2c9105f12ac5',\n",
       " '4edd7eae1011842aafe7403abf29b114189185eae6b1ff9b972a1c40b9fad1c0',\n",
       " '21a80a81ec6f1ec294d60e2d5d19d678f5a85e2195887574f9535343618168b8',\n",
       " '99b4ecd77030796cb6a9d5f7b9b5ae8e6bf9814bac6f95809f3e9f0abe0d2470',\n",
       " 'b0b031fc52823e151f1d2218ffbaeba5a047f587e5f79c837860849498532995',\n",
       " '8892b3ef2fa711d80577e6cb291bc32e758ef01911a93e317db3875bb45dcedb',\n",
       " '3c86dd0619a1bdb7154462444d6bf9b3b20e4cf62edec6835e94e0faebc1d036',\n",
       " '81bb0a197302888e72fc0b56dbb5eaacd3e593b188d94715bebc7f82f7487095',\n",
       " '2772ac4881476643a0908bf128b0659e6bdfe56e3227480dfd2c4d1464296919',\n",
       " '4bd8a02c8225d32efa36352743e0bdc6dcaac82c5e1cb02ee3dd60f86d0f0e52',\n",
       " '55d4bd6f5cb6479e51abe891e1e3572d58352420da54ee5e2d1c9fcd07eb0e93',\n",
       " 'c45f68c97dad9920465f7fcf5affce4ae596ec6924615deb263b2cd9fdae28ce',\n",
       " 'cf00965ca8de4ac338b24b82e43fb9bb6e5dae003804c268bf6f35d20312651b',\n",
       " 'aa7865284373608726b38387e8ab5e45031c49fdd073d187fb4a45ffcb11f5a2',\n",
       " 'a58e2e88e29344f621db2d7a8db4c58601e0e8a3e7b509f7e1a6071a67e24c79',\n",
       " 'a9366439abca085ad6e55f93aa5d1b3ed51730b0c28b7adc6d4d318316d0fc2b',\n",
       " '2d68d380ed968323b545d9565127f58b016d2428996c63028442b1c6e4680727',\n",
       " '4f7cc0cbbf615afc0f2dbe090eaf147caa317d91042e01604da0ac6cf04ee87b',\n",
       " '6a76731e0bb76c58912139a7e798b6cfd8d5c5157610dc265ec2e6b4b9da6d28',\n",
       " 'bffc1744b57c7f609c4523446d26116046cfe926622afae23f4b9c246df7233c',\n",
       " '567a1c4f856c60c5085f87080fab2e580b6cc21632ada1cb7de6e895ac105a54',\n",
       " 'a7e7aa05064216522b975d71cd0922f910c884e16dbf41628dc11fff1f8d9605',\n",
       " 'edb5346ada02a618676ae66c27e55086d29dd02e4fdbcde7f861cc808951a7a9',\n",
       " '8c639471c64dcf2dd7dd0d78bb2a5603a29fa5ca93972b2a6f09cbf70e14a25f',\n",
       " 'a9c4c2bd43ae2cdc13582e4548347b797ee2bd36e2c8a59f2081682aaca0d305',\n",
       " '3a21839176268f205497ecaf7ff0d288cccc25ab8d2ee70951eb8d0436477e63',\n",
       " '134803ad073351c588d99a956f3f4e8062d513dfc7af36a78e01c89a8ee35e39',\n",
       " 'd946a19e4f33c5d71f2d2bb5d49a22fb2352e5e9374b46126b5206f6b87c2bfa',\n",
       " '54cec314a86546b4368fba1ecbbf6bbe8b2f9233e647f750df20f7a57a2eb611',\n",
       " '30f6bd3236dc3f297f8be5ea3cb89678fb1542748127e9bea726493d0a74de09',\n",
       " '2b26147572c163780c28c2ca0ec1b2069c09f6cad39a1d1f2176f08930b16215',\n",
       " '7dedd6de255191f1ccbc313a0afa6da8a67a7acffd919564e88db5407a506ae0',\n",
       " '92c2684d376d7a0baae1beb4addd952888f121fc37d6084130c181fef25f87fd',\n",
       " '431b872557b4b739a02e7ed33ef7c6ee118e80303cb0ee53e43c91f2dccc52ac',\n",
       " '9a8200673b4a4cac47ba60c8afbbbc33763badaaa28690d14c3f908731ed23d7',\n",
       " '6349c39d00eba1df59f7ac406d296b0701b09d7086a4afa091af618642740184',\n",
       " '29da93f4dd6aabbeac2460ade5c7612062505bdaa6471977d6b7342e5e4e2929',\n",
       " '81990b27415d727ffbc922073819a48d2cea9cdceacf239c4f1ba901e3e8e1d7',\n",
       " '03701269ec28e4ab938a82aa7be97e97e6c1a6db96e7060ee9e859ab2a6e12ab',\n",
       " '3245574cd23cdbe194658ddc2d5bbc42f96698f6bd7af52366ae5452b4100bec',\n",
       " 'd285680aa356a1853d3b903c6688616686bbcffca216e90eca2d9a5eb91777c8',\n",
       " '61b65a5711b77f40b40e0c18b845994f04510a279f3a9797129b2a6494021838',\n",
       " '98f4f0de3ca3e1a68610fb001af47259536848dc56828da4e034db8b455b0e94',\n",
       " 'a98aa77313b57637af14726ec28c25f27ced7bcee1259ccb6257372ae3be89c4',\n",
       " '60291173874e2a1bd8c76885bab3daccfd168fdb3566202e0594d36bddd09f7d',\n",
       " '7779ef92839b83a406881a07ca62bc5c315756bc7b6770a433fa59ac56714e27',\n",
       " '2cdc9556111469a622dfe78989cdfea474fab33045c6d0a6c82a119d17170abc',\n",
       " '7af43ec8051e4baa3102af8536868ee6dd77ac26bc3f5cbb99c29517a62f3a83',\n",
       " '1ea97e9b3664505dbff466d20f214c36a3e68d64e41d46a6d42b2e3f58c633b9',\n",
       " '1d991af12edad657af0d7793d4cde2374e95115231f1edee21a857084bbceef9',\n",
       " '0b2e627e1c86260c3a264f72833c581a3ac3199026578b41ca785603e7d93bb4',\n",
       " '0124f558d0b452c37ad027918b6623bfad5c767558ef5e4d85915cf78f4b8ebc',\n",
       " '4c40dd5912a93eacc4085cf70f73096b9dfa977294077deb22d3ed337c57e3e5',\n",
       " '3b0f9a94512867b28c535d9b49f8077135c7b60d6f1729f16143c653bf833cea',\n",
       " 'd898723752617217718bb0d2545079000f6c4dfaa2020e425b54376b5ca334bd',\n",
       " 'd8c52bedf2711e91cb4a5cf8921aecefecc055d3c39d46faede2808759fc27ef',\n",
       " '0200637e97c04392e29c98e985eb1a3441f1cc9586b9ede657be2a7447fd98c1',\n",
       " 'ef151c42a331b2e1285a5df8a9475151639299eaeef765cc31048cd60e60a2bc',\n",
       " 'a442ab54074958909eec1b82d685ac92eed20e65d79191df199ebfb17a4e05f9',\n",
       " '28f1604c8834c4c013d65fab82de89448d30aa36528526a45dbd7da23502d493',\n",
       " '1e1ff850ee638796c454a0a5c0d1cfed439b3ec5e3ce28c67f5ca624b8c8da4e',\n",
       " 'a8dc2ce1342839ee7319db24ee4c79adba0be8b858cc399814abd89ede0eebae',\n",
       " '39cd55af5f49db9f5f4075db26a9ca0d468bfc7877f4c45818f9651c1156ee61',\n",
       " 'c4f82cfcebee3dcd1fff8667cfc1f61db03065bae9679a586bcd510dea9f3c45',\n",
       " 'd92eaa5f73aec579fccce815cb1d03987532977db2ea02229d058fd003dabcab',\n",
       " '689e7ceec2f1c851e366081049176eda56b41d3c64496656662ba8ac18eb0dbd',\n",
       " 'e4934dbf05ee9e2c17b36b75fecddd19498be1c1211815b8454b1b8442e2d6bb',\n",
       " '5fc68d45b6efb7142825d4e13d5a85e50e080d23d83e3dd2852566d41d242767',\n",
       " 'ee6d213299953cfbc97d6379717d5f86628adbe441abb287c6895c9983b34032',\n",
       " 'ad8969da4477997ebd70824087eb7c82b86125b1dadfbbf7711401ed965f17f4',\n",
       " '305b265c02a55c051251fbcbc8c5e0a59ff91d75b11f4b7659ae2960ea2d97ef',\n",
       " '0432ab02353d9df6a073d40a5c0bab59b4982b4c636be3d87a22cd66ccd208e5',\n",
       " '52a5d78f296912b166bdfb1ffd165a3468897354714c1b1c2415a0eb320498f5',\n",
       " 'd4b1ec6c36fab5441fd5cd39dd8a1f906c147020bcf592315aa3aed6bd3302c9',\n",
       " '1f9569258cf6f9ce61478e2220bd0eae50c79b81397c07baf685b379b50bed72',\n",
       " '30649270f462525e53b03efea26a0053533abd30482e2885d1879569e30ae60a',\n",
       " '20efb92f9d16ca6a05e4e6713ae7f28984621032cd7f9389f71fb3694dd87a20',\n",
       " 'd410537b1d6c24287669d47d88ae56551c001612e9af580eed8dd99eb42a2189',\n",
       " '2aa21309da972591b6c29ff4a204227646221f37f5857712d2cda0555d0d35d8',\n",
       " 'd8e1d9b1e1b6c2681b388718e333629df9ab33992bf42b64e89dd286929df373',\n",
       " '74ae9fd38fcb1390dbee4824d75ea9bb227a9c78deaae7b51cde0e57e5aff96e',\n",
       " 'f292f1da11c6c28a99ca206e707879c28bc3dac305ffc2061a1172586db5d2fa',\n",
       " 'b843dd8d8c7ffdd8fa00ba0c0ab30e76718ccc36422d9af933ac31fb04a64541',\n",
       " '2250cd1c69bc7e113a322c1a618969a7afb8af3e0851f9531203399bf24c234b',\n",
       " '2c225b7d0aa18dd797b33ed1b4a1f0acdf21e0c8e880d152a06772f3610fa114',\n",
       " '12519f0da9417ef9a9ee1ee99251fa67a3fe147277fb91fbc29eb4fa1275e5b4',\n",
       " '0fea7d0205c97f078b1b1a06cd8009c475ca56fff1d51110efd1cd68e75ad931',\n",
       " 'f5fce044e9e651690d435197b804d8dfa6610f99d7af0eb86ed258fb8eb8ce9c',\n",
       " '0aa49d54d84438746045adec1488c8d198a472ff82fc58d27a1939a5af38434e',\n",
       " '5fe166fbb73c2cc12aed1a41ed1612f3e3b332086e1748ccdb88787a061c4fc7',\n",
       " 'c2d53f6ffb29add3df4cf2868e4c39e977f545fde9cf9d5eaa3875ef3a65cbe0',\n",
       " 'e5c77849c6a7366a1552dd82ddd5b88371eb63563c72ab102e189f5c7aab3a4b',\n",
       " '8ded8d17769a04b1e96943d6065c73c074929be09490c4f9275785eb67a472ef',\n",
       " 'bfbe7656c85bc71d9790762e5f67c9281e648cc9086c532313efa125fd850925',\n",
       " 'd0f27779407dd1c197b4b6a836ee9f66d64cb3c4ea3fca316621f9fc2d2843ed',\n",
       " 'fca82712ac84d1c88941d3f96ae76f217b5965eed4ad75da676347c599d7c89b',\n",
       " '1ea027bcb9f712d3ab93123b0971ba35d01b29b692482cda7daef987749b6fd3',\n",
       " '674de2d59a1f51dff8a7941b36dc91deeafb6c149ed59e7b489681a663a41d8f',\n",
       " '14686b27acc998b05ddaf8d1d90a9cc40670c5601103b9a452efe2f90f2ded40',\n",
       " 'd213f5f91e6b5aacb9ba1e75669d5aea52d1798a993dd5c7a1432ef87c60e70c',\n",
       " '7f7a52e22eb3a87d83a25694851bfc8dad67b96d2d60f3b02260f419511a0cfe',\n",
       " '7c555b8ec4c7fb25d6aadc0f8440057fc2006ced784d165a96e2b091fe70500e',\n",
       " '312d17ea9192e89dd86bc091d326858796e90ec8434ecac1b0ed8bc55f25103a',\n",
       " '186362f4edfed1e67c7dcf33827b4df7dbb6c11e572bcb62d72d6c2dd88ca1ba',\n",
       " 'd4a14adc6638e43fc39ecc22873d39d8220ba3c6033932b8de9aba6486abfda0',\n",
       " '3d59d60bbb5307726a60d0771ccdaaa1f6b3f65e3be1760685e21026a39083e6',\n",
       " 'b256f6045da62fe0b43f3c47558b407d1d9679aa6debbdb1bc54ee2d2bc35c41',\n",
       " '6c0b8ecf1506337552747b162e7ae1c484cba0f2bfd3b765f35d28843d5be470',\n",
       " '1ca40827163d7db502e9f1d8bff56b64b85bc714a952ea98b49fe95b568171a9',\n",
       " 'e226e87d3d16712c0921156b9f1ee5b120abed13c5eec1e5be617d343e8a6e1d',\n",
       " '06adf62424701ee3dec00352cad131ac139ab4ea76ed6280d123039c111fa83d',\n",
       " '1c70b5a137ef73da4a8cc59e9087df16a7ee5c10c522810c0414ce9ec91212d2',\n",
       " '8718bca87c66d7e856854cd152490d95a64a87b4a7eaf342552d0f98edf3a1fc',\n",
       " '7b7006edec2adb873730e659b9897b40dfeeee7cf22343e03f3418aba89124b5',\n",
       " '926a8e19350d8ccce67745720db796344f5fb29843c9b5e5009ad1de2c960b5c',\n",
       " '78ab8116aec3bb588feaadf1a2257e9409f7fb65078774000af8cb5ea4d348ea',\n",
       " '888a3db64de5e2dbf25388773cf0f89daf7e44bcf7753eb6077131426da0e73a',\n",
       " '79397fd37eb0a48fd52f35065eadaed3235ff4905169fcbb41d6b8130e88fdcb',\n",
       " 'ceca5b25a67cecfa370b8adf4b9765914d66934896de7f6305ccd55da4098b4e',\n",
       " '673ee39f14405b4615b0fa487727e470bb38ea9a6f4286f8198625b667172fd7',\n",
       " '6bcbc426a36173163f5423307871ec0cc536e5bf9cbe51b8e5898520e190e57f',\n",
       " ...}"
      ]
     },
     "execution_count": 14,
     "metadata": {},
     "output_type": "execute_result"
    }
   ],
   "source": [
    "hashes"
   ]
  },
  {
   "cell_type": "code",
   "execution_count": 16,
   "metadata": {},
   "outputs": [],
   "source": [
    "# hashes_filtered = raw_datasets[\"train\"][\"hash\"]"
   ]
  },
  {
   "cell_type": "code",
   "execution_count": 17,
   "metadata": {},
   "outputs": [],
   "source": [
    "# hashes_filtered = set(hashes_filtered)"
   ]
  },
  {
   "cell_type": "code",
   "execution_count": 39,
   "metadata": {},
   "outputs": [
    {
     "data": {
      "text/plain": [
       "13586630"
      ]
     },
     "execution_count": 39,
     "metadata": {},
     "output_type": "execute_result"
    }
   ],
   "source": [
    "len(hashes_filtered)"
   ]
  },
  {
   "cell_type": "code",
   "execution_count": 50,
   "metadata": {},
   "outputs": [
    {
     "data": {
      "text/plain": [
       "11393471"
      ]
     },
     "execution_count": 50,
     "metadata": {},
     "output_type": "execute_result"
    }
   ],
   "source": [
    "len(hashes_filtered.intersection(hashes))"
   ]
  },
  {
   "cell_type": "code",
   "execution_count": 51,
   "metadata": {},
   "outputs": [
    {
     "data": {
      "text/plain": [
       "138502"
      ]
     },
     "execution_count": 51,
     "metadata": {},
     "output_type": "execute_result"
    }
   ],
   "source": [
    "len(hashes_filtered.intersection(all_evidence))"
   ]
  },
  {
   "cell_type": "code",
   "execution_count": 18,
   "metadata": {},
   "outputs": [
    {
     "name": "stdout",
     "output_type": "stream",
     "text": [
      "                                                "
     ]
    },
    {
     "data": {
      "application/vnd.jupyter.widget-view+json": {
       "model_id": "ec560b37f07a4eba8757f204e374e2b5",
       "version_major": 2,
       "version_minor": 0
      },
      "text/plain": [
       "#0:   0%|          | 0/432 [00:00<?, ?ba/s]"
      ]
     },
     "metadata": {},
     "output_type": "display_data"
    },
    {
     "name": "stdout",
     "output_type": "stream",
     "text": [
      "  "
     ]
    },
    {
     "data": {
      "application/vnd.jupyter.widget-view+json": {
       "model_id": "773f0bc7ef654174b967611f429a040e",
       "version_major": 2,
       "version_minor": 0
      },
      "text/plain": [
       "#2:   0%|          | 0/432 [00:00<?, ?ba/s]"
      ]
     },
     "metadata": {},
     "output_type": "display_data"
    },
    {
     "data": {
      "application/vnd.jupyter.widget-view+json": {
       "model_id": "c4098d294dc44b6db708003ebcfec5be",
       "version_major": 2,
       "version_minor": 0
      },
      "text/plain": [
       "#3:   0%|          | 0/432 [00:00<?, ?ba/s]"
      ]
     },
     "metadata": {},
     "output_type": "display_data"
    },
    {
     "name": "stdout",
     "output_type": "stream",
     "text": [
      " "
     ]
    },
    {
     "data": {
      "application/vnd.jupyter.widget-view+json": {
       "model_id": "8d6595238866460799ee19e1489db4e8",
       "version_major": 2,
       "version_minor": 0
      },
      "text/plain": [
       "#1:   0%|          | 0/432 [00:00<?, ?ba/s]"
      ]
     },
     "metadata": {},
     "output_type": "display_data"
    },
    {
     "name": "stdout",
     "output_type": "stream",
     "text": [
      " "
     ]
    },
    {
     "data": {
      "application/vnd.jupyter.widget-view+json": {
       "model_id": "087710e01112480eb856907fb1dc5cf2",
       "version_major": 2,
       "version_minor": 0
      },
      "text/plain": [
       "#4:   0%|          | 0/432 [00:00<?, ?ba/s]"
      ]
     },
     "metadata": {},
     "output_type": "display_data"
    },
    {
     "name": "stdout",
     "output_type": "stream",
     "text": [
      "  "
     ]
    },
    {
     "data": {
      "application/vnd.jupyter.widget-view+json": {
       "model_id": "ad23d7c3cbca42eab9f55c9b9d954be8",
       "version_major": 2,
       "version_minor": 0
      },
      "text/plain": [
       "#6:   0%|          | 0/432 [00:00<?, ?ba/s]"
      ]
     },
     "metadata": {},
     "output_type": "display_data"
    },
    {
     "name": "stdout",
     "output_type": "stream",
     "text": [
      " "
     ]
    },
    {
     "data": {
      "application/vnd.jupyter.widget-view+json": {
       "model_id": "a328424ca5f548dbb3f562e0339f887e",
       "version_major": 2,
       "version_minor": 0
      },
      "text/plain": [
       "#5:   0%|          | 0/432 [00:00<?, ?ba/s]"
      ]
     },
     "metadata": {},
     "output_type": "display_data"
    },
    {
     "name": "stdout",
     "output_type": "stream",
     "text": [
      " "
     ]
    },
    {
     "data": {
      "application/vnd.jupyter.widget-view+json": {
       "model_id": "21be176923db47b08938a162ae78e155",
       "version_major": 2,
       "version_minor": 0
      },
      "text/plain": [
       "#7:   0%|          | 0/432 [00:00<?, ?ba/s]"
      ]
     },
     "metadata": {},
     "output_type": "display_data"
    },
    {
     "data": {
      "application/vnd.jupyter.widget-view+json": {
       "model_id": "91750e79befe41eca19bc142ea4e5363",
       "version_major": 2,
       "version_minor": 0
      },
      "text/plain": [
       "#8:   0%|          | 0/432 [00:00<?, ?ba/s]"
      ]
     },
     "metadata": {},
     "output_type": "display_data"
    },
    {
     "data": {
      "application/vnd.jupyter.widget-view+json": {
       "model_id": "7e8429bc08ef415cb4e89bc447ba5497",
       "version_major": 2,
       "version_minor": 0
      },
      "text/plain": [
       "#9:   0%|          | 0/432 [00:00<?, ?ba/s]"
      ]
     },
     "metadata": {},
     "output_type": "display_data"
    },
    {
     "name": "stdout",
     "output_type": "stream",
     "text": [
      "   "
     ]
    },
    {
     "data": {
      "application/vnd.jupyter.widget-view+json": {
       "model_id": "dcaa81d93d844a84a95e2a1f926877d4",
       "version_major": 2,
       "version_minor": 0
      },
      "text/plain": [
       "#12:   0%|          | 0/432 [00:00<?, ?ba/s]"
      ]
     },
     "metadata": {},
     "output_type": "display_data"
    },
    {
     "data": {
      "application/vnd.jupyter.widget-view+json": {
       "model_id": "ad797c0ece7347ceac4db7c54f00291e",
       "version_major": 2,
       "version_minor": 0
      },
      "text/plain": [
       "#11:   0%|          | 0/432 [00:00<?, ?ba/s]"
      ]
     },
     "metadata": {},
     "output_type": "display_data"
    },
    {
     "data": {
      "application/vnd.jupyter.widget-view+json": {
       "model_id": "335ecd6c4dfa420381e9128c3219db47",
       "version_major": 2,
       "version_minor": 0
      },
      "text/plain": [
       "#10:   0%|          | 0/432 [00:00<?, ?ba/s]"
      ]
     },
     "metadata": {},
     "output_type": "display_data"
    },
    {
     "name": "stdout",
     "output_type": "stream",
     "text": [
      "    "
     ]
    },
    {
     "data": {
      "application/vnd.jupyter.widget-view+json": {
       "model_id": "ff63738afd7a4154b506c32f8ff4771f",
       "version_major": 2,
       "version_minor": 0
      },
      "text/plain": [
       "#15:   0%|          | 0/432 [00:00<?, ?ba/s]"
      ]
     },
     "metadata": {},
     "output_type": "display_data"
    },
    {
     "name": "stdout",
     "output_type": "stream",
     "text": [
      " "
     ]
    },
    {
     "data": {
      "application/vnd.jupyter.widget-view+json": {
       "model_id": "4aee66a31fb84e258bf639c3fdd6af22",
       "version_major": 2,
       "version_minor": 0
      },
      "text/plain": [
       "#13:   0%|          | 0/432 [00:00<?, ?ba/s]"
      ]
     },
     "metadata": {},
     "output_type": "display_data"
    },
    {
     "data": {
      "application/vnd.jupyter.widget-view+json": {
       "model_id": "82bd91d282c049758a9d3bfc49b3cc89",
       "version_major": 2,
       "version_minor": 0
      },
      "text/plain": [
       "#16:   0%|          | 0/432 [00:00<?, ?ba/s]"
      ]
     },
     "metadata": {},
     "output_type": "display_data"
    },
    {
     "data": {
      "application/vnd.jupyter.widget-view+json": {
       "model_id": "89ddd3209c214fe7b800dc100664bfc6",
       "version_major": 2,
       "version_minor": 0
      },
      "text/plain": [
       "#14:   0%|          | 0/432 [00:00<?, ?ba/s]"
      ]
     },
     "metadata": {},
     "output_type": "display_data"
    },
    {
     "data": {
      "application/vnd.jupyter.widget-view+json": {
       "model_id": "514667d1e14144339a55c33f20d055d2",
       "version_major": 2,
       "version_minor": 0
      },
      "text/plain": [
       "#17:   0%|          | 0/432 [00:00<?, ?ba/s]"
      ]
     },
     "metadata": {},
     "output_type": "display_data"
    },
    {
     "name": "stdout",
     "output_type": "stream",
     "text": [
      "   "
     ]
    },
    {
     "data": {
      "application/vnd.jupyter.widget-view+json": {
       "model_id": "deffccec028f4c9b872fe2605ab77645",
       "version_major": 2,
       "version_minor": 0
      },
      "text/plain": [
       "#19:   0%|          | 0/432 [00:00<?, ?ba/s]"
      ]
     },
     "metadata": {},
     "output_type": "display_data"
    },
    {
     "data": {
      "application/vnd.jupyter.widget-view+json": {
       "model_id": "d0cfc08bd9b14ef7b9016987adc84d9c",
       "version_major": 2,
       "version_minor": 0
      },
      "text/plain": [
       "#21:   0%|          | 0/432 [00:00<?, ?ba/s]"
      ]
     },
     "metadata": {},
     "output_type": "display_data"
    },
    {
     "data": {
      "application/vnd.jupyter.widget-view+json": {
       "model_id": "5ebddfcdc88c4269b292185a18a900e7",
       "version_major": 2,
       "version_minor": 0
      },
      "text/plain": [
       "#18:   0%|          | 0/432 [00:00<?, ?ba/s]"
      ]
     },
     "metadata": {},
     "output_type": "display_data"
    },
    {
     "name": "stdout",
     "output_type": "stream",
     "text": [
      " "
     ]
    },
    {
     "data": {
      "application/vnd.jupyter.widget-view+json": {
       "model_id": "b8d90ae1536f4ebeb01ccb672c28b5fe",
       "version_major": 2,
       "version_minor": 0
      },
      "text/plain": [
       "#20:   0%|          | 0/432 [00:00<?, ?ba/s]"
      ]
     },
     "metadata": {},
     "output_type": "display_data"
    },
    {
     "name": "stdout",
     "output_type": "stream",
     "text": [
      "        "
     ]
    },
    {
     "data": {
      "application/vnd.jupyter.widget-view+json": {
       "model_id": "90614fb31a4a4d42bb2a399479bb6570",
       "version_major": 2,
       "version_minor": 0
      },
      "text/plain": [
       "#24:   0%|          | 0/432 [00:00<?, ?ba/s]"
      ]
     },
     "metadata": {},
     "output_type": "display_data"
    },
    {
     "data": {
      "application/vnd.jupyter.widget-view+json": {
       "model_id": "731ef35beea440059119fede2a3ab9f5",
       "version_major": 2,
       "version_minor": 0
      },
      "text/plain": [
       "#25:   0%|          | 0/432 [00:00<?, ?ba/s]"
      ]
     },
     "metadata": {},
     "output_type": "display_data"
    },
    {
     "data": {
      "application/vnd.jupyter.widget-view+json": {
       "model_id": "ed3fc8760390499b84f4fa7f039bd581",
       "version_major": 2,
       "version_minor": 0
      },
      "text/plain": [
       "#28:   0%|          | 0/432 [00:00<?, ?ba/s]"
      ]
     },
     "metadata": {},
     "output_type": "display_data"
    },
    {
     "data": {
      "application/vnd.jupyter.widget-view+json": {
       "model_id": "54d4c6d4afc44ebdb1c506a886368702",
       "version_major": 2,
       "version_minor": 0
      },
      "text/plain": [
       "#26:   0%|          | 0/432 [00:00<?, ?ba/s]"
      ]
     },
     "metadata": {},
     "output_type": "display_data"
    },
    {
     "name": "stdout",
     "output_type": "stream",
     "text": [
      " "
     ]
    },
    {
     "data": {
      "application/vnd.jupyter.widget-view+json": {
       "model_id": "cbaf645a0dfe42acb1f38fb83ff10f05",
       "version_major": 2,
       "version_minor": 0
      },
      "text/plain": [
       "#22:   0%|          | 0/432 [00:00<?, ?ba/s]"
      ]
     },
     "metadata": {},
     "output_type": "display_data"
    },
    {
     "data": {
      "application/vnd.jupyter.widget-view+json": {
       "model_id": "a5dbde5801b34bdf83bc9d90f3bc3aae",
       "version_major": 2,
       "version_minor": 0
      },
      "text/plain": [
       "#23:   0%|          | 0/432 [00:00<?, ?ba/s]"
      ]
     },
     "metadata": {},
     "output_type": "display_data"
    },
    {
     "data": {
      "application/vnd.jupyter.widget-view+json": {
       "model_id": "87290807d96f4f9fb645ccd530edaa93",
       "version_major": 2,
       "version_minor": 0
      },
      "text/plain": [
       "#29:   0%|          | 0/432 [00:00<?, ?ba/s]"
      ]
     },
     "metadata": {},
     "output_type": "display_data"
    },
    {
     "data": {
      "application/vnd.jupyter.widget-view+json": {
       "model_id": "4d4ae776c0a3425cb23636f918e02ea0",
       "version_major": 2,
       "version_minor": 0
      },
      "text/plain": [
       "#30:   0%|          | 0/432 [00:00<?, ?ba/s]"
      ]
     },
     "metadata": {},
     "output_type": "display_data"
    },
    {
     "data": {
      "application/vnd.jupyter.widget-view+json": {
       "model_id": "63b5114072064d6c9d362db67983e35f",
       "version_major": 2,
       "version_minor": 0
      },
      "text/plain": [
       "#27:   0%|          | 0/432 [00:00<?, ?ba/s]"
      ]
     },
     "metadata": {},
     "output_type": "display_data"
    },
    {
     "name": "stdout",
     "output_type": "stream",
     "text": [
      "   "
     ]
    },
    {
     "data": {
      "application/vnd.jupyter.widget-view+json": {
       "model_id": "45060f26580c4c34864302041826ea06",
       "version_major": 2,
       "version_minor": 0
      },
      "text/plain": [
       "#31:   0%|          | 0/432 [00:00<?, ?ba/s]"
      ]
     },
     "metadata": {},
     "output_type": "display_data"
    },
    {
     "name": "stdout",
     "output_type": "stream",
     "text": [
      " "
     ]
    },
    {
     "data": {
      "application/vnd.jupyter.widget-view+json": {
       "model_id": "4923cd474dda4100bab2dddea159f521",
       "version_major": 2,
       "version_minor": 0
      },
      "text/plain": [
       "#37:   0%|          | 0/432 [00:00<?, ?ba/s]"
      ]
     },
     "metadata": {},
     "output_type": "display_data"
    },
    {
     "data": {
      "application/vnd.jupyter.widget-view+json": {
       "model_id": "963d95b6b12442979670de05e8b85e17",
       "version_major": 2,
       "version_minor": 0
      },
      "text/plain": [
       "#32:   0%|          | 0/432 [00:00<?, ?ba/s]"
      ]
     },
     "metadata": {},
     "output_type": "display_data"
    },
    {
     "name": "stdout",
     "output_type": "stream",
     "text": [
      "   "
     ]
    },
    {
     "data": {
      "application/vnd.jupyter.widget-view+json": {
       "model_id": "568c99d76a5f43b38db6bcdde79ebe91",
       "version_major": 2,
       "version_minor": 0
      },
      "text/plain": [
       "#33:   0%|          | 0/432 [00:00<?, ?ba/s]"
      ]
     },
     "metadata": {},
     "output_type": "display_data"
    },
    {
     "name": "stdout",
     "output_type": "stream",
     "text": [
      " "
     ]
    },
    {
     "data": {
      "application/vnd.jupyter.widget-view+json": {
       "model_id": "eec31b959c154bd587ec2d738d126800",
       "version_major": 2,
       "version_minor": 0
      },
      "text/plain": [
       "#38:   0%|          | 0/432 [00:00<?, ?ba/s]"
      ]
     },
     "metadata": {},
     "output_type": "display_data"
    },
    {
     "data": {
      "application/vnd.jupyter.widget-view+json": {
       "model_id": "8445b3a814354be193bcbb970fdecc1c",
       "version_major": 2,
       "version_minor": 0
      },
      "text/plain": [
       "#35:   0%|          | 0/432 [00:00<?, ?ba/s]"
      ]
     },
     "metadata": {},
     "output_type": "display_data"
    },
    {
     "data": {
      "application/vnd.jupyter.widget-view+json": {
       "model_id": "8e94242769d8419e96f0193f2cd71017",
       "version_major": 2,
       "version_minor": 0
      },
      "text/plain": [
       "#34:   0%|          | 0/432 [00:00<?, ?ba/s]"
      ]
     },
     "metadata": {},
     "output_type": "display_data"
    },
    {
     "data": {
      "application/vnd.jupyter.widget-view+json": {
       "model_id": "bf9fea4bcc9745d4954a633fc1e0e6a5",
       "version_major": 2,
       "version_minor": 0
      },
      "text/plain": [
       "#36:   0%|          | 0/432 [00:00<?, ?ba/s]"
      ]
     },
     "metadata": {},
     "output_type": "display_data"
    },
    {
     "name": "stdout",
     "output_type": "stream",
     "text": [
      "    "
     ]
    },
    {
     "data": {
      "application/vnd.jupyter.widget-view+json": {
       "model_id": "66051c00ca904297bff96403a39dadd9",
       "version_major": 2,
       "version_minor": 0
      },
      "text/plain": [
       "#39:   0%|          | 0/432 [00:00<?, ?ba/s]"
      ]
     },
     "metadata": {},
     "output_type": "display_data"
    },
    {
     "data": {
      "application/vnd.jupyter.widget-view+json": {
       "model_id": "65997bff6acf4982ad1b65ad883cb13f",
       "version_major": 2,
       "version_minor": 0
      },
      "text/plain": [
       "#40:   0%|          | 0/432 [00:00<?, ?ba/s]"
      ]
     },
     "metadata": {},
     "output_type": "display_data"
    },
    {
     "name": "stdout",
     "output_type": "stream",
     "text": [
      " "
     ]
    },
    {
     "data": {
      "application/vnd.jupyter.widget-view+json": {
       "model_id": "f69ec7670e5449d78b9271811707bc7b",
       "version_major": 2,
       "version_minor": 0
      },
      "text/plain": [
       "#41:   0%|          | 0/432 [00:00<?, ?ba/s]"
      ]
     },
     "metadata": {},
     "output_type": "display_data"
    },
    {
     "data": {
      "application/vnd.jupyter.widget-view+json": {
       "model_id": "1bfc58e3bcd644bb9956919d662d06ff",
       "version_major": 2,
       "version_minor": 0
      },
      "text/plain": [
       "#42:   0%|          | 0/432 [00:00<?, ?ba/s]"
      ]
     },
     "metadata": {},
     "output_type": "display_data"
    },
    {
     "data": {
      "application/vnd.jupyter.widget-view+json": {
       "model_id": "4a065e6e32114ea4a54b461363f80863",
       "version_major": 2,
       "version_minor": 0
      },
      "text/plain": [
       "#43:   0%|          | 0/432 [00:00<?, ?ba/s]"
      ]
     },
     "metadata": {},
     "output_type": "display_data"
    },
    {
     "name": "stdout",
     "output_type": "stream",
     "text": [
      "  "
     ]
    },
    {
     "data": {
      "application/vnd.jupyter.widget-view+json": {
       "model_id": "e71ccf459985466baed98ebd9055846f",
       "version_major": 2,
       "version_minor": 0
      },
      "text/plain": [
       "#45:   0%|          | 0/432 [00:00<?, ?ba/s]"
      ]
     },
     "metadata": {},
     "output_type": "display_data"
    },
    {
     "data": {
      "application/vnd.jupyter.widget-view+json": {
       "model_id": "21f32d09a01b4f7ebb303642b3b9928d",
       "version_major": 2,
       "version_minor": 0
      },
      "text/plain": [
       "#44:   0%|          | 0/432 [00:00<?, ?ba/s]"
      ]
     },
     "metadata": {},
     "output_type": "display_data"
    }
   ],
   "source": [
    "filtered_ds_large = raw_datasets.filter(lambda x: x[\"hash\"] in hashes, num_proc=46)"
   ]
  },
  {
   "cell_type": "code",
   "execution_count": 19,
   "metadata": {},
   "outputs": [
    {
     "data": {
      "text/plain": [
       "DatasetDict({\n",
       "    train: Dataset({\n",
       "        features: ['date', 'sentence_split', 'non_split', 'hash'],\n",
       "        num_rows: 15941008\n",
       "    })\n",
       "})"
      ]
     },
     "execution_count": 19,
     "metadata": {},
     "output_type": "execute_result"
    }
   ],
   "source": [
    "filtered_ds_large"
   ]
  },
  {
   "cell_type": "code",
   "execution_count": null,
   "metadata": {},
   "outputs": [],
   "source": []
  },
  {
   "cell_type": "code",
   "execution_count": 56,
   "metadata": {},
   "outputs": [
    {
     "data": {
      "application/vnd.jupyter.widget-view+json": {
       "model_id": "7e82e8a50e274daab0febce954cdfa06",
       "version_major": 2,
       "version_minor": 0
      },
      "text/plain": [
       "Flattening the indices:   0%|          | 0/178 [00:00<?, ?ba/s]"
      ]
     },
     "metadata": {},
     "output_type": "display_data"
    }
   ],
   "source": [
    "filtered_ds.save_to_disk(\"/home/saisur/data/filtered_small\")"
   ]
  },
  {
   "cell_type": "code",
   "execution_count": 54,
   "metadata": {},
   "outputs": [
    {
     "data": {
      "text/plain": [
       "{'1417b4bc22ae5e9f92fc7706447d98b10a1f78e731190cb1367d83d280752c06',\n",
       " '9b5e8d96608c410921b500148fdb0413e528e1ca321b9ea419b71bdc84e23b76',\n",
       " 'd37d7759e0c690007ed82c5cd58a7cd4405e2e836205025090c18ef2dd0d5513',\n",
       " '3a080f6e914e4207dd880b7e6fd0b7a2c98791e95793f977d9777a9d578b6947',\n",
       " '19a934b5f9fb68e98746263d8524baeb519d5fe781f788a6b6166b9946b5d05b',\n",
       " '70635063ee11d418345adbc77d6abed956c878fcd20ca93fa0b78e3a9b0347a3',\n",
       " 'f56ffd0dea44a0e181f2ea57cb4686c70fc136c0036a7247bb4daaa90df58e17',\n",
       " 'e925e8073c36acae4116d798cadc645f2c099ed055c9120684bae3e05e61134a',\n",
       " '10bb11ffef97587cb980bf128c18486ee1bc73d1d5992880ce4df8f6a1670320',\n",
       " '8a4d2a0925596f4fffc8aedcc8190cb1995ca54dd66bc3eb513fddb8709d0d64',\n",
       " '9c297ddc9c7b0a8d6c532568b2565e46dd9833062fca367ce06c24b9b48139a7',\n",
       " '05d7ef68a349e59ce2f1d210251d8a9b05b6cc3764737bf6d4a0952f46a5ca37',\n",
       " 'f37e840ee366f7f384a24e1951e0024fb9d8202b40949642d92e932f6dba658a',\n",
       " '0312c585b6beb1a54a46d5a7112946bbda7020d450fb9ad45d749a45c0dcb73b',\n",
       " 'acf019a0395ec1e0dc8cc8a1bf205a25e748aa555d743bf3a947b9de2851085e',\n",
       " '6ddc149b6d7cf19196f57a5dfdde1237407fda24d25c6d899bdc3f21bf48b89e',\n",
       " '923a4417e714f57b09ea5180ba254b1ae02a032d99c80edb5d4660f5177e43f8',\n",
       " '3262f80c0852e53732e7e5c828f4e1d5d0db08433116a7dab0024c7733c69043',\n",
       " '7ef7d3722f25200d3210e923b0d2e417f146eb0aedd44cfeb6d9ff510fb2a297',\n",
       " 'aee8f8d5464445b41aa376df0363f5326cac1af6ca9bf9ca92ceff5b1bfa5450',\n",
       " '8311a458b72898efb8acc6f984994114f8d41a60e6ccdbdc9c120a8dcafc2633',\n",
       " 'e04ab2e834b2d1192473f3f88edc578b2a18374a1727b3f4fb96134bdf16225b',\n",
       " '2ed9bc96e244e14a7421f7b57b18a0144234a54b6ec9b58abf293cd75d3d6bb9',\n",
       " '09bbc4a192a647174ffb120d16690229768685172fd176d311c5e5beb5ec9931',\n",
       " '7240d5be83a9e0220119e3b267ae7485b220350e8e621162014c842b11cdb664',\n",
       " '1443d91c9190b2d08fdccd5c27c44a54ec008e5f375ac9eed365fd9401aad75a',\n",
       " '241aaf311b75c541a15f8d683c9c4ffe5f188bdebf5d528abcfe3d94ada1ce38',\n",
       " 'e1741703b881a64ee6066b9fee5b2ff9d0ba9b5c31d6e87ff487f8bb88a4e27e',\n",
       " '8771bda32152a068711f56be1f32f2d20c2ddb0bbd5f8a935d11380aee05408e',\n",
       " 'b3c636380d6b7efef517aa8016c052748852958778ca849523eea04519c988f7',\n",
       " 'b24527ce77a48492a385c0eb20b8fd0d61fc910c3a6188dc29290953bfda6a5e',\n",
       " 'a463d6417910ef5acdf5789123fb034cdfa84abc5e751212cece49525e167741',\n",
       " '7db4dcd90b145e1ceda429d1db75ed99c8b73d829790a67fdfa5b568c5c0c61e',\n",
       " 'c193c2dc98f58535afd6096d2dc4c368c8af1d197a682757c9cedd3b921d5b8d',\n",
       " 'e734424ccbe11f7090167f502ae28cb7f6594adf2b28ebc838cd153bdf3cfec7',\n",
       " '62a0eb2eb6c24f4e823d0764e915b1f86b16e3b87a7e93a934aaecca7f449f72',\n",
       " '4109da89bdda0b7f776899c3ad5cd8ac66e415e0d10bf1d79284268a4a82fd14',\n",
       " '878b605a91387ba339b9696e14bb5030ce8784d5f79931b413e43b329fdb993e',\n",
       " '8c68d39d36556b45512bb8a21def88f1c9742edb34063c96f2acde6f450c539d',\n",
       " '158ff20c04d32b886f046b1f5270316b78456753287ebb429a036b8d58cbc28b',\n",
       " '723d22b054826d1f02ba79581cea155218f3ccf67bf850ffd7039f297c3c62e8',\n",
       " 'e32d8bd2d6e8f7d6f0b2268ab8eb95834f5ca603bcdb49223a6c7f4f27bd7e19',\n",
       " 'd8cfa9dcada102790d5c2b3a95ad62ee2a280b5e81c8acc1242c22f2b2fec7da',\n",
       " '8ae0e80a17de1978543d4edf4e0e21d843b414067ac369582487a198881538d7',\n",
       " '9fb342f55a02000568cbab114224661d7f8a7250b08e9770b1b181bee6e81467',\n",
       " '8f5db99cd7627a27251aed44458f93cfc59e185220fd17e8f577e19e2f617e27',\n",
       " '97cf6edc8f21b8f32112e7c369eec494fcdf18b210cede0083e90a01ed3e7e8e',\n",
       " 'c8894224cea859f25c3855fa1851289b4132d02e6bf7f2ff828449afe3e5d897',\n",
       " '044b7f920e04273ae66cd284d0a917b777c45aa987808bb3d7b430b5e6b9e01e',\n",
       " '643d96335046797062ff77c6cda35080605e3db731d5a207d223300f2734826f',\n",
       " '02bacd5d007ff051e688bef4bd8e1a6095219c2b79b4429719d4abc232cc2328',\n",
       " 'a153d34050c6dcd78a580652124430e32f353461a0a605d3d89d6cf90a1f9d92',\n",
       " '17eff434d6a23eee3dde1570a7649bef06f69c6f738934ba0d3f0d157bdf6173',\n",
       " 'f03dd71523c273c35b6f7e6d83021c6ab28113f39dd7f1a27737957bab500aa8',\n",
       " '19ab4863d1619ef5bec8c75ac68742d2ce32e4a4aff3509275e7d623323e9f74',\n",
       " '981ca2ccd252fb023335d6cb1ca48c78b361970bd1eaefc19b67ef781597d6b1',\n",
       " 'dc9d7231182616d0b5308df153d368242039c8547cae3c573088a64193d09424',\n",
       " '58cf8ede5261acef67131cb30bd0e07c044d58f8dec92a520d438f12d01f1da4',\n",
       " '9686da45d49be7b87ff791cc8753b06dade5eec3dd22f6d96bcd3bedcc663888',\n",
       " '7a57ee6ffa5cd1c2d5d8b32e20cfd4f4e2efed396516ce24fec7186e5b55111a',\n",
       " '55bd469d4727f50fef2c8bf7552171989a560bf675771aa24519f09a9d25c3a1',\n",
       " '9bdf58d5008b41444b72afcf1b9c05f484758046b2b0471091884ebb0b165429',\n",
       " '960c1b7bc2cde22f8a4d565b4409b250477e8012c3fd3204814e5fc245cc0e94',\n",
       " 'c360a38784bc98fb90af0617e456e06308d334058263c94e21c56218d4d5aff8',\n",
       " '521cc9f865e67c830f4bfab19b55ac0b4e973cfcedfd403c43f2599ef028dc6f',\n",
       " 'bd83ef9dcb59a988d2a3b0d1aa90c0bff512561b2a697de2824dd0dc6d09b4b9',\n",
       " 'dd24dec852bbc6421f50d141d97b1cb184d15cc0a70309f7f621002661f1360f',\n",
       " '08b8e7703e86350e8c189ded2f6886898fcc3d63fde5f940a9e7e0d86e692e42',\n",
       " '730a5a0b9a6eb5ef9eef7abac290ba50e6cb234f7f747cadb3934b31e5a8cd6e',\n",
       " '6bffede90ab94f119f82889596bada4e664b7c65ee1b92f61902eb3b43b91ada',\n",
       " '19157f06f3ddcd7d0c582e4ff56c0c84c3ab1c8a3b484696b3d32d65edb87a2b',\n",
       " 'eb0e2cf337df25d7d7f61b843ebdd54bd26fc63d92f0ad499ddc053d60494dcd',\n",
       " 'ddc5abc0d2e9d4721aa48f21f4988daff24020f01b194d03c9d2f2acc2e8317f',\n",
       " '7b11342935393e72d0cb6f907cae211ca8a1ff846f689f55f17a248d02dd60c5',\n",
       " 'e0e60975d4b780f9114f5237f76a7e934297deda000b45c1e347a30316b71636',\n",
       " '740cc84ee348489bdd1f8389d5b5a0f6821c22c3ae380dccded6718596f058eb',\n",
       " 'f5a1d12f62a4b43634c10c2eb4006bb47970dbb65b6b02ca77f65cd7b2e5a32a',\n",
       " '5d3ae7ead947bc5ae9b617da08ac183b9b5dedb36d0076c267b0c7105e90842b',\n",
       " '7d4fb34a4e9dd316b0caaf3ab86ff70c06a25cf2cbfcc8c5a06a0b6d9d372e3c',\n",
       " 'c6f28fa68ef1f8212bb699fb121e498e21425ba2910df151d3c94304cccfb91b',\n",
       " 'f53332b9d0ff305046284302d2c63c74907b7f39210df39e58f563a56559f66a',\n",
       " '84f2f8377a99ee41d1a71c798d7c4ed4b31b87eb795d822a4b3037d2d034a91d',\n",
       " '936e957ad98fa667f730f3d268abb3ceda253b33107590d7856da53d76ccf0d9',\n",
       " 'ba891c3a06168eb8f722e5e7d3caef65411ca99026769a960d39d071674fb1d4',\n",
       " 'c03ba151048c8537565342b0802c7e42d5fca336a5367af57f55a5afdd3287ad',\n",
       " '48a216e7195b58a1e955c0cc51087c2986546e13769cc144ba60066fb96299b5',\n",
       " 'd85485e6ec1ba1e4aa0e3ea2124bddde474b9e8f218ddc41a6a4dff52437cd1b',\n",
       " 'a3ddf66fba25f90f1f024d101e5af1f83110993fd5a307c1a3c624851be90981',\n",
       " 'ed86ecaa3e6777ee408873f02ee4aa5b76d52c5357caf0e1e2454fec3aeb11d1',\n",
       " '1bf260be1d20840f01dc8408e6475e2604c7b4e622ee4cb4645708ea0e911c3a',\n",
       " 'b5238e7af89736e37f1241a27f438d8c1c2d39a3c191d196b478bbcf3f7334f2',\n",
       " 'ce991705d620912393782b941442c1c6072c37f3dfd8722dfdc7a201c5f63824',\n",
       " '1c33c666b0bd68e645e43e4ae52887aba78daba8a3de08cda20b535fb7e9db3e',\n",
       " '1573b06d7898b261992e75d4037ea44f1cd3a9b8e245b73a831d8690b595e1d8',\n",
       " 'eef02053c1c0fc6bdbb58e37e6345fd65c76f589344888205438291869ab8704',\n",
       " 'b27733cb04b723afd03c0f382c70c4419abe0d6de87acba5b26e56893611e556',\n",
       " '88f9b6ae994a0694ca7550c97064e84b581b9b44e8fcd7f4a678ef72c144d2e4',\n",
       " '8a7739266db0953522f1a4784a1bf4ff3e2d3a4d34e54d384155e93033fd6e60',\n",
       " '4550518a76f5f259622c4e4068238031aa6ebc4e71d39d58d4ba7b46fe24804e',\n",
       " 'e9e50d9c743f99b6be6b8fc5a9ce7089eeae08ac9710adbf9a941c2cd83d766f',\n",
       " 'fe24a1e59e3f69dfb2e65392725a0d1e6d90d7160132e59a70575731d8462214',\n",
       " '9e03f34f6d8a8916b808df49ede10a8b8ece1b241c22b7dca29fcf2b6df0b5f4',\n",
       " '5d8f46603c557dea7685d47592ef80fe5d0108c1b37fc5a1b874248f27a9d833',\n",
       " '98a3f7945f34cc4c65eaeb812a96b99d14609c36dd6b36c65bbf3c941815eae3',\n",
       " '6688c64db94de7948d64d717231c2f37e702c0a38c4ce53a97a484d341bbc7af',\n",
       " 'c44dd4a54c1877382bb012025d925c45f45851b8296c665b95785a9b15b63f73',\n",
       " '9562308495b1c05f26e154f610871c7b2dec1edcebb485f945869fefea855fc4',\n",
       " '33f4cc4eb0b5a0602aa6dd99c664919f9589d7b1d487826144ff5341e5762a07',\n",
       " '49ba6215754fc28b29137f426b4a52dba6b934cda70c48e303f90e9a061de3d4',\n",
       " '52dfeb701e64edf820a8683ff221dbe2d8edb8af953c6ecacc853613fb2d7fef',\n",
       " 'b9d85a783c124ebe928f2bc6c974cc4387deed322c9405228b5999aa486cd056',\n",
       " 'cfd2cfc1a135a4d092d3d24c16869ca236ea95c8e316c039db51b812b2d79f72',\n",
       " '5c25ab63d450e785d27731fac51f83a80a57ad83be31ee413f73d3e484d5faac',\n",
       " '107becc6a5a7b3e1572ea869d01f8d5f132debfbd728bd0c4be507cc4e9895f5',\n",
       " '8d6835fa8f45b745dc54eb68952f5f3ded610752079b922fa15eec70c6f4e41e',\n",
       " 'aa06c0770ecd5a27f16dde6e394e7fc595b8f1af0ebf02f307569df8cd39b1de',\n",
       " 'dcd0c5012c24cdccefaae40a8aa85b5725635717b56788fb0d43377f3600d6bb',\n",
       " '79df96e9f3b12e353ef3074d328155dadc2247538383cbdcd2146a9370f3dc19',\n",
       " 'd8e2dd4437108f10fef70ef5018e18ae42da34e821f51b85b7a088091860a2e3',\n",
       " '07ea7ae55278c54626f4cf8a90900b5b7b981bd2ffc209fd8b106e0e748e1a1e',\n",
       " '2d04141b5719c9aa59cecffc352880e7b8c7df09d066d8a1d75f6b576b9dafab',\n",
       " 'debb8563f9ebb7015ab9469fd39944869fd83a94599c31b0126c0c29209e6193',\n",
       " '7c7d0acdc002356646650a82aae59ab92fda55dd97902c2d4f5e8181926e09e0',\n",
       " 'b7db346e5125f80666dd9223ebe81203f9355165b0b467fc2706b97ba319fd49',\n",
       " 'e6d329813f914b40105ce0e831f54ae5448f05412d4334863659b81f711bd331',\n",
       " '9368c073e7c57da3889f1d2e0fea87ceae2731577b4456215eed07902e82a652',\n",
       " '5bc37d2a32a8ef5b013a91c85a23decd5df08215f68894fa28897bafe432e39a',\n",
       " '24f2eb7a94ec21f48f8202fd93e58a2d9c903b1285c47108c04113083ccfcadf',\n",
       " 'a692988bf44301198051261185f477d2701a138248b78aadef554ed49e939b60',\n",
       " '2456a50144ee32112a2d8078cec67ba11aa2af1efade522164ea8d42958fba5a',\n",
       " '975a24979af828376990f637c0dcfebeaa54c295bc3e2babf211a5c93e555ffa',\n",
       " 'fcf5381d0457c1b05517ce455fcdecab685c3a666dafe620b17dcfd8741a691a',\n",
       " 'b0a365084aa8763dc840e458fb7f1dcdd549a36a93ec282349969cc406c5a69d',\n",
       " '8c7886f0f926edabcad97e960a8d3ad8c5746be5a008146b7b0378d8b9e1618a',\n",
       " '12fb476565e781020db0f8c35b2b63cafcb2103f36ff6794d8528ef7978dde5b',\n",
       " 'd6de416928ec9153e701384db47210116e9cb866aad3d244f284630c6ff40f97',\n",
       " '7c656e7999815740d418d4fc3823f815c9b4b67fd0c05f0745d9d8c0042bf72e',\n",
       " 'a4ef03fa0bfa81b0ad4e1d44fec511ca6a6dc382f3ddefd00e9c01f8465abdba',\n",
       " '96328aec0430483ece4734fbc9d0f9e23cc46398f444d3b012e73f2b1caa52cf',\n",
       " 'c916126d4304ee5d7db1d5cfa13c709102a34bc4652d4e63c96486f8b9863d68',\n",
       " 'ccd648dd53758992bf912f679354edd810e7a5cd5d1f6f669ebe7ac253816c87',\n",
       " 'b84d1da225f7339881ba7e3c6b2bdf57922470611e30b7240206cd3e09292644',\n",
       " 'da0a383aaf6056a5be9f3dba893f88f5d2233e0baa3b43efa0c53fef3103df88',\n",
       " 'a86360f769c71d27f756852bf0e53f2d244e4d012518fc3be46b0d30d9a3f424',\n",
       " 'b80c5af13a87e1331787d86eec7fbecc2bcf67b9baadba6c4d83562abed2316e',\n",
       " '0ea89ca98446468a958cdd238289022c7d8fb558d3e92715ffc1e74b72d0af03',\n",
       " 'ad70e82f921f6b822b11ee3c6705dd749d62f5ea974b1fdf9a37b258fbed1a10',\n",
       " 'fbe923abda93d2384fcfe5007bbc025450f39da545bb7ffe0b07562b59a67ffd',\n",
       " '419bb2048b01c0e6961f9f10609b1ad71e8b82e12b00ff6f8d74022e52793734',\n",
       " 'cad8d5f471056242e1b6dfcd60883011692ece8d5574ffbb8ca04d938f43545a',\n",
       " '5f62b0a042e48f16da351fef971dd9c43256d82e004d37ea775038dca238d7c1',\n",
       " '51fb5710c9829004c9e8f7872a1986f91bb07e7e6d33f214794d52ea38d2bb75',\n",
       " 'b3e20a2528e87ce2e6157a777253b1591900109f8ad11c3e3b044fc0a94fe3ed',\n",
       " 'd3b78073fec1fa7f78b2f715aced7ccf94940697ef03c57c6e9f6c10ee748ce3',\n",
       " 'eb28d3b2fc3acfd90e405a465a336ee770c51d0de5fde82044ffd8513fffe2ff',\n",
       " '13172ef878e38a8f4b581a93cde8ccbc5d9665358587ccf2e457aaea895fae9a',\n",
       " 'bf3c32db78d0973311f4b6c668d855634fbbe9343dc2e14298127aee3b990d3c',\n",
       " '5e24117ef236d498f60a0a7a3aca5e2ce7f6f5f25cfcb5a99712fcdbadeb2fdb',\n",
       " 'b47a93c794456b38078092ee21e02566722a95ecddb5b752e66ee88c5f95ad1b',\n",
       " '641c93b321b61c028e9515515ad02a0c06d97f957d0d3559ae51f9af7ec9fffe',\n",
       " '64b0038e08c100fd92f4289945b1b978e039e461aac8f1f2a39d9ca083480162',\n",
       " '203e0e53db4da3821a2724e306f0702f4572fac637d74630c2f396ea3859e3ab',\n",
       " '46e1e277aba00d66509b91436a29586ba3d9ae508683091354383febc8b184e8',\n",
       " '778a8ec8c2c308fb4bd9c4fa9c8417e66137f0a51b103c65b79856f446801c8f',\n",
       " '18d5103d358a8084e065ad3d550a56f71dc4c96a7bc507ac3e34d0c231362fdd',\n",
       " '3ca34784f04b40f48a42ff32af7456825c21ad8d0706935d82df4b87dc8b20e7',\n",
       " '2b8d3d34e33c5b8a89d6f4f0559f755323eb14ce9b8b0f441b34c54b8614c728',\n",
       " '35fe1773e2fcddd59a60978f985736096ee6281c2fdcdd5cc9be940cb5e4b2c0',\n",
       " 'b8ffa9b6c4c81fed32afa5eae9e802ab82262e93029bc5cc32eb5dac7db0f5b7',\n",
       " '152e3d460fa2a5476181489a00931ce09a48a88ed55591f3823db92a0181d0a4',\n",
       " 'acb5f24091aa6a9df9f571ffd43a4198ff7d7cfbe9222394d9e8fc395593f708',\n",
       " 'f7cb79980ed01659e675b1256fb44102881239a13e53ace86120ab072affc076',\n",
       " '5a39437a757be6c6b7e04df6f77a3398752afc34f0d7ae19442f5e90795ad1d2',\n",
       " '12fc1c9def5db8e8f5356624d1f7074087d1b2f61180b84d83cada800e5a34c8',\n",
       " '5db7770e971be19d58bb0faf713363772e90d20b0a9404f2537901312ed0c341',\n",
       " 'c504874d2eae605b78856abd273ea87d540a875606a0120c1ec923a38edf1ac1',\n",
       " 'a764b598055937d78087c3fece154617be79aeb691ae44e817d42aee464bd1ec',\n",
       " '62d65a821bb30f7d27abc48418ef0ab524c3419c869a14cdfcd3242daef88e6c',\n",
       " 'da32fc5dff2ad24f85fc0b1650b2ec3bf82972e4b5fb1fb9f3dc822413b1d4f6',\n",
       " 'cfcddeed00d7aeb2966afcc2d01908244bd00f3fedeb39f295a45ecfd567ad71',\n",
       " '050558929a8653df3c9186ab036040ea26b844870ecd85e71c47c947fd81f2aa',\n",
       " 'aa72cbd94cdf7a754d6c846e631b7498caf58a6b0f7053397c6cfb9dbcc274f0',\n",
       " '5fc524717a00724bd6056deedc8063058b0cea009895dd095946850603f11a66',\n",
       " '22a19c52be69a5f646cbba72035730670f9c88cf88a4dd83c92120152fc067a8',\n",
       " '858b2f5fd8ccac846d7b86f4ab9c60857f915867b3768587498196d182d73e10',\n",
       " 'd454da16550c144022bbe33f09b95fba3a0feac4be76c558fc1c098d1bec073c',\n",
       " '6ab3b0b4fbbe7e6ada2e4a6d11b3ea3f6bfc677c4671bdca918f5d0a4ef8f085',\n",
       " '54bad18fba08a180f4ea41bc391c7050964f5f5e092d1e647cc02f6b3287c07a',\n",
       " 'dc02822ed40b25092b2175fa59962c99dec8dd278dc86a0e6d48cf863aedde5d',\n",
       " 'fec437c4b6152ac0ebeb7063b7fe25543c7bcd1ddb368e6237be6780f3980bbc',\n",
       " '8e1472e615fac80cc4fd558f830ef79e2707950b4769a0ccd5dfa58039bf5f15',\n",
       " '0133c5d2b84b4f5bd23e60281b7256e3522827d6c2890a974713d5f09b499ea0',\n",
       " '74561a7d09a328f8f20dce12ee1edae0eae07a637b275cf69a45e62f9af223d1',\n",
       " '0ee09016134648a95670c5dcf72c3bef354fbd2be9d448bc5334250fcb0765f5',\n",
       " 'd7f07dc6da781820a58c745b09204c09eb5ba7c3bb2215a4dd04623a2dfd0cee',\n",
       " '77b9bb98d244dd455daf71627335d750329dabe1ffb18ea8467f3a9b2ee559a5',\n",
       " '1f664e84125ca959847f0d8efe4b7feb8c2c892207e8d4b077c16f626f8980f2',\n",
       " 'f207fe3e2dd45f636edd9f305afb9191c6eee6dd7a362f2ea9f57d739a642ccc',\n",
       " '8f4aee247ca0e96d598f33648d40ee2f3d447112386ed940f3f3218353f73ba8',\n",
       " '1d4d6d7a9815255e2574780d45713b3ab50e7d086edf39e6343fa19c8eeaffab',\n",
       " '3632e0c044afe1c30a92d9acc34ef473bd1ee01db468aab1e5b2b8711d6d272b',\n",
       " '05b475a56553bab18907e9cbf4e98052868863481d2c0a6c1aa232ddf9ea5680',\n",
       " 'c82a95920d9e7e5b3c1c517d75e89070131952b74fa8984e21fc0e2a936adc24',\n",
       " '04e41966e10aca79b5e2fdb21139182d21aae843aacb8a4677aa0dc5426c0d66',\n",
       " '2dfca0d9752e3ee7961be0874a7e1e110d33e1750d498773e9534c1bbee1d832',\n",
       " '68a67d900476b63a8742da8dcb4dd6e93d4c367d15540e6ac9502b5b73dc75fa',\n",
       " 'b7408676c086c77fa674b442f3147d4b5ab7900db709db85d7549eee4cfe7e45',\n",
       " '752fd5c0c43154873950793d482cd00890443b8921ebdb2b6684d8ca0aa75e11',\n",
       " '7e760727b5ca41a51a00cdd36c90d91255489177832c2002f84d06b63599ba27',\n",
       " 'c4fed93eac52b1e1c21e24d551f09b209a71004454c50e44fa019a86fc57e25d',\n",
       " 'e11fa5afaaf6f653d565355ea6885a3ee91c8bb6e41320d92d9ba8d44da1da53',\n",
       " '26e585077341a9da4c714d9afb7ed1f50bbf89ca3641f64a2d330d28fd5edc07',\n",
       " 'c33c4901fc8fbc2dcca4f7d1879c5495141dd0b6addc2298b709c5ec0ba8b0bf',\n",
       " '68485b29613c4a3f0b40dab9f9dc4388487f72443eef8b4878096e447deeeb98',\n",
       " '65717dfb902945d9f0c2ed95a375fffa38e0db2cb4f6e06f403de307ebc508ba',\n",
       " 'db8e11745afa72bcd8277f2780c0004a2f24f14e95e904e3f5d2464ef93f0d33',\n",
       " 'c705c37032cff878770c47454a2adbe8ff636e17d6ad60f52df7de1fc45e10d5',\n",
       " 'e4a3e7e3c0e9ba581ef130180777ddce0343b428b1ef3388a6cd8a671e545a82',\n",
       " 'f9ce1fecdf6c1fc531bdb3712b31c0abc13834959ca118c8caaab57532820b0a',\n",
       " '777271b953b8c55650e61a6d743037e2c855a40e5c6185ab33994f254ebc0f5b',\n",
       " 'bfae38d5fe6fab8f70c286e9d46366279c4324db0af51f884765b935f31d457b',\n",
       " 'd5c0c5368a4a83c44f07dfacb29e5bc0f97c9495ef167a940880de4667ba7506',\n",
       " 'f74606a618fecaaaca21680246ca69dafa18a46e3e6525c65ba86a41ee11be71',\n",
       " 'f88ed9b6086ecebbb23cf3e8a78da62c1ddb7b5867caf5623eeaa93ed8b3ad2b',\n",
       " '493312b1a6978901bb41883373fb69ab9637a009eca45ea8b809affe0118c5c6',\n",
       " 'c0c3bf8731f91a597f31e99350ec0fd3d7a98890c9febf1bdb3b324f991fe039',\n",
       " '5dc99eb4763ccfeb4135a0546765ad05e32311781f388ea8fb33fbab0d8e264f',\n",
       " 'beeba0c0b13f8fd1ee6c14c5c9b81888afa0aec41c0536df5d88a81211837e60',\n",
       " '2cd98b3edb1fad8440d6a86e49bef1db05a1646612d5f41f86ff470eb90565d4',\n",
       " 'c2b390f99da60f9055067df2569d8c3f5fc18fe02ae5871052b860c3954e2f5a',\n",
       " '52c731e75c53bb784cf09ecd8237f820bc1b338aef212c5a22a964f6e0cf4b7d',\n",
       " '6cdcce2a366c38787efe7e58fca4ddb4d11306460ae09cf9fbe5cf2c831cac36',\n",
       " '228a844d7b3e18bf943214e21fd56de9cfbe64b2e5a0a88deb316f525013a04e',\n",
       " '28fae237ed947c2d4b9d9aba4aa6418d46d4d83212c8d75b0a88050fd6d0aa4d',\n",
       " 'ed7e08a8f8f7959db8a01ba7346fc1fa0a5929bcb6e0ea2fbecd77185f56727d',\n",
       " '64d86491e579d934ae2341ba6d68a93d8e6575694fbd7785e3d515d7a42180cd',\n",
       " 'fc6c4ec15bb0f5a98a643e8c1340a21a72753a1a0d339a42442bee4867fac0f8',\n",
       " 'd5be8e4f1dde6d58289b6a98cc880e5f2ec2090be935c2b2fb08d2430914c87b',\n",
       " '4b6bc439158f25f873e6ae9f4037432a3eca5958800e9385c9a8854fb2d54ee6',\n",
       " 'f6dcbc498bb00fb3a0042b422f6e4e38de0825d10158d4442518d334219f8612',\n",
       " 'ae55a8c2a5688c192bbaf2d7b02106546b6e615c780492359443d7b43eb357d3',\n",
       " 'f94589eb2c9f20951288bb7c488fe1e75bb1fd1c9fae25cf6ebb2d5ca372c502',\n",
       " 'ba6fb2a60eea25168793394c3fda99155ad884aa18db79149182c2afbf2873d0',\n",
       " '73c73cff126ce829497bb15238640653d9b5d4ab0e914a28bac197546c4a780a',\n",
       " 'e96feb5f2875ae0d9eda6ccbd4d34f359c17097acc5a2c2939070b6db24fda62',\n",
       " '83faaad61b49d8eebf68bd2d969d0376aac9ca236c47d85b2a9ec5e048dcadd8',\n",
       " '98eda18299168deb0d14d1bc4493df3abdd62b8f79d1cf2bb11173da6f0149eb',\n",
       " '122049e2cec4798f85f8fbd29400448404bd5909af98831f9a47dacbe4eb01b7',\n",
       " '2cce7203ae685fc42deb36f8ff42753608d01475197f2b459734ab4fcc58f5b4',\n",
       " '4011e624b89312d3af831e6fbb35bb647843dc191333927887a3bb652f04b21f',\n",
       " '2a66ab8c26c429b9a9dc0cafd898f4bdb108c7fa79e96ca6728418f6dd21aa67',\n",
       " '64a0ac5490f8721ee315a1aba063f672f9729612473d081ee860854774211bf6',\n",
       " 'bd1a559fc7d92ce952d5416afed9cba4c726f28a62a885858cf81dd8629b4d84',\n",
       " '65675906e978ce00ef839c46c37969fc1f0c12fcba35a7343d1ff3aa678c0bd1',\n",
       " 'd636613ceb92e38d0d7b1560c5669926c9b3c7cb7744e536de5bf3a360d50d27',\n",
       " '87a2a74bc564c85a5ac4d805f05b8a0d06b31892d60ce41cbbf45335551230c6',\n",
       " '6c8143017ca34652954c3fbb93e9bf685a4b8f3664e30de001ad6d87c8557219',\n",
       " '92af1e6ff99bee1644c40a42856f39e1dd6126580a2795f538723e9fa46ab5e2',\n",
       " '77e8dcd3a2427b812620e59975992f11e11ee169edc11f45e3567eb87d875ab9',\n",
       " '2d6696be9839eb045fc86e97ccf8129de40b8965352ffeb8d40a29e7f4675142',\n",
       " '5cd6089676da672dca59e3196ccc684986a1ee08bbe5bf0cb2af51783d4b0fe0',\n",
       " 'c0cdd097cfd74b0f6aa080b99e95bc0372f32b252de8dd6145a3d2af910e6583',\n",
       " '8051bcd5871afae01195efc4b977a525d2b7ab11da5956b71f376df45b671c1f',\n",
       " '08d59ceaede4b86dac89a2f1f58202ef0edab246b34dfdb36d767b2828cf49e5',\n",
       " '41a65e8410702987ce3f6aceb38d36bd59dd15da77c774d537a0f604824d196d',\n",
       " '14c316804d53e757638529aff8701717b27378931275e6f00e33b5083fe1be8a',\n",
       " '023aa5fefbb3e1d463fa8bd7002611b0cfb24055198f83e0e1e6b44394d38624',\n",
       " 'fa3dcfdeedd11850a49e714030c2e5277cbb1b917444466e486a638e758a0bd5',\n",
       " 'ade001e7861649f3a7b21e256e1cd8221aa3a4a51da69ac8ce4c280caa36ba5a',\n",
       " 'b06d441835faf38abbe36f99a47549e542c87b6202fdace7e7647f2b8ac73a11',\n",
       " '22e992bc9fa1b88db110daec3f3b6c1d6f648072c0cc976feb7872d2a84aae7a',\n",
       " 'd4d6136dbd57a87368f65aa62b337cd8ac72377f4c44de42df92593afa59cd99',\n",
       " '426e69028a5f7ccf42d4e89e374383dfddefe7dbfb6578cdb7b377430c3e4a70',\n",
       " 'aa8ad92c6a4989b0e486d82dd0006338ef42bcafecc5b560671675a74f5e4c42',\n",
       " '5c9522429e50628610713acecca6da78e64c7bbee3370e1adb9e272afc8ca502',\n",
       " '4a109a55651b67ecdc92aaaafbc40d23eabe479654449808ec1b50445cc9bca3',\n",
       " 'ad28970269b2cade71e77026063cab8e0588fbfb7f00b426ebd46f8a108fa85c',\n",
       " 'c127011c18820b2eec5654e4c4235154731332dc13126dd178122e9695e6e31d',\n",
       " 'ce775ad3f2a31ea86f768847f3c7da6a4436aad0fbeca7d819e712c804b122bc',\n",
       " '5efd227185fb2cf37560b4428983c0937ce673451e00217f4d53900a033f7e7b',\n",
       " '0043ce50c61e17d89139020b1c01c5e3d7c37ff2bf6c913cefe4805318b7a747',\n",
       " '90098a727930b217702cd4f11b37087367f46d52c2e3dcded1fae20f163ec2ed',\n",
       " '605bef36071b9e4537f7a31f5cd7eabf36f65f13c5c81a4653acf2f2fe7e8b9d',\n",
       " '9e6814fc7bacf757c2e0efaaf5d82b636ac8b59f17e677c07a51c641d2c9015d',\n",
       " '0dd264c3de0131833938f1ed3269e1e9355fa8e74f3eed583c85878a6f07802e',\n",
       " 'c975312cecfadadd1713a0467e2f4a3d1cc4e224dee1a81eef726e1c024e7e65',\n",
       " 'e136a849a1d6d562bd42be91318ae0604cb4b2e633ff102381d6524d9b270fda',\n",
       " '5b55c498df17a435a4aa65deeeb517f251ae2d89fe180b3891a68970b20848bd',\n",
       " '37ea88b148ef8cf19c9cb631e824a78017fd2a77f03fc73f7182f60481d51a26',\n",
       " '3664a4cd7b141dbe2cf0f3e008a5bee6aea2467f056985bb9fc80629ee9d7193',\n",
       " '4f87e72cdb8efe1e760319b74b90ce9013b339017aac9dc3a8e12cec2e1d9464',\n",
       " 'dfb681f067f3aacdb4587bbe0e5858e44ae637d4881bdc243fe150a81e939034',\n",
       " '736764324861afdef4356b3c8756d0900114e0403b6145541ca9d7075647f38a',\n",
       " '84818d9c2aeb397ba39c127ed94cc84cc71e3e6b13251d0fff11894e320015c7',\n",
       " '87e078e03b3bda8408713eb512bc2e53ac558c1b68de79668b1d294ae2849832',\n",
       " 'c81711e03f1e0a0f1a14d6e37c47306456e3f5816febe1addd392a34317bd3e0',\n",
       " '08d4d74491b6f3a77212c56400184a06b8644dad84f9c93b78a5fede02af79ba',\n",
       " 'c33797cc1c5f2d7b0ea81f2a5188a575a26332456118bedbd319fe721a6892da',\n",
       " '8d60be0e33b9a991c263bd31b79511985f738baa663f2bcbdaced52360a3ad6b',\n",
       " '209e31e155062d2f43c2e99558d05b70492b83128bcd99b834b73b9d1c6cbe6e',\n",
       " '91ff4d45ec33c12b48b1af182f8662daefe6a53fe76b5710010fadfd34d68486',\n",
       " '9854624269eef33d1c8edfdbf78bb8421d629ffefdb3bf0efc754d6fcabdbb63',\n",
       " '0309695e19862e70382e13fef5e87cc7c8248c6b513493b0af06170ef62dc331',\n",
       " '164d0b2a03bd4413ac9843e4708c302351ae12ca74c12f6c80dd5c238404b0b4',\n",
       " '470235ba74bcbfd1cf240c68763d0eb3680184b5b87724304b8bbc2475c7fd49',\n",
       " 'ecf3ae213151957545d441c6a0840fb7b19e1a784817d21c3191b6e7f326d0fd',\n",
       " 'd8d57ee83a473a56bedf1ab7c924993bce262b8ce59a7b362da6efb6df287db8',\n",
       " '4f376ba01b2b0fbab672663b29e7c64a3413acf2760cbbabe75eef774b6f991e',\n",
       " 'b6b389f4f88e99415f02bbef9bd198d1cdc0b13cd985b935d222533467f46be2',\n",
       " '439215916bd7bc5fbc86a561c50d21d6e4142fa087153c93d720d088b8d4243d',\n",
       " '7b3c6d04e84340d3da2c99d7a862e296cc30453e3cbaa4f7d94e4429037fb483',\n",
       " 'dcf14e0ed20a74d9c6d3b7191ecbef7aa8ff515b4e75c67bd28b86b1104080b5',\n",
       " '415fa4341c0cd0ed84a72d5f94e7354ec5b6ce6c8395d99afa22018cc868bb56',\n",
       " 'f5491d882705253c1499578ad436675307d8f2a3ca9686f22f738a35d72b5615',\n",
       " '6bbb4f9da453f20e96955f5305a97f51789edf8194faf88cdeeb29e3fe7366b6',\n",
       " '42510a7a46fba62cf3ab56726081a8fb56a7eea8e6eb0f69b3e4bbbdbe0eb8af',\n",
       " 'babb2721fb6b4e881bd517dde1782b889623c18ad4454a0829a1b269c95ef44e',\n",
       " 'e7658bc1443fd9d520f3fe1042b0e5c5db72f5e99a67ac2429d7566e264b6e1f',\n",
       " 'd50ae34785275fd7ea1c497ff19ae85dd9b63252de2936a9af3a73cc423dc897',\n",
       " '5c8522c33d475e696a1e84fda0c91cf35ecd86b0e40573be979706bab41e3291',\n",
       " '8ed09d7f5a1ed3c4927f27bf8201e49a8872d9e370773950cb764916dce38715',\n",
       " '7b05b456342e3f4cb8b7b2dfca3ac819308fd271dabacc20da118d4428e8d238',\n",
       " '2719854985b36e4cbc5a2e3ed7b1a4b8eae6c882ccfb48c724c1fcaa91684794',\n",
       " 'f34356824bb5978c49f7274a6ed97dbf7c785d5664e1c510e074ec717c4b22cb',\n",
       " 'faccc1df0046f1ea2321d9c54aacc81db82bf4cd05068092030fb58ef63295d4',\n",
       " '7dab3b671992e9d9ebc28482ac5bea86e3fa686fb2585dfe3f49aeaebd737480',\n",
       " '173941e5599aaa3f5eaf5903a7283621f7065f342491ca8e9afb1f1deec5cef6',\n",
       " '12cc41054e38082f1509ab40f574ca5b8a87436414bc87b1b3ee0762174df37f',\n",
       " 'b635cdc76c6466ca3998ee7430b8d5d8fa285737eb63b4a57ea6abd3f708ff37',\n",
       " '705670df0179b0af650ffffc7493927614dba1411f1e24e66919a973bcfcab52',\n",
       " '1de3e81f52dc54f45851551aef163faa09a63e4716c1d70e6eb9a94261324b83',\n",
       " '0a7e989dbf8acffb775fbe6bfb8281ea57126ef49068697b67dbdb592d885cae',\n",
       " '610c2b7758d8dcd7cf51c05684b0bce41d98489b485309eb32f73feb67f391a0',\n",
       " '595cf17021e7a0eae8400dcef064e13e9e2590bfe49f49034a142bade87709c6',\n",
       " 'c2ea62d0feec395b7735fcbc8ce8b8620e8b9515c1c5331f15a0f32c71839af1',\n",
       " '3ba17893fc967067acf96bb0f426d10935fce6d58ae52151e6520d428d2e51fd',\n",
       " '2b70d647053a7522a1252a65fdb0bb0f80910a4fa2054f5187aab672bf394f47',\n",
       " 'c47f7dfc3e2c944d747eebdd9bc8737bc86eb8f23f871d41e2b440b67dbe5b47',\n",
       " 'd227281c3691dc9dc918cec3e444923247dcc68928b8435fc33736e75f4c52da',\n",
       " '13700b08fcb2e3e23550b9765d85e2447711cd4b46f66c13fba3af8c86350211',\n",
       " '6ecc8667db0f302e6b63286143c584bcf3dc09547b2fee4e5b49f1d1116d5815',\n",
       " 'a7f3c7d6664a5d8de4d46d065870ec8175a7f9cb4758b2d9ba5e8bcdf0528bd1',\n",
       " 'a171a40a68c8831dad058e7dd549770e20737e17eb1d55b61d15e0a29684d421',\n",
       " '17185e458e00d4d0f6fc1baae3a7994b680eac0846043aa4d88293e07fb84f61',\n",
       " '6e9b892d51c1d2d7722d18a595f52802b169f6bed94c680420566d778a0dfb27',\n",
       " 'ba342d1e6e25e91cb9ceb71e7ca4d479247a5de4570507c3c2c0b27eae6154df',\n",
       " '1c6aa51d89af0f646e5fc57f7b5638d16ffb170451008932d865fcfd5866521a',\n",
       " 'c934392f62a60e2c944de1197a0180512a7b319fb69b3486c8007a2f5b251959',\n",
       " '2030423f9407e9f651dc21eb93647d61eb15f2b8ef60ac5bd4c02bb3baa50ba0',\n",
       " '8052f155bd9fc42abe79049a08a041d49c1cf4f2e8102013afca16ad0de8cb11',\n",
       " '76328c80e2d93295b65a4cc405d3c3045cb6e6d7ef4b0b5b5ad5cc09c643e67a',\n",
       " '101026715e928b207499f920f47ddf910128dbc2ad01eb17ce9c667b78873bfd',\n",
       " 'eea24b7834f7d2b2e65beb2d57d604fdd5047edaa668da1487b2eeca57be144c',\n",
       " 'e507531c377a42340d904943323da81fe8e880225afb6232003522dbdd6c5c7c',\n",
       " 'e5580069cce53801059ebf8b237c147e39df59e67ce076e2b286e73353aba9e3',\n",
       " '19ed9d8a37bd0926c1321ab9162f347d27451584e7c06e1f9e0b51ba7b6181f2',\n",
       " 'b06f4c3de1c1c63e71e95612165f2f9c3882dd2cc260e27039fef57480c71660',\n",
       " '8d15d9cadfa574f137c56df570a860a19fad36720e45305d4e3fbf1c651582c3',\n",
       " '3c66656a653aa7e9c1e02dcbcf3acf5a7bba1566d842bcb9c9228cfe42865a0e',\n",
       " '294a38bfc10472e7ab58b2b65025575200722ea0dc99b99778110a2a2b284357',\n",
       " '4d49f128aa19d8b861ebcd68736375b4f67c3211170658a7f87273a7d46147cc',\n",
       " '42782c69c20431a6de88a6792a086296bc51a7e2d81f37b1f95fbe0634196cd9',\n",
       " '56bd4d2ff3a8e795d836c195f5881aae9656fed13f2329f1df1c5392f4d9282e',\n",
       " 'adf7b7aa59d7da8ecb06e85c3d8b94f99eea5d5a968165fee53a6b689c59788e',\n",
       " 'b4209c8442bc0c141a6161fa7e6c7977016f61e928f5faddf17379edc0f31452',\n",
       " 'f2713379bf71bd10ad306d8fa0bb6c1195c41373e5efd0e8fde4085428f8f037',\n",
       " '83d72e53221c50ec75443b9dcd5b39cd82f155c3f187c4f974aff48326f5b5dc',\n",
       " '4361ca75058cc45297163ec039e7892896273847ec77f4c0275d68789d96a28b',\n",
       " 'f8af63a7ab22bc644fc630ea1d8977a5f9b726ebef5b113df7deea2e32e8e09a',\n",
       " 'c8217ba014d213b5c9bd0441b79e7cb75298fbf4ece0900f4a48cc812328ac1f',\n",
       " 'dcfc8beb73b0ab6153bbdeae670f4842029575b1298e8c5ecbb854088b274e54',\n",
       " 'db813deabac40302ddd16411eb88cf83e3c4a2170dc4dcd183cbb7e9d1179a0f',\n",
       " '55af42eb1390538a32f7d7a38c92ca96739d44717aa0ef7f1a52186e9c71a0ef',\n",
       " '7d16a943fec22c810e8a342b5b409bd800b984c1dba60b217600902214c4c90b',\n",
       " 'fec1768d411fb4587b71d02276499899f92eb3389bbf717281ed30f232868017',\n",
       " 'a7cc0d27e8775ab9ff4a2c76dc2f600262669ba80c294a895151b5e70840f636',\n",
       " '35b1fd1ee40cf99cbc6f3d4687f070569ce11b37adf639c4feec6c374812e5e9',\n",
       " 'c2579e2d43fb7a4e31715af14d787fb3d4fa1d89c436adced4f3f41c882c6b1b',\n",
       " '399c502011886fb8a6f9aa1c413aa69b10bfe7226923d6da3963bf876bfdbc9e',\n",
       " '4f20442e6d09b61250537da7cecc0ab89445695b6e9dd6a6133664a0126d0a08',\n",
       " '5bfd7fcbe7a81963a9143333ec2148d28019cd4b16d1c521505d4c2e372ff5ba',\n",
       " 'e4c44d6681b1dcca1ae874dfefbc103ec7369001f05a5652660f369aa2d3d13b',\n",
       " 'cc31a8d654bd048d4fb5a5bae02c77cdb25d0dada3c1253f483bce7060511e66',\n",
       " '52a4afdb200a05cceba0e6ed446902b677e3c8f6353c91f283bfd2313b8939d8',\n",
       " '9af87dc49a3f88e2286bc9c506c86296b9a1ab4e55f39f2b64d7d7ea31989475',\n",
       " 'da69c0e451c6ef20e3e4538af8425851640ec278ac9408a91d021a3dc12fa463',\n",
       " 'b874e44dca45c7c1b2e07bc545f48a1f0d944bb956ebb372d94ffac7c6f758df',\n",
       " '4d7f7258b1cc664c959c5dfd9b98c28f9cf72a922e578e916ceb3784a8c5d1b6',\n",
       " 'f294194ca2ae2f98e495af49582644b8e92654d62bd1a1145300d3faf4f24850',\n",
       " '8c0477a63c3f7581284a380db27f400bf39480e28cb531bc0cfea0a2e7da705b',\n",
       " '3e5b2be371f9580a59d4d604dde5e06bb9825a0cf82de799222fac22ee4cff27',\n",
       " '173eb92a731162b29bb504dc91269cfac2263716ce9ea87024a31bf6cca74c2e',\n",
       " 'bdc441032f5a687c79ac8614bb2db4d46d0e644817125db3df7b5e8c8b11fb28',\n",
       " 'e4e28264587487074239090f5b5232d9df5023a9bbe90b90f8b1cacbd0470c4c',\n",
       " 'aef33307ca8ef19e21d8d7f6cc8a8b5b6ba4abfe5a31127c4f51c206c22c8e21',\n",
       " 'feb467cc723727235865f503f850a3256367d69f718d84ad19030d7f7db4d488',\n",
       " 'ee7b445f09d5170b0e7e716cf1c41aa57c535828a2cad768950225a9be1a2d5b',\n",
       " 'a348c35aa74c1b6e835cb0b3a2de06af2194f542b89886a6e7f88e172669e273',\n",
       " '7dae58c3bc3078f608e00aa1711f0fae816511db5fd780d0773cf4014ecffd69',\n",
       " 'a6180203a5e58d213e4ac195c67dd7cb0f304f52c9c74982ea6bcfc8a4ef45fc',\n",
       " '87bd138f824d76282ccc712d259e36b1eb19cfb3492a892b2a59098503514d86',\n",
       " '4ee2632586fb182dda5f7ce45f7f0becb8b1473b21f85b5fa620d2a3a83abf2d',\n",
       " '4ca7e740cf9db4f811e4c0e4bbbfcce0d7c2fe8cdc49f69df6233ecb9d9bf5dd',\n",
       " 'b6d39773c522d39fd093e50220bb7f21402e86b3c32711cfcbb0a9aea92cd247',\n",
       " '8ab1053ee6f7efe59cbec05a625faab6cb97645375d99bc6573b40dbb2e8eab0',\n",
       " 'f085c1e649487a93b77fb692ebb157142f8bcade9cb95638bf720c2ee0ab3a96',\n",
       " '17ee0f026babccb96e23391a00fb0f2feaa32b1b80fc1c0d30447a5a8471e143',\n",
       " '6cfc0cb94de05fa804f8e00a876f19a5a2efd589ddc71c469689f6f0dd448442',\n",
       " '6c90e71acb0ec905116db0d5ff257682bc3bcae29533f5215245ff9c64cb7ced',\n",
       " '1967c7e4520dcce1490ab3f8cbb5566a73caa88a8cfb33ed9299ece01716591f',\n",
       " '799dcd99a36be416285c46c6b6f649a215903eaf860018aabe4f6af43f98d296',\n",
       " '50e5995d3182ba556cb659e84e6af0fe5bea91131d7aaec922de8fa0ec9d5d46',\n",
       " 'f366534a8db2f97ac65b8c00a6a6c8365a3109c93d4fe941a96b7e9e0266adbd',\n",
       " '5e8075048d3d01ae8762f2cbf9a0179e8764fd5a5ba84ad3a634f44244c2f5d1',\n",
       " 'e4261e45a0e4dd94844657846e0efe7d47a68bcc970f3c63aeb80ce03886195a',\n",
       " '2da5de467d6f713ed6ca7f8abb4e30026eb8e890b8cae69f94b1e6a7e4c0c2c9',\n",
       " 'e2ab38ab68d763f0b401930f47c337172b42f36e27ca4ee4bc1fd6d3fe252c9f',\n",
       " '31c34dc05e0b8e5e6ab04b2e2efcbe8a016c2ed5404f09775f6636d87e5d1a47',\n",
       " '537b12853fe002c2b75800962505db220d8e4aa05f047684a653f3ee2fbd2ab3',\n",
       " '14c0d78a2963104abe19bf1ccf8fee2521e42a5b0e7b3880d63bf203efda6634',\n",
       " 'e97b30a6407533f67c8b8bcd3d03cd0915088451c9690718ce2ae345efd5f15e',\n",
       " '6383cf9bbd813e9e30d8632431fee0b22e05a943182d3ebca154972ee3c062f7',\n",
       " '927c205739cf06f781eeb767607eba5adea6b3a8c7236f7f76033605f31f19db',\n",
       " 'd436882c01efe59534415dafb68e29c07dbd452883f0af7db150f0dd41060177',\n",
       " 'b9ad26aa47e8a52e718b4ac2da970363f14d85c79ce36c0b57c82c1c2ee492c9',\n",
       " 'd49cd5b70bb77cb2e00d4e603fe5b140cbfda411a44260bf976397fdc9b0fccf',\n",
       " '0907a62eedc3bca7214ef30c6128aeffe2506df49d89e3333cec95986bf5c22c',\n",
       " '1323b2c82dcf9f37af4b634a3ba6f180f520fa99a1a3adf0ce8a5e58ba7ff6b4',\n",
       " '11cd96ce257ce08b340db17d7adde03d2388eae2d68f8c42a8ea60a679032358',\n",
       " 'c73c5ba64fcd612f23758fa1c236c98b7cd15cea44c75a51fe5ffb0c064e57f4',\n",
       " 'e96f5c5141dcff8b6f5e690a0a5ab78c9071b156d25aca9db7c6da022256d228',\n",
       " 'c7ef8dac3011720dfc4edd4be1388135681a9445c5264935550a5264cda69bcf',\n",
       " '56102720a3c590a7ae15956329098131746d4f3548b740e2afbb7560ab60bb45',\n",
       " '5e57549613575aee12359f5369c9bba262359220193f816588256c5f8232c11f',\n",
       " '1419971cf333a5210ff497558fa51aef361e6baf70716a4cc58872b0bf4b1aac',\n",
       " '9788ccc575f694a1dd39a88c1f0b41718da5916711beb0b27cc4cfd3e5a5d2db',\n",
       " '907a3fc86c4dd6a5800314d568a4332cdca2c0ba82f53efd33d972dfac4ceff1',\n",
       " '5a0a0930f47b98b99d8821a151fe2847e119bd366bde76e07cefaadd15305601',\n",
       " 'a569ea9c5deeda4282785a18b2fb489a086c3ff10b0c13c724fd3d6f722f09fe',\n",
       " 'bdecd0c5ed9c6b55e8bcf7219f1a5a3816ebf13c365efff1f737b1934acc87c3',\n",
       " 'b1253c7460e40385d637bf6ea8eee026bf5b98660e083c6c2c95172bad1588ca',\n",
       " '8406ee6f6cffa39828a3b61181673ee4f43f0890349b227a349344314a2b5989',\n",
       " '0c4951eab2dd9de9ca945306f93f4f5f530b089191fe632038f500494890afa7',\n",
       " '5dba1680e6d1e93602264f684b51a8a7d78deba212eb7c49de89c9be7f62c735',\n",
       " '1c64e37b39d2e9c2a15b7d6b43e7f20fa84f6b6af08c3886af8d440b698662ea',\n",
       " '2f3e994a516af2bbed148b4a479ab8d60d6021c55d0b3eb9662a4ec79fa07a9c',\n",
       " 'af638672d1cf3802e26fe09c5fbaff531ba076cc609fc2ec6532312f00de791d',\n",
       " 'b8f576f113cdee88ea9109e56790e86bee918911bcd6d611cff7025c4d92d5b2',\n",
       " '01e3fa613f9381911df7b15a82aa55a19f2f98c1948b566ebd6907a841ef5deb',\n",
       " '731e05eb1268fae0c5088975cf4626f74ed2c681f323fbf40eac7b9cafc6bb68',\n",
       " 'a52b6445db50af21a876287baf3577f515435dbecfcaeed7945bd6e994e64eaa',\n",
       " '2f599ed21b258eef0a3659526783ab5b8ef39fa476b710343f68350ac2f18cb5',\n",
       " '2696243712ad0bec6245fb5d7a54a74734ee250d8c1b48fad553951d9e3643de',\n",
       " 'de4c29a6d0245d634c6ab8973745e9ce41e229a219c68a988863068d761d7976',\n",
       " '7949a7fc3eaddfd8eb085ed8463baf54bb97e577e48a2b09f6545e78c43de4ea',\n",
       " '8d009a50feb48aebeea1d9b470269cacb79369d95fac5fa0c9674e8d23f5e97e',\n",
       " '502120fb33774695e7d3dec42d6e87a9db85c2abd785fa7d58726288c8a8a5a4',\n",
       " 'f7bc01099f6d9ef454597632f60d09d9d52d3f42ca779406503810714705023e',\n",
       " 'd73f702754387d3c1c7c8e2b98dc59aece76f7767131677811b66e393212cdc7',\n",
       " '86fc4d7ab961888fc1a033848cb86dd946063b4abb5da48ba8bb2d281dfadc0f',\n",
       " '576fa12bcf057a152732c9a739031ed79d59ee7593f0843187b04a895acbe9c7',\n",
       " '939458f924886353620517def8471212bf1dff482167c280b2790941fa06452f',\n",
       " '38c67cf5543c81ff7942ec76bb3302231b36c4c0fc71a136f289a5d37c3474c5',\n",
       " 'ec11880220f0405dd9fefcdeb7363de0234e10b463f20e4f2b995599175f9ed5',\n",
       " 'c5fef033de6aa828d1a14b681a97994ac187c5aa07274c3017d3458aecd76881',\n",
       " '0ac2f58ead2c13976f3d49ca0c27d551d73ca9be414bfba51031690d02376211',\n",
       " 'aded79a10164ba73d94b4e37c23b7c98f42beb284c6f9af965e3300482ff6e50',\n",
       " 'c756b9abc3784037d46629c5cc647a40160e46311e6787596166d16724e10ff7',\n",
       " '2d0e86268a1a4ad2ba7622680eb345d75b9d205af659093705c8a8a36617c2f8',\n",
       " '4e880af00fb030b5d87c1f7bcb0e0e4310e95dec40776b4021344288b5c6714c',\n",
       " 'a4b4199726b1af3e3352c0fbb8a29ac453c6802cf3b67563ba60b673fe489cb6',\n",
       " '31ac53f9e3745bf490988d1d107f5e5c409f21f1f474318493c971dee450ed0f',\n",
       " '0c02fd47d8983f70c76fa47d3cb49613b1108c8a8937bbaaf652b5aa4f7191f8',\n",
       " 'bdbd7eeaeb2383c20c41c87d78f81c08728cdd7cbeaf9a54f6ec7ee6f060164f',\n",
       " 'ed1cb867376d89b8eab3471bcf9297380196bd6da43657ffd1a334c58599e90a',\n",
       " '81a681118884065ac4133d96e675076a3ebb4fbd92b31766be7847405afb4b92',\n",
       " '9fa741d4d6d431b6e5cb2f48f9ffc005aad13659f00455a956009d087399af51',\n",
       " 'ef864040c32fbc1f9b543a50fdcf937e21129953500e1ea343bc7d9f71b20d55',\n",
       " 'e02a36abf62a7a96ce71daea5b13087d29443afa65b909b5dffc4be1f4555f9c',\n",
       " 'ba23d9b818ec25329aabf10f180e13ecef8f7aee3cfe0b92e6492a00d10fd9ff',\n",
       " '8908997643e60467609e72fcfde6cab2a8afdc83d5553be7952454486df1b410',\n",
       " '8516beb116b3864ba4ab08de74356a6dca2369aeb1598518e7f6d244966e608b',\n",
       " '243c189a4decce6261824c58bc4011b603f5f2b0384aacf7206b1ef5e09da300',\n",
       " 'eae0c34dc1ebb09c11364ce17916a7656fd3e22428f4166f0bdff69b6cfbb1d1',\n",
       " 'e6d89a056b2a966aae1634488b082f0356f834c46ab23981cd8608dbea36f7c9',\n",
       " 'e6c08f263ffa8243da8680db1bff3eac48038e2463a99cddf27238fe2552f38c',\n",
       " '80c1dd1e3da935811381d6a45a2c0930f4855b63323f48308e1e3497e58b6ed9',\n",
       " '6dfb70c2bf6de1ece29e33a478decd2d42c5d0fcbef8aa1b84a98e3ac97518c1',\n",
       " '18cdf71a4b0ff1ab10fd114305ea2bea95ef7aa3203ba48d64826975b07bae53',\n",
       " 'cbcdfaea80f8e2a0f59c2d305174e212397d9cf92e6d7b9b4143796ff5954733',\n",
       " 'f650b885c72227578a7cffaf93a65cfa02b3b2d9cf189862b3740a647e6132a8',\n",
       " 'd29314e34fc5f4417f19e255bb69ae53243e690467824a73d1e536114c812fc0',\n",
       " '3ddd328270296ab2d03f93c323ab57f62e6bcde0d01d836c7d1c132eadcbda2e',\n",
       " 'eb8b54ed94f9231ecfb075ac25040501e9f322260391f9b3605e55ac3f8c8754',\n",
       " 'a1b38ce1aa38e07aff6a739cbf50f0b8df0febae768f0620ee2d534993fe8bdf',\n",
       " 'd64a45c8f707016f9cf550f34d8d870a665a9b9bced47446dca72dee2e631fa5',\n",
       " '8937647bbd789af3ce86676c7f91987f5df5a2d036e96d7250bd06d4a1597483',\n",
       " '2bef82e8944485eb4f05d96b27f2cb7c84df14495e9098a85f959d441fef5a17',\n",
       " 'd9f2e6262c34d792e56686290c5629e00ee5d5a4f67888dc6d3b36607b70be5e',\n",
       " '1b82e5e4e13d11260fe1bdc168d357c8521f084de6de4ead72a654b9a6f3ffbb',\n",
       " 'aaff2d7965d189a7f6674a302f48394c2684247fc6706ecfebfe809e7f211c80',\n",
       " '65e72dea5fad7c894a9ef872884f0f3706cd774ade4280c45c6fd94fed06f91e',\n",
       " 'ce13f9f15f45bce471649e6c7ec1551abae7f400adcac3539fb9b60a09caaecd',\n",
       " '17a3ff975a2bb8e69da49ee39e0eff1501714cfbe9058b3b92e35f87f1590508',\n",
       " '40acad1f2e2d373f5cc3f55aa303dac8dae39a0b97b013c2723d22aa899bfc2c',\n",
       " '19801ca61316535332d2d7e4da1ecb698624c3d7ec388d55f1630250eabc0fa2',\n",
       " '092d4596a5db7a5babfe6ec238fc4cdee1cf85e4751e7939b2a00b19aaac28a9',\n",
       " '4796c4c0d738d4a1c53c69fdf222b6a94e75d223039f5a4d49e66b23a8a99fef',\n",
       " '9da1a6ff38ec64309ce5eeecb9299a026078cbf9b698340b5599fcaea1c543c5',\n",
       " '3443bff6a2295792415d24db3630f12f79d8a14acbda7ce0d2eb9afcdc8413c5',\n",
       " '09a6d47d30355784ef3013713a2c2e4e32aa45f5f19dcdb4c154a16461a9e6ce',\n",
       " '8b71b537280310121bb4b3fa8dd22debfb7b063e299b9bb561c42d41847ae362',\n",
       " '013841935367ff84bb0dc34c283aed48a498295ba892bfa06c7b813a48df3b13',\n",
       " 'cc8f48989e5465f276ff49fcec5c92cfb5c3f36e8322b2cdc52427154390e1d4',\n",
       " 'b21d87369a466c04196e8e7a9d1d407227a737df746a5656c8e9c39e84f7e39b',\n",
       " '5346df7ab3b9ac8b047adcd42dae67d19cffcc9105146287a3e14052261ac6df',\n",
       " '373e1bdbe7235c57529174e97aeba4e9a09f0c3c4e1a245df316844ee26d3146',\n",
       " '09ddc27a35bebbe28e0416bc8caef31e1afeb5207dc5a19e4fc38938559ee843',\n",
       " '059b812ecb3e7c166663983cabc2b1c5fdf364d70a8ea7cc0ae5842c54113856',\n",
       " 'a1a467caf6246ccd4d3b90f031f94d3c74ab11dbd5bcf755f2ece502c8f4d9bb',\n",
       " '4ce49604447e36d30de8833b80fcdeb94e1f8f82f7381e3fe61f9ae07cd07edf',\n",
       " 'a27017eb10a85f9eb870774789cae311047c3c61126ac2a75c4f1c6f8e772e1a',\n",
       " 'dbd7857f6b89ed17ccadaf12151cd2ca06c268a8d0ca0f77457bbe8b616da6a8',\n",
       " '29a3e8ebafa2c63418f641ed48782275e7e8265b421cdc776a776308916c486f',\n",
       " '24d3a53b9367733411ceaed98ef71883c55e10ffcb5eac3d670ff5ad7e285349',\n",
       " '3b964b3356c319303389f8be4eb069410fcd143e9fb1dd4ab5f8e6c3503e9b5b',\n",
       " 'ed05f0728dd189c3a80ec6d0dbf0e4e27a1ab286e05e3579324d396b191879f4',\n",
       " '73d34261a4dd3f8c004f8dcf946d335218963eb699db27a848475da83b8cf43d',\n",
       " 'a37c22d59a3296a2ce5825d5236bfcf6c7cb462eb9e3c18f65ca4f493fd53d45',\n",
       " '29c7c83ceb7bd152a549ae48abd020e3f04398708c9e91e7580eceee6b3b4ad7',\n",
       " '577ade4cc54697f59b0b457d3bcc5f42f51ce69cb0d25a1b8a7ec1efe2e8fcf3',\n",
       " 'a91998fcb6d2b0f6d7681623902cc4da89cf923457da8aa5fb97839020e0263e',\n",
       " '8bc6580dcd04cb73d7f7779d99fc33275895a0ac125c182b4a7819cc26dfb23c',\n",
       " '7b2b75943568c0e8023208cc1ae8ce6342fef48284500960f878f1a753462b37',\n",
       " '319ec20b756af373d61e2791906e66888ea3b1103fad110a9f1311698a9d0e55',\n",
       " '17f99142d9fe9d321fb61a8a40d75880137467397034745394d7b3342b246704',\n",
       " '7220f7be64ea99383e4843313864f56291689714319b4d5341f31b19241761b5',\n",
       " '9c9b8f498ca67b2d7f4c4134eb26581bcf99cebe30beb7a54b489e96ef908292',\n",
       " 'c910c437650c5221784c509e9d773d77a6f22f7605ed00be15b0bf26f5c3dd5a',\n",
       " '3103c79a7dbb17ce7444d78edf63f1c1ed0d404d2258c99d17e75c2b6f57014f',\n",
       " 'dbd698f99bfffdfb592a163683f4b42befac2365037b672692b99cdc639a6c87',\n",
       " '532b24b95328ada06c7162c075e194912448a3c0fae9b625a25904a7bfa47ee9',\n",
       " '4451f9e9fd4bac64acaa9a4ebff768526d70c660946a267d2bed411544701726',\n",
       " '6a9963cd9f76c66771ec62f3df741a33e2ea0ecc0d444d4ae1c3bccbba5520b8',\n",
       " 'b90ab9f73f1ad97f34d1045b0d841b044f70c5ceccc345d31ad9bcc2cdeb3f3b',\n",
       " '45cad3bde8e0a3f487e1f7ccc834b4880a22292f8b03b510f37564aba6d9dffe',\n",
       " '4303ee1dfee1eabf62b84edb8c5be8a44639d866b80eb68e55ff0dfb79ee023d',\n",
       " '6bfa3f566c2f30f0e96a271028260b7b14070f7696bf60833d892921a267ddbf',\n",
       " '30f202ca8a695fd5e9febce8e177ffc9e1deae05f8eb71f196dd26df4aa31db5',\n",
       " '590cadd8fde0a4b4d778fd193c38127bd054df0ad98036fd6d6ed7bb2959c46f',\n",
       " '0d2d8bb20cacf1c1c0a7f7e74f3cc00e4fc051a7e0ba0de6711547dc50aacbe4',\n",
       " '758774f647e6ac6c4693330a58aa5a17488d5c36ae60c8380525150298427d96',\n",
       " '072519ec019a1569bb1f0810582471b5fd9fd207e8263f12fbd43284e9c92e7c',\n",
       " '4860eeed8956cdcee57ca2fbca1855687127b7590f504c2d0bff840bcbef8d52',\n",
       " 'aa45a62008775a545f8bff13049bf81c0ec4794a6601a39d6886e18302525c18',\n",
       " 'f8344353c13d57a8e9d6937cb9e9c2b284ab77778b00f68e30eda0481988eaa9',\n",
       " '6a0b6773618c7294fb504fa6d38c00481370ce3aaf06dd96267c35253cca4fac',\n",
       " '8bce44ec90b20c85f1057270d58136056bacbc8af97f19c4e218d8b5eb000995',\n",
       " 'd9408bc5a657fa6d350ba98ca8382d4c1f933c3387c921969e04810f791f0bdb',\n",
       " '4ae632b847fdaf002bde146f68ed6d1077d0d70f268290868bcf5d65831ac720',\n",
       " '9c8a9d62c6c2edcef76a8b997201362bbd084fbd8d22e45eff402cdab6c293a7',\n",
       " '5e2ba25b20fd363f7c6ac840f9a1b22c4d8d8aeadaeb754abdcddf58e13f6326',\n",
       " '2acb8b0a2956d42b95e8afbb21787c61caa667fc654d824d72728dcbd014ec87',\n",
       " '956cc000ce0eb590cacf934fb06b94cdf695ff13be28d38f28daaa30b7f67469',\n",
       " '166ec1a9b3605af97f56e52f1f96e9a6bb8c1f0846bab4ea01f1f261dc219e73',\n",
       " '1201170cfcdb2903d0440fd366720191b76251c24ed202b1e1ff12a7916ad9e2',\n",
       " 'e211738cf9d3708ba706e97af591e0301da3e15bfe9a1ce28d614696412fd94e',\n",
       " '7e1614db46239f57867b400784176f901066e8f3cc64f5886f44d1881e0443ea',\n",
       " 'cab0cd837772b01799f8f96e6b2a7fc59c3645754718838e53a1a069593c18cf',\n",
       " 'f2af67eb6d8d11bb6da7f8b1ccf143d896074615c4fa46f96e9d2cf4355d1fe1',\n",
       " 'bf1ce1a1e533756eecc1c2bf770d4b923395d2f390772bf8c5abe59719952063',\n",
       " 'bb586c43088fb8b15e0d74ac710550be2a9fe2f4ccef26bc1895297ee6a2486a',\n",
       " '1b4b92667baea1ce115d6270f921bf3d7834cd10a4cba150bde9d24fc6c5953c',\n",
       " '8d8da2f7a91df3fbced7b725f2c5829438ce6a2cb2f87e6d9ed9ae4b37c5aa34',\n",
       " 'c9595631992c73c7cc578ac094d14a4440d464bc04ff924b18447d7c8e688515',\n",
       " 'f9f714eb1432421df28f87d267d22d3b176d27fc5e600f1fb37ea34df4d3e39e',\n",
       " 'bd09af8f561f4e9860a618506203dd96a3b7c708c11af6bd75335744813d19a8',\n",
       " '903ea89cdf88158e4289db6b0d53ccaba32cdb4c6146affc8843414923d32bac',\n",
       " '2aba9e79d66c82c720844e499b1a915bc2a071cce1ae29fbc6be9c0fdf2e1d55',\n",
       " '87bae37ab67435e9e53fd8c17f49422fbdd3e9e033ba94bd96c0316d239be671',\n",
       " '6cc3351962dacb393f0ff4dcb011646374d0f43908a95efd1b5d7a1df4422772',\n",
       " '387188aba70b5a6b4728305a8bde5221b3ac42a3d492a34b3dae413e30e39648',\n",
       " '8df56f09a1f2dc1aae93caa9f1871151bb8e59c44664e429668b1e903ff87bc2',\n",
       " 'e2e9556d57d07ab94a084d8560b74a65ae21b76d9f55e2886c88f6a4bf000c36',\n",
       " '9a8fdd9f298dec3f916936df8988d9e0c6f0d279da0dcc2470a347f1e0e18737',\n",
       " '7599fd10de91fdcdef6f4d9ef10ceb97f53de943c376d191345149d6d8bbb473',\n",
       " '3f428459beb3a89f02ca7c8814d035a5222aa02154272ba61aa14fd43149e316',\n",
       " '36a2fa92bf8db0d6abad3c9d087a215ba78b7400549df47a5a2b32db6504fad2',\n",
       " '16afe4c5089198d2035dc59d7aa48da7135dfd56acc5857e590c4adf9129cfd7',\n",
       " 'd9ca7508342836a1b720818089b5f696a90b426a6e038a3b1390a77cc664405a',\n",
       " '9e0fbe8ef0989ec9cb65035f6fbfab5a03d28a600c8825066400b6cce9ebc0f6',\n",
       " '10b7443f54a34fda6016c0d15df17519551ba1a0ec32c1d47ac6b64d29133952',\n",
       " '7c6abafbcf93e5c969238fd4d09848728f7c56436b2b1a507b00f64cdb7c6bca',\n",
       " 'f4cafbe53737895b5b7625cf5d13dc5306c22da384c466e497d35e9aed662860',\n",
       " '4f34fa6ed6c9f163f0d47d1f1858af60ecc144f46bdd20a62e918cd0c06dbbb4',\n",
       " 'e54b32a0b37e52d84037d47e2e6ef378866e2dd77b52f84326677766b9447f5b',\n",
       " '2d34a548e4d8dc084341bbdddf189f6b49559cb6d9c0f99f95985af244628b4e',\n",
       " '0929a72848e80d7232b32d83e6a442d73b7fbf0ac86cc87c8e9dd2afd89eec0b',\n",
       " 'c5e9b5a891b68541430d5e44f39dcd9be0f1be74950c2ec2f7b52f8ba6f7bfe8',\n",
       " '69cf6559d2ea95289c14e4b3fca0ac1face1c3b5f2ef6a9d83be909d422f2019',\n",
       " 'b6b02a90ca7b3adf2642ab974aa1f3b677188bc2578ce99c73038cb92f6edd03',\n",
       " 'cdc3dd396e86ac03c41de920fbcc2b1650ad87000e68c787b4e9179f206dedf0',\n",
       " '0b7c31dddfd61455969d79533b15ea8ca2d6e68e272c76d1bfcbb7fecd9b98bb',\n",
       " '3bf648523d0da82a520f13ce764c5565af05cdbca26ffc5f6c276ac881cb20b8',\n",
       " '2f4deaa0f4125160ec185f4db935a5bdfb7acfd06af7a5499a50fd5010be16d7',\n",
       " 'aff624287385ccec6caa5311bdc61ebcab9874f4af62f94ee7fac09af41ed5ed',\n",
       " '303f7ffe81f991b806225b549ee90766912198445c6f4f931105a52bef58848c',\n",
       " '2f366afb1e2f93ed5f13db6a27257bb5d7ab660144cbe95191863a13e87c9b3f',\n",
       " '36d0c95fb51162604bfcf0d88b4f6925c9da443dd249a93c3aee8d1a2e8da35e',\n",
       " '1fa2536f2d27dbd79e80a8f8daedae47e7b20b1750eb3b5d7c4958d25e9988d0',\n",
       " '931f602b1940a48e6b08bfd80df5fa5b0dd9b40fad6fe1c9b08e86c3d5fbe9e7',\n",
       " '9b29e20ff5c595c2c17df8aa4e20fafec13feb9c4290cd8499211fa6504c5656',\n",
       " 'b05c02f9518cc97d111c39c1b38909f76e9531c3d3aedb6bb7bb4dcce4711820',\n",
       " 'caaacd5a710054a0fc7932d832e22c26319b972a5379e46f27cb985451068031',\n",
       " 'ffc09b8535d04846b2eea197fa2e087b23b984c8bbb51affc65087e15d38f312',\n",
       " 'd6745ee86e45b02fde862475cd1aed5cf1e0baf34fbc9bfda5603edc6cfe960d',\n",
       " '051995cc92f69aa8c98d6a9b7ae6deab2893e164578bce50d71729bd17e13c80',\n",
       " 'fa2fb6db6b2718ec9b04907fe5901c7265db35a2cc25b635ed3ddc597e655d54',\n",
       " 'eea6ccb544ee0b1d070fe228b5019f21914a0f010e040e3e00a445d018960013',\n",
       " '417b1e6573d6a77cc58ea68bd6684a55e1c5446e38a3ed51fc5b6272ed5c9654',\n",
       " 'd782ffaaad86bea225afb5d251391b71e18d0bf85375670cd75c991c369ec15b',\n",
       " '24ea3edcece612fa1d6b9ae1b453bbfd78189fddccf75154ead738ef6253a2c0',\n",
       " '05c28126306c949df1487e2a826f160ed207841f01d982167f38b32b3ba871c2',\n",
       " '2ecbb18eed1ca30a8d66dc15fab181daeff783935b989d8af06dd633d8583050',\n",
       " '80652456f399a06191691aa4c897e9b52f991e0d75c070a1e5f0e9a2c6ea8595',\n",
       " '124d3da366983e87c05b28f45df19a94809fe7f1ca5ee04bacfe4994ad8a5a0c',\n",
       " '03390c03cb9e9b6c4aace345ce9d3f3e66c9308f515f6ddf0fce9dad855d7966',\n",
       " 'a553d7806a8e8b00afab9ddfc92611abcf99749733c3a07943c6286622efd0e3',\n",
       " 'ffbe9d480e615144bef1ca57710bffdf66c3a301d5aa13d4573833fb93cd398f',\n",
       " '348deb5ab0e2c2932a48fbe8fe986ccdf6d84551c4094b0aea1c7e8b6769d85a',\n",
       " 'c88e4c161dfe70f92e30b86408c5db1f8a3ff2a8450ed13674f0e003ea30e1f4',\n",
       " '78e7c67d7bb82aa3b6e142156bd967805d4e2c5e3bf625db630711f637b51137',\n",
       " '0d719883202d0278ba33616514691d1eea61a82b25e075c5155258ec29645af7',\n",
       " 'f2d4b6207ea8e64a178e7fad2d78028a28d607c0960db9d570bb0e3699a3c5f1',\n",
       " 'ec18e171fccc6315911889fa5836cb0dc228c3d84396a9d75b3fff52c114ac39',\n",
       " 'ed4dcb0635ba49f8a1418caf0d5d67523549b90302e5c50e3538cdf19d8e3280',\n",
       " 'c1fdd3932f010db2f5ab0efda5af222be9a7bf9b78710a401388a8cf6d8da167',\n",
       " '882bc1e2d8b6705d188d2d7a471fe75c43cfc06f25bd23eda93ae5ab1311c908',\n",
       " '28e6ba38660d33bccef196c8fb8064126ca15d879d9da99927fb314c950fdf17',\n",
       " 'ccb428ef3f1a5598828f29985d849550ea09cf2711461dd3fd88f16378ee9876',\n",
       " 'ec3fd32c7f115fa1be2dc4ab31672dc03e8c3405296b440d1fdb27bd75dce5a7',\n",
       " '791d355195553bfa92f4e4bac02c537419be290f799b0e5c696d48c558791422',\n",
       " 'dfaf3efff68e61b3a2dab798256aabd95feab86bfaba1425f2fe125470ae110e',\n",
       " '7b12b9ffc09cfed97073b90497295d77845d5f19335b34531ca4ceb6a0f62964',\n",
       " 'f1d301bfc4f12f6363457d4023eff2d1000936795ecdbe91abce8149fef055df',\n",
       " 'e8066d20278c3016f5f7d04388a3798512c93cbb87656b0b8aff564890ff8850',\n",
       " '13b7be76ec961b2c93f81e08283b01960c7a56d944226365de064d33e3331527',\n",
       " 'e411c06cb0712b6f96d58d10272fce23d374c320bb0900ee66d46188119492e2',\n",
       " 'ce993056478079a59afe2f7041a2807ef36036a928223c1c9d3f3aed0ef40c81',\n",
       " 'f3c627044600329ba2ecb94ffae3023910ea2e7697ccd34b2ed0d4d699674d36',\n",
       " '60f24dae4d84422d3fcbed778e915049fc5eca9e2df05137ad501185a6ae30aa',\n",
       " '137c60dda82998961cf96c616b957099805c6e645e5d0985b69a1e446a60a4aa',\n",
       " '8bcfd4bbc575dc0e544ca5957281273e8146c0b8bfe3bd221f715c67fbb3473b',\n",
       " '59e710022de17143c7fd36e6e3b462347a03ab8b8299802668f24f09d2df10b7',\n",
       " '026789e8bf47e2a68b3ffcfa6512a0ee29dd4bb9bdc35019b44ec520cfb336b6',\n",
       " 'ceef0f54de6f5ab75b5c7de469bdc90bfa330ea0e997f8914f94c92afcca52bf',\n",
       " '8fd8451d20501636501584c48f84d428853530cff7d8b92776188ea5058091d1',\n",
       " '72a58dc57b786204cd34e7fb331f625e2385dd1b5ed55aaab7a94f983d80b1a9',\n",
       " '142dbc904f5bacbcf4eed3b9c794c81e65bfeb1d8f7043ed804d9b04ccdfd607',\n",
       " '33d6584ef27edf924e27f4de29f633c7424190266f123ab4a3974db5ed8bac90',\n",
       " '3d0276a14464e7299d9ffd834a2d6c2eaf10e4ba7d422d5527c1c31786741ef0',\n",
       " 'e8cf5e2d926f3bddb96f136a3e61a391f0a81cbeee8ae46d7f3160c271b44eab',\n",
       " 'b5494ec706e36494078203c6ee39c34213bcf8aeeef90a717b8272b283146284',\n",
       " 'fa3f7840350689f592a3dc21a156b65f6277bfe48bf3bdf884bc69d17210d43f',\n",
       " 'f71777d1a3a3ace9e34acf75fe82d848d7e6a662704f40254dfba00525ef41a2',\n",
       " '06ea7428b5e7f2deea0ae07d26503a79862d030429830e748dca59138744f61d',\n",
       " '71bbf457db4c6e81a2fd76e094c608189dda57a5b319ae8441912eaff112c97d',\n",
       " '4c0af6353f723990225fdeaed85ec37c1a400a32cb2e498bcb70bfdd590d312a',\n",
       " '8f30331c8e57a8f0163262c86a08acdd279af488d641b0cf76e10e198982615c',\n",
       " '23cf60a87100acbea32ab3c7780fe9ffcc4a5dbe4f64348a5846f4c0ea27a6d0',\n",
       " 'b15cf090d53d28d7abc8cb2cb7748b5afaf2c904448bea8f8ff5d41fb6558ce5',\n",
       " 'dcaa056fd0524da314c7073aec2a9aff0cce52411bacbeac2239d59a7b6d7377',\n",
       " '68d52846c7105acc6c6c10a293251adfddd22c10be18d1685dd951d520069c99',\n",
       " '413903346cdd67b929011060c064e4054e2a6749e7fbaa629e8ef98f49dbe0c4',\n",
       " 'c75ec994aa3607800b84753f5ca174a6f288c29486eadbbb607ccf7598bbb699',\n",
       " '03dcf3555144e193ab9e5ba45d8facee53e771299ea85d7eeb235633840878be',\n",
       " 'b356c41e44b595b98b845028bfe510ff8c07385a434e64aa7c963ab88f6e78c9',\n",
       " '3e118bf376692a4f5597e508469e349e7c3c505d543b979582969b6a2ea0897d',\n",
       " '7b10f8b11020e10ba27544a80a69e25cf8c06326cf66d96e32225fbca10afeae',\n",
       " '80d0ca73d5b311394fa66b82452af877cc354b6b4d29ab0e4fcfc2d37d3f3962',\n",
       " '5d47fec68d55da11764b331db51b710d4d678e6d0f618a52563c1cbbc73864b1',\n",
       " '56858d5b4c683bf723693657a88755c95e64efafab985cef533464e8c9cb36bf',\n",
       " '81d9ea834044d49fe1e9aaaa0ed77338db959d3ca82d123e194bd986f1485f3e',\n",
       " '83c64dc6d4f6d91906cd99085ec2753db7fed7136c1ad55feae0b18bc1d54013',\n",
       " 'd9046eefc8130cd4a0c620f25a5cc810f4a59f194da1d9e4f8ce38991042ae86',\n",
       " '8d2ac3ce09803a79de6fccca806891b1c1b06411da92937779be6119e720d764',\n",
       " 'fb66e4a9c5e612e98aaaa778e6374bc34c9662a072d3675111e10a2050ec84d5',\n",
       " '9e247add8c3a449206beca1fae88bde567f2851d19bbea0fe174a27cd1dfb3a1',\n",
       " 'ed68150c8cb6c2ef74c6472600a3236b730aa466bb0829c91caf1caca5d71cea',\n",
       " '7838e2b2788b6453802d15cd335d33d6c46ec52fdad58babad24205c79e69f0a',\n",
       " '532616ac20c3ec5b90e2b3ca8100dde3826959512ee68b781c2becbc882ddbf8',\n",
       " 'e6eb545883a7f90c066765d595049e0a28ff64975319a7ccfa81623191b1e63c',\n",
       " '27d9c741b98f003bc0bea691aef3bbaf902484c2b1b4d770a2f10aa9bde1b621',\n",
       " '9d67b28ef9bb2a80e6dc1d40ca97a51aa060c0176a7f55a4a2a0266416078f57',\n",
       " '7c0de4e4207ddfdd46519b2bacab940a2053876f2c225179f992a5d6f07d42a1',\n",
       " '5b99288c24748164d06197e3df5b1dc2f696a247070967ea2d44399e2bec32c7',\n",
       " 'fdb890fd1384e8cd609aa17cb722987ff610dd60419914edb59d2586b9030ce3',\n",
       " 'eb5be6f980195eb615fb8859f7f1e28d83c43c25d26a502b218fccfa8b312ebd',\n",
       " 'c4dce6be47e1be54187a20fdb09fa4c0f3af397e04183624f3c6455e701ff4c5',\n",
       " '816bcd7bcc3ef2cb339d78e327d9eb18fcdd76fab6db3b69ea6c547ffaa076fc',\n",
       " 'eadd5122b2816386015f4bb5d22f4ca59a3c2e9e18657e24c0ab03ec3bf037a2',\n",
       " '34189d1b2d15599acb1ee7174240542556940c3d9c4300ba24cf95fb0279604b',\n",
       " 'c2596946513a149d8e0c8fd5ca740d2862018f36adf5d877398707aa73782e2e',\n",
       " '6594dc91ac096bb1410eecc8dbeb8295114889c5c0aea61f13e069bb8f7a1f14',\n",
       " 'd1e2beabec33299a0a1da4a5a9cc1b386d7cbe21b06e14de958802f2be781cd2',\n",
       " '59feef438ed19c8cf7fd6e4d0484aae593f57aefad9a1e68da98d2b5e2d89e77',\n",
       " '26071efa651c5931b5fcb71e242bea7c84a90e862dbe656f8193b616f414a0d9',\n",
       " '23693e04b2dede820be7bbf7cb1eba78c171c44877c5170281c37d7469d3bbcc',\n",
       " '8aa329aab97ba45a9e4f2db893ff848173d362dfb22cb61a6bd40dcbc86f3681',\n",
       " 'b6cab6814fb1493fa7afbf4b1e2140cc1e38cdd667097822dad937e7dbe1c4a4',\n",
       " 'ef0d6718aea9c100c15bfdc6f69224fe6755a456ae9f66c449aa4a56edb80fca',\n",
       " 'fdc95640e105659aa3c8ef7518d82070815f9373cb7a065263cec6fcce2d3c68',\n",
       " '7b3de5150f6d30ce5e8ba40ff552bf60759b74b4688938ed88fdd3b32d5521b6',\n",
       " '4a274ee71c29919c6529d85a42efd760b400a9a3d6f10814aad8c153adda8dec',\n",
       " 'c4f72fd541ed4f1e7747a98787e2afa5caf8e5cd6d8c716a65c8d817884ef120',\n",
       " '3cd47daf4e044979abaf771fd79033382de7e47212f03acf26ffc31ef5c2da39',\n",
       " 'dc4ebd8c9ab22c1adacaeb617bc47e4d75ed8b4d7170598dad0d079754410ef1',\n",
       " 'f8164ce9de77f6db58c105ef76afaf4fe5e4612349d5a3a1f6f78a9861a15515',\n",
       " '965be41002d7ae90536061f3677f79143128637f79563fc1b986ffbf1d5b9c08',\n",
       " '4861333dcec0fb02a85aae4c1daabb0589beb6db1356e7d98691a16e9bc22982',\n",
       " '2fb38954c61f81587ace502ad94fb61d943e6d8a189e9b41c91643507ef731e6',\n",
       " '0d6dcbaa4d15b13c452b785d2d9e4c083c588ccc7ebfdaac5c2c14f452cd74fb',\n",
       " '611aa93173ea9f6a6e4e4053cf2a363ab62717a1111d56c2d59ea0ba441ad1b6',\n",
       " '78763469e8a1a552d973cf5b4601232a154fddf8828616d205c5ffeaa322c22d',\n",
       " '348449a1197b5a441c98e2d618b70e99ffbb2e28888784f06e38308b86cebd3c',\n",
       " '26304344b45d760c33c7fb34462172b304e31e7d928573bbd3a4e2f28bef2659',\n",
       " 'e9c5d7d6576f430f89b552bced353f7fdc0f3d8ae6c86474788b7d92a5daaef4',\n",
       " '3a30a8c4057acc3b84147ffc7517b5060250e468572999aaca14e869c0c53a57',\n",
       " '58c5000109c74a4bfdc1bc0a749eb7cbe10c923578fc55a28a466211c2076f90',\n",
       " 'c5d98e6e2cafdc34f78aab82c1bf0ca02bd59734cc69b1e28d84f2f57eab2de3',\n",
       " 'de64cf2adf1dc31b503333eaa5511ef2ceecd55a4f0a64181b4ec3dbf8e00464',\n",
       " '60d0450cb4e38ffa70c061b0b819788564188c672d5c9c1ab9bdd5d40805c7a1',\n",
       " '270248486fe9cc01824cf1311d2bc7edbd1e1256bd301ad44b2e6baa7d030f7f',\n",
       " 'c276aaebc8f9b9f31a83cd1fad72813588feca8d282a6fd7e70fd9bf535b6861',\n",
       " '03f71e5bb137b0a65c11b2d3e47e91586977056c20197c1ba1a9f01771427ec2',\n",
       " 'd6ca21b6c6d291e858689f0d2b977c035550f57df2400b426ea9676da56ce8ba',\n",
       " 'cf6f8d1b37b1953ad11ba056e18ac2c72997814968ee3212753b41d851611693',\n",
       " '4ae0769791776805dda4168645a0db129a3ea7245b8d26d7a0c34f8c66f27356',\n",
       " '9e10177fcfa841aba7288584dda6edd7fc4b462cbb9599ef3f1b160873908a61',\n",
       " '50a4225217e2a49129b55d41e6671bb66a9b53fd40cee90abbd674e096f905dd',\n",
       " '77e1f531d3159f1d6e7868c0f8391d46727f1d3534fef3e72ddf74c9f7fe5a4b',\n",
       " 'e675e93573c171147be064bbe8eac536fdebd7bb506e633b27d566d607fc5c5f',\n",
       " '67d7605e5cd08cb1c42da3ad9e4394e40bf73aed3e733669496e690d9d8dc589',\n",
       " 'b36bc2304082d929c8ff92ba7c979326e5969938032ac42873d9f4268dd89b41',\n",
       " '418a574a7856a3353597a6f21ab93f5026cc6bcf27bd54f03aa2a8c58fe9409d',\n",
       " '3a4633367d4ad508493e0956eda17eb95c3548cd71ba22d73c85a1fa8752f7f2',\n",
       " '9d4ea46d9d9f71ad0d334b3184919baf3bef87f687b7b4ae1f61b61ed2bfbb98',\n",
       " 'ad3338ec812391616b444fdbd590d1374542564e707d25ce99abfae9f59f0447',\n",
       " '6236b569dec5a1153f3798ff9f2f3deb4fa10b43467f8891f92c4c4851e7965f',\n",
       " 'ea2825af193fbe08e7bc5aa6f46b0303a737095fd90b054fbdf9ce6c8aef6653',\n",
       " '3b1c75220add15f67a9c8eb3e179b75cc3a33a5ed6dde52a85c5704c17632114',\n",
       " '370e790b448a33939b42ca4f0679cf56ab0a5cade51a748768cbc22ab172ade2',\n",
       " '95711f1572d2c3bcdf80fa09e41a3a52fe69eff5ab7b81c392c04d2114e77f68',\n",
       " 'f69808c4612be3dc66a02598fc13a762a0426beee5382dd12ce92d82cf9374a7',\n",
       " 'e056e9825f589db949dcf94a37e0ef3835e914fb6090ada7cab51fae91951cb4',\n",
       " '8da826f926f0caaa245aea33f7399d8dda65cc65403175a383da2c7504558588',\n",
       " 'd348656d83131205bb12bf9dd33afc1b3a251535925323f68a63f7d9833bc52d',\n",
       " '8cd5f6b91965169b97ba4ad5f54a66387bcc5e558a74093a63042eae0ddd110f',\n",
       " '3de72837ec4600fc2fc48a92551a7783ffbcf66bd37665d2619eac0c883eb5f1',\n",
       " 'fee6a378a46e1df3e2a1ed83caa6e3c81c24df5dfb79bb68a5b19b5f03a1e8a1',\n",
       " '34373b182ee0fbf4f24f03f3a2f275dd9534dfdaf2b62c4ccb9d90182f34262c',\n",
       " '54b828d18e1f5eae7ce83eb6eca9a34a54a629a17235cce6e714ed7555877358',\n",
       " '800ccc0513b3f7ddc1ee90d355720c6c990a9a6b184cfe839f1514beedbefb0d',\n",
       " '3584730b407e490694227b6b6f95a7e18e9b99ad3f3455834a606d9ad873579b',\n",
       " 'dec65bfdb421836f17a82a74dc40e8afbc45a0c5bd08543c7708c0fafbf21c66',\n",
       " 'e7e5ad84a36992013b3972438c0520c6fd8879d2e005fcff01b36fb497f7fc8f',\n",
       " 'dcf063cc32d0c1d4525a9784e053f5bcbf859b0b94e8b5688d85e8bfed86dcf3',\n",
       " '678cf770a5c4904876806bec0cf2504831d2548099ad590b373ec591c5837565',\n",
       " 'b0016c4c479a5924f746aa19bed20486275d3a9fc139377a9fbfd724c75948a0',\n",
       " '07cd63fcdefd304cb9467cd6323ab434ada9cc08cc195e13ec0f107f82c814e7',\n",
       " '456fd7a104d5e0a8081403fdf658580a5988d99db362de194e35447f85324e4b',\n",
       " '21c1fa7af924fa8cd8ab0e5b56a2f2562c5873273a0c7b4824cf178219d8709d',\n",
       " '7af8fee7c9950e4ef71299346f46b4566e17c76dab4a0b55d83a5e6c5513cd9e',\n",
       " '28be16cbeccad105cd55b6a685364898343bdf30282b7f53d60a98933ed4187e',\n",
       " '856bf24532d3e312ba75dab1f53455d39a67269e93288266c1cb572199b42c7f',\n",
       " 'a71edd397566eb64c362ad8e696e19ce8276c7bbcb76777eefdd8ac0d1f583bd',\n",
       " 'bcd60d79b8332235f85fdf4d4900ba4e5807bc880c37364fcef232b531e5fbbb',\n",
       " '800c9a67d1babe46236a7fad37e89ed8b00e22f37a878ae70f220ee8025aae11',\n",
       " '6f2083a81dbdf62b1281af9d05f023f5828d6c550a84a9b86d094473276e988c',\n",
       " '5c98be0607eeee405797f032bc9e2bd1b11b67e81c660836f3faf3dc8bf339df',\n",
       " '0989071c0a79fef4fff5002f449ed0936aeaedd032c975ac4c588d5fdbbd7c2f',\n",
       " 'ffa22dd9e98b7fcc6e390d8639f328d5372aa536dba14a19191f83e72667377f',\n",
       " 'ca9383411bcbf2c7563b54d38b8335f6f4d0212b29199b95dc023915591da30b',\n",
       " '974d70962e85e7ba6a25174794ce32382f122bec925fac14f5f40bddb8f21320',\n",
       " '27ba6426e8652da4e890df6bf6a6a580342ff71dac005f4f8c2f9559e1de3179',\n",
       " '5f34a39c3dc4b32447efb3fe0ac396621a4d82f0a2f990a209a39c1567987f9e',\n",
       " '58fab2e3d24ae80ebb18a9f5e82c451ae872c580920264c396e7597a7e2c789c',\n",
       " '5314f51a9cbdb04afd0d118ad4fc379170404d0ee2a7a5e9a0474f1585ac88c1',\n",
       " '332ff333198771378337356ef5a82964726197e4f9af9f410c323aa362a96f41',\n",
       " 'bac2037de9073e21336d918550b8c766af6c300eb22d12f1230202cdd11faaf7',\n",
       " 'a4eca0d6d02d2dbfefedb087ab227d1afa9bed6f235906c3a74bbb6b9edad854',\n",
       " 'f3533453aec4f31bf2ce03f25e11d29758f17128bacd7c17ecbee9d9542abf86',\n",
       " 'fa438aa4aecbe91f264829a453b1b933925532be57a51a50d8d9c59a30cb8fef',\n",
       " 'c7cee8a6b40f8d7b2f82724c2ddee25cad889998da0b02ce37d83ccf62659b4a',\n",
       " 'a928856878488103dda9e60f64e08924ec166902665da3fff83351342913d9ee',\n",
       " '0f988ee1059636b72486067f400b87ad597770423aca0126a32a978bafeacd60',\n",
       " '35484dfcfd8d932b9a05bd0c815e70eaa098231ed760ba15c2a7f7e6910dc762',\n",
       " '0f3a97c5ad5663ff3cbbc20d356b96753d9dadf3158d4da4d72e0e2bcec71140',\n",
       " 'b291e6276bea29bf425bebff794967e945ca60a805064d712e46d15c0ddecb55',\n",
       " 'ac30abf476486d46314adaaab2b485ca8734b814d15040c303c19562c868e954',\n",
       " '10dae3bc9d4761333572b78bb3230714cc977fe316e4b7b3aef9a15582aa433a',\n",
       " '44d35d8deb91d106c8cc7f1cb931b0ebca110cd0308f694435f6324f01fa0cd1',\n",
       " '51d457b65cb525ef56edba5dc4710e39db653cda471316ad97ab19ab1c595d95',\n",
       " '3bdf63b480f0a403e66d4b6c01928a875f2dd3d75565066bfd75456568113c22',\n",
       " 'a60ef090c9af313d775146cb9bce10302780997194adc30369f5fa7c1bec7312',\n",
       " 'ef1055ef0ad0455c99f405d5510c5a60a44619eca58e5aea8084546035f82fe8',\n",
       " 'cc8df15a340b94680b0cc28299d315fc1d5c4245a80993e64f5199440f3d2545',\n",
       " '9951213f54615175149ce8bbd56ec0fe7bed315283af437af86f7243a86f75ed',\n",
       " '60374434c31dbd15cde8b2fd59dc6824459705133ade9d2e01887d4f0ad4ee3e',\n",
       " '2a9e84fb23e431a2b980f98afee48bca2e1189d15871708b5130f7e5645d5a7f',\n",
       " '647bd7a61a6e8760cbe4337a6f8b842ab50f0485c6853dadf77735c5eeb49849',\n",
       " 'a421f2489ad51337d6cac1076c8adfb48e32cb665ae22e7905c40f81d2902629',\n",
       " '820fd60521cc9188138b8d1397ceceaf65c0b201b7be73348f02a38e7db45cd2',\n",
       " '55cf4fb2ae3037370d1f3d8924b8e148ace3dc5f8aa24cc944648232357ea187',\n",
       " '83e69ea2dfd15b6c7bba668c1c8aac088c6c56cabb78de8450bec483d7d8f135',\n",
       " 'dfa665db3050595ab3f09274e0b55aeaaa228164d0dda383e73d6ac5be6af788',\n",
       " 'c9828676dc48a16dd4caae85fccbb8939876368fd4e51071f2efb3220b95fdc5',\n",
       " 'dccbdfd4bea49e6ffc6b87b94c32704b33edb8ed3d91242cee7ecbddf3067101',\n",
       " '8f244aaa7d0deb3aa4e189c88adc989cd8b697fbca8e5b00d65f6431bc22ce2b',\n",
       " 'a4b4167b4cdbdef5b7463316e68f3367ee059c8939ed5451a887a5891a787f0c',\n",
       " '02e3e6f96453b9e551cc972b2bb8b212e83a7810ea97d62ca16293dc35d76364',\n",
       " '5240ba72afa27b64a8159bd4311d07952f80344b9e82b2edc52b7850b8d989d9',\n",
       " 'c13dee0079569f3e234b333c1034390d603eb6fd60f1ee60f9d623260682fffa',\n",
       " '45f8643244db16d6e472f3e33476feec744773ac39b0cbd7e1a1da8073006b70',\n",
       " '8497aa039b671eee087d798f9b53efb241152548c326a2173ae73ce175e35bb3',\n",
       " '7115e55a53b704494c1b7d5662e6d50707a8a403d297cc6300016fe5e07d9c1e',\n",
       " 'e13e2d87fdcb55f03ef394b203d46fa56db5a400918a5e9ac8fa914b461feb80',\n",
       " '6f84904fe0c640a2ab04568d88fb93f2f152097ac24a1710d5350729aeef4936',\n",
       " 'e1eb863efda8a0fb7a25c02f729d05ef989fae9dc80fc5fe9df99f19c89823bb',\n",
       " '5185e41bddaaadae6b96f2c2cbe0069abaf0a8c645c540971e58a0d1da3c137a',\n",
       " '3df814fc797c36f3d04f08dcf396a300df47c9e81cc44e03c75f09bed5477ab5',\n",
       " 'b371fc0b019e2995c195a828ea5e9534c012207a64afd659dc4ea1a529f1e792',\n",
       " 'e015f3ec84cf7b7b2835e83106ce246e2b8de82ff94ffa4b34de76f08ed7bf78',\n",
       " '22934b1dcb130aafc87453d72f043a247a4112cdf2e66f2527d088edab18d1e2',\n",
       " '642b21fa57fb40bf66a44007184bfed96fd7dca1ff427d767273f5d6d95d9519',\n",
       " 'ee8d96c2fa77e8a277a6ae35b8e57d5fd699c1fb8d9e3992bf599a711cd6985e',\n",
       " '7e2fa6acb3835038fb61d75c5f1f1159c1a31fe4e85d2e4ee0d88883d049d071',\n",
       " '34b33ec010f808bbcdd5035367bd3d8f9377726101aeefecce4d92f11e447553',\n",
       " '1072e7d63d253e46387ce862237e5d0bfc10d60bb576a333002b6427f401fa57',\n",
       " 'a509c72f9d0529521173a394aca442305b4c3d318f28d7da810034f8652d0c33',\n",
       " 'f42670ddcb865c2aad7d249979226ef91b4b6961c7c1e7d958ea871411f85d62',\n",
       " '2ba4071c3ea3edb87ce32f342c2b79d99ac372b766b803d1df64a92055fbebb3',\n",
       " 'd0e85a784e3ef52293d3d679062ac11064fb4fa8daad044224546a366d0dbd39',\n",
       " 'af49194409bf955003762d4ce96289b1fc997847f065763e6c7a28001523c8ec',\n",
       " 'a2f218d9e89fd3e6abc218c4ffbf6aa40dca320c49aafc9437c45bfd7110ef7b',\n",
       " '2ed98e10ce99297bab5bdb4c8c05752e3ca861844081670b9cd75922d591965a',\n",
       " 'f5a35292917380c17a64b778a779d74126288d6775e5b3e53d3ab6e951bac00f',\n",
       " 'f7c390904af2e836d1bc5e5a1dcbc695b3850b4ec14307f03cd37d16328f72dc',\n",
       " '8bde284cd24fb02be22751bc3eb0fcb2b3b1482d62f51b9f98f4af2cd95b9118',\n",
       " 'b3e975e1d2c99a9644347202a9546d8c64730f046ee5ec13d2e68931c2b29a18',\n",
       " '774a65fd4e6ef00270bea838586c368edb56f5a4a08e3700014b33192a9614b8',\n",
       " '6219a7a4205527ff630de9f9870d0f7a03b95a16534ed093e67d6c9bf611a8c2',\n",
       " '93e279e9f61f865e030a15432373abbe857a095cce203da2ad13a03850943412',\n",
       " '7ec5bc4dd0a0e36cac2d2e860cbdab4d381921d63113916f74bbef5d41f7348b',\n",
       " 'a02211676a78f1588932931d902341ac987499070f16b6ed3a3b276817159e0d',\n",
       " 'ba55837a794f741f92b0cc4015c24e93337ec93e5746949f8346a6d7726a2c88',\n",
       " '2a0769918c59feb646074ebc4219840fdbf7df428440dd05be46d19eca05c9f6',\n",
       " '1e5b1a2fe9cce5ab96414b4f4d7a2de8efe786824e1dda742070040c3340d5d5',\n",
       " 'f576b9adfcde2d654abe1b7ee5f9ad17471770bffd44202171ccdf5fdea58cb8',\n",
       " '3cdc77c8c6d15aeabee9a005d554e02809457def0e3f9793ee5f5adb3c1691f1',\n",
       " '4d12dfc844e188e6a30d21d33bfedcce6e8863ec427acfaf9ca9f70bb0359a9d',\n",
       " 'fafe6183da4daf844ffba420b65f5fcbd645c913c15d0d0ea63e176d872a50ba',\n",
       " '08d2c4211cd0c88da03e7512031c64c64c20a304c0d0b23528cba6d13e90e7d6',\n",
       " '2a2d8f36a80952633bad9636a93aeada63b87b01df15e1f9c26b2368b996d310',\n",
       " '4e02a5db912fcf7b779b0dad5a330fbf36f1f7f6d9bac4e7d71a74d6f86be6e4',\n",
       " '55d457a65e1427ffc8c6684396293a4694cc10e83b9e1c33034e65748ca94221',\n",
       " '1987c9b0691b3878eeec149ec671c9e7e847ad0d5803f49648eba00e9d2ebaff',\n",
       " '725ea46e12a1cfb5d4d953435070701c74e72f2772f0960bdd16a541c0b91bc7',\n",
       " '10282b6a89ed62f636a1e60f89cc041a846f337c1800e435a46548740891e0ef',\n",
       " '901760382309f26567ea0d73a4037b2d92e77281eb80f00c01a73f3bc6f75cd0',\n",
       " '17034262fa9c30eb39c5bd2bef3ed65538cd12de36fabc31542c7963f8e583fb',\n",
       " 'ba5f4b4c4b0af9f83014d949c7016fd816eb2c2c14661636818250002027fada',\n",
       " 'a44a4e7de2b487a4f148ea81eabd105bea42a50e21724efc0fa9c3d49e96e1a5',\n",
       " 'cc0d39ffba621e250c014d8e13b7f27f6d3be0130282a3e42ba2785628a59e89',\n",
       " '1f9f407a59c5b792331d45b5aaadd91665cd807e5278fa48b5fd67187e6bb4a7',\n",
       " '77e1fc92998079d63a9e6f2cc2d75829e25e64757dd3da5ee4c0330bce358b1f',\n",
       " '6d59ff7cafb6a50cd9a8ea655a263178b8c5c205db071bee0ae0c04ff85426e3',\n",
       " '1c5301fc9d228a6c687453e8af0add803613aa73334fb25149569f5c43e8508b',\n",
       " '399e59da4fde3d729398d0a35208016069f5117cda21c42d807657032c21b7c3',\n",
       " '7f4a695cf12c22fc0c186925d94543fb2aa1801ba51a4571fe8ceae7acde821e',\n",
       " '63c061f10d6f248344580286890561221bb0ed5bd9f1c4ef907eec4f8dc6818d',\n",
       " '56ff80a5d2c388344e8904d42c50ed8ce90c8fcdd02cc2a2039fde2df291b7f0',\n",
       " '30df25c9c910cb11ef02c1829fe13414e0d47d3e1c0b5bf7fcc14096838e0bcf',\n",
       " '7dd9d9dd33be70015e3eeae2dcd80823b4f8f29c93f61e79fea85ea45fcb0426',\n",
       " '69b692b1a93764c719184c9988827296e3d4628472e5dcfbc5542c926876738b',\n",
       " 'e19197970421cf0ba22ca7c098dafb35c9a698ac84b777236805607f624dac3e',\n",
       " '2e341edd1d46ed3defb079db4010d8761cb19566f7f24e59a6604560e6ae417b',\n",
       " 'dcdbee5a60810f04c86712365ed18c1c0f4ed2d53c5d425f6a02bf7facc8315d',\n",
       " '00f5e6c875870f3ba54912912b6b106254b9e90644f9cc5d6582ce958f6d1698',\n",
       " '4e4a582adb8a218604e0057a3b341edc3730ee69ec2a63afb8cc73da897f79fb',\n",
       " 'ced6eafc7e4d7785eaf556aeea479aed66128fa904871a2d955119f6ee10aaf6',\n",
       " '0c236d4ded7d25995db1af27cf4ae1a2444377dd08520d392519a363f62f204f',\n",
       " 'fac370cee6398910056edb7a548bb577d234e553e7b647cb9380648895e5e62f',\n",
       " 'c4738a7098664544fba2734b0fcffea27132c306b6c24fdcd8e65ca9e7abf69f',\n",
       " 'cafe2c9cb4815d06f206427b049db6607e811c3952a69eb29cbde2203db1d65c',\n",
       " '08e010fae53ed7d77768fbbf25615f016ce1a2f416a0edd602d9e59ee1dc65f9',\n",
       " '546acd43e69da7af019f3a04e73794ca3023a070838eedc6b3534aa615fcb941',\n",
       " '7cea158ab42cd7743e80ff053cc850d00d1f49a4819f5c88586a67b11a745c8b',\n",
       " 'cd3365041ef8eb658eef3e74ad45985ab2f38a4082d314b2600e51e4ea6271bb',\n",
       " 'cc72c755dfe3d074d1824094e3f5f10efdec23b3141bde827c71934adb1f0a61',\n",
       " 'e28b441961dc2c5db4d6d375914103ef8384c6bebff92a330539df02112647cb',\n",
       " 'b8ae4beec501c9abeabdf62d81284ce5fccbaa1f7f8cc66e43f0370dffc9e3e3',\n",
       " 'b16c232cd1c718d6ca5121b4833af6fceae8ebc94693f3afd41aa589c1921014',\n",
       " '71ee81cdf6eaaff2a585454d44c340d33482b495a3c84f3d747ed1b8f55b523b',\n",
       " 'e6f75dcdd01091216528c482fd9f33315d473cf42c508ccf3e6779f356c950d9',\n",
       " '7018ded1bffe389dc0bac2e0133c8c0dc87f8360f34f089770a45a49a6e34735',\n",
       " 'a71be9d9e617502b323de0db59fa563d223648a722c785b56a8b66f6dffc921b',\n",
       " '5608142660ee005cfd9d67ce26e156d93e9d17a3ee27a0f15819dafcc96b6aa0',\n",
       " '67f547d09257032af5ba493d8338a6b0699fc32d5ade266557100900ea9ec5cb',\n",
       " 'ac5a13c25f0e89ac32fe404becdfd0c0d5bef0c1594389f9dddb8ba9df734cdc',\n",
       " '97345dbcd7437de606eb454180b472377f935837b48212d2e90a9c8d2b016224',\n",
       " '2b96ac30759e7bc895ec9cc6e1be669dbc2ab7f82081a78ec18a6b1dbc83c2f6',\n",
       " '8cdfea86d5cc493d1fc1930645771e01caedfb5132b02b4aa57b89120b97f289',\n",
       " '24c2da495b6771fe74fb3219954a2c82ef82167ef5b610d486a0c8b3386d25df',\n",
       " 'ecd0fe60665dcf8e487bd000f4f6fb00712fdb39e4a869e1b653fc64f9491d81',\n",
       " '91da2fc759eaf74f6df8e9808a9be3cbd01bc2abe3f5f0baaa4f3d899d4f8c7c',\n",
       " '5f957a584293b7fa1a726a1c3718ce60f12cfaf5eb44802f0db60b46892fe45e',\n",
       " '5cb2383c2c468970f2f4b06d10eb8f94664c46fadd8184a1a546a1ab35380570',\n",
       " 'e98e3421ba88a8a1d136e0a718e37fc4fa75835712ef59d6e903bce542571cc1',\n",
       " 'fd10e3c0c541ed48f4d063321705b3cfe46c0f8c8f4d88ed822dbcc2ed82bc93',\n",
       " '37496049b82caa7260cb3585578010ce992768fc6e3e355a93e354518b4bdd84',\n",
       " '4d32bd57a24eddd018bd12369a7465c3c18cb3887c51df281397377688e7155c',\n",
       " '14c9bcf223192e17c17d1490faa4c7681fa91af6179a40743bd7c50b0a20b461',\n",
       " 'a1f2a5d5fe5a3aa6f6366ba9efe376a5327f438b4c9460af56da893e1431cca9',\n",
       " '040e5fc44f4e837d0cc945ef9ea82ffe83e0ae933c9f8e18946d3bf828912f5d',\n",
       " '07905a56fe51bf49713b7bc1f6dd9e3ad1de429d3f577be1e8b7be893c8a8f80',\n",
       " '9baf1e71be00dcbf7e77fb1c830f8183de6a073d00f41061cf991989c51a34b7',\n",
       " '982646125ab1fc6c0b6cbd1e9e60046745d84455dc9dd0268ce3d130a8e0e06b',\n",
       " 'eca0b9cad832c7b3fb18302f1dc8adf4525ce111831ad5d1da0f7df256afb650',\n",
       " '60af55eadb20ddb28af75ee5087bd21432cfce815018d06a342ed0e9d1a4b322',\n",
       " '9246afd43b90e945dae53df950bdaeea6a9860ae826563f7936f533a80af36d6',\n",
       " '4c903c35b91e7a4de243f9a362572bd2466ae54f1e30f033a61729938a169203',\n",
       " 'af03ae17b2ea33b8cee24183b55b7330091d2c859ead6ad2b5f70eec9258e71e',\n",
       " 'a398bf4d1a090f37021411e369ae5fedaa176423ec3eb5dbcc16ba8de3e519da',\n",
       " '5ee467890cece918b529fa9ab3fb74df8f926cd31099fe294c7185f7e36dd205',\n",
       " '619c3f1071a42fda955a1c5eb82d4afa3c30e03c25a63399b01f218f09de6f45',\n",
       " '2c60607ce0d4f8a23a63f05a1c322ba8f50a809d195a3c77f27ce9424f58b690',\n",
       " '61a5bfa69e82b6e3f7a48140b675a3bb2ec2307ed2b6fb44f7ccafbe5c370f4e',\n",
       " 'e575fa57539d9f55b78454c32041c1b06b46c84f472f5d281cfb02ee659eb8e1',\n",
       " '0bcf082e0c9692b85390ffa504954e260cb7cbeace13a2b84f980b241d942c00',\n",
       " '72077ddc1cda3d1b87285478a5b2a5411fb5902f21a09728068f95f41c4fe5a9',\n",
       " '4aa0acc2d9a57f64bbce02207f7d45cb05c971bbe6f5e9f7e6ca7d585408cc16',\n",
       " '6387f698e4e99f1757fa4510e535ff477032893d119f1e46b723e2906dcf9093',\n",
       " '655d3b1190f52abdcb40b72219e088949f347e5def4f9f7e10a201dd0b937b4b',\n",
       " '9f1b21c8a4af0ddcd003adcebc35b40dc6d14a1e3f667b2765734e545012ca5b',\n",
       " '7dd6a1f8970d4c6289f4efdb589045ce1bf71e8068e8eb6f4e601be227cb6e5f',\n",
       " '0df40bf6a6ef9a82769081f6f951148c2e314491f70b9eab95ca7aa1e98e42cb',\n",
       " 'f1ad84b88d84ad2ae11ef2f349997959880466b65d661e4006e350c82535098d',\n",
       " '898e0286d91bb6863e1e15e9ad9f4d045f3d80e5c3f6f357bae99723bd26dd47',\n",
       " '6580241f243b7563e9618db32630f178059905d91fb2b2a24b2383cbaf901470',\n",
       " '6d8bb57ef581437d22c4d2991d1c36e4550c44ee18188ef301a37c74ca49ff89',\n",
       " '0c3d99abaa112bd6bab0399366736e0278bb48452ee2f3805f22cc87d7cea2a3',\n",
       " '5dd4fcf42800d104ce5eb487f738912affd309775c19ca14a69e75bc8b47a4e0',\n",
       " '49c714c75de099b52e1fb253af4fb4409edcce5ca22a5001dc9809a8df42061c',\n",
       " 'd04342eeafa3408c36f90a8d7365e919f3e9b007173eb16b53f7914f76ad0948',\n",
       " 'f31d633b31fe037776a877f39decfc820fd81c0903803f689a9d5e973fcbb600',\n",
       " '5024993c0ec6b20cda76fa0764bb95d2a0ad3f78710fa158b246dfcb3e081aeb',\n",
       " '8c6b664b8b3ead209557d3652dea34cf660693388d1ac13e3ae57f8be759fb2a',\n",
       " '7b28b0510aa8be281be415b4cebc79644d445c7f926f14d98b29b2523e311424',\n",
       " 'c802e37fe5b0212901dda7f71889029d39e48eb21f4de47b45186ce1c1208fc4',\n",
       " '1ce4e57acb4b249f101386564282dd10398110698d3f19624677783639de8030',\n",
       " 'f82f1cafe739cf64b4a88cc0e6340ca1f6e6a02a765a59b068542b57fcf607a6',\n",
       " '2de73ecd0873c38e1cb0f9a891ca6cf0d8025e6ebf460d2c655390fdbc9fa100',\n",
       " 'b35093fadc9974559ba0ced1aadbbc1fcedcc5e54526c96e518e77564ad25bbb',\n",
       " '5dc751f1b862a078b05157e4603cb70d338f65fa83058c1a33e351e05e07addb',\n",
       " '070cf6e0acc56ac23c09e61a4abed93d6e02159d4a89d8ca5f2dce576fa9fa53',\n",
       " '0c70387db50aeb5c3c7641d3a930e538e388eb04e4c594b902f57bd44699c4ca',\n",
       " '489d40477f6050a4c00af26cbbd70d14a2cb75693ba4edbeeb284e1d77bef27e',\n",
       " 'd8ac567933f1e76137dcb803c5f2e2b591b5a32bc5fb109aa69ccb77c257a63c',\n",
       " '29408e26d6917ef333c6a18cf0dc1db60ba78af52c492c737f0c0fa7d1233184',\n",
       " 'ad7d0ca2d765143fcc1ada9e5557d5eacf6ba1152863962349722864b0702856',\n",
       " 'f3e950ac336f69b3d9151505d0a57f6eae3a108178593abce74e36926724120b',\n",
       " '767f2f451f4ee2938fa233a64e1533fe7ecef9dd1692f050385baca9bd843519',\n",
       " '40cb5088ffa27d0f8076cb7dc53d4a3cbe8973bad101613fac12919ddcb2e69a',\n",
       " '89bc387e0da199851c8154b2ac2ed20a57236916720a60cb1ad7f1649a246ff9',\n",
       " '7b83d80063923c69496f6be3feedc69697dacc19483f896265740bd7f634951e',\n",
       " 'd2d098c9a6ea5fa7695b259ef2e2b0a34c0b694fd7ea0f975f76552efdae486a',\n",
       " 'cc908a69b93ddd1b2e4f052f7a6ea1d939d3d3fa9f542318312cc12e3f0d7e77',\n",
       " '0e9a648d483ba79e448e0010988f6dd95430c06cdf93a4311571769064aee798',\n",
       " '1de443eceadc338ad1448b589df4e049b82e04a540a63477f7c29bb9afbd27c7',\n",
       " '4a6f5329ca78eecef8d531e455168112ad86286f2ad305f5d8541727f89e40be',\n",
       " '13fdfdefd4c8969f9e787f69c411a5ff4bc48cf055e4ca32e8e6400f8f66347d',\n",
       " 'ef6100382fe3ae731f659f039bdb5caba1b513d531621b404ab2ed5f38c22a37',\n",
       " '24ab1537af6f8d752ebda31d5fb0dbba749dd5097ceace4a762f942c3f8989fc',\n",
       " '16e9f71d801fa6fe0e0350031f2224e48b7e32cb661fd5abb580e3649e55249b',\n",
       " '02145380e0e0881f51d20cf51eaa58e578bf65b7187b6b346ed7a9d22cacd372',\n",
       " '175f1283cc9908ce57ae13ac565fc5690890d022ffc93663596dbbc0772c62e0',\n",
       " '6e68d9502d7e70ebe1d73b82636590f7fb56fe752c8d5c33f9377620a36c70c6',\n",
       " 'e3ac0b8dba4f5d1835b014aaa4d93f289d3982fb3b5b77918a93e67d06b6502d',\n",
       " '7988aafba45f0bfbe19cc201fe1d4d1d4ae11b3f967c0b8ab1cca7f0a3594440',\n",
       " 'e200663631f07e34c728253b4689423c2faf33f180e46e4bd3c81943ce503a57',\n",
       " '75653f072c9ac5e0ac0d403e0eb710ccec64c24d28c425fc9d45fa238e094c04',\n",
       " '2e9557cf6d94d3eccd255698a56c43c7eb1d20b4c96454e276566048d1b2702e',\n",
       " '74eae80773d1f8a5080744c730932b89d50d492c2f67073be5eb594887c9824c',\n",
       " '898066902e6d4d77ac6192fbcfad9c77865a263c30c25d11b412f741354c5f0e',\n",
       " 'd56da92ce4d499c1839a59bedd8970c9448ebaf927e92712bd4331556e964643',\n",
       " '31d0d459cc9f9ab159e38b601b8dad8900af092dc88bfbc733cf97c6a8f529d4',\n",
       " '9678cd91f2b3da429a27b7789bf5ef9671b6d110351aae469ddcac9cdba61c7e',\n",
       " 'ee5c3fa614988a5360222beaf8b6d3f7a68a8d1b5bb1cee9e91b3466c3626298',\n",
       " '09649e3aaf9e48bcfe0281f364182a23826ac3fe2fdae0482cbc7e9069965217',\n",
       " ...}"
      ]
     },
     "execution_count": 54,
     "metadata": {},
     "output_type": "execute_result"
    }
   ],
   "source": [
    "all_evidence"
   ]
  },
  {
   "cell_type": "code",
   "execution_count": 7,
   "metadata": {},
   "outputs": [
    {
     "name": "stdout",
     "output_type": "stream",
     "text": [
      "                                                "
     ]
    },
    {
     "data": {
      "application/vnd.jupyter.widget-view+json": {
       "model_id": "5b3abf30aaab4a779473a153bb76c142",
       "version_major": 2,
       "version_minor": 0
      },
      "text/plain": [
       "#0:   0%|          | 0/431809 [00:00<?, ?ex/s]"
      ]
     },
     "metadata": {},
     "output_type": "display_data"
    },
    {
     "name": "stdout",
     "output_type": "stream",
     "text": [
      " "
     ]
    },
    {
     "data": {
      "application/vnd.jupyter.widget-view+json": {
       "model_id": "f7aa304848924d0794b8b89a0f4d1969",
       "version_major": 2,
       "version_minor": 0
      },
      "text/plain": [
       "#1:   0%|          | 0/431809 [00:00<?, ?ex/s]"
      ]
     },
     "metadata": {},
     "output_type": "display_data"
    },
    {
     "name": "stdout",
     "output_type": "stream",
     "text": [
      " "
     ]
    },
    {
     "data": {
      "application/vnd.jupyter.widget-view+json": {
       "model_id": "a23d68a9e7bf4b63af56715a959490f2",
       "version_major": 2,
       "version_minor": 0
      },
      "text/plain": [
       "#2:   0%|          | 0/431809 [00:00<?, ?ex/s]"
      ]
     },
     "metadata": {},
     "output_type": "display_data"
    },
    {
     "name": "stdout",
     "output_type": "stream",
     "text": [
      " "
     ]
    },
    {
     "data": {
      "application/vnd.jupyter.widget-view+json": {
       "model_id": "8791f9b43f114be0b8c6aa20b6351de4",
       "version_major": 2,
       "version_minor": 0
      },
      "text/plain": [
       "#3:   0%|          | 0/431809 [00:00<?, ?ex/s]"
      ]
     },
     "metadata": {},
     "output_type": "display_data"
    },
    {
     "data": {
      "application/vnd.jupyter.widget-view+json": {
       "model_id": "9208e69ea52945b3b9bac132199ef3ed",
       "version_major": 2,
       "version_minor": 0
      },
      "text/plain": [
       "#4:   0%|          | 0/431809 [00:00<?, ?ex/s]"
      ]
     },
     "metadata": {},
     "output_type": "display_data"
    },
    {
     "name": "stdout",
     "output_type": "stream",
     "text": [
      "   "
     ]
    },
    {
     "data": {
      "application/vnd.jupyter.widget-view+json": {
       "model_id": "3de6218021a644ed87ac61691dc56b87",
       "version_major": 2,
       "version_minor": 0
      },
      "text/plain": [
       "#6:   0%|          | 0/431809 [00:00<?, ?ex/s]"
      ]
     },
     "metadata": {},
     "output_type": "display_data"
    },
    {
     "data": {
      "application/vnd.jupyter.widget-view+json": {
       "model_id": "7a40a9dc32ff40f790c29965db96e4b7",
       "version_major": 2,
       "version_minor": 0
      },
      "text/plain": [
       "#5:   0%|          | 0/431809 [00:00<?, ?ex/s]"
      ]
     },
     "metadata": {},
     "output_type": "display_data"
    },
    {
     "name": "stdout",
     "output_type": "stream",
     "text": [
      " "
     ]
    },
    {
     "data": {
      "application/vnd.jupyter.widget-view+json": {
       "model_id": "f770bf01e09b424da6bfaaf6b0a87f11",
       "version_major": 2,
       "version_minor": 0
      },
      "text/plain": [
       "#7:   0%|          | 0/431809 [00:00<?, ?ex/s]"
      ]
     },
     "metadata": {},
     "output_type": "display_data"
    },
    {
     "name": "stdout",
     "output_type": "stream",
     "text": [
      " "
     ]
    },
    {
     "data": {
      "application/vnd.jupyter.widget-view+json": {
       "model_id": "e5237ddb293f43d9852e822a85a7456e",
       "version_major": 2,
       "version_minor": 0
      },
      "text/plain": [
       "#8:   0%|          | 0/431809 [00:00<?, ?ex/s]"
      ]
     },
     "metadata": {},
     "output_type": "display_data"
    },
    {
     "name": "stdout",
     "output_type": "stream",
     "text": [
      " "
     ]
    },
    {
     "data": {
      "application/vnd.jupyter.widget-view+json": {
       "model_id": "c7f124af68c344cc8e6abc89d75e9eb0",
       "version_major": 2,
       "version_minor": 0
      },
      "text/plain": [
       "#9:   0%|          | 0/431809 [00:00<?, ?ex/s]"
      ]
     },
     "metadata": {},
     "output_type": "display_data"
    },
    {
     "name": "stdout",
     "output_type": "stream",
     "text": [
      " "
     ]
    },
    {
     "data": {
      "application/vnd.jupyter.widget-view+json": {
       "model_id": "37d8e7a34668452e9fc18e019e1ce44c",
       "version_major": 2,
       "version_minor": 0
      },
      "text/plain": [
       "#10:   0%|          | 0/431809 [00:00<?, ?ex/s]"
      ]
     },
     "metadata": {},
     "output_type": "display_data"
    },
    {
     "data": {
      "application/vnd.jupyter.widget-view+json": {
       "model_id": "5ca6781a798347acbf9f94a1eece0ddc",
       "version_major": 2,
       "version_minor": 0
      },
      "text/plain": [
       "#11:   0%|          | 0/431809 [00:00<?, ?ex/s]"
      ]
     },
     "metadata": {},
     "output_type": "display_data"
    },
    {
     "name": "stdout",
     "output_type": "stream",
     "text": [
      " "
     ]
    },
    {
     "data": {
      "application/vnd.jupyter.widget-view+json": {
       "model_id": "4276394e92db428d97d64cd3f89d5b26",
       "version_major": 2,
       "version_minor": 0
      },
      "text/plain": [
       "#12:   0%|          | 0/431809 [00:00<?, ?ex/s]"
      ]
     },
     "metadata": {},
     "output_type": "display_data"
    },
    {
     "name": "stdout",
     "output_type": "stream",
     "text": [
      "  "
     ]
    },
    {
     "data": {
      "application/vnd.jupyter.widget-view+json": {
       "model_id": "b0372406218d4d21bf81fe81066c2dd6",
       "version_major": 2,
       "version_minor": 0
      },
      "text/plain": [
       "#13:   0%|          | 0/431809 [00:00<?, ?ex/s]"
      ]
     },
     "metadata": {},
     "output_type": "display_data"
    },
    {
     "data": {
      "application/vnd.jupyter.widget-view+json": {
       "model_id": "613cca8bb7414209b804001ffd63f582",
       "version_major": 2,
       "version_minor": 0
      },
      "text/plain": [
       "#14:   0%|          | 0/431809 [00:00<?, ?ex/s]"
      ]
     },
     "metadata": {},
     "output_type": "display_data"
    },
    {
     "name": "stdout",
     "output_type": "stream",
     "text": [
      " "
     ]
    },
    {
     "data": {
      "application/vnd.jupyter.widget-view+json": {
       "model_id": "99b908e433e84a26bd73bc7043cd3285",
       "version_major": 2,
       "version_minor": 0
      },
      "text/plain": [
       "#15:   0%|          | 0/431809 [00:00<?, ?ex/s]"
      ]
     },
     "metadata": {},
     "output_type": "display_data"
    },
    {
     "name": "stdout",
     "output_type": "stream",
     "text": [
      "  "
     ]
    },
    {
     "data": {
      "application/vnd.jupyter.widget-view+json": {
       "model_id": "f73c1cf998a2416aaa0c7259e278cb8e",
       "version_major": 2,
       "version_minor": 0
      },
      "text/plain": [
       "#16:   0%|          | 0/431809 [00:00<?, ?ex/s]"
      ]
     },
     "metadata": {},
     "output_type": "display_data"
    },
    {
     "name": "stdout",
     "output_type": "stream",
     "text": [
      " "
     ]
    },
    {
     "data": {
      "application/vnd.jupyter.widget-view+json": {
       "model_id": "07b55d69982c4976abcb661474535a22",
       "version_major": 2,
       "version_minor": 0
      },
      "text/plain": [
       "#17:   0%|          | 0/431809 [00:00<?, ?ex/s]"
      ]
     },
     "metadata": {},
     "output_type": "display_data"
    },
    {
     "name": "stdout",
     "output_type": "stream",
     "text": [
      " "
     ]
    },
    {
     "data": {
      "application/vnd.jupyter.widget-view+json": {
       "model_id": "e0816e0a167b47d19492fba3d1a60a69",
       "version_major": 2,
       "version_minor": 0
      },
      "text/plain": [
       "#18:   0%|          | 0/431808 [00:00<?, ?ex/s]"
      ]
     },
     "metadata": {},
     "output_type": "display_data"
    },
    {
     "data": {
      "application/vnd.jupyter.widget-view+json": {
       "model_id": "d945ff30cb964a90b02deeb96fab82ec",
       "version_major": 2,
       "version_minor": 0
      },
      "text/plain": [
       "#19:   0%|          | 0/431808 [00:00<?, ?ex/s]"
      ]
     },
     "metadata": {},
     "output_type": "display_data"
    },
    {
     "name": "stdout",
     "output_type": "stream",
     "text": [
      " "
     ]
    },
    {
     "data": {
      "application/vnd.jupyter.widget-view+json": {
       "model_id": "0916d9300b75457f846f5acc91b24326",
       "version_major": 2,
       "version_minor": 0
      },
      "text/plain": [
       "#20:   0%|          | 0/431808 [00:00<?, ?ex/s]"
      ]
     },
     "metadata": {},
     "output_type": "display_data"
    },
    {
     "name": "stdout",
     "output_type": "stream",
     "text": [
      "  "
     ]
    },
    {
     "data": {
      "application/vnd.jupyter.widget-view+json": {
       "model_id": "1f0f0915eb0f41ebb0646e2e21f0315c",
       "version_major": 2,
       "version_minor": 0
      },
      "text/plain": [
       "#21:   0%|          | 0/431808 [00:00<?, ?ex/s]"
      ]
     },
     "metadata": {},
     "output_type": "display_data"
    },
    {
     "name": "stdout",
     "output_type": "stream",
     "text": [
      " "
     ]
    },
    {
     "data": {
      "application/vnd.jupyter.widget-view+json": {
       "model_id": "8a728276dd084875827a1b9f9e52bf70",
       "version_major": 2,
       "version_minor": 0
      },
      "text/plain": [
       "#22:   0%|          | 0/431808 [00:00<?, ?ex/s]"
      ]
     },
     "metadata": {},
     "output_type": "display_data"
    },
    {
     "name": "stdout",
     "output_type": "stream",
     "text": [
      " "
     ]
    },
    {
     "data": {
      "application/vnd.jupyter.widget-view+json": {
       "model_id": "1c1102651773447bae998389b31cef66",
       "version_major": 2,
       "version_minor": 0
      },
      "text/plain": [
       "#23:   0%|          | 0/431808 [00:00<?, ?ex/s]"
      ]
     },
     "metadata": {},
     "output_type": "display_data"
    },
    {
     "data": {
      "application/vnd.jupyter.widget-view+json": {
       "model_id": "e8c5aa362c7f4ecb9a87a96c3806f927",
       "version_major": 2,
       "version_minor": 0
      },
      "text/plain": [
       "#24:   0%|          | 0/431808 [00:00<?, ?ex/s]"
      ]
     },
     "metadata": {},
     "output_type": "display_data"
    },
    {
     "name": "stdout",
     "output_type": "stream",
     "text": [
      "   "
     ]
    },
    {
     "data": {
      "application/vnd.jupyter.widget-view+json": {
       "model_id": "582acdb167dd45f4a85061205424ab9f",
       "version_major": 2,
       "version_minor": 0
      },
      "text/plain": [
       "#27:   0%|          | 0/431808 [00:00<?, ?ex/s]"
      ]
     },
     "metadata": {},
     "output_type": "display_data"
    },
    {
     "data": {
      "application/vnd.jupyter.widget-view+json": {
       "model_id": "1f49e92817d446f7a7b467840f422615",
       "version_major": 2,
       "version_minor": 0
      },
      "text/plain": [
       "#25:   0%|          | 0/431808 [00:00<?, ?ex/s]"
      ]
     },
     "metadata": {},
     "output_type": "display_data"
    },
    {
     "data": {
      "application/vnd.jupyter.widget-view+json": {
       "model_id": "e49936156ec6415b994a8a5f3cf9fe7e",
       "version_major": 2,
       "version_minor": 0
      },
      "text/plain": [
       "#26:   0%|          | 0/431808 [00:00<?, ?ex/s]"
      ]
     },
     "metadata": {},
     "output_type": "display_data"
    },
    {
     "name": "stdout",
     "output_type": "stream",
     "text": [
      "    "
     ]
    },
    {
     "data": {
      "application/vnd.jupyter.widget-view+json": {
       "model_id": "ae74bc51382b48fcb99b4150ae98aacd",
       "version_major": 2,
       "version_minor": 0
      },
      "text/plain": [
       "#28:   0%|          | 0/431808 [00:00<?, ?ex/s]"
      ]
     },
     "metadata": {},
     "output_type": "display_data"
    },
    {
     "data": {
      "application/vnd.jupyter.widget-view+json": {
       "model_id": "51f0eb53f53e4f2e9fedf7b4b06f01f6",
       "version_major": 2,
       "version_minor": 0
      },
      "text/plain": [
       "#29:   0%|          | 0/431808 [00:00<?, ?ex/s]"
      ]
     },
     "metadata": {},
     "output_type": "display_data"
    },
    {
     "name": "stdout",
     "output_type": "stream",
     "text": [
      " "
     ]
    },
    {
     "data": {
      "application/vnd.jupyter.widget-view+json": {
       "model_id": "99d07eea574f47bf8dd6b740ad5fe90f",
       "version_major": 2,
       "version_minor": 0
      },
      "text/plain": [
       "#30:   0%|          | 0/431808 [00:00<?, ?ex/s]"
      ]
     },
     "metadata": {},
     "output_type": "display_data"
    },
    {
     "data": {
      "application/vnd.jupyter.widget-view+json": {
       "model_id": "084b7068e9db42feb55df4f0a31ac791",
       "version_major": 2,
       "version_minor": 0
      },
      "text/plain": [
       "#31:   0%|          | 0/431808 [00:00<?, ?ex/s]"
      ]
     },
     "metadata": {},
     "output_type": "display_data"
    },
    {
     "name": "stdout",
     "output_type": "stream",
     "text": [
      " "
     ]
    },
    {
     "data": {
      "application/vnd.jupyter.widget-view+json": {
       "model_id": "75c8c1d1e0784422a54a41eb2d0e8b48",
       "version_major": 2,
       "version_minor": 0
      },
      "text/plain": [
       "#32:   0%|          | 0/431808 [00:00<?, ?ex/s]"
      ]
     },
     "metadata": {},
     "output_type": "display_data"
    },
    {
     "name": "stdout",
     "output_type": "stream",
     "text": [
      " "
     ]
    },
    {
     "data": {
      "application/vnd.jupyter.widget-view+json": {
       "model_id": "e070c7b49b8d4b7b8082a5bd0a975319",
       "version_major": 2,
       "version_minor": 0
      },
      "text/plain": [
       "#33:   0%|          | 0/431808 [00:00<?, ?ex/s]"
      ]
     },
     "metadata": {},
     "output_type": "display_data"
    },
    {
     "name": "stdout",
     "output_type": "stream",
     "text": [
      " "
     ]
    },
    {
     "data": {
      "application/vnd.jupyter.widget-view+json": {
       "model_id": "2b81322bea464ea19f06ed8bfcad020f",
       "version_major": 2,
       "version_minor": 0
      },
      "text/plain": [
       "#34:   0%|          | 0/431808 [00:00<?, ?ex/s]"
      ]
     },
     "metadata": {},
     "output_type": "display_data"
    },
    {
     "data": {
      "application/vnd.jupyter.widget-view+json": {
       "model_id": "2f7a59994acf4e269bcd291a1b9e6137",
       "version_major": 2,
       "version_minor": 0
      },
      "text/plain": [
       "#35:   0%|          | 0/431808 [00:00<?, ?ex/s]"
      ]
     },
     "metadata": {},
     "output_type": "display_data"
    },
    {
     "name": "stdout",
     "output_type": "stream",
     "text": [
      "  "
     ]
    },
    {
     "data": {
      "application/vnd.jupyter.widget-view+json": {
       "model_id": "a98cd9b93c994822b67d6543c3c5707a",
       "version_major": 2,
       "version_minor": 0
      },
      "text/plain": [
       "#36:   0%|          | 0/431808 [00:00<?, ?ex/s]"
      ]
     },
     "metadata": {},
     "output_type": "display_data"
    },
    {
     "data": {
      "application/vnd.jupyter.widget-view+json": {
       "model_id": "5b2f09745a0f4e1fb6481444285dec17",
       "version_major": 2,
       "version_minor": 0
      },
      "text/plain": [
       "#37:   0%|          | 0/431808 [00:00<?, ?ex/s]"
      ]
     },
     "metadata": {},
     "output_type": "display_data"
    },
    {
     "name": "stdout",
     "output_type": "stream",
     "text": [
      " "
     ]
    },
    {
     "data": {
      "application/vnd.jupyter.widget-view+json": {
       "model_id": "684389618ddf448090006d086864f548",
       "version_major": 2,
       "version_minor": 0
      },
      "text/plain": [
       "#38:   0%|          | 0/431808 [00:00<?, ?ex/s]"
      ]
     },
     "metadata": {},
     "output_type": "display_data"
    },
    {
     "name": "stdout",
     "output_type": "stream",
     "text": [
      "  "
     ]
    },
    {
     "data": {
      "application/vnd.jupyter.widget-view+json": {
       "model_id": "6e687c72df674469816c4f104b47994f",
       "version_major": 2,
       "version_minor": 0
      },
      "text/plain": [
       "#39:   0%|          | 0/431808 [00:00<?, ?ex/s]"
      ]
     },
     "metadata": {},
     "output_type": "display_data"
    },
    {
     "name": "stdout",
     "output_type": "stream",
     "text": [
      " "
     ]
    },
    {
     "data": {
      "application/vnd.jupyter.widget-view+json": {
       "model_id": "3a047bee637b45aba10175d1fc82634a",
       "version_major": 2,
       "version_minor": 0
      },
      "text/plain": [
       "#40:   0%|          | 0/431808 [00:00<?, ?ex/s]"
      ]
     },
     "metadata": {},
     "output_type": "display_data"
    },
    {
     "data": {
      "application/vnd.jupyter.widget-view+json": {
       "model_id": "32f1b746ba6749fd907667ef643889fc",
       "version_major": 2,
       "version_minor": 0
      },
      "text/plain": [
       "#41:   0%|          | 0/431808 [00:00<?, ?ex/s]"
      ]
     },
     "metadata": {},
     "output_type": "display_data"
    },
    {
     "name": "stdout",
     "output_type": "stream",
     "text": [
      "  "
     ]
    },
    {
     "data": {
      "application/vnd.jupyter.widget-view+json": {
       "model_id": "f4cbd174d1cd48b0884246ad3e9f73fe",
       "version_major": 2,
       "version_minor": 0
      },
      "text/plain": [
       "#42:   0%|          | 0/431808 [00:00<?, ?ex/s]"
      ]
     },
     "metadata": {},
     "output_type": "display_data"
    },
    {
     "data": {
      "application/vnd.jupyter.widget-view+json": {
       "model_id": "447dafb9b0d14edab18cbb8b86b79feb",
       "version_major": 2,
       "version_minor": 0
      },
      "text/plain": [
       "#43:   0%|          | 0/431808 [00:00<?, ?ex/s]"
      ]
     },
     "metadata": {},
     "output_type": "display_data"
    },
    {
     "name": "stdout",
     "output_type": "stream",
     "text": [
      "  "
     ]
    },
    {
     "data": {
      "application/vnd.jupyter.widget-view+json": {
       "model_id": "6c1a71fbb3e941a4aa3e017be26c32b2",
       "version_major": 2,
       "version_minor": 0
      },
      "text/plain": [
       "#44:   0%|          | 0/431808 [00:00<?, ?ex/s]"
      ]
     },
     "metadata": {},
     "output_type": "display_data"
    },
    {
     "data": {
      "application/vnd.jupyter.widget-view+json": {
       "model_id": "0daba950d4f34307aff050feceafdd53",
       "version_major": 2,
       "version_minor": 0
      },
      "text/plain": [
       "#45:   0%|          | 0/431808 [00:00<?, ?ex/s]"
      ]
     },
     "metadata": {},
     "output_type": "display_data"
    }
   ],
   "source": [
    "import hashlib\n",
    "#encode the non_split as sha256\n",
    "raw_datasets[\"train\"] = raw_datasets.map(lambda x: {\"hash\": hashlib.sha256(x[\"non_split\"].encode()).hexdigest()}, num_proc=46)"
   ]
  },
  {
   "cell_type": "code",
   "execution_count": null,
   "metadata": {},
   "outputs": [
    {
     "name": "stderr",
     "output_type": "stream",
     "text": [
      "100%|██████████| 100/100 [00:00<00:00, 1402777.26it/s]\n"
     ]
    }
   ],
   "source": [
    "from tqdm import tqdm \n",
    "for i in tqdm(range(100)):\n",
    "    continue"
   ]
  },
  {
   "cell_type": "code",
   "execution_count": null,
   "metadata": {},
   "outputs": [],
   "source": []
  }
 ],
 "metadata": {
  "kernelspec": {
   "display_name": "Python 3.7.3 64-bit",
   "language": "python",
   "name": "python3"
  },
  "language_info": {
   "codemirror_mode": {
    "name": "ipython",
    "version": 3
   },
   "file_extension": ".py",
   "mimetype": "text/x-python",
   "name": "python",
   "nbconvert_exporter": "python",
   "pygments_lexer": "ipython3",
   "version": "3.9.2"
  },
  "orig_nbformat": 4,
  "vscode": {
   "interpreter": {
    "hash": "31f2aee4e71d21fbe5cf8b01ff0e069b9275f58929596ceb00d14d90e3e16cd6"
   }
  }
 },
 "nbformat": 4,
 "nbformat_minor": 2
}
