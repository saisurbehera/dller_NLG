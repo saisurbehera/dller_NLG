{
 "cells": [
  {
   "cell_type": "markdown",
   "metadata": {},
   "source": [
    "# Data Processing model\n",
    "\n",
    "In the we read the dataset and process the basics. In dataset, we wil add a faiss index to the dataset. "
   ]
  },
  {
   "cell_type": "code",
   "execution_count": 11,
   "metadata": {},
   "outputs": [
    {
     "data": {
      "text/plain": [
       "['/home/saisur/streamingqa/streaminqa_eval.jsonl',\n",
       " '/home/saisur/streamingqa/streaminqa_train.jsonl',\n",
       " '/home/saisur/streamingqa/streaminqa_valid.jsonl']"
      ]
     },
     "execution_count": 11,
     "metadata": {},
     "output_type": "execute_result"
    }
   ],
   "source": [
    "# Read the UMT english weights \n",
    "import glob\n",
    "import gc\n",
    "from datasets import load_dataset\n",
    "streamingqa_location = sorted(glob.glob(\"/home/saisur/streamingqa/*\"))\n",
    "streamingqa_location"
   ]
  },
  {
   "cell_type": "code",
   "execution_count": 15,
   "metadata": {},
   "outputs": [
    {
     "name": "stderr",
     "output_type": "stream",
     "text": [
      "Using custom data configuration default-147dff59dd9a83af\n",
      "Found cached dataset json (/home/saisur/.cache/huggingface/datasets/json/default-147dff59dd9a83af/0.0.0/e6070c77f18f01a5ad4551a8b7edfba20b8438b7cad4d94e6ad9378022ce4aab)\n"
     ]
    },
    {
     "data": {
      "application/vnd.jupyter.widget-view+json": {
       "model_id": "0d69fb4920ed498aba8bb4f70b8b1c9b",
       "version_major": 2,
       "version_minor": 0
      },
      "text/plain": [
       "  0%|          | 0/1 [00:00<?, ?it/s]"
      ]
     },
     "metadata": {},
     "output_type": "display_data"
    },
    {
     "name": "stderr",
     "output_type": "stream",
     "text": [
      "Using custom data configuration default-61e6bb4d9647ad78\n",
      "Found cached dataset json (/home/saisur/.cache/huggingface/datasets/json/default-61e6bb4d9647ad78/0.0.0/e6070c77f18f01a5ad4551a8b7edfba20b8438b7cad4d94e6ad9378022ce4aab)\n"
     ]
    },
    {
     "data": {
      "application/vnd.jupyter.widget-view+json": {
       "model_id": "a3cb7e16e07449be9e5183df6e0a98b1",
       "version_major": 2,
       "version_minor": 0
      },
      "text/plain": [
       "  0%|          | 0/1 [00:00<?, ?it/s]"
      ]
     },
     "metadata": {},
     "output_type": "display_data"
    },
    {
     "name": "stderr",
     "output_type": "stream",
     "text": [
      "Using custom data configuration default-a099a47761949eb4\n",
      "Found cached dataset json (/home/saisur/.cache/huggingface/datasets/json/default-a099a47761949eb4/0.0.0/e6070c77f18f01a5ad4551a8b7edfba20b8438b7cad4d94e6ad9378022ce4aab)\n"
     ]
    },
    {
     "data": {
      "application/vnd.jupyter.widget-view+json": {
       "model_id": "f11bfd72e5e6409489f95459aa867931",
       "version_major": 2,
       "version_minor": 0
      },
      "text/plain": [
       "  0%|          | 0/1 [00:00<?, ?it/s]"
      ]
     },
     "metadata": {},
     "output_type": "display_data"
    },
    {
     "data": {
      "text/plain": [
       "DatasetDict({\n",
       "    train: Dataset({\n",
       "        features: ['qa_id', 'question', 'answers', 'answers_additional', 'question_ts', 'evidence_ts', 'evidence_id', 'recent_or_past', 'written_or_generated', 'toxicity_identity_attack', 'toxicity_insult', 'toxicity_profanity', 'toxicity_severe_toxicity', 'toxicity_sexually_explicit', 'toxicity_threat'],\n",
       "        num_rows: 99402\n",
       "    })\n",
       "    test: Dataset({\n",
       "        features: ['qa_id', 'question', 'answers', 'answers_additional', 'question_ts', 'evidence_ts', 'evidence_id', 'recent_or_past', 'written_or_generated', 'toxicity_identity_attack', 'toxicity_insult', 'toxicity_profanity', 'toxicity_severe_toxicity', 'toxicity_sexually_explicit', 'toxicity_threat'],\n",
       "        num_rows: 36378\n",
       "    })\n",
       "    validation: Dataset({\n",
       "        features: ['qa_id', 'question', 'answers', 'answers_additional', 'question_ts', 'evidence_ts', 'evidence_id', 'recent_or_past', 'written_or_generated', 'toxicity_identity_attack', 'toxicity_insult', 'toxicity_profanity', 'toxicity_severe_toxicity', 'toxicity_sexually_explicit', 'toxicity_threat'],\n",
       "        num_rows: 9939\n",
       "    })\n",
       "})"
      ]
     },
     "execution_count": 15,
     "metadata": {},
     "output_type": "execute_result"
    }
   ],
   "source": [
    "streamqa_dataset = load_dataset(\"json\", data_files= streamingqa_location[1])\n",
    "test = load_dataset(\"json\", data_files= streamingqa_location[0])\n",
    "valid = load_dataset(\"json\", data_files= streamingqa_location[2])    \n",
    "streamqa_dataset[\"test\"] = test[\"train\"]\n",
    "streamqa_dataset[\"validation\"] = valid[\"train\"]\n",
    "del test, valid\n",
    "gc.collect()\n",
    "streamqa_dataset\n"
   ]
  },
  {
   "cell_type": "code",
   "execution_count": 16,
   "metadata": {},
   "outputs": [
    {
     "data": {
      "text/plain": [
       "DatasetDict({\n",
       "    train: Dataset({\n",
       "        features: ['date', 'sentence_split', 'non_split', 'hash'],\n",
       "        num_rows: 19863186\n",
       "    })\n",
       "})"
      ]
     },
     "execution_count": 16,
     "metadata": {},
     "output_type": "execute_result"
    }
   ],
   "source": [
    "from datasets import load_from_disk\n",
    "dataset = load_from_disk(\"/home/saisur/nlg-retroweights/filtered\")\n",
    "dataset"
   ]
  },
  {
   "cell_type": "code",
   "execution_count": 21,
   "metadata": {},
   "outputs": [
    {
     "data": {
      "text/plain": [
       "dict_keys(['date', 'sentence_split', 'non_split', 'hash'])"
      ]
     },
     "execution_count": 21,
     "metadata": {},
     "output_type": "execute_result"
    }
   ],
   "source": [
    "dataset[\"train\"][0].keys()"
   ]
  },
  {
   "cell_type": "code",
   "execution_count": 25,
   "metadata": {},
   "outputs": [],
   "source": [
    "import base64\n",
    "\n",
    "def convert_base64(example):\n",
    "    example[\"sentence_split\"] = base64.b64decode(example[\"sentence_split\"])  \n",
    "    example[\"non_split\"] = base64.b64decode(example[\"non_split\"])  \n",
    "    return example\n"
   ]
  },
  {
   "cell_type": "code",
   "execution_count": 26,
   "metadata": {},
   "outputs": [
    {
     "name": "stdout",
     "output_type": "stream",
     "text": [
      "            "
     ]
    },
    {
     "data": {
      "application/vnd.jupyter.widget-view+json": {
       "model_id": "5a59b6b578fe4b978ddfa84d3cc3046a",
       "version_major": 2,
       "version_minor": 0
      },
      "text/plain": [
       "#0:   0%|          | 0/1986319 [00:00<?, ?ex/s]"
      ]
     },
     "metadata": {},
     "output_type": "display_data"
    },
    {
     "data": {
      "application/vnd.jupyter.widget-view+json": {
       "model_id": "4f29397433f845198d5fc0676e1439a4",
       "version_major": 2,
       "version_minor": 0
      },
      "text/plain": [
       "#5:   0%|          | 0/1986319 [00:00<?, ?ex/s]"
      ]
     },
     "metadata": {},
     "output_type": "display_data"
    },
    {
     "name": "stdout",
     "output_type": "stream",
     "text": [
      "    "
     ]
    },
    {
     "data": {
      "application/vnd.jupyter.widget-view+json": {
       "model_id": "91dc7692c8eb413b90eae1606cccbdc4",
       "version_major": 2,
       "version_minor": 0
      },
      "text/plain": [
       "#2:   0%|          | 0/1986319 [00:00<?, ?ex/s]"
      ]
     },
     "metadata": {},
     "output_type": "display_data"
    },
    {
     "data": {
      "application/vnd.jupyter.widget-view+json": {
       "model_id": "8d0e15fc8e464b798244dc16a6dd34b3",
       "version_major": 2,
       "version_minor": 0
      },
      "text/plain": [
       "#3:   0%|          | 0/1986319 [00:00<?, ?ex/s]"
      ]
     },
     "metadata": {},
     "output_type": "display_data"
    },
    {
     "data": {
      "application/vnd.jupyter.widget-view+json": {
       "model_id": "3f110f23fb2a4b01bebfa722b1d5ddc1",
       "version_major": 2,
       "version_minor": 0
      },
      "text/plain": [
       "#1:   0%|          | 0/1986319 [00:00<?, ?ex/s]"
      ]
     },
     "metadata": {},
     "output_type": "display_data"
    },
    {
     "data": {
      "application/vnd.jupyter.widget-view+json": {
       "model_id": "07c1386691f64318ae6367d11cd04124",
       "version_major": 2,
       "version_minor": 0
      },
      "text/plain": [
       "#4:   0%|          | 0/1986319 [00:00<?, ?ex/s]"
      ]
     },
     "metadata": {},
     "output_type": "display_data"
    },
    {
     "name": "stdout",
     "output_type": "stream",
     "text": [
      "    "
     ]
    },
    {
     "data": {
      "application/vnd.jupyter.widget-view+json": {
       "model_id": "c97bc12592474c4cb381c5d9203ccb31",
       "version_major": 2,
       "version_minor": 0
      },
      "text/plain": [
       "#7:   0%|          | 0/1986318 [00:00<?, ?ex/s]"
      ]
     },
     "metadata": {},
     "output_type": "display_data"
    },
    {
     "data": {
      "application/vnd.jupyter.widget-view+json": {
       "model_id": "ec5dc1690dba4c2896f1e411700e56c3",
       "version_major": 2,
       "version_minor": 0
      },
      "text/plain": [
       "#9:   0%|          | 0/1986318 [00:00<?, ?ex/s]"
      ]
     },
     "metadata": {},
     "output_type": "display_data"
    },
    {
     "data": {
      "application/vnd.jupyter.widget-view+json": {
       "model_id": "18cc288c49ec4096a4926f445579c7e4",
       "version_major": 2,
       "version_minor": 0
      },
      "text/plain": [
       "#6:   0%|          | 0/1986318 [00:00<?, ?ex/s]"
      ]
     },
     "metadata": {},
     "output_type": "display_data"
    },
    {
     "data": {
      "application/vnd.jupyter.widget-view+json": {
       "model_id": "9dc3c0cbede84dfe89b7a1dbcf8faf53",
       "version_major": 2,
       "version_minor": 0
      },
      "text/plain": [
       "#8:   0%|          | 0/1986318 [00:00<?, ?ex/s]"
      ]
     },
     "metadata": {},
     "output_type": "display_data"
    }
   ],
   "source": [
    "dataset = dataset.map(convert_base64, batched=False, num_proc=10)"
   ]
  },
  {
   "cell_type": "code",
   "execution_count": 31,
   "metadata": {},
   "outputs": [
    {
     "data": {
      "text/plain": [
       "{'date': 20080101,\n",
       " 'sentence_split': \"Oregon Routs South Florida to End Losing Streak\\nFiled at 6:36 p.m.\\nEL PASO, Texas (AP) -- Jonathan Stewart set a Sun Bowl record with a career-high 253 yards rushing and Justin Roper threw four touchdown passes in his first start as Oregon beat South Florida 56-21 on Monday.\\nThe Ducks (9-4) scored 28 straight points in the third quarter to snap a four-game postseason losing streak, their first bowl win since beating Colorado 38-16 in the Fiesta Bowl after the 2001 season.\\nOregon made it look easy against the Bulls (9-4), who boasted one of the nation's better defenses.\\nCredit the steady play by Roper, a redshirt freshman, and Stewart, as smooth a runner as you'll find.\\nThe Ducks won for the first time since losing quarterback Dennis Dixon to a knee injury in November, snapping a three-game losing streak the killed their national title hopes.\\nHow easy was it for the Ducks?\\nThey won a matchup of teams that'd been ranked No.\\n2 in the nation earlier this season handily, despite setting a Sun Bowl record with 138 penalty yards.\\nRoper started the scoring avalanche with a 14-yard TD strike to Jaison Williams and added a 15-yard scoring pass to Ed Dickson.\\nOn the next play from scrimmage, Walter Thurmond stepped in front of a pass by South Florida's Matt Grothe and returned it 25 yards for another TD, giving the Ducks a 39-14 lead midway through the third.\\nBut these hard-hitting Quackers weren't finished.\\nGrothe had another interception on the ensuing possession, the first of two for Oregon's Jairus Byrd, setting up Roper's 8-yard TD pass to Stewart.\\nOn that drive, Stewart got free on a 16-yard gain, breaking the previous Sun Bowl record of 197 yards rushing set in 1977 by LSU's Charles Alexander in a 24-14 loss to Stanford.\\nJust like that, Oregon's 18-14 halftime lead had swelled to 46-14.\\nFor good measure, Matt Evensen added a 30-yard field goal early in the fourth quarter and defensive end Michael DiVincenzo returned an interception for a touchdown with 3:23 remaining.\\nRoper opened the season fifth on the depth chart and ran the scout team until a series of quarterback injuries -- none more devastating than the loss of Dixon, a Heisman Trophy hopeful -- reshaped the Oregon roster.\\nCoach Mike Bellotti gave Roper the start over Cody Kempt, another redshirt freshman.\\nRoper responded by tying a Sun Bowl record with four TD passes and finished 17-of-30 for 180 yards passing with no interceptions.\\nStewart was just as impressive.\\nHe broke a 71-yard TD run late in the second quarter, greeted by an enormous hole off left tackle as he raced untouched to the end zone to give the Ducks an 18-11 lead.\\nStewart kept the momentum going after the break.\\nHis 41-yard run on Oregon's first drive of the second half set up Roper's second TD pass for a 25-14 lead, and he logged the ninth-best rushing effort in a bowl game.\\nThere was no sign of the turf toe injury that slowed Stewart earlier this season, when Oregon dropped from the national title chase.\\nSouth Florida, which reached No.\\n2 in the country in just its 11th season playing football, missed a chance to win 10 games for the first time.\\nGrothe left late in the third after being tackled while scrambling.\\nThe 49,867 fans were treated to lots of penalty flags.\\nThe teams combined to break the Sun Bowl record for total penalty yardage -- 202 penalty yards -- and it wasn't even halftime when the old mark fell.\\n\\n\",\n",
       " 'non_split': \"Oregon Routs South Florida to End Losing Streak\\n\\nFiled at 6:36 p.m. ET\\n\\nEL PASO, Texas (AP) -- Jonathan Stewart set a Sun Bowl record with a career-high 253 yards rushing and Justin Roper threw four touchdown passes in his first start as Oregon beat South Florida 56-21 on Monday.\\n\\nThe Ducks (9-4) scored 28 straight points in the third quarter to snap a four-game postseason losing streak, their first bowl win since beating Colorado 38-16 in the Fiesta Bowl after the 2001 season.\\n\\nOregon made it look easy against the Bulls (9-4), who boasted one of the nation's better defenses. Credit the steady play by Roper, a redshirt freshman, and Stewart, as smooth a runner as you'll find.\\n\\nThe Ducks won for the first time since losing quarterback Dennis Dixon to a knee injury in November, snapping a three-game losing streak the killed their national title hopes. How easy was it for the Ducks? They won a matchup of teams that'd been ranked No. 2 in the nation earlier this season handily, despite setting a Sun Bowl record with 138 penalty yards.\\n\\nRoper started the scoring avalanche with a 14-yard TD strike to Jaison Williams and added a 15-yard scoring pass to Ed Dickson.\\n\\nOn the next play from scrimmage, Walter Thurmond stepped in front of a pass by South Florida's Matt Grothe and returned it 25 yards for another TD, giving the Ducks a 39-14 lead midway through the third.\\n\\nBut these hard-hitting Quackers weren't finished. Grothe had another interception on the ensuing possession, the first of two for Oregon's Jairus Byrd, setting up Roper's 8-yard TD pass to Stewart.\\n\\nOn that drive, Stewart got free on a 16-yard gain, breaking the previous Sun Bowl record of 197 yards rushing set in 1977 by LSU's Charles Alexander in a 24-14 loss to Stanford.\\n\\nJust like that, Oregon's 18-14 halftime lead had swelled to 46-14.\\n\\nFor good measure, Matt Evensen added a 30-yard field goal early in the fourth quarter and defensive end Michael DiVincenzo returned an interception for a touchdown with 3:23 remaining.\\n\\nRoper opened the season fifth on the depth chart and ran the scout team until a series of quarterback injuries -- none more devastating than the loss of Dixon, a Heisman Trophy hopeful -- reshaped the Oregon roster.\\n\\nCoach Mike Bellotti gave Roper the start over Cody Kempt, another redshirt freshman. Roper responded by tying a Sun Bowl record with four TD passes and finished 17-of-30 for 180 yards passing with no interceptions.\\n\\nStewart was just as impressive. He broke a 71-yard TD run late in the second quarter, greeted by an enormous hole off left tackle as he raced untouched to the end zone to give the Ducks an 18-11 lead.\\n\\nStewart kept the momentum going after the break. His 41-yard run on Oregon's first drive of the second half set up Roper's second TD pass for a 25-14 lead, and he logged the ninth-best rushing effort in a bowl game.\\n\\nThere was no sign of the turf toe injury that slowed Stewart earlier this season, when Oregon dropped from the national title chase.\\n\\nSouth Florida, which reached No. 2 in the country in just its 11th season playing football, missed a chance to win 10 games for the first time.\\n\\nGrothe left late in the third after being tackled while scrambling.\\n\\nThe 49,867 fans were treated to lots of penalty flags. The teams combined to break the Sun Bowl record for total penalty yardage -- 202 penalty yards -- and it wasn't even halftime when the old mark fell.\\n\",\n",
       " 'hash': 'c96d702a868995c811bcc9d687348d4a41fd2d5e67aade354c5d67c8977a183c'}"
      ]
     },
     "execution_count": 31,
     "metadata": {},
     "output_type": "execute_result"
    }
   ],
   "source": [
    "dataset[\"train\"][0]"
   ]
  },
  {
   "cell_type": "code",
   "execution_count": 38,
   "metadata": {},
   "outputs": [
    {
     "data": {
      "text/plain": [
       "['20170305000000000000',\n",
       " '1c98344aaf81280d4f1dae80f8ca31a6318a40040d7f2ce803ff455959800723',\n",
       " '']"
      ]
     },
     "execution_count": 38,
     "metadata": {},
     "output_type": "execute_result"
    }
   ],
   "source": [
    "streamqa_dataset[\"train\"][0][\"evidence_id\"].split(\"\\x00\\x01\")"
   ]
  },
  {
   "cell_type": "code",
   "execution_count": 48,
   "metadata": {},
   "outputs": [],
   "source": [
    "train_evidemceid = streamqa_dataset[\"train\"][\"evidence_id\"]\n",
    "test_evidemceid = streamqa_dataset[\"test\"][\"evidence_id\"]\n",
    "valid_evidemceid = streamqa_dataset[\"validation\"][\"evidence_id\"]\n",
    "all_evidence = train_evidemceid + test_evidemceid + valid_evidemceid\n",
    "all_evidence = [x.split(\"\\x00\\x01\")[1] for x in all_evidence]"
   ]
  },
  {
   "cell_type": "code",
   "execution_count": 50,
   "metadata": {},
   "outputs": [
    {
     "name": "stdout",
     "output_type": "stream",
     "text": [
      "               "
     ]
    },
    {
     "data": {
      "application/vnd.jupyter.widget-view+json": {
       "model_id": "ab31f8d47ad746c5a4d4fabf507dc06b",
       "version_major": 2,
       "version_minor": 0
      },
      "text/plain": [
       "#1:   0%|          | 0/1987 [00:00<?, ?ba/s]"
      ]
     },
     "metadata": {},
     "output_type": "display_data"
    },
    {
     "data": {
      "application/vnd.jupyter.widget-view+json": {
       "model_id": "4f785271f5a34300be28ac0c27837e7c",
       "version_major": 2,
       "version_minor": 0
      },
      "text/plain": [
       "#6:   0%|          | 0/1987 [00:00<?, ?ba/s]"
      ]
     },
     "metadata": {},
     "output_type": "display_data"
    },
    {
     "name": "stdout",
     "output_type": "stream",
     "text": [
      " "
     ]
    },
    {
     "data": {
      "application/vnd.jupyter.widget-view+json": {
       "model_id": "71f93d56ddff428e89c1216c8b081320",
       "version_major": 2,
       "version_minor": 0
      },
      "text/plain": [
       "#7:   0%|          | 0/1987 [00:00<?, ?ba/s]"
      ]
     },
     "metadata": {},
     "output_type": "display_data"
    },
    {
     "name": "stdout",
     "output_type": "stream",
     "text": [
      " "
     ]
    },
    {
     "data": {
      "application/vnd.jupyter.widget-view+json": {
       "model_id": "a137ba9c4f184b92b69be49249653e2c",
       "version_major": 2,
       "version_minor": 0
      },
      "text/plain": [
       "#2:   0%|          | 0/1987 [00:00<?, ?ba/s]"
      ]
     },
     "metadata": {},
     "output_type": "display_data"
    },
    {
     "name": "stdout",
     "output_type": "stream",
     "text": [
      " "
     ]
    },
    {
     "data": {
      "application/vnd.jupyter.widget-view+json": {
       "model_id": "4b3270baf9734981a83f38742d19a392",
       "version_major": 2,
       "version_minor": 0
      },
      "text/plain": [
       "#0:   0%|          | 0/1987 [00:00<?, ?ba/s]"
      ]
     },
     "metadata": {},
     "output_type": "display_data"
    },
    {
     "data": {
      "application/vnd.jupyter.widget-view+json": {
       "model_id": "b6f1b4fdc6a94de4993ae8f36f436b78",
       "version_major": 2,
       "version_minor": 0
      },
      "text/plain": [
       "#5:   0%|          | 0/1987 [00:00<?, ?ba/s]"
      ]
     },
     "metadata": {},
     "output_type": "display_data"
    },
    {
     "data": {
      "application/vnd.jupyter.widget-view+json": {
       "model_id": "4c9d8464dba9478fa131158c6b8e3bb9",
       "version_major": 2,
       "version_minor": 0
      },
      "text/plain": [
       "#3:   0%|          | 0/1987 [00:00<?, ?ba/s]"
      ]
     },
     "metadata": {},
     "output_type": "display_data"
    },
    {
     "data": {
      "application/vnd.jupyter.widget-view+json": {
       "model_id": "90aa4ab15eb448af8be8cdee0f591773",
       "version_major": 2,
       "version_minor": 0
      },
      "text/plain": [
       "#4:   0%|          | 0/1987 [00:00<?, ?ba/s]"
      ]
     },
     "metadata": {},
     "output_type": "display_data"
    },
    {
     "name": "stdout",
     "output_type": "stream",
     "text": [
      "  "
     ]
    },
    {
     "data": {
      "application/vnd.jupyter.widget-view+json": {
       "model_id": "6e2812c9d9364bc68be6996440cde4bb",
       "version_major": 2,
       "version_minor": 0
      },
      "text/plain": [
       "#8:   0%|          | 0/1987 [00:00<?, ?ba/s]"
      ]
     },
     "metadata": {},
     "output_type": "display_data"
    },
    {
     "data": {
      "application/vnd.jupyter.widget-view+json": {
       "model_id": "7de83baed98c4153a9b9f57850234f08",
       "version_major": 2,
       "version_minor": 0
      },
      "text/plain": [
       "#9:   0%|          | 0/1987 [00:00<?, ?ba/s]"
      ]
     },
     "metadata": {},
     "output_type": "display_data"
    }
   ],
   "source": [
    "dataset_f = dataset.filter(lambda x: x[\"hash\"] in all_evidence, num_proc=10)"
   ]
  },
  {
   "cell_type": "code",
   "execution_count": null,
   "metadata": {},
   "outputs": [
    {
     "data": {
      "text/plain": [
       "['1c98344aaf81280d4f1dae80f8ca31a6318a40040d7f2ce803ff455959800723',\n",
       " '98a76e1c6d85669057a1020873503f84bfd347045265c5c784eb5bf7d6bc4e4c',\n",
       " 'f407365d4bb4544e53c8390c6f6beb8cc2fe2541ef7840fb6402355bc2d7fc13',\n",
       " '96a4951840b02c4e4f72caed1a14c2aaf259f352b235eea471b86160d53010d8',\n",
       " 'f485ad15a0ce7a8ab5553b42262a9e2ca2d84c8836af7a6d8350eb364579d983',\n",
       " 'd794209efff5b04bccb748bd52c0b2368464b101f5bf5161fffbd1150bac1dc1',\n",
       " '52dbe2b70b1a48fba6a5ecaf960c2dd9a620d3fb5d119e8f8302a7a759b46d1e',\n",
       " '4d570b5a28a19bea535730d101c61c2890e757421bcb3023673c694642bffe43',\n",
       " '51a676b2fcf7ad1f782fc07521d03a60738c956c951b0789266410897396ce15',\n",
       " 'aff6db9092b80222da95d7103516a4a3c33a75d3a4dd45150c295afc1790994b',\n",
       " '5d7981d231f779c931d013971daaa2dfcf2a5d6086222ed22c06fa6454fbefb1',\n",
       " '6a02aeb0284eee0288d48c4241ed3560d22f68c05011ef49d70a034c0ce93426',\n",
       " '0ecd44b45894507f7ee6e6f2bb63eb8ead1ad0a0fef725d682a15d8623882eaa',\n",
       " '4ee9dec36842186e0ff2d5aa3f183e0c4d6e146480dc336a9aa88f2a34408e85',\n",
       " 'd42f936b2f4302133fec867a3b9156790aa8d1453171c24d1ff8b0933a8a8e64',\n",
       " 'e2c9a4ffc6ef1023159f23b621bbbfeba9f2fb5268ab3109ea22ebc932f52f32',\n",
       " '59d0e727c56ec71596856c7b3bd084e0a9b96dbc1e5880125f4568127662c01c',\n",
       " 'cbf1c23a68e565c366a4c3d75e09506d0c4cfb5f44ae6c5af7f0c24c9df4f528',\n",
       " 'b544d9a7c62eb4a412effe4705fe330d204b80d4caf8e5d666a1e980ed792b93',\n",
       " '5b4b61fa180bf79c8df404372a12dc3f6c4923aba923eeda1f81cf6f45e5218e',\n",
       " '16120dd8eba8b72b8a964fe5925403594a0579055c7711cb80320b41cb8e684b',\n",
       " '5cac034f06443cd0cc525ff923f644ed08507d05ed6aac40ac31b3ba6f8b6ef4',\n",
       " '829047dc84719adad99f87498d2f471636d777ca1c5c38273cb0c21144d450e3',\n",
       " 'cbf4ed892fad9858c125f0e950f9fd8fa9c59595d01e19347218511e56753681',\n",
       " '5d5da1b79ee5cfa4ee8a709a8a8b723b5afe44b1c29a0eac3eb51d0eff16d299',\n",
       " '3dc57e863c158ee06134a4e65692b63f16c48ecf620855363bfecc57cdacd995',\n",
       " 'ab651e3f03f155d269dcb87b003da9f19b8bfd39864790a3090abf11a14cafec',\n",
       " 'e9c461da65a380c12a8e7eb5adb323eaf0e90fdfdfa2d79457cbd2e2d9907154',\n",
       " '754e4597caae251d2859af21227b0d474eb906f4f0c1820c25eda5d04f6f50c5',\n",
       " '26c38f62b577cc92663f533d1b18a29b8c62e39f9f6782eae4c0c8c4254b18dd',\n",
       " '8f350f8abc929a80c86a724f327cf732c1b500e28f312d72b861513ebe1c8b18',\n",
       " 'b937d2b08e9393bec42d2583cbe27923b64983e2a46c5edafa77bbbb171456b1',\n",
       " '2248812b54787a01b7fc0e6dd61e640c671fccf5fa313c926525d46d60146a3d',\n",
       " '9dc433d4a0c4367f7418039e800a87412510cfc736599ec9509c60fa896f600c',\n",
       " '12ff5159150be4667ca27f6ec8187c5435076c471348b2cbcba9a53f2b361abf',\n",
       " '9dc7f08f39cc8900d01edc179daf3f9e147baa7da290db02a29774c11b1a20b1',\n",
       " 'ed85b4a3144f69d60173fd0800ea3907a2778c1ebcea5aefa5527cc6f945bafa',\n",
       " '2e649e9756fe01219b43b5b7d9ecfa85eca607d0cf52fe49015328f047eeb007',\n",
       " 'bae0f69ec052d3324038e7ea5ebaa2d6a07a7a760a27470f1ba56721eadbad69',\n",
       " '40d30bdb276b22b72ff8475c593549c1cf099a44bcd725cc629faaaeb11e37d1',\n",
       " 'dedc984a02aa40edf099536f937dfd718d420bc41e08a9c08bdf316e7f627b82',\n",
       " '64c0cadb7efd29e16bf983be20888eda938af2ee364688dbd034b5161e0ec616',\n",
       " '9b839263baf7b6893cf3c618db1dc34d013ce83d13ef7486fae7e33874895ed5',\n",
       " 'aa2fb8d6107ea67f8b1812aa60240bdf7a359cad74c747cb681134d8372c6d34',\n",
       " 'be13b90066d0792a5a32910901d5f5ea85594702b96e2e3eb3efd72596140259',\n",
       " 'a9722707b4066ccacf3c005778a2225c260245fbcd79d693ecd2e6ceb2c599ed',\n",
       " '6e77d8aae16ad724c4dcb6a665181627b33c57e62537cc737730b606f071fd14',\n",
       " '0256170eb5facab02096115ec64653cca32c462779cfc327ec4ed34102c0bc1c',\n",
       " '891f11e034cec9c07e03e0fadd13ab749bb1e52b70a9b5ab762a08a1ec780a54',\n",
       " '2a2bbaccbfdc63823ba13a1741e662d3e292bf9d7fd92cf40ba02e7b1fcd1f4c',\n",
       " 'a719466b60a9219824f7667f07cbe48ba98a9f15e2edb4a27f0a155f331ec5ce',\n",
       " '80bf2a33bdacd68c45fd24550654420f595c2d1e60a1a986afc4f91844f85272',\n",
       " 'd482a3fe5942f1412eb4b9c4187adebefeecd361276b0b6292221b73b0519c2d',\n",
       " '6b2f898fb8e1ffb7fa8fe4bb9389739fbceb94d9cdb1a9351fc0096c3d24c5b6',\n",
       " 'd1058d5079cb632d664e548256f6033990bbeff88829adcc48f21be724fe1868',\n",
       " 'f4e0bd70a15e01dc4d32b7cd93116260d1f292456f4ea433053a29c58ccd6c5b',\n",
       " '83f40de43567f8b0f7625359d4cca69dbcc64f88553161c12f329d2fd626f333',\n",
       " '1e05c4d1ffdd8eac4e4d172493070f2d5583ce7d687c4eaa23c34f2f111a6f60',\n",
       " '09b18a8ff63c97c1cf683ecc4c6303344ae22e12157b5de8583f9e7abd2adc35',\n",
       " '115278e86063dfddbd692444420d75a0a076fe635aee0844ba501af39f4ea45c',\n",
       " '5f8c64d569c1e8e37cb39640216781434e47e2c670284da159ae697feb2e1c90',\n",
       " 'e729b4efec266969cedc5c1ba4760bc9797ac977df322b0119d23eb61fff03f7',\n",
       " '21f45c4b76dbf95d06f01e942c5fbebf1f933d526f281f68ff84344a6fdb3e8e',\n",
       " '8318e24eb98bd106365af6790a23f086993e807407bb76d3ed0bc479a18399dc',\n",
       " '587547330abd196bfc10de75c5c25cc2d04bf6d982593b2d91312976cf3e3d48',\n",
       " 'ef1ee149ea00025efd3cd211024f7b37663a953ad695d891d56bca987e47dd90',\n",
       " 'eb723dc13ff1ebc89413754e0b9075ef3bdf183547d7357d5155c6eac2f46d89',\n",
       " '969ddbb565f80d6b06c0495fad9e94834302eb9aac82be584e45248df19f0021',\n",
       " '0cd304513ee4c580f588ae1022e91d8ba7da264d4a6e503ac91f8c5b3c4227c4',\n",
       " 'c3d3e3b165b41f550aa6bb4ef972d76aac5038fd9088cff8506d3df84552d6a6',\n",
       " '814a5940792f5f5012df06bb8b538e23d22729132f9b38e18d060b86f18e2940',\n",
       " '2fdb8e41ed07ca73fb8138d0a960e5b07f9e8c10da3f2b75e3a1a5cdb88d70a6',\n",
       " '18ed16f1c859119eb1ee7a0129d729c44c3fc1bb81bf4a971300b9a694a311f1',\n",
       " '4d96cc04501b7c5dd3c5c5d15c8564a6141043cc1bb5d83f7e1dec16e600c0c4',\n",
       " 'a277edfd58fa83cd7dffe9c09c2da7a46edcf4512758cb7dfafb303a2c3cc8ab',\n",
       " '8444d6c04bc7902edb34e673c294a9943ff3b1164c277bac11c84b0dac61ba89',\n",
       " '9768ebb88058cfb898c4c1de49cf32096895219e94c282822225e92d10bfd6a7',\n",
       " '956077ed535eb6fbd38a5828464f29c396e969b6c0a0a4539c07b5aef9d37628',\n",
       " '6650b4a232f86af6bb5c18b92f7e4695a37cc85972fd24b25875836ddb95c0c8',\n",
       " '764946f7a9b919f7802ec8b7d33de32e9c85a4ebbb87cd4b89a9f2d4d13862f7',\n",
       " '7527fcf38e6428e85abc83e75be3972e8f97455dd6956fbc15cf82dc4376ff68',\n",
       " 'ac1a155a644806a80dd4b4dc6accf1fe3cb28455a65c06a0467bf7aea7dad6b2',\n",
       " 'bc87cd5cae3d3324346262de312aa5861b33ceb9a77a49751d14596c5ee2cf0a',\n",
       " 'ea3ab8b5c9906523007ece4d6cb4298867441aac4204268465e8c7f6ec2d397b',\n",
       " '2111481d6f8cd0eb883e0302a6e13e9d3368c924352493cd8f7d681a3287a917',\n",
       " 'e9da9379415913af9856def4cc81fdd969832dcf68720e3b8355c57ad356eacd',\n",
       " 'dd7715d9ca5f544c97be9b198bd4a5d43bf542abb9ce629a791b51e235a61826',\n",
       " 'b9a49ae8873a400acdf9676315636a2d8723fd36f820d4afb6930772c0b5e104',\n",
       " '0bddaddb088dd8bffaeb01468b199dde2c0ac96891d78b5fe082bcbcde350280',\n",
       " 'd13fd1fa62b1a84aa3f537aa6aeadd5ac887c2b0764c0684b7966395947ee0be',\n",
       " '5e8075048d3d01ae8762f2cbf9a0179e8764fd5a5ba84ad3a634f44244c2f5d1',\n",
       " 'c868c1d78cbbe6ff0d283ede278d11609c8a22b7bc34f620456bd8f0391f5710',\n",
       " 'b9de4e0d957eec6626c90543f4d0734bc6359a39bcfbed1ccee95b2478f98ff9',\n",
       " 'bdf74e66d2c25bbaa48c349d6b7ebb87b9e16e2ee5653eeb021cdbc1ef96c32a',\n",
       " 'c2586a8068b019aa43a8a81487f013e278c23bb720785d334aafbd75190f99e4',\n",
       " '7278eabf43f4c4d8f8d88de02d78ed843b350da34a8566cf4d037c86afb23eb2',\n",
       " '7aa599be1a5abc1a9e58a617bfc5ddb7be3edb47074563a8d095ddfd4045e0e6',\n",
       " '2391dfaa04f007f30d348d62b2965256dbaa5e266c9285528c08699493c0752a',\n",
       " '9b5b545c18dc2d6fac9aed388203278805f6c4a27b1dcc2ff4fd938f7ac3fdb3',\n",
       " 'b931612aa36455ef505e064460ece70a9eaeb8f536ab503e5a19951b7814e8f3',\n",
       " 'c2fc1b80a922c9ccd39a925108253de50ceb66a776df0f9c501100b0fb8c79e4',\n",
       " '6c2080592962cd8fa7af877a9910df4feaedddf377c5be04bb840fb420986fbf',\n",
       " 'e651bbd072d29ac0bc093a560a7acbef2f1f8182da3d54c64c82543b86a71ae5',\n",
       " '1597bfd72ec5fe0b94bbfe5395d4de6b64dd6cb91cf653d878fc3868779bb044',\n",
       " 'ad2f15ca2cfd9d6f27de811b6e2d4626fd0ea1a3a03890400dee15b9b59c5360',\n",
       " 'c5374ab82ac18701fd22f65ed1681e71dddca442607dc03b47508ca101399317',\n",
       " '38ffcf08534a733ce8ea0dde0977bd2914ca0303f246d227983c592647e9c150',\n",
       " 'ad975855271c5827f807c2fc900dbaf63471499d3c10e4492c45750a974b889c',\n",
       " 'ec809c308c1e45b055c85c8ef2f3625a2dae3ca92e3463920265c40332953a02',\n",
       " 'db6be25203cbf2ba5a2e1688904a86d4516eb21be8def6de902c831bd40e6003',\n",
       " '652f213aac70bbcf373985c8c1cca5ac65aeb2f90ee48ebc1efd1ed5d7c4c26f',\n",
       " 'f40b5044239b42f4c6a39fcc5029f205e0f35605daf6c648f5fc585414afb056',\n",
       " '79eaa7796fc30dd684835c6f9de3ce5675b026256c3fc396e9ec1316e3b38873',\n",
       " '4f28c65ccc1a960110461ec628ca04817c231d5114905e8bf24e2ff954e206d0',\n",
       " '3f714cd18dd081176f717a2ec11525fa86c6116a4f1c98a8b2a630299c985196',\n",
       " 'a3304034c8c6e6bc0d132d7cbc593a73bc760aae2b33d4c2433e7161d8122a15',\n",
       " '6da2a34ac50edcaf507f39f531dfc18ca0775b94c0948fc5ce44d4e069ec33b9',\n",
       " 'f85673e5ca9b03b31688debaa7bd04fed88229f95aef96520ec207ed99514631',\n",
       " 'ac87a52942c7f87000203e9175623707d2ca02df6f63bec0b69d93f65c572d50',\n",
       " 'eaca2b787db7578bb5f0654ede7b3c2f80a3780c0d668e7007c4d0a9b0fa33b9',\n",
       " '1d74331c94c2497c9c1849fa0e7c60c29367b78cac221fc9e6cdc2221b5803b4',\n",
       " 'cd3e08dae94ab5fb7a04e8893ef3ade7f09ffaa8093d5e190e77fe66a4d8300b',\n",
       " 'd9d6a8ef47300e064c1d4e92a063ae0d4f09b1cb87c62f09a04154258e35a9b8',\n",
       " 'de88f5e4987d7c66e0beefc34d1836a44553e4840a4fd6e0b4dadc16404bd82e',\n",
       " '4ce4a53823b0b3bc247f5235345383890e25150acd1e5d9f6f9e4b7c5df359ee',\n",
       " '067a34b470a51c4b8d65da3f3d31f48940a06c38921744ad19a455ceac75805a',\n",
       " '8d5e1c4f7b567c27cf454e0c2af5976217434aa6f14739fd617e5cde9eb88e3b',\n",
       " 'ea7e7e1f6a2a8334e0c3ebbefe38fe81ff469a99e1b9efddacee5cf4d91e8258',\n",
       " 'c4a6533db684d5fe8ecbde6b9df82772b9f896d8eaa669bb77063ef18468606c',\n",
       " '1c4361e2ed1e3be82243256d198498877644d309bca8e7f02e84c1bc8213c283',\n",
       " '105d26650c7a5805feb42665cd1ecfa73eebeb074146c70f685112db30fa1d7b',\n",
       " '92a33b1e61edc0ea4c58c81e934b28c1d4ddf20f0647c24939d571217ef563cb',\n",
       " '05c64f866aa86ac08c1b17b96e3e479aac763624582af2f02555d98ef4cd8713',\n",
       " 'a3ee2cb2107e2ba1d10097e8b2c111f47d35f35cfeb2e6e4432acca5357eca22',\n",
       " '8aab9f6afc3c94931ab6ea2d52d5889f036180bb33f76f9420434504262308bd',\n",
       " 'b7df50b05ae5abd57d76c0ede9ef5983807d761de732fff995a927fcc7f8cf68',\n",
       " '93260ee04758143d588538b580d82757f61843c7f6a33da103df790856681116',\n",
       " '9dbd4d8c85b58cdc471775d421246fe2c424077ed6a0305efc8a98f6c6e7ebf0',\n",
       " '1fda6d0951b980e2917cbb74004d76bccb3cf1ac8e10bb5839c05b18e182ca78',\n",
       " '4712371888f808301ff7904969f2cb9dbf9b022cb13e2fedf64452abcc4afcc1',\n",
       " '2e78f4f13517eb48f740bb9423c06241b4b450e6f368303d8eeda7da71a3d47d',\n",
       " '4ff6d3566777df2ca3b899f8abf4f43acf0fc074e6009a925a1a8e06f0693faa',\n",
       " '427b3193c321799d34ef6cb9cd01ea42866b2cb111b9181830867c6107637127',\n",
       " '2ebfc53882af8d47b72524cb0ffd4ee49a8cf163b916def87fba5df19464c8f3',\n",
       " 'a175ecb4d5df318fb3eab38ffec70f2339d95e9ac9d89afacc84dd0e731b9205',\n",
       " 'bdbbd75f2cd2bcaf5ed167cf19eda758e9cbfb9788af221e3054e35433b25c79',\n",
       " 'ad368e53bcc5cba4f7faa1c512baa6ffcc4851b4079121101f75b5b09d70a62d',\n",
       " '74de3bd329cf70188080e56421a9aeb2e423a3cf3bdacd9d8d53ca2a08312705',\n",
       " '5c49a4df8bbb77a74d7cc6d68fa19207d80a9877250d29b379c3a92d3f41800a',\n",
       " '0bbf3084a2cbda1c34a9d21a6cff913b64e1a8560667349c318086c1fd47f509',\n",
       " 'bd35ff5f655cc08266d8612620300debbe6fd602be89cf4acee6d52e89104a29',\n",
       " '0100957e8b0f165502b2b93153055706bccf711af259b17d2ee02f96ca1aae61',\n",
       " '0e507af1788dae0a177d030ddeb518e9c4921e1b59848b79c00f099b03679de6',\n",
       " 'f16f7e1386091a9abc71aac77fdc24f2e1edc1768a61a5d9a2a19b5a9213e9ec',\n",
       " '4ef81d1caee7965e5cf93a60de79b9edf5283c7b39b40cf1a2bcb129f077014b',\n",
       " 'd114e34ac01c7e89261c91ca9b8e94d0993f73b86016f713f58246861a7fc755',\n",
       " 'f61e800aef77c808f531974e602715da5805075419a4e3ecc88b6e31666f3388',\n",
       " '8303ee458e06f17e766335ab84a590507cc4cf0587d81ff1f5f23e6261fef0dd',\n",
       " '35e6e084841c8c7d7a7c3219296f20597354a0075b4c6dbb5e43bea59c2a2133',\n",
       " '1c69d049571fb7dce6f0c1a18642f5c4b86d28260a9723bbcb21cdfa96a9e4db',\n",
       " '1d3712783afffb2778cc28b0d7fff34b7b023d44bd921ede63be9ae1485e27e8',\n",
       " '30e2873088cd02d81ba1c68c3a5d9072a0990acd3a4e804d3076b3b90d25be81',\n",
       " 'f4416583d9148d7506fe3fba43efc2b54aece5b1050c0b17179d25ffee7ce5d0',\n",
       " '79b179a231c5ec3faec7a5895f5c0be8fbafff3b9fede8c5df5030f27f7477db',\n",
       " 'c87e7871be52a30162c0b0fb3536b33e017029e67bf238659cc1e9ea86cb89f4',\n",
       " '2fc00ce0574a1e7b1519bb37528cf4e9e574352f71ba1800d8a8ba0745997ee3',\n",
       " 'a7cae3f0b97cf1f62d68ed3a1a99f1873f4a8ee00909022693f6b56ccfc76758',\n",
       " '224c87879193610d2a77513973df434e32adc0c40d56721721fccbef62395f7e',\n",
       " 'c729a29442451ffc77a1a834da1ec3a108f106d273d2118a0be536266bdee0d5',\n",
       " 'ed95c08bd8071c1eafc18edbb294e161be8c6eb5b1af0b01db7d620e8daa395f',\n",
       " 'bcfe7acb3cd5c40fb3fec7326c1419ed15422ee636ec8e947ee6cf3b7fb6bef0',\n",
       " 'b8cb6903b499fcc0c4890018eed7ac81ef5d32698bbe34779799d04b03664b02',\n",
       " '8e65422f26e9bfe2280c3b17dd91a3ad2c98df57085ba0cf6a665a20c847a5a7',\n",
       " 'cd79e9293064d2d295d9f177c3cef59dad3d29de669318d699bb48072334883d',\n",
       " 'b96cf615e3394771ff8f491a36f27eabc397dda14c51340a00faf3470dc37ec7',\n",
       " '742616a039a6ac159fd581802bcc034832ce33dd3d51c83350656ff0feb9a08c',\n",
       " 'cbffe1851b0828bcb1a4bf27f7bcdad725bc16cab0ade3f60ba3d6028ab32af1',\n",
       " '109922ff895ab7de4a3c38f5217fcf9fe7d1217b0d8043b855d2540d4885e610',\n",
       " '982e9d30a4ca4c12f6b9283b4954adafbecf3a2f218440a7a5ca8a6d2f4e7d1a',\n",
       " '134b7f16e81c1cee595b4a53441cfacedff08ae9f77af410aa47023bf9a02fcd',\n",
       " '2b2467fd8289406f6161b89df620cc6c8c3e1d81e1a8fd1ae4aa0c64830d32ac',\n",
       " '3f43db21f7194821bc3d8e802fd1cd220406bb4f6b44ce5cdcb8e6c964b0f806',\n",
       " '705670df0179b0af650ffffc7493927614dba1411f1e24e66919a973bcfcab52',\n",
       " '84103e6b29107d0430bdcbcec799e2b5c0ee25663734e013db76fa9c9dd6683e',\n",
       " '5ab450cc5191fcf08789f4ff9ed7c28b3ac832e71292d5da058f495d0f5c6c5f',\n",
       " '7394659c3dc827c0269f2a92d20b391d1e2ac06c0d0147edabaada61965527b7',\n",
       " 'a8144e1f9c0e5d49845b8ecb188fe6e27cf9fd638166b23b47fe896095a8581e',\n",
       " '57b448918f94eea2786d18974c7270c038bf7772939279f254a6fdd6f84aa534',\n",
       " '6384bd797e1b6d9ec0826159d9ce694a1dfc0cf8fac35069608492e301274769',\n",
       " '09d33c69b37ffcd857e685b306f7f89512c4e7bbec25f4f10cc87b8a0c5dc2fd',\n",
       " '729d3238dd652e0a3eb679fa428f8b98f83991a81f2179af656d2222116f8fd1',\n",
       " 'eb91265332c0f094c6c0c2c8d123dd7d83dc151a937eaa6b93e3fa99dc1f8cac',\n",
       " '51c76dd2c6139247084e99349833502271bed3b92150aafdfa42045c0450b7a2',\n",
       " '6109e3a5a95cbffbc49bf7a48bd6eb5ed7060845be456d46b4cb1e8c5033a452',\n",
       " '0e3e1f894ce8e7bd8c32da2a5dcfc7311d29b1d9cbca3eba09e653fbee5a49a7',\n",
       " '7b36c28f8ec757c3c9bf7efc47f7d2bfab890b668526d42e7d91266d23871f20',\n",
       " '132520b2b0762972854f6540de89550a5eb21b7823c1c550cd16471cb8ae4e88',\n",
       " '08c963b1da4bc68c794114a0572ae4397342362e943d5fb1d5d1e4d2b91f2b50',\n",
       " '2cd9be32f01727d73a131ce457acd7c34ce0fcd167007bcbe17e703b7e6776a5',\n",
       " '3f4dc73cb20f4e971834b246ff2f36186093da26238771a3de5ca637042a29fa',\n",
       " '0cef2aa4140c3a44a6524d78913bd3a55f26f7e014770e058a50bcbabf916555',\n",
       " '800bcdc55e610450697c504f730afb1c19bd07fc1877a0d0a28fa2f99fe31adb',\n",
       " 'ba55837a794f741f92b0cc4015c24e93337ec93e5746949f8346a6d7726a2c88',\n",
       " '1293ac7aa5b93dc9987789a4fad44297db2a27254677c433dd60737c83623784',\n",
       " 'd54402ad5bd1ed0d5372fc3233fd66097a6807dccf0ee47a12f13ba1294712f1',\n",
       " '98a352203014faead2d44710540aabf09011ac70058be0017576fe650ceb8bc5',\n",
       " '62c5f6d3b955a74a0ce3969b0a2d62846b17681f4d4dfde9f8a0351af88bd809',\n",
       " '30dc397df564ef2be19ac4dfea9eb267dafd439738b9b78c6c707c60707124b4',\n",
       " 'cc5ea30c729c844073dabbceacc7c591bf2f63c11cebb95098b43258429b04d2',\n",
       " '4ab2539d7c9bac64a05f2c60e8a2d662053fd0c91cfe3846f30038a570b66b44',\n",
       " '5b99c39d689170bd0393d1d56a46cb514358e4de3adce0d3b9009d715d50c5bd',\n",
       " '62f528451456e7a4a960075b1f6f4b6657365de48adcb1e93581e07b43e69def',\n",
       " 'be11a5f51d280ccd3fcf010562363bee53f4d99f2ebddb94a376050b232824db',\n",
       " '0310b66e9272cedfc60d89c09243336d83b457305ee4ecb88df4e8ab661cc4da',\n",
       " '38e1ce96586d0268a34b493cda1a4f422a3c5a8959d181d11e1fe9757ca5c7a8',\n",
       " '9eb3efe777ff9991c55104a03ef3f48222883513ece099b0e3b09f39d24a7d47',\n",
       " 'a0b5858de8015ccc0219b95c23f921430a2381c0f1d4ab37c121c6dfa7453dca',\n",
       " 'a1aefc0210f4714c25f8d0347bef17b1e954745f395e35b7fca0942309be59f8',\n",
       " '9fe7c321f6aad0c8517ccb96e2531af9555aab58fadedb5e0d39e9a6fcd8f56d',\n",
       " 'b518e1544b8aba0b33ebb06020188589977a9cab8236c9aea2aef905e4c2ac06',\n",
       " '085d9fb542fc25a276ffe480ebe45d6f754c0fc94973d094c486bd4b6024fa30',\n",
       " 'cd29b0a13aa087b13722d466d0d38acf8a576aa5e546a1ebe1eb4dcd219f3595',\n",
       " 'f8396fa586f348a0ccfee22341b91df10e54986e29cdf10d5cd1feecdf945992',\n",
       " 'f06c33586422325d22d5cc0ae004f5eeb1c00f3721b36e1c2012e928e3565e39',\n",
       " '812b8c803cb4c01ae81fbb260f91e14207c67943c77ee165ae2210626ce74513',\n",
       " '82be9325d9244ddf57db8a17138f6ef5efe5a609b20ea0c8ced58b3b553f3379',\n",
       " '4314003fea6a2bd4513d66e02d0049b1203db04e84b354a22b055c8b0b169a5f',\n",
       " '23af236a4db90ae9b39eb0411fb404191ca601212a18691805fd2167f41e7286',\n",
       " 'c014823d1c6e4776ecf133827306e34ff664f306ce06334a3d0110fb0fffb1f9',\n",
       " '9e9c444caac888fc78f2d0bbf5d3eb28332ff72996b8e92924517718b1cbf9e1',\n",
       " '779b9b86521e0f7dd0d1d252d253fe437570c9b391816ba18bcc9e11bc20126c',\n",
       " '9044e8e2381e627da03651593d953fd3d5ffe37ac2d45942264637546caf353c',\n",
       " 'cbf2c35c97bc2eb2af74bb4f374aeaecf0c2e42c57a6d7b3bd0a8adf5aa426b7',\n",
       " '9f014dcbf00bedf343f1edcbf15253b8049006ee1df0c91cc33a9b2164bb681d',\n",
       " 'adb1685235a41025a45f7925bb236f9172f279ac9d9fae095e0b8ee3222bea94',\n",
       " '289e5e5e0eab05afb79178c64dcc7daef12858efa031693d648e46c62bc8211e',\n",
       " '391aab23f3f8fb7c564c8b064ad61eb338e00a641c8ff68d5f79dd8ee8a464a4',\n",
       " 'fd58a690a55cfa7c8a7fb46825718f299ee68c4cac543d6a2f4d16a70edcf380',\n",
       " '5fc473a77d3a61e716087513346cb10c4c42398adff03810ce5b0f3fa0643761',\n",
       " '87aa564975089e4132339c6326688b8150571ea0467c040728a64241de95b368',\n",
       " '4fb5c7250246d0cce428d6c0645c249baa522241edb3fa009abe8811597d264c',\n",
       " '3ad3f90c726351bae901e9544ddb94c3043367a23d5d453080989a102fbcddca',\n",
       " 'd485780dfbd6f224dac1f331c6fc862aa11836278fdead12e170ef0ada8f3b6e',\n",
       " '76c730205f49dfed02380e0873adf56201ef0d248d0d51ef357ee7af9d9d4d32',\n",
       " '5074147ac3806aa690a4fca48b83356d07c93029ec68dc364a0507b93c9b9e82',\n",
       " '88c438b1552a891ed527ef348a6da0eb288aee33858b44ead6008e8f7d82af82',\n",
       " '81ee49c455cf66f2d6fbe5f059d68a42607da985e12cad998ad68dd9731fe784',\n",
       " 'f904d22f00bdc578a8a4d3b103c7471331bef6feaac243a392df14de98933249',\n",
       " 'f03bab4f0ddba496bc647caf6069fb1cb522981e0a4faa407682120fc1f0e63b',\n",
       " '67795c2a25c50b0a88552ab6f32dcaf05eac7e88ebc86caa4cd227a7e47d4c56',\n",
       " 'c44d8695e4b9209d849a8d800a708f01948c25d7b36097cc8ad3f5c1d9d18cc5',\n",
       " '3aa3609f451dbee694ccfac3d3336fa402a13f348c9e5ac3ad3b6b3c3260fd6e',\n",
       " '4d8fe140515e5f8e539233a236fb51e467d9ec0acf2bf5688aaec29ac0dee195',\n",
       " 'f8d81d086f920c196762ae4fe77fb8debed2ae113f6edb515fe460cc931e0b5b',\n",
       " 'dbdb743db780623ff2db04e3e91cfba1147828d2317672ccc225bee46d378e72',\n",
       " '8e649675f0a883e9fcbfa433e5e970c80d5b278eed3c17ed8c1407fa65b7c7d3',\n",
       " 'f8f25595c64738d6c43e658679335285141251b501978aded5320f6601a68b51',\n",
       " '8b8b4fcbd366a004f87cb5059b26b851e73a6eefac7859a7ef75e382d9892bd8',\n",
       " '27dd5b0d8ad6fe4bce810a55ca8a92be4e5abf1a9f9aea50d7227aaf4c695715',\n",
       " '1899f7c0afa9e81a0a5f914eb86b8d7c21165dc7b932f644217d632a36c64dff',\n",
       " '42032bd8495327714cd2f1082e10a17a6a55299ea6cbcaf4e2b7ba519a2bb8b8',\n",
       " 'af0431199ea6d165dd99e09347f3f589c6058e34b93d43a9ebd2c55560c09874',\n",
       " 'd07c5486a48665d8f9497918606fd8f6bcb69deb560acd99ba91a33109c17392',\n",
       " '29084dbbaf742a481dac3238928adccaf971fb780206013758ed3326381dac88',\n",
       " '9fdc1619e168e80b34a5563b32945b1befea66fd9d90a7c7b825019b7df9e4c7',\n",
       " '0f14744d072cb8b3da4074c14dc67bdc1ba7569de128af03b9d409943327afe6',\n",
       " '547a533f4ef280b307c64c317c21cdbc203141ae866b49a383b25961f85735c7',\n",
       " '41a7c72fc08a6b0d208833c3bc91eac881dc9944bd1c230358f7c675f9d0ea05',\n",
       " 'c9b9ade4251d978094ddf04a75817687de82c3caebe222150097f44be9882c74',\n",
       " '975e3f062054d96dd91cb0562d52554433a08403c28cf81dcf854a9d90a876c4',\n",
       " 'a6f9e128bd940b1841521f6f4a30d6faddf3923ea5382b95e4c690b24a3e5bec',\n",
       " '154ad0894f84139ab6222488de7911d38b29d06e81307919961f313b0dd852b5',\n",
       " '89e6efad911ba2af283efa95a2cbd286a5e0cf5eb62f1423457c40fcdb856a0d',\n",
       " '1e74ff4e7b08ee5d12bf884a2d67cb7130c80cddd0b5cac67dd76ac919c26551',\n",
       " '7825be562bdea2b63996ab00e4559101f02797a89e4bdfecb5b52fefa2e51c7a',\n",
       " 'dc3888c5ff4d158229a41784e40f5f5f7a3892d7c98855b0dc914f2d387c266f',\n",
       " '0bcae8c6bc7707abfa6a900bc6174342ef19358114856d293e799449ff584d55',\n",
       " '5c24ee50aebe9c68850185f007ec77f807bd031a955ca8c8923bb226f845a743',\n",
       " 'b279b1a2604c08db60faf4ca67277b1e6b81d557c452d22957c7f19918395d8d',\n",
       " 'db2b2c5dc7049893f88f4524a2ea215350e870a5ea8976a49e2b5a6ab9d71e4f',\n",
       " '40eff92b37497d062027e71500fcfbc392dee3d512843f739b24d80e4860655b',\n",
       " '933c836198134f2a48bbcf17cec23a07e4fef80331ba7f31f741e1abef07ec19',\n",
       " 'e0966610c1bdab11c4b15cddbd927d2b32eec497fdee0f46b8f65b5b1d604d17',\n",
       " '6539ef84eb78996c18267bb052f545c671f557f038f6b9a374372978fe484ab9',\n",
       " '867c1e3a1e4e0aabb0547d137d22485a53fdc7e29050503e2c4524a8da124077',\n",
       " '9e0f3357dfea5ef917ce55bbf894d0a9941890325a4729ccb260b02e43f188da',\n",
       " 'eafb8e40aeb7e53afb9c11ba49816c1281aba23ef4db20e1ef4baa18e5bb3999',\n",
       " 'def876086f123ff9151c2984491459b3ba4551421e0b22ec874e8e79e150e481',\n",
       " '90ae99722becdc8b33847ca6fcef45193f396f3e798ce5c72f6b83539db5f2c5',\n",
       " '87363cfe10a861c9ca3885b81424f7b7622ae1a57cf239cc6881191695bca005',\n",
       " '0697854b42a396a55fa6168f4740b3b05436ce54899527a03906bc77f7de18d5',\n",
       " 'a1388f4d6592546d6478b42d088181ea6ad71edf8624ee8edc1cfd812b220eda',\n",
       " '1545302810412766bd2c8b0761c8f1b87bb27d4418dd440b46b030c83a9bb994',\n",
       " 'c8e02a71ff6c6cbc335012407b869f37224bc17ab5eff2ac2738f06509af8a44',\n",
       " '0dd3f5b8471934b920d9965a851253b91984d49a607d55e63c57bf3d1f7f6a81',\n",
       " 'd8e282b2c2cb05fc3b6317f70ddc52e028ff767a322282dfe344a443149e4c13',\n",
       " '5c1d37cf36ba2ca36c21020948edcfa060296ba120e8032fc25c923425520440',\n",
       " 'd7fabab1416c9ca54ba5533881f4489ae02e70241fe3e46e6fc7dc07e25e5e0e',\n",
       " '82985a6c0ea162a6ddab55723854b49e7732df127ed10be36baccc84b247783c',\n",
       " '3d9be3d0934ef09a6eb637cb98c1519e7c1d6cda0fd04a2eb8b71c5ed0b2fee9',\n",
       " '0b4b4e55f24863af5496a54d87cc0e9b4e0b6a379290afed1b1f464c7971e97b',\n",
       " 'd861fa7c231839909fc388ba721668be4eeb0849c7a40e5744f5c826da64299b',\n",
       " 'b32911a2e7c9bdf30975791c390da61a80110742d7a14590dfec6e5a6cbc137f',\n",
       " 'ace83f9f60a90bd5401030557536c8f9db916068b5ee0c5baabcb945e5ab080f',\n",
       " '8b5a240a7e291f9ae6af9d6e0c71baf83cd6df0deb4c33d8dd5974971c4d7de4',\n",
       " '53d9d955b98b8317a5f340c492da1065756081b6afa36d7d360f3d557e27a253',\n",
       " 'fb011980fe1379e8926cce1342c182ffa4d4749bdf079194b294e749ccb7092d',\n",
       " '34605dbab3e24a3eeb00aa61f431fe08c07966c3596b79f47bebde84106bdf7c',\n",
       " '585a69203aa7c0f8b370b1be5ab91d38dd6cad82ddfe0b16fc0fe614db0f13cf',\n",
       " '252c72e882058fe97d8c71ad2818d65e3b819f4dcaab23c88087177da96a78eb',\n",
       " '40c14655d2cac418bbfc3f61fdc84bba3cefb50416e1a4407d96d56dd6ab1be9',\n",
       " '352e26a1d73a16b4ea94de04d210ed871d01a2de8de68c9fd8afe117a62c2397',\n",
       " 'd6fdff541fca6fa994d6ee5ca8c577b82a96840e4ac1b09227cff285ab401653',\n",
       " '20901f46818c7677147d2cf3e613fd9b88fb419ba40896cc36d40a6d27889688',\n",
       " '01af32e2861574f1f4a46ed2d3a3dfe609443dc70b6f29412d43d42dd0bc72d8',\n",
       " '5a08da2e616114102bc0e0e4e5e278d8ce58757bc95164b3ed0023527e03f458',\n",
       " '717f5aea34e68b918ac0ecd40cfd8a3d8920328fd4c012bbeaeb10a66dee4e67',\n",
       " '1bd159d3d132919857726b35a1f73cb218e7bd1126184f780b6724d6f2a615e0',\n",
       " '2cb5c09ba864bddfe371adbf3b4787885af8721ae1aff457d7e0165550aa789e',\n",
       " 'f5598659ab5bbb76ef4a437906a6e85fff5215b0bc66ecdd32396e7fe1b1650c',\n",
       " '95bed005f869dd58dae4b564e3d67f554c8bc9990e878caf3e06bacf7a44fff7',\n",
       " 'd8231dc45e26491ac857a82e6de88cfe3563594dec5f2a336e6d8c659a7c3c0d',\n",
       " 'd577572e3402d9ece36edf0cea0a98ccba5f9db7757d136058276565753ed86b',\n",
       " '1b7a2c4da21b90113b503e4780ee6a8dac13e8f9c9d713d3e567c5754c92ccba',\n",
       " '37cf76f0d3bdf50b6c0da6c9338c9fff34f50e3b59c331626441ff8c5993917b',\n",
       " '7c7d4e009684ca6290934f9ac7e9965bb0a3a20e4eee9a4ce90ee44fad095764',\n",
       " '5d6762e96be487d70b26ec56814b782104e33ef6713086e7853e60dfc43721e8',\n",
       " '0f21466c25458c22226f447739b77345040679efc1e8ae5fd07610e9c96667aa',\n",
       " '38326ac6a8d6f2042da4dfc584fc67ab04cde9df98a7e46aedbad0bca925a528',\n",
       " '7195e5339346f546b47edf65cf20df807b0e111a15b370b2ee6dbf8b1372dbbb',\n",
       " '9b5f212528d25baa8b19e90afea1dc10d475210c14a8747c663a6067db1f0beb',\n",
       " '341b049c992c12002dde3aeeab670f0b32c55317cb9a46f2adf3b8888f33e60c',\n",
       " 'ee6f54a6f91f1aa4d0371efa6e1b81def98f69e543e27aeb580a7036cd5b8bbf',\n",
       " 'b54bfb2f68ac8b0f0c8d66c9b3d728bbc53839f34085468f6e51badc94bae98c',\n",
       " 'ece8acc7bcaf06cf71eb9bbf432ca8a45838551aaef140176f924bb8c630674a',\n",
       " 'b7ae9192d92d99a44b61fe16735b6c86297324591334a18ebd179b2a15f70e6f',\n",
       " '7fb1bede69bec0f0f43d869368c74b7f9518eae3c34c819af09c2b6b9ec06dac',\n",
       " '1e1fcf06fce88aa941da2798faebc41297995ff032c41d7707a6d496413ffee9',\n",
       " '1ca9eb813d78af834843259a17d943fda097dd095bce61e02db5bbc7340f7fe5',\n",
       " '4accd5df5aae341e73d7e7e2eab1aa23f930de2e214dac9b73f68bf8ffe69706',\n",
       " '085bd7b16144f3765e235c5f486713449f04c0db48b752ce99d5aed017710f0b',\n",
       " 'ca94266ce6d919fc150eb81144eaf703a1abc13e0c5a2bcc06d750c0c5b3ac3a',\n",
       " 'e49ff5f3604548812a77d26831bb279836fd3d6c3239c1046295607fcdd617cb',\n",
       " '872e5d22a98f2844a0bb689cbca7745d885fb6d8b4949bc5c3813eb7bd1ac888',\n",
       " 'b538dd209f8d183c7561e4aca8738097e09b54546b813a4e323dccf7ef25090c',\n",
       " 'f2b4820fbaace1a85ea7ce967c8909fde1154fe3a3b9a22fedcee0a0c3702edf',\n",
       " 'fed869a3a033a6a76ac666f6d93479ba93ccdbe9b9d794bc812983ca717a2135',\n",
       " '37b26ca118fb011f1d8c55dd25be7546382f68bdfd883d2124ab61c0e9f86807',\n",
       " '2495229ad2c6ecca09a0ec8f474456988bf7e723feab31e5cd42da8061d4711d',\n",
       " '1fb4a8b1a4dfd262034991915dde3ebdd6692667b1400ff09b313fb9d9787ae3',\n",
       " 'bfd5782e8c33230186634d159a24a05407036c9cbfa62b74a3927a90ea3fae1b',\n",
       " '4b058bdb362f12e8bcfe23d83f30773f69867b3120d8432d2c586f5d9a20faf6',\n",
       " 'c388676b54bce12f7ee89ecbc01f3a68a4eac0c70d6db408232bc44afc9a9179',\n",
       " '8a90dbf2c36aaf7dfed3cadbdf74609924fee564a8010d847e3596953e84d458',\n",
       " 'c2c5148b7564d86e3919f163114010601820d37f3ef729198dcf44e8ccef5808',\n",
       " '240d79b568057af808d49c20500c4d131d3703e02fa4257575fb0a1f2b63e948',\n",
       " '8191ef6bdf2586702842823653a1568819fa26ab2bde6be3cfee7576544c1a53',\n",
       " 'd3958aca35c2aa257f485bc76d2ac67169705d34be9c17f2c9fb8ff19d692681',\n",
       " '90069ff758034e0c2c7537381e6baeef28b670413f54f116f1e38f16e887e613',\n",
       " 'ec2b0baf50e30d79b331fab58a34c99832f37198858f5692cea9df368f1ef726',\n",
       " '0d32b11ac6adfd5c46aa75d92c111d9c97581cdd68827e5d02e5f0dc836e3087',\n",
       " 'dd6b443fb91a01101662d98c0be4a72136502d82bbd322892280691adf49d3ed',\n",
       " '3201be3202cc1d599d7979642c4e1cea9017c630fbb2d2131ff993372f99dd08',\n",
       " '48d3e76ba6f24b28e60318fe8fa53acd6723879159859c362d93f6a0d820b4d0',\n",
       " 'a4d1a2f31b34c38579fbf4358256eb7ec54550b5655661f9fdeffe47c5649c34',\n",
       " '735231bde02389204fa1696e46a34c2398723844e353f45a04141f680a3eab0f',\n",
       " '98394f9dbde2bccec51ef66feb550a6d387717ff188c62fa34663f29060da19e',\n",
       " '3701dc3f45e869916cdfca051defe3560f29147cdef2f2243d7dddec8ffe7ebc',\n",
       " '0dd71cbe3c97843e8d1c717161c99e335430ba221da620cb9cb5bfbe19ddabca',\n",
       " 'b3d3d879930a955bf17d21ba29fe607bf6eb219cda3af3ecbd8f394d01e5f91d',\n",
       " 'f1ab9b8317af31e86d087b52e3339d812b877474bba6f5347f8ca0a1c9ad2602',\n",
       " '5af650d1e47747c415666108840edea5d05ec65e8e995b85ccb88bb8d6496627',\n",
       " '1abd5ed6044ee1d7d1e70d2a820c997fcc22d61367cdc17b6913422634da629d',\n",
       " '87ab7f2b5c7d00ea1bc14921de85ab2b377f60bb1256f7ab92f2c24d3470a074',\n",
       " '55c1816f2ec552405ea644b192ead37b46735417cde99b165d75af1500602f67',\n",
       " '0d113487f8b35d4c951afeaf0878ba9118c91ab906c1dd733a98db42dacc9ca1',\n",
       " 'ca13ccd0b2f73599656d4ac5fb1711dc418e4b0da87a6dab5b4f7c551bec722f',\n",
       " '15654fd118787dd13c5e4554a677e1b669a20393febe54af8892fc0d216bc2ef',\n",
       " '8c06282591f2ffa1cbf8521907ccb0ac3d9f5a7ce8dfb5e1878843e6afcdcdba',\n",
       " '771e05bacb9335aec829d9ffe04a4e45c6df3ee93697087fe5f3e7c98d97bfa5',\n",
       " 'd80aafc5cfac2a8b85f117921edadd673b195e886e7dba05bc650c7363bfcb86',\n",
       " 'a5320e4d472282914bf9134a28a7b11aeedda5325188d18dbea1e0fd287021cb',\n",
       " '44768bab343678272ccb6ac1a4b301bfb169eb97fb1bfaa0e2515c5bcd895f96',\n",
       " 'f95cc1d84157157ca25a5ede6a260a864778582f9c7d83c3973d662efef0378b',\n",
       " '1dc47d14a5e9c57f3d93a271dbb992cfafb1ad57f532bd875a112089278ec626',\n",
       " '97251ccf5ff8dfd2b78ae8bb93089ef8847b599cea14a502b54d955287500113',\n",
       " '4c4d5f96e6308da14285a83180eb01b24bb337df2b843893f8059f198025d8bf',\n",
       " '2e8798177cdda9715025333bf2de046b77a2cc3b9965c3934d696d148aeeedd0',\n",
       " '780acaf8beeaa7caa0fb00c43d0a41d743a64627a02d1a0f8df55641611bacbf',\n",
       " 'e296c888e0f0a859053b602d0a2eb7a0c293bc7d21f23d6334112fb4efd21a89',\n",
       " '97f546606418920015bcc0493eef83adef7ff3a0a260339c39da4e47eba80f3c',\n",
       " '8ce3241e6d0371ca91bde0ee9fca84a5bc2263f260bf32e58d9e7459c4b6c1f6',\n",
       " '075b69b07ba9bc98443487ef26cb27267dfc24cd72819c0f4473bf65681b667a',\n",
       " '09d579fc5035998d50738fc4b7bc417da3297a636e6d97adcdf235c5ef144736',\n",
       " 'c11e298cad7eb2c1ca2070ee3d516c4b42c2aa58526837485c8b95f4729f7840',\n",
       " 'bde3d5c29c8eb4ff0dd0b62f96becb61926e5937a1df80bcdf6477727576e702',\n",
       " '1697e6bb72cc63c1da3fb63f5692fedade5ff0c2c8af0be17afc66c2a7eca4e6',\n",
       " 'aef92dd18caa859411504899994078ebbfd4fb3420155ca164348a38b0878b80',\n",
       " 'b4fc8abd0dbb45da962a192448474ceea3ec7584db19f21a26f5b7919d075752',\n",
       " 'b291a9a9062fab76587d35625456b292121499f0c2b4ffcf1b59b51aec7e5684',\n",
       " 'f831d4df83a06fff621f13a045950b65001552f7ebc755a8a5d94c2c593d00cd',\n",
       " 'eadad46639483fb86c3592d33db8f78a6602021a14e06e767c8fca3e4a6c68ec',\n",
       " 'bfb6e5f8a8a32fd62ffc2dbbc7266ebe4e56298abc573a72c7f0c0d93b9fe5ab',\n",
       " '1a4a1f047f06e36891924707d0131fdb60668f6c3957914954a6aea95af63e0f',\n",
       " '5964d8b6bc6325d48f36695ba53e87e7ecb32b72b9d508fe5f8b167d2f14234e',\n",
       " '31a245906d946f0dd02f5d4834bfd3e052e111588793fde95fcd242d5f36f10c',\n",
       " 'e1d98d1beeec1f1854efc1c8c40ed0bca3930698403a9295b12bf78a04de6ee4',\n",
       " '306b0dd4d9dc531df6075a9d38dd209d0e9118d2e153d516c13146c0fd5c6e80',\n",
       " '83a33a07b01d945c40848247fb09573abf6ff7c52f6240d65ac8ef748b463e5c',\n",
       " '5d3a95f71f0ac1a0b97d17944d22a3e94e0381b440290cbb6891c0fe9eea4413',\n",
       " 'dc7ca9ded14961c3d2a4d8bb73e360ea7043f5597c5093f71acefc1712382907',\n",
       " '9d8d523bc2e9826dc05dc03182dadb1fb87b102432029bd72dc58e018c2337cf',\n",
       " 'eaee7e43d21e98c6ae6dcde6eaa14191c284dd6c19910a374220400d2c8201ff',\n",
       " '57c0b7ecc1c18a15c098e60a8ef0fba3d273e727860919e095c5e65be363a09c',\n",
       " 'cf7b6c65efd42416338e3d903d8af3c04d35c7dac9d5323321ab34601382b0e6',\n",
       " '3a333694059850d57218198ec0a0e322d794bfffee6d152ee614732179374cc1',\n",
       " '73b83774632ba8c2f8fd32966abc5fb9dffaf96d1565d312ecb7cc6bb62fb08c',\n",
       " '1266aa555471a9efe50365eb68f1732db7481afddbdd4224e123eaf25ea11180',\n",
       " 'c0980a84e7ef77d62f7b7cc8c385b1999c473aec02ad9ae38626448686d404bf',\n",
       " 'ad855af41de6a8bb4191f894ce9ed0490235583c0b885718e3bffd37dc60767c',\n",
       " '04496b89f7493e6499a44468b6f1c8039025a6c2e913b047ec9ddb8ac357a64a',\n",
       " 'b839c7995931f711533e2c57feab438f229efa54a9f5522690e7a5dad621fb8c',\n",
       " '1f768277a7ced98319342a533176b8287d5f3fb8ce931ace744db4969c600d54',\n",
       " '60c5886236c975c333b2bd391897069a5f8c0748d14c87658c1b3f23e0104a28',\n",
       " '041c988cd87538979603975b7170b0c0013a0e8d566035480bacea73f05c8dd2',\n",
       " '0d0b926a73922a43d08abe8f73375f2e25b582bf9ba9c979bc95b0dba97ab20f',\n",
       " 'eff34ae1fc53d5771519c2416292f659f349073e213ad386370e5ff27b6d5967',\n",
       " 'f200fa665fae143a697a39fa22ac711a6882b46f368ed09acdfbe9c869d5714a',\n",
       " '9cb919ae61267bc95ff03c10e69dd221ecd5a7c7f30bcf7ec08820679154c014',\n",
       " '169c06b55a8734df152e468fa3d77fa48a4e0f7d68742db8a39db63e3e22d141',\n",
       " '275150db9aa4f271aa533219c52cb5e7e5100350070350fdd00c1a5f8b21f268',\n",
       " '56fece593f3ca90d528ff17876934964d581583bbebbb81816d2227e0887ce41',\n",
       " '33d6d26d8c3937329d9b4490d738ed3b61f81fb743ae77f0660dbdc3a6dc8fd9',\n",
       " 'eb0fad1cc809249596dd9123a7ac10a82f80693da6f6cf8cfd29fa7aeaf7083d',\n",
       " '39c109444b7102f05f5c392cbfb04e9cc539d8dfdc14ed596004b0220cb34b07',\n",
       " '0ad763e84a1c4c7c66d308e45dcf21b19f773655029641c94e0b80f159087c0d',\n",
       " 'c60a6b8e610c269aac8f3e4115dd6de92b94a010fee844544e4cac4c6b7066eb',\n",
       " '1c00e94c53d88bbf4220e244b0498136ec00c75a177072a671aea8cece713082',\n",
       " 'deea25049d793338bd871bae7ae50983e19a33cc8929fb7baac6ef567448cc79',\n",
       " '24e4138c7d546de4c63b167179a68367953191fb877774b73027afd7ae006c27',\n",
       " '769adcc0423cc5d23f31a2b74056d710c5d5fe4ae171ef39027819b00278dd03',\n",
       " '28fe3b3e114f3788569e7a3390c6752ace9f97ee4ed387e4b20a010486380f64',\n",
       " 'aa32b1bfb5388d73dd34c400891109c0f1191e0dae54946ad92a79ea6c85a124',\n",
       " '0c7cd2411f7238a934aa027ad221c0d88d785224e79f1b3de4c856f64618199e',\n",
       " 'ecedfdcaeb5c96a88c3da9911a3377902f4e1bbe18f32c83d94211f0fad0a554',\n",
       " 'a2da486169c283927734f60a82b7052413c410b533ac0d8ac1610f4bacd599a2',\n",
       " 'f18e04d35fe34ebcefc8644035c04392531bdce64897cb0cefdccfc13c43fdd2',\n",
       " '95681207ee4b9a9d0083e904d51112ff1f41ccb554f7dbfc7415bfba6f93d7ae',\n",
       " 'ee15f165e4b8480d300eed8ad2c5715ebdf3c305790a69b97b00aea5385049ba',\n",
       " 'a2da626b9f9b520b0a0c72afe924c57d63fd58fd386cfccc7310b494e81891c5',\n",
       " 'add47292fadc4df947b250cf23d89be942cb8e53aaa6d72f02252e22a7363246',\n",
       " 'd33409249f81dd13f81e0f0ac170ef61c22bb2e6e393b9fe2b78c8cc70ddf180',\n",
       " '7e73bbe6210dd7706dbbabddd6fe74c076115a8d32fc2c4e96e3ede0e0a90f1d',\n",
       " '1148c0b5b6b7cd73f5d48fe256826bb53b8ef0fea532593e30486a9db66746cf',\n",
       " 'cec5d855b5d09e4dd4989b64a0230a8c4e73b4b066b6d499d20832926d46ef1d',\n",
       " '24fe0e9c7c8cc0aee5a97d834b628b5e927602341ac74b4de2aeba77a7d33229',\n",
       " 'e7832100b62a8321299ffb90b6d7eabcb0f5b4df8d1a3f4c76a6925503008f74',\n",
       " '671a242964f653ad273856fa28e21de9cf5cf42a5b3b48427e8ee95a52809b6d',\n",
       " 'c9beb417738255792daa05957fead0e26a94b9f64c44557951b9b0ce291c5351',\n",
       " '8c9e2f73ed3b3cbb2f7a9df7c459d58ff7bb452982c1975edfb1d7591e7104fa',\n",
       " 'e8255e284c6ce91914ec232ae788b0a0b3b197ca8193157fcbc5ca3685f4bf08',\n",
       " '4c4c18e54388a6cd7bc26fcd4530636dcb34603ed043cb222bd2f145dfb233f1',\n",
       " '8c56c71350441b79ad6ff65dee21cfaa0d31575f12e40effb4da000d1a99a306',\n",
       " 'cb9f801d0a6cb5f2d5470aa1058ddf2a2c0ea1c8476ee1edd8e69df6a7935ad5',\n",
       " '7bbbe07f5de9142de2666c2b2cdf2ed12da10c0bb23cc9171f37819decb87b46',\n",
       " 'c6d88ae765bd3e2799895e4de3683343ccf5f35d852217e529f9198faa7fc2d0',\n",
       " '1c8615247bf59c679a2e05861b9b3bd7aedc4061cea3eb809400a77daf22275b',\n",
       " '1a41eb7484c5cebc1abbbb7cf6a21ff05e83ff159dac813d1651b98fa265c0c8',\n",
       " 'a745fceb94b1c8e56e492988c09304578779a7ac763513c409780f88b4085e27',\n",
       " 'd6f71a772ee7cda4680981a95439b71711f15b8ff234cdbb0a42b35e1079ecae',\n",
       " 'e0f582d65dfc1efd2908bfce464ab2fa255cbea511df3c90c91c1202a9adc557',\n",
       " '7705bfd14636588ddb5b5843d6feaa58e5deab4a570a1542e1147601fae5a4a0',\n",
       " '76dbbd1ab9b2b6ef17705f00e98c90f69681599240fc11910c54c57ec546b359',\n",
       " '6d08f2a19242f533bccc6fd18c7739dd7de6b543e72854fb03b4a48ea0e38a94',\n",
       " '3079d32e1e6c3a8ba18cfd2674f25166da43c0f9a17f4ec33d01c09dd4d4c280',\n",
       " 'ff340c6cb662d97c8b3dc40c8f21114e2b33c044419c2755b0551c747dd9a1bf',\n",
       " '50beccca60efd83f42af909cb8af49d2cd7bfa4c82f97313c5d8c323b01f56a2',\n",
       " '9a9969b2d901cc25fc6958e2c5ddbaf8320a275273429df7fb5032ed134dd50e',\n",
       " 'abe99bf5c0864fbf75964f34b5bc65cff9388445c8ef58ac221852c6b56401fb',\n",
       " '4dcf8f3c6ced64dec7056370024ca551c010203a304cb3fa2084b8e7aac9db31',\n",
       " 'a0f1f1638313f5bf73a2170b828e8ef6721e740ce206a9a00cc9b1f17c081613',\n",
       " '657bb7a4717c6c9f7320c97bc6d6b22ed2f5c49d306913cbeb54113e67c4d984',\n",
       " '4ccaf89bd5c5f05bea616ab1c922e37c1005572acc9b960cc60ffee05e7c8568',\n",
       " '4b3e6e9f3991405f53e8f688dffa3a4d4c72b57180ac9b9fdc458f7e0fec36e1',\n",
       " 'f944f58682f91f5eae7e38ad515dd8bc7df4583bdcb8fdbdc889adbc3570870a',\n",
       " 'd23a809017a1f07bc04c4d5532df66e5278403484d1d14a4fd19fe8cfab42439',\n",
       " 'c165bab40c450f1503562c44b180848d51e0188aa481447b4537a460164d9571',\n",
       " 'f4930f60bac1a6c33d477da2f1eda1c85f79921a43a869ec4ec2a06634d96638',\n",
       " '19b482b95c9ae5fe22544c092f2d5c10c3ec5f54c04d596d585c7e1d7227df5b',\n",
       " 'fa3b73d1706167cf253079a49449f3a30853043b1ab1d49984283c74e6239e14',\n",
       " 'b06ad315741035781687bd217d219bf44d4583d92694c53945cc75ac2fbfb133',\n",
       " '6a66868eebf55a1f20342a92ada1f9c21a5039747f49225665947747a79df149',\n",
       " '797b96eaa1a546ec2581516a7b364f41dc4cb61f76a42d47995a35be4a1d7083',\n",
       " 'f53332b9d0ff305046284302d2c63c74907b7f39210df39e58f563a56559f66a',\n",
       " '4fcb89e099f12cce4bfda51e94790f3769936429bd222a2fd35675769cb21bf8',\n",
       " 'b0c130b59ad11661367148e2ea305d4ce68dce429b6412871d094b41fc11e544',\n",
       " 'eaff59fd33c4872d85db58a3f28bb996fb0a141c6240462efca64363b119c8f2',\n",
       " 'bf5f547b40bbdf3d6498735802baf3d0fa8da8d0c855f596b310babd7112c449',\n",
       " '07e5614f2ebe33a988e494f7df389d23fbceaa7361dd2c6b420294fc9fdd2649',\n",
       " '7b27a4679670aa28de7b4ee271a831aa10ed39f2115c752ea43fc48e4d4c5f73',\n",
       " '565d4087c384706469407d1958f6b859c3661413b37ada1ecd56e66808e527ac',\n",
       " '61ef0b2cf9a3c777c8243c07425313ecb8e08d5e440a632478058b5ec742b4c2',\n",
       " '302d0ba1f88e07953caf16a88fdeeed2557d995265f804293382800760e0c3f9',\n",
       " 'cdd3a4d0b880328c7ccba2af169a0bbd07e152b98b01d46bf5330638eda78e70',\n",
       " '22a4c86170c4957f8d580dc7d40cd2087c4294da8ccac7a7905cefd3cad07bba',\n",
       " '1cd1d65ad260c3b49648976a92d45e928a78d6e4ec57911905bdd081882d1c0b',\n",
       " '07d52169a9c5ff06eb8a6b4c3c4c61eb5590e7f04c4517ffa51ac9f7cf80e970',\n",
       " 'adeb75d4e90fc61e8e41c45ccafa56a87074687edb76cfc6776dd96a707f4c2a',\n",
       " '67e20cd6734cee41f96d3fb2fc716c5e1a1e76036c4e6192fbf6f21858da71e7',\n",
       " '17b7b44be5203a77e40539b03c0c5fe3e7cb4f881811fb788b8848a8457d5143',\n",
       " 'a7552e0972e7d9df07a5b98366f51eace8ebfc7a44d62316077ec92fa718049f',\n",
       " '96d82594b06941b557634779ad8c911de703a35a146ceca1edc13947aea62dff',\n",
       " 'c6a6d8a98b22eeea5c20a6b814a01431131635d83cd8d397078972e11b8ba10d',\n",
       " '2d2dd70201d18faec27ead1788f4038b1fb53ef27d0ebec2094300ac0f096497',\n",
       " 'd281d6c4707d78c90a3e9d0b5813c67eba27160e6c867314e16e8cda30cc33f3',\n",
       " '2fe0c54124fcadb303bd91884f0bf82a882fac48ff4300a7dc2fe2dbd9c2db3c',\n",
       " '12bc8f86b6ed908bab085e6a9b9df5ed063b10351c96cea354ab61b2d484e4ef',\n",
       " '8eac2b6c2d1566c5ecead2057c15b8a16aaa3e5d300cb3695db64f3bdf058d8f',\n",
       " '4de92d3138dbe1b5a8947daeb55886c428db15c16ee6d3bc0dc321e405221f2c',\n",
       " 'dad639602d3f11d930af800b4aa20bb645efab54f4b13b88c6550f1424c9bf69',\n",
       " '076c768f4d7b46d6163ccf2b9e473702286d665350c958eb7c9d8e724ccce570',\n",
       " 'cff5f2ef5b66364bb263672a06fad92e90de55b1304178d155e6217e7390b909',\n",
       " '62a304d7b76cdc72ebb4ef69ebcc8db6dcf939498b1563735887e552a28237e9',\n",
       " '01c907acd55686118b5360014690e8adca7be630a8065d0cc36b28e99f777add',\n",
       " '0efd60463b71c3942cca293080539d9dba315f26576bf6742ee0f76e24c93d72',\n",
       " '9c71fdf06bd9697f5fe1ecc740a710bcf923e39e1ae874d236f3b3e0b2cd77d9',\n",
       " '3a7f4c9b0e8690ddb1b3cc82136072dffbc641e5255c2c39f8f2894480dc14a9',\n",
       " '778b209dd5995bf6c06173fd5cec904d1c1e6625985339cb576a62e089019233',\n",
       " '5e85060023e9598a5da3d78d264254908be30660d0058b64d137df5592a956d4',\n",
       " '400af42bb22c2a890dbec61927509c0ea7203c9ebd3aceb1cfbe66b83e3401d5',\n",
       " '99dd0d01f1dadddf68d97434d4eec0ee5c9677be28c96df7f4ac1ad8514d3907',\n",
       " '466ae47d4bbe1fa48b5bdcbbc35c2a3e96fe014d8ba9cade7e49b06cf1de8d16',\n",
       " 'dc88fba737741e68043df0400046845c61022b418b261c550824d90006c1510e',\n",
       " '539215e134fd56db69aa6abcfc2be145f4ad6202c697c690de1c2e93aa8f6675',\n",
       " '37c5cb35a62f89bab0fb1cabee68897164288cfa8a6f151b0a7b0785741a15dc',\n",
       " '0576770067f2c8f93088c72c838f495dd5f63e169dcd5854741f08f26db65e4e',\n",
       " '148a0b62ef53622456f91cb961c64671c6275ac20ff53744a8ec6701880d9626',\n",
       " 'cd8494901ed53702b27fb3cc0bbeaefc8ea0d9d3ca6c6b4e3e9d2d001d3fafd1',\n",
       " 'b0675eafe62a2c5d2fa57d0e545aa35a4b72d1c7861ecf4027c1bdc941f5282f',\n",
       " '848f9093568866f3a19bde534df865e3d31bd642cf6b9bdd96c217c6d01e443a',\n",
       " '00fba26b3ff31bb48898d5dfc1b2df22a96eac5a6ec58fea6d3b6ee64f6f22a8',\n",
       " 'b4cb2c7bb50817905adfd549f1298eb1f467a0b6600f48bd7dd26b234dd65986',\n",
       " 'c8d0c70c2801d67ae28c03789cd91f437d9b08ba5f162cdc63a02ca6f8aeaef9',\n",
       " '6e107961393e9522fc653a285c925225fbb0751da3660146ab81aed70c5f041b',\n",
       " '6961cc918ec434048eac66579d8fdf1042542bebb750cfdb0e31c59c5ae558fb',\n",
       " '9473df5d4f56bab8bf632000aa3d4bff188817b503e2b81fb325e4b94cf04f75',\n",
       " '71b28c12b466101f4e6d70d3b84c0eae55c7e0834d6a3f77d21cb10325030bbd',\n",
       " '19b014f3527bf720c35c4fbc245a856e790abb1fd926bdef9151bca90bf1ee14',\n",
       " '248a57f6c44a9d7353f4e9dd2b907063ed4b9192414f75ec0b26751fa7c72a9c',\n",
       " '1f6b6b4635b30f220a3c9c451e8c53c93de2ebc8a62b7cc0c56249f6b7c65551',\n",
       " '32fa3d8602796ae97e4462ffacf29f3e75098ae9aa31727f1713f27c89d197b7',\n",
       " '9217753032399b64f53ed9f07c2e84e3592123404d8bb636054849eacdfcd580',\n",
       " '06e8baf3c57f73d198aa175f337a6bcdfccc855220f265726ea9921779c9e3e5',\n",
       " '5d5176b82ba3a67888ca068f520c9887cdf68535ad327992651e490856c36dca',\n",
       " '1157071497225d19bb453f96ab025a19c84b10e0638734c88a4bbc739269fa32',\n",
       " 'f642e8e44c57cdb15f5adc9dbb9f8c0cb0d3fc2203e89b20fd6b550e79a2f027',\n",
       " '52b82fc083aca479ea42aa29f73d9039bf03acd5ef3fc277e840e94fdb0070bf',\n",
       " 'c0febf8dd5ae20614092b7dab6f4a1840e156cfe5e04c2e7c551b2ae12bb6bd5',\n",
       " 'eb321d9955e589c5ad97a838f096a547e03002cf8c37a7d32211d89a9157eeb9',\n",
       " '179fcc004a24fb70f0995737ff0453854a800057c30b40076fdcff9b03c731b4',\n",
       " 'e292d854c3537dd2220a6192e8b1a0ea7a7ecd284445cca1d3cfc3982300277b',\n",
       " '22e6fb4ed6896951ccc82625904d03b7a8de1f721aff55ae1bb3f4321cdf0a1b',\n",
       " '961be8db7117a25a7253ce42a86845d2ac5b159454a199cda955b993f7445e2f',\n",
       " 'a003f5e87abf1bbc9c781be1a51feb0ab0c1c54faa41a842e5ca159249ac5e01',\n",
       " '54e03c2ed69ea5da024580396237cdc2af1fa20abe614307247ac2650ccb4ea7',\n",
       " '6ada31cb51d193d53013af0103e0994540c07a9dc08e106689108e60304fc698',\n",
       " '74be7a1226cd35bd1a6da0936688b843a644822383f0df22300d7a452f59cc4b',\n",
       " 'ae3d151fa3b923352603f9dfb41c6e50889ca5d4bbd29784980258b79aa9efa3',\n",
       " 'b7f85622284cabcd2596ae4e673bbbfb6a6440cdabb2beefe2825e200e372f7f',\n",
       " 'a8b1491229e435a58fee4d7dcbc9e210ef24b4a8742599a214588cd24d13c51f',\n",
       " '41eeb9ae25faba2b18bdf1b3b227433383ca710e78901668b0d0bdd00f60d65a',\n",
       " '77493b6bd1aee2c0c0ccb021e3c08cfa54d109941786bca7454010f78046a1fc',\n",
       " '059075aff2ca9d02ae2c4a9d90ff0f69ee8fd04acf0ee793f03922780b2ca71a',\n",
       " '3d3cf58fbea7cc2e79f90919e2df1e4512df98f9d78c1212255026bb9afa5fd2',\n",
       " '8246d9d60ffa0dce7b65027dbce316715a3c077b8785735d7ea467f4ee6d13c5',\n",
       " '7e6350f9626f362582c55f903fcad0150c8ede2e943ca43e16674c845f749494',\n",
       " '44e85d067fbe004f5d376819f46e3156a8cdfa68e23acac10b062ccee29c81d2',\n",
       " 'ccf50bf75e2cc614fd6f23fab117e558d50de6f5b0ed7a9ef3430574d64bee47',\n",
       " 'd12736e733144e43c1fb5dcb52a1c8d0c005cbed4552967abbdf6b5d1e739cb0',\n",
       " '64263320ef0588b52a257074d87d2006163cab817a7fe53cc7495729bb974852',\n",
       " 'e1cff9cf387bee09a752c064b0c22450be45697a67566ae8aa999b77d961390d',\n",
       " '8dfabe581ace6bae22048104d91a0ed8c8a8506708c4d3d723e540e1c0f4f9c1',\n",
       " 'dd839c8b4d45b54670a654e0184f791855be327a0cc220f9cad2e7ee0f523700',\n",
       " '50206ab1f5ddbd8ef16e85de9a356a77e3c5462f00f8c0aa11409eb1b370f538',\n",
       " 'cdb1e2b8a3538fbdb04c0d3bebce8a7168478edb47339d1b949a7eff4b017d47',\n",
       " '6cb25d9315e58d580488ef7c13987a351c4c33abf9f78488bfd2f613f1f5d679',\n",
       " 'e994731eea0b37fc327e970c880150daee86f158b00f3d7b2ac73db425724ab6',\n",
       " '118921265d2ca3b624dbbfe50d14396bd746cd6f3ad168b35c0389aaead3f175',\n",
       " '32b47e0f125c350ad7427b58573046080db3649d7f53bca1a8ee5cdb4a3cb814',\n",
       " 'e0d8e152e7fa736bd593dba459fe0ee14cabcc7a7565c8a2a2ea3d6edce5cb8e',\n",
       " '814b48c366ccf7ab7dc53e81c06d4e7527a0c5a09c11aa838e66cdecc4b96152',\n",
       " '4904566300f6f9ac79ca7353938cd7f3b30a5f623b3a13ecb5d467b323c46f41',\n",
       " '22f812a0c1fb70afc24cac2961adf5c5ae48f11c16d59bc4185edb734dfe1359',\n",
       " 'df99c16330e46b1c9d3118f6210b72a8bc340f674a7bac7a3ed566af9567f07d',\n",
       " 'd62491e728f4c8b39cb2e59413624caf444207836cfdb6265c953d5dcc138e33',\n",
       " '12eadfdced49dd0f06d74a8a3e1729e20b51f69425fdef5f78955e9fdfc91165',\n",
       " '68a42f649a0222556b0e3893665f75917b7a36ca9c02cac8ea3f924c7c7bdbb8',\n",
       " 'f2f4c6c947edea4210a768d3742da303de8c8e89f69677a101ac2aeb7ba23d5a',\n",
       " '243e4f847a00734a4d46b06ca72adac31966ac591edfa822fce1a7ce405873b7',\n",
       " '86f0f969ace2d34acb3c4fadb298a8841dbf5401b924e43d622b122a371b6b22',\n",
       " 'be93d5c73d12d8379ad44d3b92d4e73a9243470e8c6644e85aa62f90330defe7',\n",
       " 'd4c3fc04bb6b5b97cf3ce0cbd348cb36f0a6fbe685da8348a48467b258829ed4',\n",
       " '2f901700675308f62d45dbfa4e0121d6e97ed5de41fbd56ce0b45c4eede8f4e8',\n",
       " '459e50c59d42fa234c041ea94ba3fd68ee3e26ac6d6e4225842ea8a03d7d7d89',\n",
       " '8d8f2ccd2658e1119b9908e6166fa67115b9859c034b87f5c56aab7249d97b32',\n",
       " 'd08758d190affd89746c09025a59734e151e9e676fba953d1a1b0e2a2b7b6125',\n",
       " 'ac3c999a29f59dd57e6627ec08c35dc4d0bab21b0fbd29db6211e4dfa24a2fb5',\n",
       " 'a277aba8e66abfea6bd18f0ee6bfe63e9adabe4a419a6fcb232668f6a4c897cc',\n",
       " 'b6cb7763c50c6c9eee78933ce77be12b1e90a29d8bb1e759c43460b02e72ac45',\n",
       " '1748e494132d980237fafb3fa23382089ad6256525fe2c06d820098042121cca',\n",
       " 'f3b035b303875df6afc7a65ae7123897e855fc5d9d0b89cf2ded2c9c809f8813',\n",
       " '70801fd5db0c741315cef0b1068b5a712bbed5f4b9b238095ceb7ebd8e8d1ca0',\n",
       " '53a668f37cf4b1607ead1cc6345afc3f36ae69b14dd504446fb433397d497136',\n",
       " '0dd38475f8571ff885c0c0bf53eace72816babd3488a87932f75a28979c44566',\n",
       " '580fa1c7056ad7462ad31d4ecc5455fd7307c49113929dffa51c07b9a4513918',\n",
       " '823a0858f82e15e5b626f31ab7e4e65e947fd650415c5f8fe72afa761fb23031',\n",
       " 'd0487d3bac461323a70689da9d13d177aad2a0a8686e9f4e66a3400122902239',\n",
       " '4d7f7258b1cc664c959c5dfd9b98c28f9cf72a922e578e916ceb3784a8c5d1b6',\n",
       " 'ce924ca876386aa6ead8e6a2f9b0fd1080653db7621495cf984a6d23ca79ca99',\n",
       " 'ae1868bdccb2a9ef7daa3df6514af22328554dca123fae41a9cad90c1183d434',\n",
       " '31d35c72331fa42c5a55d7131e8c939ab7c53a9c771a83c511c6f806bf3fa44a',\n",
       " '7cf60a90fa6fb567e08f27d2a0de2ea852d66f367f759bd1c396857120a3d0af',\n",
       " 'f4b13578fd8183bea857f555e7212b1a907173fb2fefa12ac4122b473903e435',\n",
       " '712e1281a1f0b6782b3898681876f4749124967dafd59a05ef6362715d573ac0',\n",
       " '9c513fa4a6c387140770abd3a0d858e66a33e6fc8bcdf3dc5ee1c7946cd27322',\n",
       " '3dcf3689392b6c432b3f59a99c3d1e1e1493a4ec88f4abf8fad49c21244be7e0',\n",
       " '45c59c5654db1958b83bfe7208dfccc24363ca6fcf7110f8e8e96b4c92016a7a',\n",
       " '17461fd7e27abff3041ef4067e46534fb6622e8915df043a8ef8823d2b0106e6',\n",
       " '79b6ed8216688e6d1769770d339cad22499700e1e033d6fcc236ff3b1bc1b450',\n",
       " '5714ca38642f45dd79d8389b5ade149c635617c3df9e58dc46fbd15438c93edd',\n",
       " 'b2524131e311d864732dd48f39792a7b451368466b30b55c70462bd19e288bca',\n",
       " 'f9ce1fecdf6c1fc531bdb3712b31c0abc13834959ca118c8caaab57532820b0a',\n",
       " 'cc6da2d536c483c2a59632efedfb0db447371561e75065316e1efca38779fe6c',\n",
       " '487481614dc2af71c5eac1c895dbdbcd51e475c156be23dfcbb017ee9285ae2c',\n",
       " '3aca8432ab82b4f0511c945d9c483224133358c16625e5957836eee7c79a23bd',\n",
       " 'e6dc1b933e49fe811b932a2024babf7e6f1edf04ad37a6f7734ec048639f9390',\n",
       " 'de829386099328ca675feb9d0875b36f1512daf9f053ad9863dccc11d0590b58',\n",
       " 'e8d36876836075babd2c8fe088ee60fa1e1856220463de20b24c1f01b2ff4ada',\n",
       " '786be18036d09da4b0e5d56790b6dce1f5a1070b3b54ee871e12c5bb66443619',\n",
       " '2e0dc4dc43da5ee2e057e426758dc6fbf3e7a2aa12ab573d392480cf97b41183',\n",
       " '0a7edcfda9940b238038612e6ae70f39687dddbd119ea4378f49f1aae9fb2db9',\n",
       " '44b410cbb1208c9968ef81c783f4ea9478d293355bb002551c2d175b0d4789d6',\n",
       " '570978c3d5c84c0c787eedbbacffa991cb54bac1b5620fe6a560d069b91a5e70',\n",
       " '0fd0025f639f831a3df5b79a0792954b0b65e22af53ab0d275b906127b1a36f2',\n",
       " 'cbfa5f707cb864414ce22b258d839de34bc67e7beda2f0e30566ca2d4cdf12f0',\n",
       " '9207ab2aa80bea523c3f0a81a1b75e6bbfc6fa06c322366e3d001fab72901ad4',\n",
       " 'a96309a3cb9fda5602528827d9c233c239b5c37214a48fa2f0139f574cfcd611',\n",
       " '6295c6ef1dfc1d5e4682f384fb0a854478ffa607be0e11428b0499081f8d3223',\n",
       " '447786bab63313e320a64f88b3d0e65b2b65c55f822e974d573ee3803754dcb0',\n",
       " '8adbf33705cb3d8ed2a8d5afef754f773816a3cb87b4c40fd682e5f8d22535ac',\n",
       " 'd42a9aca02c11a07956ef14adc2ccc104014b0ddbd5b8845de98055ddbd04824',\n",
       " 'ce2c43139d4a1ea62c2255b934a06ed612286791a4d27d63734cca4c6c5a1365',\n",
       " '6f0e55a8e34fcb2df0cfebdbefdb2d7e59ff4176f39d28e8d57646d7ea672dfc',\n",
       " 'eb42b96837fa7e549a6e7264f913a62d26f782ff07e269b2bb51c7af0604cd4d',\n",
       " 'c93b27922d7b88204528eb39c185416a8fb37b560110ea67ba62a6041f0b730a',\n",
       " '3b77b11dc83e7e7d9647237537f5bffe06bb273d8601579a8faa1ec2a13bc70e',\n",
       " 'c35edf1389cab9e252e708f597156721bee21c70ebf8e722d0252675fd0c2fb8',\n",
       " '752b65a2602c44f80ba74c45b3d63c359fc9a0b652877fa86e517080e8e8bb55',\n",
       " '61f257f68efec595f34cec11a3d94b84e04fae67865f296f1658dcaee7186545',\n",
       " 'f804dc4e75b13297c08928cf759b1422a6ce597ec1b54b5d219011502e120028',\n",
       " '14b713c3da7b7f07a0ab129a73ce960cfda139786ee276f2dd084727d2012e89',\n",
       " 'c399f60decef525a1f14450d4083a9161e31a2bba6c48e0290845861cbcb611b',\n",
       " 'ce8c6aba76fb93c8f904767984b8d96ba74e61e1251a3430f8d1145bd0b3d783',\n",
       " 'fe0df246bcb984d89385b3e0341659f91b8c3dc3bc679f460c644c0d9a594b5e',\n",
       " '3a692cf39035be15639abc6164c8c2d492a9d4fbd70cc7b7d06f7158f8179d9a',\n",
       " '09bab156e65531eaa4cf9824fa4c6b565ad3b90e28d5b18819b910c17e8bfeee',\n",
       " '874e0bc4f6b82d30a5c69e7b6c77fbec935d8ed07ba20b5c1396de7870a31a73',\n",
       " '42107e0404d96208afd6142acec45ba308644df787dab0c9f6885ed31cbd2f82',\n",
       " '23232e9a5763c66bc242b4fd5ae77d91011cfeccd106d23a841d8c0e8b5a4bd6',\n",
       " 'e9394891b1d0fe576c86a02adb33476b78c5cbeac04a5374979d7a44c569b0d6',\n",
       " '8684c04116e18a25befdf25ff8688c8a2dbcd1d34e4b7489d7e0ebb88621f48a',\n",
       " 'd53d6e62641d500decdeec6998eed643bf159b762e6395b82ed05753a551879e',\n",
       " '1af567a948d6cddfa2c2941f0b795938033e08d31b7400de2243e5e854ba7eb0',\n",
       " 'ff23be98089ab0d26fdf6f81f7be2cccff05e1a987fdb531e24dca7e10e8845f',\n",
       " 'e8f9a5002934b091d7d29076c2d3b4188ef70e5d27c302795ca72a13406d5c0b',\n",
       " '4d972a172b8d91c0f7e6fd6c49887ce8bab27fdf2531f40c3f2e9c3f9bb6b3d1',\n",
       " '667736abf78e8cab9b4b2e8fa76703538b1b8ba12312eea78458d8f54ef96fe8',\n",
       " '7373ff96dac01af491759247f0cd8c25578ca8d4b324d527ec6c183150d304ac',\n",
       " 'b3a68b172f1666f706fc159dfd16ff2b7e3dbe57e86cae9e973d54dc80484aa4',\n",
       " 'd521708bc555bcf8cf516f1f308e4485dad875492af5f4b682d43336b5c7e10a',\n",
       " '2f8e5442ac642341db804c00ed957ec9eab454873c4a454ea7a33ce25d474030',\n",
       " 'd5c9016f2bcec1c7698a8351081f76b491dd5b6dc6129f17a6eb57ab7041c18a',\n",
       " '52fe65b1c2e144ea72f357b91d72bd6ede233802c0fdf65e7e5ac309777ce470',\n",
       " '4c40a1ab4b043f2170d578695b043928dd308f931c47b72f65c0f6686a864f0c',\n",
       " 'f92f216e6b0067a2a2849b8a4ab3b1278c0e5c4a4c9fa9b1a8fb771e899d2566',\n",
       " '7527ca822cc21c0b1097dcc71a6011ea36906f462e516731400a5fa2fa92fec1',\n",
       " '88ac48580c214d9d6b8ac6839cf829b2ef67077103c5a0a1bd0b4fa7692748f3',\n",
       " 'b0fa7263351b138ce0224e645c000db74889b9211a42e64ca6182db6d257a703',\n",
       " 'adeeb2509f61cd49e49d5d00cf56c8a31749c12a058574774393982accc5db06',\n",
       " '53cc167573373065c21deeb1ae0c8063b91a318261b7d43309c34841b9c23e4c',\n",
       " '771ada005eb08aac029fcdd52d8057c2ebe7c8387dc3cf0934ad424a8870bb22',\n",
       " '03d72fe6c3accc6965565a899dc41946915ddcd471e5d2f240a9ea720d943767',\n",
       " 'e9adae0612520e12a9abb48ea9a01a2173a60b6459b0167561abf3aac380a9bb',\n",
       " '38cca1bf7af49735ed24795f209b937cea59fdb2a08c1d9d78a2a5a75bc65379',\n",
       " 'd9ead61b8f1c3cdaa905770465c21f7cf957d6f9d7eef0013f49e775a8a46371',\n",
       " '2763be77bb33107c785682c2dbd06eabbddc5bef98e4623138db7387b59ebf15',\n",
       " '9169deddb3d7ad8f56e31522477c449bee9542d8af744931612e26069e036599',\n",
       " '93a2ccad94b2e38def906f173c0b056c94ac64d9f8f018772fc7c5660738c3f4',\n",
       " '22428e132752464ee8cf7b8c102eb982063bc5465ab3f08375e61b682f4b3546',\n",
       " 'b6be8c0b8a54488a6ca55a0ff2c8490c34443f1762320ed137d3a2e430ef61d4',\n",
       " 'cfacbdca2b9b5897c59909530f1123f1a3b63a3ae72ff06f3c6fb4568d360a6e',\n",
       " 'b6c90ee0aa2136f2bb2a1a23eb074235a0d918e50c98ef7006f688275c6c79b4',\n",
       " '2ef0f7d30473d7bebd1464ec36530af9347bdf347849426c8084735b51bb38f2',\n",
       " 'e9bb1c75cd2db80c93606acc6456baa46a29472e82dde55d8159fde6e8b3d83b',\n",
       " 'e5b478208440da235ce652c91a8c06f879eac266cabd10b6531aa2d73ac85d80',\n",
       " 'a13cb60fc137fc4e83a3305edcb101aa4cab7eefcacbbe47c52d21cc726a14bb',\n",
       " '8040a086ccadcc35cee8281c9716eecc606bdcf63692a21da141c2819110454e',\n",
       " 'b1ecef167aa89745c536d0716bdd0aad73b6e69973b006fef96016f44d298b25',\n",
       " 'a6b303ddbeab366d1149ceea3d4786469e692d560553708e0e86ee43d0728ce9',\n",
       " 'f5a0c775cccb28c440ed6dc40dde725a72db28f58246314810d738aed05ba3bb',\n",
       " '3abae7e84fbb74121f6c95aabd1a2603453c41337e97a871037c05f5d9b99a54',\n",
       " '8c55adb3117c7d16666ac94379a123af59dcaf78fd8fe18c4defe618c92d40bf',\n",
       " '6066da43c099b4b22fc1c7fce3081dc8b426d89091cd80bc029c72cb718bc28c',\n",
       " 'f66f3abdb6b724937ccde5c9fcb56932535a4b2b04d8a5a9cf2aedfbf9e818a0',\n",
       " '1e77e4c31f4b8dde4eda2b9bb3c4647b94493dcbd45930683cfa35723627d87b',\n",
       " '6489bb972b8944fb081764730d6b6224774e03a93b470bdc84a77b1c4a56223c',\n",
       " 'eda7148f587160d36c0ff982c4a8f3ba2684f04b221f7e47ecf2620befd2c2ce',\n",
       " '1d01995ccabe9270b63bcab3f3e6d184aa11f0e9516450a1e159ea46b04bc09f',\n",
       " '7aec4ed3bb6528b97683703cd6bfc4c9bcf107c342e9cfccc2a80e6bbf068209',\n",
       " '93efcfa62f21e1cf857f02491824343b9fc352b4ec5c50cc3e766caf5b909ee3',\n",
       " 'bec396ceef7b7b55a1a57c72f2b5731d95fb5f6d39d1fb3a2fbb41b6f5c6bb79',\n",
       " '63c1049756bebe6977b95ea1009e27a3a62464eeb63cb409ead7c0750d383112',\n",
       " 'd18938c92d578c4d49afbceb5856dcd31469d8ffb8f4dba8d61720dd77810bc6',\n",
       " '7c77943a08cca322ca912902db002006a3189052e81e150ccd4d0c6f71e2ffea',\n",
       " '1153deb1274ca47aa260c607517f7bfd6657bae2b118af559cbaa57816e8b880',\n",
       " 'c85e5ea40530f8f88f352b7c917f0adb2e9de6f6d357ac3e761b364eb3f09ed0',\n",
       " '576151694aa46ce722dcdc75ffde954647a22a0ef49c6c8518daed7a6aecfea5',\n",
       " '383e406e25a17a68d09b2a9eeb2802664da667d2524cce07f2fdd5b6513eec71',\n",
       " 'b2d544e4c70036ce93f37b5397f369efee43a235b8a606356304261fae15f2a5',\n",
       " 'f338cc8a4fc25ae10e594c86e903f10329e633d1a3619293b1307d97ab7b4684',\n",
       " 'a7df1acc91748cb3d11c93506c6591b58a69541c2db2202b45c178613c2bd5bb',\n",
       " '7754820a066593058aec12df90a1c94bdfa767482f89a5e50d909799891bc6c0',\n",
       " 'f650d56ad2656212330cf99f6192020fc8c3e4bfe7d39bf264ffba8f483e406e',\n",
       " '9f84f0ab7ca57217b1eab7b1e43432fbb29eea6b50a1a2e76ee66f9ddc88b806',\n",
       " 'a40b3610760acb4c7dbbcee5f05ce9c2d054737e5f887f3889aa6b4ef22b36ea',\n",
       " '8b3372b36f53204a5e9b3c8e3762a13346d32763450f9c3a992b17bd23006f5a',\n",
       " 'f45f30a52dc513355de001c051c6fdf0f2e8dae158653d9f4e21ff9f2ee4690f',\n",
       " '8cf4606514d6acb33cfac8c42a05828a7a430d91e7d56bc7c35c030f86e74c10',\n",
       " 'b7c4b4562742808f4f71293499cca773e4e1b9ae5a0a4c171cba486b7fba0425',\n",
       " 'a4b0a293f19b69746093a690954397a6d0fba736229bf7bc58f0572d3a94c7b2',\n",
       " 'fb46b18653569278df16b6b046009647529fcfc57813ba7fdd3329a4282753f1',\n",
       " 'e7bbc93667945414af7ac92ed8e6f5eb109dcc5a1e76d92c74bf4c0419de1579',\n",
       " '757f75dfc2e0c1c139860fd67d352e7c8c80cfc654ddcabcdd1b2a211e1d1629',\n",
       " '5af36f021339259b70b8455cf5dcff3bbd2c6d18b484d229ea611fa62789ec0a',\n",
       " 'f4127236a5a2fd5b3a8e336c6acd5adaed3d47b99c85a3b06a73da0075134586',\n",
       " 'a14487908753283641f088ec3831063f0655ad4822da5c4635eac84c4072c298',\n",
       " '7214d93af83b5de092bffb3fefb97d1cd6057d0065bc32247fed17ca598f65af',\n",
       " 'f3ea69691ee2dbff20a7ecd1d502cdd1887b00c07b238fa10961dadda9bec4ec',\n",
       " '30d72f9d2d7f015bc696584e8c9b136e80367b22aa28e0b3b25ce19510b5e0b9',\n",
       " '62473032327156984f905a6ba2a44e9da61147c33d8e25c66993d09c9dc47f8b',\n",
       " 'b87fab9e8b80a6f9cbf1bba7a7c67dd7bc33b5a4065f84edd39aea4ec81bbbdf',\n",
       " 'aa823439a316c1b8442fce7463bc609d734aab1e85e7e478c866a33671145ab7',\n",
       " '23f72f09c64a2fec5cf9b9502b18f03a2995dd6cb0d3012155c7c8f8f6a6ef13',\n",
       " 'cae5925b2a86d84347b93f85f5e4290583478e0ac2a240acaa1401e0f92ca46a',\n",
       " '2b5996d4539f8098fe88e9bf4530cb2165660ddac90cbb0e695254fc4e58d184',\n",
       " '91dd87106ec953bd87cff7ebb38662ed2cd2713f8656eca7b6b0dca3f808271b',\n",
       " '57f21c960dc66314c75acfad2d38f8d2d90968f3efa25fa529d0fdf57cfd56c7',\n",
       " '59d4fefea645e27a07a17baad82626bbee95887eb67b85d437c193c7db41a412',\n",
       " '751cad1fd9ba4ac9f827c4a8a9841879444936a65fe9e4d2a75168c501673fb7',\n",
       " 'ee6be5c24173155d5109163eb1f9e0dd6861295b5a7e9a694c6ac6b0bf65ef65',\n",
       " 'c55837320e25f135952c70b3ca4925f8e941c0746e7121c45b05d11dcb1f9ba9',\n",
       " '1ced63b10711dc3f3a2da25e6aa92e0f9f12306d8202d0a020c505495fe64449',\n",
       " '151eff3d38886ff04a5b9c1819ec8165ab114a30fa6646ea7d74ac7ca9d42b8f',\n",
       " 'bdc8a9e0b8c1984f1f67c4b2542be0d7ac422c9351f1d40ab6f7c2523c52139a',\n",
       " '4895749bad88538233adae327fd3a03256747600b589647ab713392021e1e887',\n",
       " '647a5e6ee9f14dca1a39a2c8138caa1a8c220e39397a00163b28ffcb485a1367',\n",
       " '3c2278abeb764ec1084ab084c4fd4d9a176d85b69f0f3054cb3ae1bbdce3a3c7',\n",
       " 'a9909036e6a1207ef60f52c787a1c2293e821210f71e5ea093ea3ae4dbec055e',\n",
       " '0501649caa00b78299853b6168530a13f971137a734f5b3e490faded351b2d1e',\n",
       " '1a51ec1221e8790e17d0ec9f75d659630bb8d9776ae08f891d0f600bce1fa326',\n",
       " 'ae1ab6108f26b6bfaabea31ec2b0467ff80df56b1c6b82d06429a19003c2e2c2',\n",
       " '03c80751d572d301e96cc6fe2d2f10eeb734a79b32e48e265fe18d8312114de3',\n",
       " '672167233f29e7a152155bb80b7c70d7b4fd45562cc477ccd12b8657eeae9ec2',\n",
       " 'f039421d0c98850967fb50117e6a37eae1719ee68bbd1e5e4a61e324fa6cdac9',\n",
       " '110a349020420d5140207c78f7e17e31a8bf0e1fec397848f8d602245ccbe135',\n",
       " '229efda6f4b4728814f866211349a8407defe28a82ef55eb9c039ca2ad20ee94',\n",
       " '6f2f46d8f670338d821974be95cb9b109cbd4501968def97c91454168d52168f',\n",
       " 'abc45ca8928eaf68d8d51d0a0e173c4b43b9bdeaa4e5883fe240a4674408550b',\n",
       " '2e2463300de2681759fdc8e3e4a5038ce5eba5a39fa70491d0e2eb6997087655',\n",
       " 'd9b6cb603ec7d3be3b8ea197fe6364f5e025197c2b8b4e3871687473c0c41b59',\n",
       " 'c5b31cd71141e2adfddf94f893d198675d233a455a95cb0ca2a1e4223b0b8059',\n",
       " '6d5eed40c39739304d0bd547709476917c7e7f64df38c918f98a40829bff77c6',\n",
       " '599e58ff1646a817ca95d8ccccf26f271c83d5b4081e6c560124e2ef56516ada',\n",
       " '8d61167ba50a1875c75d0f5fa46cbee6b655d452b36e70060fcee558a6ff96d7',\n",
       " 'a398bf4d1a090f37021411e369ae5fedaa176423ec3eb5dbcc16ba8de3e519da',\n",
       " '996e7695ff5c22461ffd8bbd657cbf159e74c7c6762ee145ae9ffdce14eb119b',\n",
       " 'ce609dd75349c30a990d35af313489fe48c2490bf362a586d838e640d022f190',\n",
       " 'e82765897c3d4a22a7452a73eada64c6eb1a001badf03b28a9d4e231c732a0d6',\n",
       " 'e383b855371ae9283938ea5029b54d74826667d0c16f639b8f3ac4ceef3f6855',\n",
       " '626505dbececd0e97d42701d1b1be819e0080e340d2607e3e9a2375524d2a155',\n",
       " '13b86fd2b641517919a4c4b84237bf59b41ac4081cb52acab39e0eb4e57e07c7',\n",
       " '0dc1269ed90f6fd6b94c17cfe8ae5c507ecdfe963d6626bfc44af00002e026e0',\n",
       " '3d39272aaec7d90bc7abeb90972b6d3da9a2d816c0b530c055450db26a4a6c0a',\n",
       " 'e2275111b4fd6cc9b7411ed2ea9e2198490f4df23ae4aa976caddbfbb6d5b1bc',\n",
       " '31c274e181c2555994b35b4e6b05c17c3fc8489f7a76e42bbf1dc66d36dc1d42',\n",
       " 'd4702f703384dde27dd46bfa26ba2a8847ac7c4448118683b5a187c0dcd1a55c',\n",
       " 'e3b2a8c729d6ab762b43b3483bd261e9455c64f0aba82922018812058791cea8',\n",
       " '9f6a6924fc90732e54e5c11fa8170191295c2ce707f609838257e47462f0f92e',\n",
       " '3cb3948e93a30d8923fbab5914f8c0da4f150ed77e0951d5e9755b0e596591fb',\n",
       " '27a0a5e38a1ecfed198c0232881cc2ca15c1fbb7db2b0daf4c96f37424a84646',\n",
       " '31f4d3b1f7b6bd3a316419a40a7a83755ab0b21bbdaec5b9ae16d54e457666da',\n",
       " '2d23dfb1e0b4e16a1f57ef2d0144b632bd5afc220a0405b3947ab7a73b41f7ef',\n",
       " 'd19be225c55b59962b6e7972b6e1468e15dc40ebe8699f980cfd1f5929b2eb63',\n",
       " 'efe901f8b30493d16286f127c98adbcb9d6040fc74c47aa7887755fc9d93a3f2',\n",
       " '1540f3ccd77c471c0f24086263759ad23d4151d03f1ee4fc138c3bacdcc774aa',\n",
       " 'b43a1b5e4be77462416bfd0057e1d07ae40cfb66b5bf11c57f0e9d65e5a0a5ac',\n",
       " '54fb54c7df86a27ccc345bd1aa1e30e28fca51bf0f46fa95515e59d4a61f384b',\n",
       " '190500a426af756159a024d0cae18e5a348b239ebb5171f934b1539caa1135df',\n",
       " '22a3312f06755544d1cc915877daa716292e7b9f8f9c006da1fc2061bcdaff25',\n",
       " 'a92ecd4fa0312992dab90a2fdd81b883095219dc170266bd6cf85aad345b13ae',\n",
       " '7c29b9194415579de3ab1976553f29da9a6610da6c6a19f5a9d1fb90f68f5613',\n",
       " 'be87ebb301a21bdb2f57bfd07f7951eefddb592227d3ea83b085baeecb42d970',\n",
       " '598a9a64b94c2c30202efea35d0e5299ab2a5950bf00dae067bfcdd73e75ff48',\n",
       " '169c332ac6d0073bdb0e3cb534f9dc88c852ea5a63eac9dbe409812eec449d21',\n",
       " 'fe4336fb0e47765847a9e72105348df5184d77239dd417763a79949156872879',\n",
       " 'a2050af793caa9d0ea4808d6f2d8ccdeff3ddddad3054a6f4b34e7e576f54212',\n",
       " '921a1b9152be7bd0243ee0318d7f82a84471e5cfd7887265e499fedcff7c6fd2',\n",
       " '35105cff39f59803b6fa6df6cb27ba948887fde1ed6eb6f89d7d89d4e473bd56',\n",
       " '83bf1d36e0beec1186772c5d50933e55e913031821bd442c334f2d578927d2f3',\n",
       " '98711d5b1d4d930027924cc53da76ca72eeb105b5a9c6db1a70329d5c68f9c95',\n",
       " '9ae3629746fb1fe7d007c508745d399e7eb3a566eb3bc360cca6187e96b20a7c',\n",
       " 'a0c685d60bed58e5ecc355b381706ee2943a771fed1c17edffc8b11dabaef0ac',\n",
       " '15501edfeae9b7ebe21efc76562ff85950470d93321ba0b192f49a808f4502fa',\n",
       " '0ade027db8dada0790f585cc322e8eabd8b8b4b7d0ecd87d5f1f5058a90e6a02',\n",
       " 'b5a3644776d828b4747a7b592b1351df76bcb4115c41cf1bbf9b469bf3340847',\n",
       " '3e5991333787e7506135572d7cabbde3cfc2f28e47af91c16b5c4cfb655ee0e1',\n",
       " '2a0ccf681dbe9ed78dcf69d1a24133d55dc754a8918988b1407c043a60c035f9',\n",
       " '97b420a245932d0b4de7a9aea4ec5f85bba362aecc598146c80910149d3a6ccc',\n",
       " 'c839382489e6dca9c86f4637f35ececd97933e996f22da21e91adc9c73433f6a',\n",
       " 'b699a32179094ea9baedb8a98010ae8ff000b1f10e786cd0bcc203c04e3d8537',\n",
       " '6ce0d41a2164f63401eba160c9d7c9300a85df479b044877b9d62724d8574acb',\n",
       " 'b1a8929a20f68d3f6ba28d39f05f2c1b1fdd10bc09e2422275eb53fb4e576277',\n",
       " 'b47d6142004f03c8b46460e01b5a7db54bd4f9ee6d346705c294576dfb5c91dc',\n",
       " 'acb6117fc3d83f6015ba78225bd7ed82a5321a46258429c327a99206c94ad95c',\n",
       " '7f23f0d4d0b58a8db3f28650f98eff6953471faeb2d8e688e8efae2d7fcec8b0',\n",
       " '694cc3ac3ce8cd320b4af5a7b1ab8d77d24ba58a63aba27a0fc18e7d30007d80',\n",
       " '655bfa05ab9bfe558a8005950ac58ef1df34f30a686b2ac725e3d1749b0d6567',\n",
       " '5244a42bf52fac92c6c9427a5c3eda7b162d9642424e23bdebcc8ddfab07f936',\n",
       " '70d4c3a8cef1960c0dd8152bba8dabdc281a448eac1deff0615bbf0f14b31b89',\n",
       " '7a419e0237d78b2b0adddb0acf4f716a025f4ea77a2b1560e0a0038df10e2bd9',\n",
       " 'bd5391ced3118cce4886eed0313d96d7494686a3e0e7aa8712753aa3a82179d0',\n",
       " 'c3f80bb3cc5108501a61a7edaa309d6bf5b65c19e68523cade780eb7b0fdbc69',\n",
       " 'ff277c7d5e56fd0461b52cbaaa6f338afb553a2afd0d1f64d87511e02c093ad3',\n",
       " '1a6732af2b0bf1a2cc357cf1c7dc522540a5b176451fcbc022b7f3e150e65910',\n",
       " '2750b4e9d9b00cf43c3065136ce79993dcc9d4810d93e298b973d1670a7fb4f5',\n",
       " 'a36a2da231f40e8af1446debb87fd6794adb107eccdae8eef27825a440b1c172',\n",
       " '4a6f0c37c051b226e3388dae5aa5f582cb092a48508f4a1cfb275cf9873e3eea',\n",
       " '0c509fc4eac26ca3670c1a2a058f6131877a576d7385874cc52a866964471c9a',\n",
       " '9942855d2888a38a6677ddf9345e550d8c6e0ccb515d8d842909ca4ef00ace15',\n",
       " '2aab6ffcb71f556eed7de044b3f2121471f92f951eba3780c25830d82b27202c',\n",
       " 'a1a26f222d3f8c65238684e039004d94a0665231debe1bab5ad4fed7b7e1fa51',\n",
       " '01ff0818266bedf95c213aba1453614093d3f9e0e0351bcf3a11f08d70c75027',\n",
       " 'd074e3424aa40a7d2a9584187157729e27b8ffe60eea14cd71d07548ddf95338',\n",
       " '066143a687e8e91f7d4c8b52423c25a13ffe45c4a3ec6e27cb00d8cc52a60a58',\n",
       " '316741f730e14df814fb56cbef33b855065a394732a7ff5f2846fc29ec0900b3',\n",
       " '4e728acc9313a6f796f8983a92dfa4a98b6d3530169fe2de5a154df043c73644',\n",
       " '081797ec20c1466e6bdd3739698079c2ea85d33f5d925cadcf770e2a70324da6',\n",
       " '497a6e46c3363af023455c501bb6d3c3dff988651a608cf3f78fbbaa1dd9368c',\n",
       " '61aed0c844a1eb73d0157778f3d35b521f0381625ace3625190f3735d8ba048d',\n",
       " '15f109c9fb028641b52f641ba294f477c62f3415b9bfc6aa980108fcaa330ac9',\n",
       " '31a03912b5200e7291d2df5563ff393d8bfc8f600b2ccd0f38f6b6c673a4075e',\n",
       " '30d8766a7382b190ac398f8c4c033a29dfdf8d1faf42a91995c33ce34fba4449',\n",
       " '6bec9d374d5f4b57c943a3a6c2227b6ae92e11d28b3ef19e91f5c1f8579d7e5f',\n",
       " '4f8fad26381cdf411b1daeebb8e9df1a18d5ed732eda31abf118cd670d31c05e',\n",
       " '48181c645f40c95a8b926d9de116dbfd0c40373ec7f243d1465abc508835feb2',\n",
       " 'ca876abfec49f4aa112a6b25a075c6a14ec07540538a7d7adbbef9bb65fe690a',\n",
       " '1cc4533ec374c4753af0cd3ed52ed56bdf5cd88f3fb3fb4f86d6dc33dc86f3fe',\n",
       " 'a0e1c739ea735de162093843b0101a0f9303555a333bc9953428a3d02f42b867',\n",
       " '2bfdf8f9b5545ba69da48d0bf3267ca73a5e1f2fdabe1b7154899c2e8d466524',\n",
       " 'c490195b907b326f56e49d269cd84ef71bbf605aff37bc18ebd2fc53c696b1b9',\n",
       " '73b6ebade64862d5d3b1032bf4f496d262b05f8639896597e6c7b601f4368c06',\n",
       " '0a5c2d506e1d8567c7ec2a06272c51be84aec4a0d9acfecc34c435571064077c',\n",
       " '310ecbf5c4883a5768cf2010cada6c075d2d8b632b330294a8b33b54d338ab4d',\n",
       " '1ea78769c722da8256ba488d9b1cd8d483e4050397eaa7cc7d1e4f2c79dfdd0b',\n",
       " '75d036fe3cd7c7fed6c67a590457be4aad4c3cfc305637643401585cc601610c',\n",
       " 'e8ace2144fcd60ecf9d7231599a57e560cb4f70c1acc74cdbd4f285e4ac5433e',\n",
       " '09a16f355f3ca40cab53d60d4eb587dcbdf1de14cf894ba88a8a70e847db381a',\n",
       " 'bf3d5a16c0992cf2ce6d72b818c9a333fda3a2588012f47d8d7035ba44ddd207',\n",
       " 'd73a89d7ba1b313a594619a7eae5e5bf9b736452c16770bcb73cbb5c644f6acc',\n",
       " '58ab452e1ad271da85575c8d0f64d4348d7d07f4ac2c7f73ca823a324e83399f',\n",
       " '0619874c53b049907603b686d80ff6cc813d6fab24cbe00c72b09d52c0fac9b0',\n",
       " 'acaadbd4fab923eb36eb56b6d8a7ad740d45e864db589e776020d4f91d509e42',\n",
       " 'be279a86d93cf9096ee5cc321bfe355d38e70f9a6d8423ea1c88067837667ffe',\n",
       " '1346f5f027c5770edc272832b7f5c7ea4ef592af6d7b62f93beb6d15aa4e45ab',\n",
       " '2119375bff01b5ab80bcebcf1711985116990753b9b3dd7de36f2ecb6f0deb7a',\n",
       " '2fc8f63c55c9bcc00646587aafbb313504b17edc8121462b008ae2d065b2aea5',\n",
       " '462eb6dc5f266eadc82b67906a285a43cd30d3e81009429d2afdf9c3b11de04a',\n",
       " 'bcf87caaf6b92f63e699e0e49a39c4bd74cae08e380b054f706d8feb5cd48339',\n",
       " '7f9cebc5544b51fd78960097966ad953ef172c88deb2a9bf4598a6d5f89c065d',\n",
       " 'a7654ef887f93ac6644b5b3e4f649e131b38e85589ab6f64c019db66fbd95952',\n",
       " '15841fde18aeb0be631a240c2a902d5f14224cf1d82f76bfec4868441c2c222c',\n",
       " '06665a4f623e70ac0950d5c945b4c36705eab8fe1c84ee1a263c01600312e08c',\n",
       " '3c46f1a8fff3c68e0f34099c97d2b7ba1b696e333a82722cf2e0e37f874ad680',\n",
       " '3f47f03241a0dcf5be18cb21de687e3a550432c0f2b341596b525dfddf1ec151',\n",
       " '3c761a069f3be44140988605362a91dc71722cd16288cec63edab8226b4e3a05',\n",
       " '17e87e70258ec4e01a12f1aa18f866f0fd365f13b8360425c5d84f2562f8b795',\n",
       " '31b25f83d1c534451973f289c93d034292c8e95e706b9241decf5813f523ad98',\n",
       " '185fa1da60558525d1c11f215bf14ef0ace373d90411723c0cd07491cae74816',\n",
       " '775a4afd1f50560edec3da1dfe60294cd5a72c1d0f9f421ebe54fc3b353d0f6a',\n",
       " '3fe0a00053e0d1f02e950c7aa28cff0acb40c9dbb816a58ad2cad82354d15856',\n",
       " '3df5bf72a00c4659d7d7755fb6a3acc9e083859b26531dcc2b66a24f8278c076',\n",
       " '5a2f9688bc3cd1ffed7384aa91c5f32038c7f8c232eb493a197c5d81fa54119a',\n",
       " '2b7710c3036d803689b01d86e7272a1344bb5963b049d5a4d8da7637df89669a',\n",
       " 'c5144aaa7c609e0c94dfb095be29371fae0116bb5b45f1f7d2c07c432af3b08c',\n",
       " '27e25e320ef29a6a343b4bc81aeedb3c5c1a7fe4a30ac54ac3b582093a467302',\n",
       " '3f59446131f131fbbf1d946c50855f9e0b2cae21d5647ad915d7e5b9981d172b',\n",
       " 'b584c45794129b23d09ce80e72a70f0186c77c970171800b4caa8efba734101c',\n",
       " '7629c4cbdee476058f20a37b615e5526c0476ee6ef0f3c2ff35b6a60a65a349c',\n",
       " '08b3f2a033b43571e711693106b7f7d0fa3ab495b9858b9360554b5cf2f37b71',\n",
       " '3af7c05b497a04096b8f6ea89dac5c9a3f8f5b345ae41e1e45357203a4ee458d',\n",
       " '0e35cf08b161c26f28c5b3ee6a202a9c8be06bad55455ec6c00dd07b84e1da6f',\n",
       " 'fdd8b0cdf36e508444e75071f21455ce967b8177347d590f66ed0e05506d308a',\n",
       " '164b1597117aa79e67b48a3d9483e785e837866937b4ed18050ca20831bf4cec',\n",
       " '376fba8546bf5b272fc17ffa3ba36b3a2770b343fa6ef4aaf185894add434af9',\n",
       " '91e40a5f8338297bd3c1fb5fa36135de495e7ff66f26ed29d14848c68b98746a',\n",
       " '97f07ee3e99c724280d36853395afa1a64ec18a3311a27951a3829c33a2aa0c7',\n",
       " '48ab3d3b159a39d1ea6305583f2324b0323003ce3aaad3607185b2ac69c7ec4d',\n",
       " '7329a25f0daded067becd580a7319325e038ba6df70a56485d6bccb96e3610f8',\n",
       " 'c46fd23726bec596c6fa7d684691cb2f79a435fedf319c1bc4c63275f77b2cad',\n",
       " '02da7f90b4a47e6bb52444253fe9ceac1d2b7242ac8518e2635078703a23417c',\n",
       " '33c71e2ce39e35318041ad11f6fd0b6cab5c3041728231bac30237578de81d00',\n",
       " '83a9dd9db74520633815a525175728ef9fe22d031ca8dcdb50fd3612e73f60b0',\n",
       " '8db004956117bebbf28dfef0d66fec9739e8fd1e0bd7462b9c42295f44eddef1',\n",
       " '0f98290e70583b5859473a922aab66932ed50c49417255c94a179ee20ea05621',\n",
       " '65d603a77574a43907a7090906c53a846a863e8308de274018063eb23e27ce83',\n",
       " 'd31c175a7d27183d63447a843ac13c74187ff3aea119da0734a2eea3cacab4d3',\n",
       " '2afbc2a8cf7564e93a7ed5436d72aed1e592e2d096355b36f6250ce6364e9b8a',\n",
       " 'b133d206fc79ead19876d1d628e3edb74b6a8e7dd15d7cdaf08956a2ce9b56b0',\n",
       " '261984b2aa27b9e4196ec30f3d19b013015dc6e711d5e64d77fa29139d77f13e',\n",
       " 'a1ece18400883ec807fd0500daf05c19951eb66e8aab819317ee6bb367664863',\n",
       " '427d5fbd4405db2dc5ec3fb6ea07b73145e56f6f35bc89a25b8e66aa12112c99',\n",
       " '54edec057995f57e7f5284281c665efe8b849d82f99f5dbdbb24ae501bab1c81',\n",
       " 'cbf35006786b657f04116f204e882ece09c82dcd082164a6d8164189020563f8',\n",
       " 'e875860acc5471d17d8fc5f53135887a3e142016c9cbabad377eb35a4bf26043',\n",
       " '5f15763437bf0847f7beb6ba4c3408a8ff754775fa7c1226aab8f063b8a5cd11',\n",
       " 'fd47ffa85775ca83601b94c3253024445f80a55a0e75b467a2cc6cd435b4090f',\n",
       " '0c86bfad5bf5d3a4cc712723cbed91a8eade1d5ffc8bb7806271b917b33a3bcf',\n",
       " 'a31e6ed283d94fd0e41aef0f8753ab905fbb35464064a9f3a8f34160554e84e2',\n",
       " 'bb98f3ed649d8ca8daaa0d2e238cb3bb38699c0cba19228c02308e5c2742ac40',\n",
       " '5c52b1d65f12cf301bce9fb24ca8525af984aeb8c932d96819bc3814e70029e9',\n",
       " '35f5cf7781b35174cce255ad2b7575b3a6215c4b43b9eae2ab692bf59acb6f12',\n",
       " '941e014d9d634eb973dcb76f331d3271b6daff84e14098577d78bf4fddf6f146',\n",
       " '834c1dca5fea836b6a02c6e6937d1a510290776f4682f38c8c6838936c786199',\n",
       " '7ec60800f909b97f6abe0fdc5a30ad6eeb60f05b451803c5c635cc54b6a3e2ee',\n",
       " '7debf2089e4c93b0d75f65b5df9bc8eefeedfd738fee983672b0c3a37c31aab1',\n",
       " '982874effe35c95ad1b7a3e07b1df790d4c03f78111b9f712f331e59adaa54ba',\n",
       " '0104db25e50fe99f82c99b0d07566d94eae76314034720497ccef5cf313a81bb',\n",
       " 'fec565aadd3acb7809daf5e439e99d0919c0b4ed8eb0efd3100827738a89f9ff',\n",
       " 'f4a233c34e43f60739d5d36e6721204ff8ac1df8dd0c8e58913119c9b48a4ae9',\n",
       " 'c566eda66388c44ff8de6ba7484964093da321f8bc15be127b77cb0fefc0ee05',\n",
       " 'f7f88cd0245885d65a141d4ed1efa02db0741ad1eece4fa1fce0c1d29f46b80f',\n",
       " '37fb8c5e2bd62b34169ab6b3f21c405acf0c7b78054eb72c2cd8c1bf0589f9a4',\n",
       " '5230420d324f4f8c56abb6daf116d70313392d41ac4e0e8c66845867eb7b8222',\n",
       " 'a37b7a400d617df663117f458c607c91e1ec9c3867c071cc69015d9fdab579c7',\n",
       " 'd25eafb159b76e7dd380c1322b18b74613e2544673017f6c8b78f9983e0c3efa',\n",
       " 'ce748715377747c6ca5a949dd2bbe7f42ba6bf626cd2c6d4fe2f3e919b6fdb95',\n",
       " '3ac5ba6721afb19f2ba78e97599d1da3ca8e5c688ecaf35f7c2607b11a9446a5',\n",
       " '7d43ac0d1b44841a21eeb665cd6f0f2267b9a601c0eab4d7241bd44975ce64ad',\n",
       " 'c683445dea900a1c41dc2467bbfd65eb573ee580585139654b83cb58cbe82ecb',\n",
       " '15ca88d0b428da2ef45876b89b9cd32e787d18a3ff34a11b1ef8ea4a1f0a49b6',\n",
       " '8275c23bab361909bf5e3ac2a4170aa2a34543220464e8cb10b43f96c8c6f739',\n",
       " '06f50029eece356e620bcdf3ca7ed0ae10f4d9f7b1c9791180195bb02d86e6b3',\n",
       " '8faff0915663ed26a99587b4ae49ded2c09660a8777318925372039072b169e8',\n",
       " '94920468b1ab83b7e20698e8fc86f2273db5af9da823879ecf443729e3f2a40d',\n",
       " 'ba16fc9d6b5759be0bcf036cccfca1030ca0bcf08c9b1d9b7d15441e9c552566',\n",
       " '51294c4a7af27f98826b5ad63d4acd837c4ee502b8fb054b21472d82ca9fb410',\n",
       " '07eddba058e1c7e69737671e4bb67eab2a45b1f58507b7cf14ae4a0f57617f3e',\n",
       " 'd865f41ef290c1bfaf095614a345a3bc140136420a6e271340cc18cdd55b46af',\n",
       " '7091798b34b5114fd8d9d0ed248d5db7beddc73c452150e62c435736aba76a22',\n",
       " 'eec2cb0a67ea6ded8fe08a652f74d57159d619839868036c9d0fa9be35f1a3c5',\n",
       " '517900fbb0ac5eae5b4b64f6bb8816b6fa192fc372c1cae63e9d91c03a8f4016',\n",
       " 'b0908b1be01ee440b5e24870f555af862d889188908083cdd719151bee2bca21',\n",
       " 'e18a670aa1af0c287be8c684b357e32989c5779fdd39644ffb7ba561ddafc635',\n",
       " 'fac98d95a9045f1788f040b5f54f7b021c58b5091f950aa6ab0d8f2df39497ba',\n",
       " '188bc6c13670b25489629e124189d293d41ecedb2daf9cee094f56f6348af075',\n",
       " '5d710aa0bb7daa8e9909ff9d85b2667e0b7d8c8d29d097e7f5f710c061014304',\n",
       " '03e6274c596f32e75623883cf4fcb59926b8e2d8dd36fe747a8f6121019259fd',\n",
       " '4e3ae442193c68ef78b04c386e031aac7c14144b98f819a128ba51cd847215b5',\n",
       " '3bca8987869add86cd7a68472cda82863b36cd28d6c424bcd2f938e137007fe7',\n",
       " 'e051bd00a9410242913ae6ec0fca5b83bddeae6ff11ee978b50498895c2bfe25',\n",
       " '3f18f9d547b927b32c715179eb9aa36cfba2362c5837e677a3ed90b781fdba68',\n",
       " 'fe06c19d879ff1ecd63446a5555fb3a134c3aeadb363f236e29825bf4c52c5ad',\n",
       " '19129d2b31c23ba493936a5d23668c4daa4b19bd508ddfa152e3f3418dea91d0',\n",
       " 'a4eef0729109974bfa0ad5aac69b203ba4fee3531c1e66925406574b63d07d64',\n",
       " '134ad8a3538e7b60feecf390e9d43c449504be01782095eb61a7153eb9855f40',\n",
       " 'f2a42f644dee7656994f6b1c9e4123308615815745b3f9941bf685e7310b4b5b',\n",
       " '6c3fad9db94b9cafde2f5f4b51a10cbc2c6d4327a31f5ba24eb480d3f50d417f',\n",
       " '3b7786bc303a46f320740eeecd778f1a66d26b2fd464891d3d98e6e4999957f5',\n",
       " '70972b1412b9a43ee1ba82400203e2eaf1cf86542c7eaed355791df0991b0f28',\n",
       " '76ea193e7eb526aec3aa17837912d280e4bb8ee5efc9e72585c06f7d0b0a6e80',\n",
       " 'db283dcfeb8c985109a714cffbd1f8890889256cfaf98c410f75266f951fbcef',\n",
       " '165fc9016760220eae0d48b1c15ed724ea09b49a1e27aa57819968d612524a6d',\n",
       " '0f57fa12753b15038209d49c447200067a1387cd3c6e54ba2217750cd83647d0',\n",
       " '6f6408f77a92b278bb52689bf28370f5c38e1fe6dcfdc26532a34e2eecedc4ac',\n",
       " '8dfa84d45c5a725210e96b3f926949ae79851ebb8e9e475e0ecec6a7fd5148a8',\n",
       " '21caa1fdadcbcdb6531e337e7125858a78a6e4a8d6f3bfe68f89261d9c992139',\n",
       " 'a153d34050c6dcd78a580652124430e32f353461a0a605d3d89d6cf90a1f9d92',\n",
       " '8dd251f36c17f386af53d10df624d2e71dc1a7e4a9471aa2ee6c730ae8c7ae51',\n",
       " 'c2eb6271d9848f2476eb19643e7b7d5719c1a8780f52ef4dfc833877136ce9b2',\n",
       " '9c6b082a45770f42d7235d5b3ab5329f23a164db7068e432f6d4078bc2ba81ef',\n",
       " ...]"
      ]
     },
     "execution_count": 49,
     "metadata": {},
     "output_type": "execute_result"
    }
   ],
   "source": [
    "dataset_f"
   ]
  },
  {
   "cell_type": "code",
   "execution_count": null,
   "metadata": {},
   "outputs": [],
   "source": []
  }
 ],
 "metadata": {
  "kernelspec": {
   "display_name": "Python 3.7.12 ('base')",
   "language": "python",
   "name": "python3"
  },
  "language_info": {
   "codemirror_mode": {
    "name": "ipython",
    "version": 3
   },
   "file_extension": ".py",
   "mimetype": "text/x-python",
   "name": "python",
   "nbconvert_exporter": "python",
   "pygments_lexer": "ipython3",
   "version": "3.7.12"
  },
  "orig_nbformat": 4,
  "vscode": {
   "interpreter": {
    "hash": "d4d1e4263499bec80672ea0156c357c1ee493ec2b1c70f0acce89fc37c4a6abe"
   }
  }
 },
 "nbformat": 4,
 "nbformat_minor": 2
}
