{
 "cells": [
  {
   "cell_type": "code",
   "execution_count": 4,
   "metadata": {},
   "outputs": [],
   "source": [
    "from datasets import load_from_disk\n",
    "\n",
    "ds =   load_from_disk(\"/home/saisur/nlg-retroweights/filtered_small\")"
   ]
  },
  {
   "cell_type": "code",
   "execution_count": 5,
   "metadata": {},
   "outputs": [
    {
     "data": {
      "text/plain": [
       "'/home/saisur/coding/dller_NLG/notebooks'"
      ]
     },
     "execution_count": 5,
     "metadata": {},
     "output_type": "execute_result"
    }
   ],
   "source": [
    "pwd"
   ]
  },
  {
   "cell_type": "code",
   "execution_count": 6,
   "metadata": {},
   "outputs": [
    {
     "data": {
      "text/plain": [
       "dict_keys(['date', 'sentence_split', 'non_split', 'hash'])"
      ]
     },
     "execution_count": 6,
     "metadata": {},
     "output_type": "execute_result"
    }
   ],
   "source": [
    "ds[\"train\"][0].keys()"
   ]
  },
  {
   "cell_type": "code",
   "execution_count": 7,
   "metadata": {},
   "outputs": [
    {
     "name": "stdout",
     "output_type": "stream",
     "text": [
      "                                             "
     ]
    },
    {
     "data": {
      "application/vnd.jupyter.widget-view+json": {
       "model_id": "03b659d617a04e9d8ebf13e0aca6e6d5",
       "version_major": 2,
       "version_minor": 0
      },
      "text/plain": [
       "#0:   0%|          | 0/5 [00:00<?, ?ba/s]"
      ]
     },
     "metadata": {},
     "output_type": "display_data"
    },
    {
     "data": {
      "application/vnd.jupyter.widget-view+json": {
       "model_id": "bd56935617b34e40be5c8e4bd84aa62f",
       "version_major": 2,
       "version_minor": 0
      },
      "text/plain": [
       "#1:   0%|          | 0/5 [00:00<?, ?ba/s]"
      ]
     },
     "metadata": {},
     "output_type": "display_data"
    },
    {
     "name": "stdout",
     "output_type": "stream",
     "text": [
      " "
     ]
    },
    {
     "data": {
      "application/vnd.jupyter.widget-view+json": {
       "model_id": "e357a88a45d0413d9d640d2595e2eb8b",
       "version_major": 2,
       "version_minor": 0
      },
      "text/plain": [
       "#2:   0%|          | 0/5 [00:00<?, ?ba/s]"
      ]
     },
     "metadata": {},
     "output_type": "display_data"
    },
    {
     "name": "stdout",
     "output_type": "stream",
     "text": [
      " "
     ]
    },
    {
     "data": {
      "application/vnd.jupyter.widget-view+json": {
       "model_id": "39a8248046f8425a93537fe6183a395c",
       "version_major": 2,
       "version_minor": 0
      },
      "text/plain": [
       "#3:   0%|          | 0/5 [00:00<?, ?ba/s]"
      ]
     },
     "metadata": {},
     "output_type": "display_data"
    },
    {
     "name": "stdout",
     "output_type": "stream",
     "text": [
      " "
     ]
    },
    {
     "data": {
      "application/vnd.jupyter.widget-view+json": {
       "model_id": "3b12d67ad3f249d998cd4b249301fb92",
       "version_major": 2,
       "version_minor": 0
      },
      "text/plain": [
       "#4:   0%|          | 0/5 [00:00<?, ?ba/s]"
      ]
     },
     "metadata": {},
     "output_type": "display_data"
    },
    {
     "name": "stdout",
     "output_type": "stream",
     "text": [
      " "
     ]
    },
    {
     "data": {
      "application/vnd.jupyter.widget-view+json": {
       "model_id": "fe12121caa3747b589eb46e3739b6000",
       "version_major": 2,
       "version_minor": 0
      },
      "text/plain": [
       "#5:   0%|          | 0/5 [00:00<?, ?ba/s]"
      ]
     },
     "metadata": {},
     "output_type": "display_data"
    },
    {
     "name": "stdout",
     "output_type": "stream",
     "text": [
      "    "
     ]
    },
    {
     "data": {
      "application/vnd.jupyter.widget-view+json": {
       "model_id": "3427779fcb124044a5a0f3ec93fc83a7",
       "version_major": 2,
       "version_minor": 0
      },
      "text/plain": [
       "#7:   0%|          | 0/5 [00:00<?, ?ba/s]"
      ]
     },
     "metadata": {},
     "output_type": "display_data"
    },
    {
     "data": {
      "application/vnd.jupyter.widget-view+json": {
       "model_id": "dfca5e25802845dca5e4fa5c9394eb07",
       "version_major": 2,
       "version_minor": 0
      },
      "text/plain": [
       "#9:   0%|          | 0/5 [00:00<?, ?ba/s]"
      ]
     },
     "metadata": {},
     "output_type": "display_data"
    },
    {
     "data": {
      "application/vnd.jupyter.widget-view+json": {
       "model_id": "6a2d2e9f7b7949dfa8931d5dcf25300c",
       "version_major": 2,
       "version_minor": 0
      },
      "text/plain": [
       "#6:   0%|          | 0/5 [00:00<?, ?ba/s]"
      ]
     },
     "metadata": {},
     "output_type": "display_data"
    },
    {
     "data": {
      "application/vnd.jupyter.widget-view+json": {
       "model_id": "6f5533d977f8483abb412658936ab468",
       "version_major": 2,
       "version_minor": 0
      },
      "text/plain": [
       "#8:   0%|          | 0/5 [00:00<?, ?ba/s]"
      ]
     },
     "metadata": {},
     "output_type": "display_data"
    },
    {
     "name": "stdout",
     "output_type": "stream",
     "text": [
      "      "
     ]
    },
    {
     "data": {
      "application/vnd.jupyter.widget-view+json": {
       "model_id": "83ffe3e758e34c70be7988f3e907c3e8",
       "version_major": 2,
       "version_minor": 0
      },
      "text/plain": [
       "#13:   0%|          | 0/5 [00:00<?, ?ba/s]"
      ]
     },
     "metadata": {},
     "output_type": "display_data"
    },
    {
     "data": {
      "application/vnd.jupyter.widget-view+json": {
       "model_id": "d6d9a6ea0a56474389f8060a2a15adea",
       "version_major": 2,
       "version_minor": 0
      },
      "text/plain": [
       "#11:   0%|          | 0/5 [00:00<?, ?ba/s]"
      ]
     },
     "metadata": {},
     "output_type": "display_data"
    },
    {
     "data": {
      "application/vnd.jupyter.widget-view+json": {
       "model_id": "281a8f7f668c4bc784f29deea26a0149",
       "version_major": 2,
       "version_minor": 0
      },
      "text/plain": [
       "#10:   0%|          | 0/5 [00:00<?, ?ba/s]"
      ]
     },
     "metadata": {},
     "output_type": "display_data"
    },
    {
     "data": {
      "application/vnd.jupyter.widget-view+json": {
       "model_id": "9e608ec89d0241c780c66f2684a1d93d",
       "version_major": 2,
       "version_minor": 0
      },
      "text/plain": [
       "#12:   0%|          | 0/5 [00:00<?, ?ba/s]"
      ]
     },
     "metadata": {},
     "output_type": "display_data"
    },
    {
     "name": "stdout",
     "output_type": "stream",
     "text": [
      "  "
     ]
    },
    {
     "data": {
      "application/vnd.jupyter.widget-view+json": {
       "model_id": "ecf75a443ccc42299207ef7554d37d08",
       "version_major": 2,
       "version_minor": 0
      },
      "text/plain": [
       "#14:   0%|          | 0/5 [00:00<?, ?ba/s]"
      ]
     },
     "metadata": {},
     "output_type": "display_data"
    },
    {
     "name": "stdout",
     "output_type": "stream",
     "text": [
      "   "
     ]
    },
    {
     "data": {
      "application/vnd.jupyter.widget-view+json": {
       "model_id": "e49f943692d34b6eb982d381eca657e1",
       "version_major": 2,
       "version_minor": 0
      },
      "text/plain": [
       "#15:   0%|          | 0/5 [00:00<?, ?ba/s]"
      ]
     },
     "metadata": {},
     "output_type": "display_data"
    },
    {
     "data": {
      "application/vnd.jupyter.widget-view+json": {
       "model_id": "6ff9dfcde9244e9faa7955b4404e953f",
       "version_major": 2,
       "version_minor": 0
      },
      "text/plain": [
       "#18:   0%|          | 0/5 [00:00<?, ?ba/s]"
      ]
     },
     "metadata": {},
     "output_type": "display_data"
    },
    {
     "name": "stdout",
     "output_type": "stream",
     "text": [
      " "
     ]
    },
    {
     "data": {
      "application/vnd.jupyter.widget-view+json": {
       "model_id": "e151a4f32f7749fc98cc1c316d5708ac",
       "version_major": 2,
       "version_minor": 0
      },
      "text/plain": [
       "#16:   0%|          | 0/5 [00:00<?, ?ba/s]"
      ]
     },
     "metadata": {},
     "output_type": "display_data"
    },
    {
     "name": "stdout",
     "output_type": "stream",
     "text": [
      "    "
     ]
    },
    {
     "data": {
      "application/vnd.jupyter.widget-view+json": {
       "model_id": "5264bd66f851413db2f6bc176c79d6d5",
       "version_major": 2,
       "version_minor": 0
      },
      "text/plain": [
       "#17:   0%|          | 0/5 [00:00<?, ?ba/s]"
      ]
     },
     "metadata": {},
     "output_type": "display_data"
    },
    {
     "name": "stdout",
     "output_type": "stream",
     "text": [
      "    "
     ]
    },
    {
     "data": {
      "application/vnd.jupyter.widget-view+json": {
       "model_id": "1b0036b1ac4a4b0b8f19a1c3684d7ac7",
       "version_major": 2,
       "version_minor": 0
      },
      "text/plain": [
       "#19:   0%|          | 0/5 [00:00<?, ?ba/s]"
      ]
     },
     "metadata": {},
     "output_type": "display_data"
    },
    {
     "data": {
      "application/vnd.jupyter.widget-view+json": {
       "model_id": "cc5bb79e3cff4d62bfe3cb86b828f521",
       "version_major": 2,
       "version_minor": 0
      },
      "text/plain": [
       "#20:   0%|          | 0/5 [00:00<?, ?ba/s]"
      ]
     },
     "metadata": {},
     "output_type": "display_data"
    },
    {
     "name": "stdout",
     "output_type": "stream",
     "text": [
      "      "
     ]
    },
    {
     "data": {
      "application/vnd.jupyter.widget-view+json": {
       "model_id": "8f7b95deee644935a67dce1dea8bbf0b",
       "version_major": 2,
       "version_minor": 0
      },
      "text/plain": [
       "#21:   0%|          | 0/5 [00:00<?, ?ba/s]"
      ]
     },
     "metadata": {},
     "output_type": "display_data"
    },
    {
     "name": "stdout",
     "output_type": "stream",
     "text": [
      " "
     ]
    },
    {
     "data": {
      "application/vnd.jupyter.widget-view+json": {
       "model_id": "a604197f44ef47f4832355779826e17c",
       "version_major": 2,
       "version_minor": 0
      },
      "text/plain": [
       "#22:   0%|          | 0/5 [00:00<?, ?ba/s]"
      ]
     },
     "metadata": {},
     "output_type": "display_data"
    },
    {
     "data": {
      "application/vnd.jupyter.widget-view+json": {
       "model_id": "3ee7014b154d448f872d55d36e4e51dd",
       "version_major": 2,
       "version_minor": 0
      },
      "text/plain": [
       "#24:   0%|          | 0/5 [00:00<?, ?ba/s]"
      ]
     },
     "metadata": {},
     "output_type": "display_data"
    },
    {
     "data": {
      "application/vnd.jupyter.widget-view+json": {
       "model_id": "c5d5dc9a7a124f1c88c8485bebc60542",
       "version_major": 2,
       "version_minor": 0
      },
      "text/plain": [
       "#28:   0%|          | 0/5 [00:00<?, ?ba/s]"
      ]
     },
     "metadata": {},
     "output_type": "display_data"
    },
    {
     "name": "stdout",
     "output_type": "stream",
     "text": [
      "    "
     ]
    },
    {
     "data": {
      "application/vnd.jupyter.widget-view+json": {
       "model_id": "99dabf422c0e4d5ea33f6cb7388d39d6",
       "version_major": 2,
       "version_minor": 0
      },
      "text/plain": [
       "#26:   0%|          | 0/5 [00:00<?, ?ba/s]"
      ]
     },
     "metadata": {},
     "output_type": "display_data"
    },
    {
     "data": {
      "application/vnd.jupyter.widget-view+json": {
       "model_id": "c0a67c3c421946fcb54f527d04b20933",
       "version_major": 2,
       "version_minor": 0
      },
      "text/plain": [
       "#32:   0%|          | 0/5 [00:00<?, ?ba/s]"
      ]
     },
     "metadata": {},
     "output_type": "display_data"
    },
    {
     "data": {
      "application/vnd.jupyter.widget-view+json": {
       "model_id": "15c0048f2ee4481d851902bf61a8a4f2",
       "version_major": 2,
       "version_minor": 0
      },
      "text/plain": [
       "#27:   0%|          | 0/5 [00:00<?, ?ba/s]"
      ]
     },
     "metadata": {},
     "output_type": "display_data"
    },
    {
     "data": {
      "application/vnd.jupyter.widget-view+json": {
       "model_id": "1e05b6f4c5d745c9ae3ac1dea07b1821",
       "version_major": 2,
       "version_minor": 0
      },
      "text/plain": [
       "#23:   0%|          | 0/5 [00:00<?, ?ba/s]"
      ]
     },
     "metadata": {},
     "output_type": "display_data"
    },
    {
     "data": {
      "application/vnd.jupyter.widget-view+json": {
       "model_id": "e55cb1ea25d34a4db800c9a82aaf98ce",
       "version_major": 2,
       "version_minor": 0
      },
      "text/plain": [
       "#35:   0%|          | 0/5 [00:00<?, ?ba/s]"
      ]
     },
     "metadata": {},
     "output_type": "display_data"
    },
    {
     "data": {
      "application/vnd.jupyter.widget-view+json": {
       "model_id": "fa0d84953a8c4a53aa8335506664f660",
       "version_major": 2,
       "version_minor": 0
      },
      "text/plain": [
       "#37:   0%|          | 0/5 [00:00<?, ?ba/s]"
      ]
     },
     "metadata": {},
     "output_type": "display_data"
    },
    {
     "data": {
      "application/vnd.jupyter.widget-view+json": {
       "model_id": "19cfb20a72324c36baaf2f6a4e6360f1",
       "version_major": 2,
       "version_minor": 0
      },
      "text/plain": [
       "#25:   0%|          | 0/5 [00:00<?, ?ba/s]"
      ]
     },
     "metadata": {},
     "output_type": "display_data"
    },
    {
     "data": {
      "application/vnd.jupyter.widget-view+json": {
       "model_id": "1ac3f63dc3aa45a39480d0685083721d",
       "version_major": 2,
       "version_minor": 0
      },
      "text/plain": [
       "#30:   0%|          | 0/5 [00:00<?, ?ba/s]"
      ]
     },
     "metadata": {},
     "output_type": "display_data"
    },
    {
     "data": {
      "application/vnd.jupyter.widget-view+json": {
       "model_id": "73e3255525044570b1a7a8669ee9b3c5",
       "version_major": 2,
       "version_minor": 0
      },
      "text/plain": [
       "#31:   0%|          | 0/5 [00:00<?, ?ba/s]"
      ]
     },
     "metadata": {},
     "output_type": "display_data"
    },
    {
     "data": {
      "application/vnd.jupyter.widget-view+json": {
       "model_id": "9640314b72414b889570853778675370",
       "version_major": 2,
       "version_minor": 0
      },
      "text/plain": [
       "#38:   0%|          | 0/5 [00:00<?, ?ba/s]"
      ]
     },
     "metadata": {},
     "output_type": "display_data"
    },
    {
     "data": {
      "application/vnd.jupyter.widget-view+json": {
       "model_id": "96f7be195507443c81874041249c1924",
       "version_major": 2,
       "version_minor": 0
      },
      "text/plain": [
       "#34:   0%|          | 0/5 [00:00<?, ?ba/s]"
      ]
     },
     "metadata": {},
     "output_type": "display_data"
    },
    {
     "data": {
      "application/vnd.jupyter.widget-view+json": {
       "model_id": "e33b05ec762c4530bab0f83686958391",
       "version_major": 2,
       "version_minor": 0
      },
      "text/plain": [
       "#40:   0%|          | 0/5 [00:00<?, ?ba/s]"
      ]
     },
     "metadata": {},
     "output_type": "display_data"
    },
    {
     "data": {
      "application/vnd.jupyter.widget-view+json": {
       "model_id": "55dfca59a65743918e65b644b2dcba69",
       "version_major": 2,
       "version_minor": 0
      },
      "text/plain": [
       "#36:   0%|          | 0/5 [00:00<?, ?ba/s]"
      ]
     },
     "metadata": {},
     "output_type": "display_data"
    },
    {
     "data": {
      "application/vnd.jupyter.widget-view+json": {
       "model_id": "231c75bbd952469391f5b84b5de1e6fc",
       "version_major": 2,
       "version_minor": 0
      },
      "text/plain": [
       "#29:   0%|          | 0/5 [00:00<?, ?ba/s]"
      ]
     },
     "metadata": {},
     "output_type": "display_data"
    },
    {
     "data": {
      "application/vnd.jupyter.widget-view+json": {
       "model_id": "a1c94e2615044aa68f675b03fd42f1ac",
       "version_major": 2,
       "version_minor": 0
      },
      "text/plain": [
       "#39:   0%|          | 0/5 [00:00<?, ?ba/s]"
      ]
     },
     "metadata": {},
     "output_type": "display_data"
    },
    {
     "data": {
      "application/vnd.jupyter.widget-view+json": {
       "model_id": "20a7df37731b437d938ed40fc512333d",
       "version_major": 2,
       "version_minor": 0
      },
      "text/plain": [
       "#33:   0%|          | 0/5 [00:00<?, ?ba/s]"
      ]
     },
     "metadata": {},
     "output_type": "display_data"
    },
    {
     "data": {
      "application/vnd.jupyter.widget-view+json": {
       "model_id": "226716df012e4f1db6b90ff71409173a",
       "version_major": 2,
       "version_minor": 0
      },
      "text/plain": [
       "#41:   0%|          | 0/5 [00:00<?, ?ba/s]"
      ]
     },
     "metadata": {},
     "output_type": "display_data"
    }
   ],
   "source": [
    "# convert base64 string to string\n",
    "import base64\n",
    "# convert base64 string to string\n",
    "def clean_one(base64_string):\n",
    "    return base64.b64decode(base64_string).decode(\"utf-8\")\n",
    "\n",
    "def clean_list(base64_list):\n",
    "    return [clean_one(base64_string) for base64_string in base64_list]\n",
    "\n",
    "def clean_each(example):\n",
    "    example[\"non_split\"] = clean_list(example[\"non_split\"])\n",
    "    example[\"sentence_split\"] = clean_list(example[\"sentence_split\"])\n",
    "    return example\n",
    "\n",
    "# def clean_batch(examples):\n",
    "#     return [clean_each(example) for example in examples]\n",
    "\n",
    "ds = ds.map(clean_each, batched=True, num_proc=42)"
   ]
  },
  {
   "cell_type": "code",
   "execution_count": 8,
   "metadata": {},
   "outputs": [
    {
     "data": {
      "text/plain": [
       "DatasetDict({\n",
       "    train: Dataset({\n",
       "        features: ['date', 'sentence_split', 'non_split', 'hash'],\n",
       "        num_rows: 177300\n",
       "    })\n",
       "})"
      ]
     },
     "execution_count": 8,
     "metadata": {},
     "output_type": "execute_result"
    }
   ],
   "source": [
    "ds"
   ]
  },
  {
   "cell_type": "code",
   "execution_count": 9,
   "metadata": {},
   "outputs": [
    {
     "data": {
      "text/plain": [
       "{'date': 20080101,\n",
       " 'sentence_split': 'Radiohead - Music - New York Times\\nLOS ANGELES - \"In Rainbows,\" the latest album from the British rock band Radiohead, has been readily available to music fans for almost three months, first as a digital download in an unconventional tip-jar offering in which fans decided for themselves what to pay for it, and then, like most pop music today, as digital files circulating on free, unlicensed file-swapping networks.\\nOne matter remains: Will anyone buy the CD?\\nStarting on Tuesday, the album, in plastic disc form, is on sale in record shops (this time with a list price, $13.98, that is not subject to consumer whims).\\nThough hard-core fans almost surely have acquired the album, one way or another, Radiohead had plans to promote the CD release with a \"prerecording\" of the band performing songs from \"In Rainbows\" on the www.radiohead.tv Web site starting on Monday, according to the band\\'s Web site, radiohead.com.\\nIt is also to be shown on satellite and cable systems that carry the Current TV channel.\\nThough hailed by critics, the album is seen as an uncertain prospect commercially.\\nThat is because the band has declined to say how many copies have been distributed since October, when it diverged from industry custom and offered a digital download of \"In Rainbows\" for however much fans chose to pay - even nothing.\\nSince then the band\\'s representatives have described the offering as, among other things, a way of testing whether digital downloads eat into sales of CDs.\\nRadiohead chose to release the CD through the independent label ATO Records and its imprint TBD.\\nThe band\\'s 2003 album \"Hail to the Thief\" was the last one under its recording contract with the music giant EMI.\\nATO is shipping an estimated 400,000 copies of the album to record shops, said executives briefed on the label\\'s plans.\\nIt is not uncommon for shops to sell half of the shipment of a big album in its first week on sale.\\nBut Radiohead\\'s performance may differ; not only has the album been widely available online, but it is also hitting record shops in the traditionally slow post-holiday sales period.\\nAs a result, it is seen as a long shot that the band could match the performance of \"Hail to the Thief,\" which sold 300,000 copies in its first week after going on sale in June 2003, and went on to sell a total of roughly 1 million copies, according to Nielsen SoundScan data.\\nWill Botwin, the president of ATO, said that in spite of the availability of Radiohead\\'s music online, many fans might still have reason to pay for the CD version.\\n\"You\\'ve still got hard-core Radiohead fans that are very inclined to own anything they can from the band,\" he said.\\nHe added that the critical praise and international headlines generated by the band\\'s release plan may have drawn new fans.\\n\"I think you\\'re going to find a new buyer that might be more curious, that might\\'ve gotten turned on by all the attention,\" he said.\\nStill, he acknowledged, \"it\\'s faith on our part.\"\\nHe continued: \"There\\'s nothing normal here.\\nThere are not normal business principles.\\n',\n",
       " 'non_split': 'Radiohead - Music - New York Times\\n\\nLOS ANGELES - \"In Rainbows,\" the latest album from the British rock band Radiohead, has been readily available to music fans for almost three months, first as a digital download in an unconventional tip-jar offering in which fans decided for themselves what to pay for it, and then, like most pop music today, as digital files circulating on free, unlicensed file-swapping networks. One matter remains: Will anyone buy the CD?\\n\\nStarting on Tuesday, the album, in plastic disc form, is on sale in record shops (this time with a list price, $13.98, that is not subject to consumer whims). Though hard-core fans almost surely have acquired the album, one way or another, Radiohead had plans to promote the CD release with a \"prerecording\" of the band performing songs from \"In Rainbows\" on the www.radiohead.tv Web site starting on Monday, according to the band\\'s Web site, radiohead.com. It is also to be shown on satellite and cable systems that carry the Current TV channel.\\n\\nThough hailed by critics, the album is seen as an uncertain prospect commercially. That is because the band has declined to say how many copies have been distributed since October, when it diverged from industry custom and offered a digital download of \"In Rainbows\" for however much fans chose to pay - even nothing. Since then the band\\'s representatives have described the offering as, among other things, a way of testing whether digital downloads eat into sales of CDs.\\n\\nRadiohead chose to release the CD through the independent label ATO Records and its imprint TBD. (The band\\'s 2003 album \"Hail to the Thief\" was the last one under its recording contract with the music giant EMI.) ATO is shipping an estimated 400,000 copies of the album to record shops, said executives briefed on the label\\'s plans. It is not uncommon for shops to sell half of the shipment of a big album in its first week on sale. But Radiohead\\'s performance may differ; not only has the album been widely available online, but it is also hitting record shops in the traditionally slow post-holiday sales period.\\n\\nAs a result, it is seen as a long shot that the band could match the performance of \"Hail to the Thief,\" which sold 300,000 copies in its first week after going on sale in June 2003, and went on to sell a total of roughly 1 million copies, according to Nielsen SoundScan data.\\n\\nWill Botwin, the president of ATO, said that in spite of the availability of Radiohead\\'s music online, many fans might still have reason to pay for the CD version. \"You\\'ve still got hard-core Radiohead fans that are very inclined to own anything they can from the band,\" he said.\\n\\nHe added that the critical praise and international headlines generated by the band\\'s release plan may have drawn new fans. \"I think you\\'re going to find a new buyer that might be more curious, that might\\'ve gotten turned on by all the attention,\" he said. Still, he acknowledged, \"it\\'s faith on our part.\"\\n\\nHe continued: \"There\\'s nothing normal here. There are not normal business principles.\"\\n',\n",
       " 'hash': '3d6943d8ea557c6b60bd9b88474c2f68751e72d7993ff577db667d5b9c8df510'}"
      ]
     },
     "execution_count": 9,
     "metadata": {},
     "output_type": "execute_result"
    }
   ],
   "source": [
    "ds[\"train\"][0]"
   ]
  },
  {
   "cell_type": "code",
   "execution_count": 13,
   "metadata": {},
   "outputs": [
    {
     "name": "stdout",
     "output_type": "stream",
     "text": [
      "CPU times: user 2.79 s, sys: 1.87 s, total: 4.67 s\n",
      "Wall time: 206 ms\n"
     ]
    },
    {
     "data": {
      "text/plain": [
       "DPRContextEncoderOutput(pooler_output=tensor([[ 3.6337e-01, -6.3672e-02,  3.5755e-01,  1.2224e-01, -5.8421e-01,\n",
       "          1.1369e-01,  8.2227e-02, -1.8736e-03, -4.3086e-01,  2.1051e-01,\n",
       "          6.5527e-02,  7.9716e-01,  1.9630e-01,  1.4502e-01,  1.8577e-01,\n",
       "          5.3105e-01,  6.7121e-01,  2.2321e-01, -3.0476e-01, -7.5012e-01,\n",
       "         -2.8609e-01, -2.3376e-01,  5.4423e-01, -3.7558e-01,  1.8825e-01,\n",
       "         -1.3368e-01,  2.1885e-01,  1.2107e-01, -4.2420e-01, -7.6600e-02,\n",
       "         -3.2712e-01,  6.6842e-01,  2.9126e-01, -4.9605e-01,  4.5646e-01,\n",
       "          1.2312e-01,  8.6409e-02, -3.9852e-01, -1.9559e-02, -3.9958e-01,\n",
       "          1.1441e-01, -1.8400e-01, -1.3879e-01,  8.9958e-01, -4.5795e-01,\n",
       "          3.3270e-01, -1.0284e+00,  2.6515e-01, -1.8462e-01,  3.7030e-01,\n",
       "         -4.8247e-02,  2.0896e-01,  2.0990e-03,  6.4028e-02,  1.1670e-01,\n",
       "         -7.2007e-02, -6.9541e-01,  5.2869e-01, -1.7336e-01, -3.2268e-01,\n",
       "          1.9228e-01, -2.6688e-01,  1.3425e-01, -2.7525e-01,  1.1686e-01,\n",
       "         -1.0293e-02, -3.3627e-03,  6.7453e-01, -2.3847e-01, -5.4464e-01,\n",
       "          5.0958e-01, -8.5094e-01, -3.7770e-01, -9.7244e-02,  1.7848e-01,\n",
       "         -2.0934e-02, -2.0081e-01, -2.5830e-01,  5.8125e-01,  2.4689e-01,\n",
       "         -8.0933e-02,  3.8833e-01,  9.0699e-01, -1.4396e-01,  4.7167e-01,\n",
       "         -1.2390e-01, -3.2314e-01,  8.2767e-01, -3.3446e-01,  4.2767e-01,\n",
       "          1.2715e-01, -8.2442e-01,  1.0104e+00,  2.6392e-01,  2.4440e-01,\n",
       "          3.6103e-02, -1.6536e-02,  5.4637e-01, -2.6179e-02, -1.1510e-01,\n",
       "          6.5618e-01, -2.2469e-01,  2.8544e-01, -6.0486e-01, -4.1586e-01,\n",
       "         -2.8950e-01, -1.3825e-01, -8.5711e-01,  3.7449e-01,  1.1916e-04,\n",
       "         -3.6040e-01,  5.4824e-01, -2.2951e-01,  1.1983e-01,  3.1365e-01,\n",
       "          1.3000e-01, -2.1873e-02, -1.6781e-01, -8.1029e-02,  4.8718e-01,\n",
       "          3.2251e-01,  4.7229e-01,  1.0608e-01,  2.5690e-01,  4.1409e-02,\n",
       "         -1.5130e-01,  3.3327e-01,  4.2687e-01, -3.7798e-01,  1.3817e-01,\n",
       "         -3.1140e-01,  8.2767e-01,  1.5227e-01, -6.5092e-01, -1.0326e-01,\n",
       "         -1.8483e-01,  6.0416e-02,  2.0488e-01,  1.1179e-01,  1.5294e-01,\n",
       "         -6.1796e-01, -2.4273e-01, -8.8673e-01, -2.3242e-01,  4.0458e-01,\n",
       "          1.6936e-01, -4.4379e-01, -2.7131e-02, -4.0949e-01,  4.7032e-02,\n",
       "          2.6153e-01, -2.2626e-01, -5.3172e-01, -3.6915e-01, -3.5384e-01,\n",
       "          2.1248e-01,  1.9749e-01,  2.0570e-01,  1.3238e-01, -3.8106e-01,\n",
       "          4.3621e-01,  3.5553e-01, -7.7751e-02,  3.2753e-01, -3.8441e-01,\n",
       "          3.2832e-01, -6.2601e-01,  4.1871e-01, -2.7703e-03, -6.0264e-01,\n",
       "         -4.2352e-01,  2.4653e-01, -3.4178e-02,  1.2653e-01,  3.8908e-01,\n",
       "          2.4777e-01,  9.3945e-01,  4.4665e-01,  1.6285e-02,  3.0074e-02,\n",
       "         -7.2203e-01, -1.0607e-01,  4.1213e-01, -6.7504e-01,  9.0145e-02,\n",
       "          2.6214e-01, -2.1602e-01,  1.4395e-01,  3.0417e-01,  2.2338e-01,\n",
       "         -2.3077e-01, -5.7921e-01,  6.7697e-02, -8.3171e-01,  6.8077e-01,\n",
       "         -8.9134e-02,  1.3257e-01,  9.4845e-01,  1.4435e-01,  4.8691e-02,\n",
       "         -8.0312e-02,  5.3333e-01,  4.2903e-01, -4.4895e-01, -9.3518e-01,\n",
       "         -1.6666e-01,  2.0959e-01, -2.0377e-01, -2.0041e-01, -5.4115e-02,\n",
       "          3.4016e-01, -5.9780e-01,  5.4561e-01,  3.6692e-01, -3.7403e-01,\n",
       "          2.6765e-01, -1.9637e-01,  8.5136e-02,  5.0362e-01, -4.8417e-01,\n",
       "          6.0912e-01,  4.2989e-01,  3.5532e-01,  9.5363e-02, -3.5667e-01,\n",
       "          6.9985e-01, -3.5140e-01,  2.3054e-01,  2.7731e-01, -5.7206e-01,\n",
       "          4.6703e-02,  6.7227e-01, -2.1591e-01, -2.7609e-01,  1.9694e-01,\n",
       "          6.4920e-01, -1.6606e-01, -6.0854e-01, -6.0868e-02, -4.9727e-02,\n",
       "          3.3103e-01, -3.8510e-01, -5.0467e-02,  8.4526e-01,  1.3264e-01,\n",
       "          6.5174e-02, -3.6439e-02,  1.0053e-01, -2.7197e-01, -2.4456e-01,\n",
       "          5.1690e-01,  3.5052e-01, -1.4212e-01, -1.4668e-02,  8.7146e-02,\n",
       "          7.3400e-02, -2.8726e-03,  2.2119e-02,  4.3861e-01,  3.1516e-01,\n",
       "         -1.4551e-01, -2.7110e-01, -1.7901e-01,  6.7577e-01, -5.7436e-01,\n",
       "         -2.1769e-01, -4.1927e-01, -2.3232e-01,  5.5632e-01,  6.3429e-01,\n",
       "         -2.9204e-01,  4.8532e-01, -8.7682e-01,  4.8958e-01, -2.2173e-01,\n",
       "         -2.2705e-01, -1.5668e-01,  4.6333e-01,  2.2433e-01, -8.5175e-01,\n",
       "         -2.4399e-01,  5.9729e-01,  7.5304e-01, -3.0289e-01, -5.1617e-01,\n",
       "         -1.7605e-01,  4.4334e-01, -2.7530e-01, -2.9438e-01, -2.5228e-01,\n",
       "         -9.7037e-02,  2.7008e-01,  2.9246e-01,  3.2740e-01,  5.3084e-01,\n",
       "          1.8459e-01,  2.1413e-01,  1.3951e-01,  1.1408e-01, -1.6638e-01,\n",
       "         -1.3850e-01, -3.1177e-01,  6.5321e-02, -3.7216e-01,  2.6457e-01,\n",
       "         -4.3941e-01,  1.6055e-01, -5.0066e-01, -5.8823e+00,  3.1501e-01,\n",
       "         -3.9502e-01, -2.9412e-01, -1.7264e-01, -6.2811e-02,  2.6324e-01,\n",
       "         -6.0553e-01, -4.1103e-02,  4.0170e-01, -4.7382e-01,  4.0984e-01,\n",
       "         -2.8703e-02, -4.7101e-02,  3.6609e-01,  1.6663e-01,  2.6580e-01,\n",
       "          6.7095e-01, -2.3159e-01, -2.2319e-01, -5.8845e-01, -5.2619e-03,\n",
       "          4.6698e-01,  6.7251e-01, -5.6394e-02,  2.6727e-01, -3.3784e-01,\n",
       "          1.6719e-01,  4.1444e-02, -2.1167e-01,  1.7391e-01,  3.9265e-02,\n",
       "          1.4736e-01, -2.2255e-01, -2.6021e-02, -3.9344e-02,  1.9975e-01,\n",
       "          1.6990e-01, -1.6638e-01, -4.5800e-01,  3.6812e-01,  4.8534e-01,\n",
       "          4.0396e-01, -5.4604e-01,  4.5135e-01, -1.9385e-01, -4.0841e-01,\n",
       "         -1.7426e-01, -2.3488e-01,  1.1281e+00,  5.0680e-01, -6.8055e-01,\n",
       "          1.9740e-01, -4.9305e-04, -1.0984e-01, -3.7116e-01, -6.0132e-02,\n",
       "          3.8690e-01,  1.7530e-01,  3.7859e-01, -3.7448e-01, -3.1282e-01,\n",
       "         -3.0741e-01, -2.8013e-01, -3.6553e-01,  3.2484e-01, -7.3241e-01,\n",
       "          1.3577e-03,  7.0537e-01,  5.1984e-01, -1.1560e-01, -5.7792e-02,\n",
       "         -5.1473e-02, -8.3733e-01,  2.9743e-01, -4.3766e-01, -3.8506e-01,\n",
       "          8.2084e-01, -1.5978e-01,  2.1917e-01, -8.6119e-02, -9.7887e-02,\n",
       "          1.8149e-01, -2.8979e-01,  1.6653e-01, -8.7085e-01, -3.1571e-01,\n",
       "         -3.3328e-03, -1.1156e-01,  2.2830e-01,  3.0563e-01, -7.1522e-02,\n",
       "          3.5837e-01,  3.6106e-01, -8.2556e-02,  2.6941e-01,  6.1329e-01,\n",
       "          4.7164e-01,  3.9934e-01, -2.0167e-02,  6.8115e-01,  5.0710e-02,\n",
       "          1.8812e-01, -1.0653e+00, -6.7099e-01, -3.7569e-01, -7.4909e-01,\n",
       "         -1.2181e-01,  7.0560e-01, -7.4667e-01, -2.4077e-01, -9.2439e-01,\n",
       "         -3.1314e-01, -5.9201e-01,  4.5213e-01, -2.9756e-02, -2.4409e-01,\n",
       "          4.7320e-02,  1.1728e-01, -4.2886e-01,  3.6824e-01, -1.2668e-01,\n",
       "         -3.4775e-01, -3.4538e-01, -2.6698e-01,  4.3686e-01,  2.2264e-01,\n",
       "          2.5742e-01, -1.3455e-01,  2.9677e-01,  1.9164e-01, -3.5996e-02,\n",
       "         -3.8311e-01, -3.5131e-01,  4.1039e-01, -2.8275e-01, -4.2782e-01,\n",
       "         -1.7316e-01,  1.9386e-01, -8.6124e-02,  4.9758e-01, -1.4557e-01,\n",
       "         -5.8256e-02,  4.8014e-01, -8.3742e-02,  5.5649e-01,  8.4134e-02,\n",
       "          1.6265e-01, -5.2224e-01,  1.6355e-01, -8.8276e-02,  2.6178e-01,\n",
       "          2.7479e-01, -1.2238e-01,  7.6305e-02,  5.9198e-01,  1.3929e-01,\n",
       "         -2.5767e-02, -1.4176e-01, -6.2370e-01, -7.7453e-02, -4.1969e-01,\n",
       "         -5.2819e-01,  1.0100e-01,  4.5382e-01,  1.0716e-01, -4.5212e-01,\n",
       "         -2.9161e-01, -1.1818e-01,  2.0552e-01, -2.6800e-01, -9.6877e-02,\n",
       "         -1.7382e-01, -2.7368e-01,  7.2034e-01,  8.5210e-02, -8.0052e-02,\n",
       "          8.9980e-02,  7.5234e-01, -3.9014e-01, -2.7589e-02, -4.8355e-01,\n",
       "         -2.5943e-01, -1.9653e-01,  4.8072e-01, -8.4429e-01, -2.6470e-01,\n",
       "         -1.3026e-01, -3.5525e-01, -2.5804e-01,  3.0912e-01,  5.3003e-01,\n",
       "          2.8168e-01, -1.9752e-01,  3.4089e-01, -8.5702e-01, -1.0787e-01,\n",
       "         -5.3209e-02, -3.4760e-01, -6.0260e-01, -4.5492e-02,  1.1060e-03,\n",
       "         -3.2515e-01,  8.1624e-02,  2.6444e-01, -7.3735e-02,  4.6604e-01,\n",
       "          9.7189e-02, -7.7116e-01, -2.0405e-01, -3.9453e-01, -1.3923e-01,\n",
       "          1.5831e-01,  3.5999e-01, -2.2101e-01,  1.3038e-01, -4.0358e-02,\n",
       "         -7.7955e-01, -5.9145e-01,  2.9790e-01, -1.5711e-01,  1.0366e-01,\n",
       "         -4.7150e-01,  2.9955e-01, -5.0050e-01,  3.1295e-01,  6.8005e-01,\n",
       "         -7.9669e-01, -4.4956e-01, -3.1309e-01,  3.5363e-01,  1.7738e-01,\n",
       "         -3.4651e-02,  3.6122e-02, -6.8091e-02,  2.7228e-01, -9.5927e-02,\n",
       "          2.6512e-01, -2.8525e-01,  3.8979e-01,  3.4396e-01,  2.0052e-01,\n",
       "         -1.5251e-01, -6.0362e-01, -5.4072e-01,  3.0979e-02,  1.5287e-01,\n",
       "          1.1786e-01, -7.8690e-01,  8.3619e-02, -4.0229e-02,  2.9752e-02,\n",
       "         -6.5404e-02, -2.9282e-01,  3.3374e-01, -5.6927e-01, -3.7311e-01,\n",
       "         -5.1180e-01, -3.5169e-01,  2.6534e-01,  1.6198e-01,  6.0405e-02,\n",
       "         -1.6559e-01, -1.1517e-01,  6.7866e-01,  6.6273e-01, -3.6608e-01,\n",
       "         -1.1058e+00, -4.3124e-01, -3.5579e-01, -1.3167e-01,  5.5808e-02,\n",
       "          4.1860e-01,  6.8156e-02,  2.4956e-01, -8.0299e-02,  3.0281e-02,\n",
       "         -5.0030e-01, -3.8777e-01, -1.9109e-02, -3.3011e-02, -3.2227e-01,\n",
       "         -3.3626e-01,  7.0230e-02,  1.4556e-01, -6.6084e-01, -3.1733e-01,\n",
       "          1.1015e-01,  5.1428e-01,  7.9309e-02,  1.7475e-01,  2.3674e-01,\n",
       "          1.7027e-01,  5.6019e-02,  4.3745e-01,  3.1976e-01,  7.1912e-01,\n",
       "         -3.4699e-01, -4.0483e-02,  8.8597e-02, -4.4799e-01,  1.0711e-01,\n",
       "          5.1093e-01, -4.6138e-01,  5.0475e-01,  4.0658e-01,  1.5755e-01,\n",
       "          1.6577e-01, -6.4517e-01,  2.2487e-01,  8.6791e-01, -8.8185e-02,\n",
       "          5.2179e-03,  8.3631e-01, -3.9525e-01,  6.6112e-02,  5.8073e-01,\n",
       "         -3.0780e-01,  1.9159e-01,  1.2898e-01,  1.0920e-01,  5.6920e-01,\n",
       "          5.4442e-01,  8.8379e-01, -3.9031e-01, -1.1762e-01, -9.8434e-02,\n",
       "          8.0485e-02,  3.9196e-01, -2.1371e-01,  6.5690e-01,  7.2398e-01,\n",
       "         -3.7757e-01,  7.4768e-01, -3.1249e-01, -4.7278e-02, -3.8956e-01,\n",
       "         -2.3995e-01, -7.3032e-01,  4.5209e-01, -2.8186e-02, -1.8694e-01,\n",
       "         -3.1131e-01,  1.3022e-01,  7.1200e-02,  5.9928e-01,  3.5870e-02,\n",
       "         -2.0709e-01,  2.6288e-01,  3.1949e-01,  1.2882e-01,  3.0850e-02,\n",
       "         -2.0126e-01, -5.5384e-01, -2.7123e-01, -7.4831e-02,  1.7117e-01,\n",
       "         -2.8922e-01, -1.2428e-01,  3.7611e-02,  1.9233e-01,  7.7940e-01,\n",
       "         -7.3121e-01,  3.0535e-01,  1.7049e-01, -3.7828e-01,  2.3162e-01,\n",
       "          1.5024e-01,  6.3562e-02,  1.9051e-01, -2.9505e-01,  6.8495e-02,\n",
       "         -3.5370e-01,  1.2010e-01, -5.4309e-01, -3.0625e-01,  5.5518e-01,\n",
       "          5.7852e-01,  5.6993e-01,  4.5974e-01, -4.7455e-01,  2.8853e-01,\n",
       "         -2.2937e-01, -1.7796e-01,  1.0835e-01, -4.2646e-01, -3.4917e-02,\n",
       "          1.7792e-01, -3.7385e-01, -2.5817e-01,  2.5296e-02, -4.9981e-01,\n",
       "         -6.8318e-01,  3.3348e-01, -3.4788e-01, -9.9273e-01,  9.5990e-02,\n",
       "          6.7257e-01,  4.1567e-02,  1.3690e-01, -1.2830e-01, -1.4363e-01,\n",
       "         -2.2302e-01,  4.2996e-01, -6.0693e-02,  1.0094e+00, -8.0803e-01,\n",
       "         -4.6346e-01, -1.0246e+00,  3.6901e-01,  3.1505e-01,  7.9117e-01,\n",
       "         -1.2047e-01,  3.3886e-01, -2.0843e-01, -4.2408e-01,  3.5393e-01,\n",
       "         -2.0855e-01, -6.8110e-04, -1.7403e-01,  9.6040e-02,  6.8147e-02,\n",
       "          3.4372e-01,  6.5447e-01,  3.2392e-02, -3.3278e-01,  2.8390e-01,\n",
       "          1.7737e-01, -8.7077e-01,  2.2475e-01,  2.4767e-01, -4.6622e-02,\n",
       "         -4.2614e-01, -1.9351e-01, -5.5130e-01,  2.0432e-01, -1.6465e-01,\n",
       "          3.0369e-01,  2.7904e-01, -1.8076e-01, -2.9624e-01, -1.3412e-01,\n",
       "          7.6340e-02,  3.9965e-01, -1.7330e-01,  3.7832e-01,  6.6605e-02,\n",
       "         -1.3858e-01, -1.3008e+00,  5.2210e-01,  1.2421e-01, -5.0850e-01,\n",
       "          3.1189e-01, -1.7162e-01, -1.8049e-01, -8.3267e-02,  2.0821e-01,\n",
       "          3.0522e-01, -2.4909e-01, -5.2380e-01]]), hidden_states=None, attentions=None)"
      ]
     },
     "execution_count": 13,
     "metadata": {},
     "output_type": "execute_result"
    }
   ],
   "source": [
    "%%time\n",
    "ctx_encoder(**ctx_tokenizer(ds[\"train\"][0][\"non_split\"], return_tensors=\"pt\", padding=True, truncation=True))"
   ]
  },
  {
   "cell_type": "code",
   "execution_count": null,
   "metadata": {},
   "outputs": [],
   "source": []
  },
  {
   "cell_type": "code",
   "execution_count": 17,
   "metadata": {},
   "outputs": [
    {
     "data": {
      "application/vnd.jupyter.widget-view+json": {
       "model_id": "4c6ce6e485cd452f89382ab894837fd0",
       "version_major": 2,
       "version_minor": 0
      },
      "text/plain": [
       "  0%|          | 0/177300 [00:00<?, ?ex/s]"
      ]
     },
     "metadata": {},
     "output_type": "display_data"
    }
   ],
   "source": [
    "ds_with_embeddings = ds.map(lambda example: {'embeddings_non_spli': ctx_encoder(**ctx_tokenizer(example[\"non_split\"], return_tensors=\"pt\", truncation=True, padding=True))[0][0].numpy()} )"
   ]
  },
  {
   "cell_type": "code",
   "execution_count": null,
   "metadata": {},
   "outputs": [],
   "source": [
    "ds_with_embeddings"
   ]
  },
  {
   "cell_type": "code",
   "execution_count": 10,
   "metadata": {},
   "outputs": [
    {
     "name": "stderr",
     "output_type": "stream",
     "text": [
      "Some weights of the model checkpoint at facebook/dpr-ctx_encoder-single-nq-base were not used when initializing DPRContextEncoder: ['ctx_encoder.bert_model.pooler.dense.bias', 'ctx_encoder.bert_model.pooler.dense.weight']\n",
      "- This IS expected if you are initializing DPRContextEncoder from the checkpoint of a model trained on another task or with another architecture (e.g. initializing a BertForSequenceClassification model from a BertForPreTraining model).\n",
      "- This IS NOT expected if you are initializing DPRContextEncoder from the checkpoint of a model that you expect to be exactly identical (initializing a BertForSequenceClassification model from a BertForSequenceClassification model).\n",
      "The tokenizer class you load from this checkpoint is not the same type as the class this function is called from. It may result in unexpected tokenization. \n",
      "The tokenizer class you load from this checkpoint is 'DPRQuestionEncoderTokenizer'. \n",
      "The class this function is called from is 'DPRContextEncoderTokenizer'.\n"
     ]
    }
   ],
   "source": [
    "from transformers import DPRContextEncoder, DPRContextEncoderTokenizer\n",
    "import torch\n",
    "torch.set_grad_enabled(False)\n",
    "ctx_encoder = DPRContextEncoder.from_pretrained(\"facebook/dpr-ctx_encoder-single-nq-base\")\n",
    "ctx_tokenizer = DPRContextEncoderTokenizer.from_pretrained(\"facebook/dpr-ctx_encoder-single-nq-base\")"
   ]
  },
  {
   "cell_type": "code",
   "execution_count": 12,
   "metadata": {},
   "outputs": [
    {
     "ename": "RuntimeError",
     "evalue": "No CUDA GPUs are available",
     "output_type": "error",
     "traceback": [
      "\u001b[0;31m---------------------------------------------------------------------------\u001b[0m",
      "\u001b[0;31mRuntimeError\u001b[0m                              Traceback (most recent call last)",
      "\u001b[0;32m/tmp/ipykernel_4634/1516589109.py\u001b[0m in \u001b[0;36m<module>\u001b[0;34m\u001b[0m\n\u001b[0;32m----> 1\u001b[0;31m \u001b[0mctx_encoder\u001b[0m\u001b[0;34m.\u001b[0m\u001b[0mcuda\u001b[0m\u001b[0;34m(\u001b[0m\u001b[0;34m)\u001b[0m\u001b[0;34m\u001b[0m\u001b[0;34m\u001b[0m\u001b[0m\n\u001b[0m",
      "\u001b[0;32m/opt/conda/lib/python3.7/site-packages/torch/nn/modules/module.py\u001b[0m in \u001b[0;36mcuda\u001b[0;34m(self, device)\u001b[0m\n\u001b[1;32m    745\u001b[0m             \u001b[0mModule\u001b[0m\u001b[0;34m:\u001b[0m \u001b[0mself\u001b[0m\u001b[0;34m\u001b[0m\u001b[0;34m\u001b[0m\u001b[0m\n\u001b[1;32m    746\u001b[0m         \"\"\"\n\u001b[0;32m--> 747\u001b[0;31m         \u001b[0;32mreturn\u001b[0m \u001b[0mself\u001b[0m\u001b[0;34m.\u001b[0m\u001b[0m_apply\u001b[0m\u001b[0;34m(\u001b[0m\u001b[0;32mlambda\u001b[0m \u001b[0mt\u001b[0m\u001b[0;34m:\u001b[0m \u001b[0mt\u001b[0m\u001b[0;34m.\u001b[0m\u001b[0mcuda\u001b[0m\u001b[0;34m(\u001b[0m\u001b[0mdevice\u001b[0m\u001b[0;34m)\u001b[0m\u001b[0;34m)\u001b[0m\u001b[0;34m\u001b[0m\u001b[0;34m\u001b[0m\u001b[0m\n\u001b[0m\u001b[1;32m    748\u001b[0m \u001b[0;34m\u001b[0m\u001b[0m\n\u001b[1;32m    749\u001b[0m     \u001b[0;32mdef\u001b[0m \u001b[0mipu\u001b[0m\u001b[0;34m(\u001b[0m\u001b[0mself\u001b[0m\u001b[0;34m:\u001b[0m \u001b[0mT\u001b[0m\u001b[0;34m,\u001b[0m \u001b[0mdevice\u001b[0m\u001b[0;34m:\u001b[0m \u001b[0mOptional\u001b[0m\u001b[0;34m[\u001b[0m\u001b[0mUnion\u001b[0m\u001b[0;34m[\u001b[0m\u001b[0mint\u001b[0m\u001b[0;34m,\u001b[0m \u001b[0mdevice\u001b[0m\u001b[0;34m]\u001b[0m\u001b[0;34m]\u001b[0m \u001b[0;34m=\u001b[0m \u001b[0;32mNone\u001b[0m\u001b[0;34m)\u001b[0m \u001b[0;34m->\u001b[0m \u001b[0mT\u001b[0m\u001b[0;34m:\u001b[0m\u001b[0;34m\u001b[0m\u001b[0;34m\u001b[0m\u001b[0m\n",
      "\u001b[0;32m/opt/conda/lib/python3.7/site-packages/torch/nn/modules/module.py\u001b[0m in \u001b[0;36m_apply\u001b[0;34m(self, fn)\u001b[0m\n\u001b[1;32m    637\u001b[0m     \u001b[0;32mdef\u001b[0m \u001b[0m_apply\u001b[0m\u001b[0;34m(\u001b[0m\u001b[0mself\u001b[0m\u001b[0;34m,\u001b[0m \u001b[0mfn\u001b[0m\u001b[0;34m)\u001b[0m\u001b[0;34m:\u001b[0m\u001b[0;34m\u001b[0m\u001b[0;34m\u001b[0m\u001b[0m\n\u001b[1;32m    638\u001b[0m         \u001b[0;32mfor\u001b[0m \u001b[0mmodule\u001b[0m \u001b[0;32min\u001b[0m \u001b[0mself\u001b[0m\u001b[0;34m.\u001b[0m\u001b[0mchildren\u001b[0m\u001b[0;34m(\u001b[0m\u001b[0;34m)\u001b[0m\u001b[0;34m:\u001b[0m\u001b[0;34m\u001b[0m\u001b[0;34m\u001b[0m\u001b[0m\n\u001b[0;32m--> 639\u001b[0;31m             \u001b[0mmodule\u001b[0m\u001b[0;34m.\u001b[0m\u001b[0m_apply\u001b[0m\u001b[0;34m(\u001b[0m\u001b[0mfn\u001b[0m\u001b[0;34m)\u001b[0m\u001b[0;34m\u001b[0m\u001b[0;34m\u001b[0m\u001b[0m\n\u001b[0m\u001b[1;32m    640\u001b[0m \u001b[0;34m\u001b[0m\u001b[0m\n\u001b[1;32m    641\u001b[0m         \u001b[0;32mdef\u001b[0m \u001b[0mcompute_should_use_set_data\u001b[0m\u001b[0;34m(\u001b[0m\u001b[0mtensor\u001b[0m\u001b[0;34m,\u001b[0m \u001b[0mtensor_applied\u001b[0m\u001b[0;34m)\u001b[0m\u001b[0;34m:\u001b[0m\u001b[0;34m\u001b[0m\u001b[0;34m\u001b[0m\u001b[0m\n",
      "\u001b[0;32m/opt/conda/lib/python3.7/site-packages/torch/nn/modules/module.py\u001b[0m in \u001b[0;36m_apply\u001b[0;34m(self, fn)\u001b[0m\n\u001b[1;32m    637\u001b[0m     \u001b[0;32mdef\u001b[0m \u001b[0m_apply\u001b[0m\u001b[0;34m(\u001b[0m\u001b[0mself\u001b[0m\u001b[0;34m,\u001b[0m \u001b[0mfn\u001b[0m\u001b[0;34m)\u001b[0m\u001b[0;34m:\u001b[0m\u001b[0;34m\u001b[0m\u001b[0;34m\u001b[0m\u001b[0m\n\u001b[1;32m    638\u001b[0m         \u001b[0;32mfor\u001b[0m \u001b[0mmodule\u001b[0m \u001b[0;32min\u001b[0m \u001b[0mself\u001b[0m\u001b[0;34m.\u001b[0m\u001b[0mchildren\u001b[0m\u001b[0;34m(\u001b[0m\u001b[0;34m)\u001b[0m\u001b[0;34m:\u001b[0m\u001b[0;34m\u001b[0m\u001b[0;34m\u001b[0m\u001b[0m\n\u001b[0;32m--> 639\u001b[0;31m             \u001b[0mmodule\u001b[0m\u001b[0;34m.\u001b[0m\u001b[0m_apply\u001b[0m\u001b[0;34m(\u001b[0m\u001b[0mfn\u001b[0m\u001b[0;34m)\u001b[0m\u001b[0;34m\u001b[0m\u001b[0;34m\u001b[0m\u001b[0m\n\u001b[0m\u001b[1;32m    640\u001b[0m \u001b[0;34m\u001b[0m\u001b[0m\n\u001b[1;32m    641\u001b[0m         \u001b[0;32mdef\u001b[0m \u001b[0mcompute_should_use_set_data\u001b[0m\u001b[0;34m(\u001b[0m\u001b[0mtensor\u001b[0m\u001b[0;34m,\u001b[0m \u001b[0mtensor_applied\u001b[0m\u001b[0;34m)\u001b[0m\u001b[0;34m:\u001b[0m\u001b[0;34m\u001b[0m\u001b[0;34m\u001b[0m\u001b[0m\n",
      "\u001b[0;32m/opt/conda/lib/python3.7/site-packages/torch/nn/modules/module.py\u001b[0m in \u001b[0;36m_apply\u001b[0;34m(self, fn)\u001b[0m\n\u001b[1;32m    637\u001b[0m     \u001b[0;32mdef\u001b[0m \u001b[0m_apply\u001b[0m\u001b[0;34m(\u001b[0m\u001b[0mself\u001b[0m\u001b[0;34m,\u001b[0m \u001b[0mfn\u001b[0m\u001b[0;34m)\u001b[0m\u001b[0;34m:\u001b[0m\u001b[0;34m\u001b[0m\u001b[0;34m\u001b[0m\u001b[0m\n\u001b[1;32m    638\u001b[0m         \u001b[0;32mfor\u001b[0m \u001b[0mmodule\u001b[0m \u001b[0;32min\u001b[0m \u001b[0mself\u001b[0m\u001b[0;34m.\u001b[0m\u001b[0mchildren\u001b[0m\u001b[0;34m(\u001b[0m\u001b[0;34m)\u001b[0m\u001b[0;34m:\u001b[0m\u001b[0;34m\u001b[0m\u001b[0;34m\u001b[0m\u001b[0m\n\u001b[0;32m--> 639\u001b[0;31m             \u001b[0mmodule\u001b[0m\u001b[0;34m.\u001b[0m\u001b[0m_apply\u001b[0m\u001b[0;34m(\u001b[0m\u001b[0mfn\u001b[0m\u001b[0;34m)\u001b[0m\u001b[0;34m\u001b[0m\u001b[0;34m\u001b[0m\u001b[0m\n\u001b[0m\u001b[1;32m    640\u001b[0m \u001b[0;34m\u001b[0m\u001b[0m\n\u001b[1;32m    641\u001b[0m         \u001b[0;32mdef\u001b[0m \u001b[0mcompute_should_use_set_data\u001b[0m\u001b[0;34m(\u001b[0m\u001b[0mtensor\u001b[0m\u001b[0;34m,\u001b[0m \u001b[0mtensor_applied\u001b[0m\u001b[0;34m)\u001b[0m\u001b[0;34m:\u001b[0m\u001b[0;34m\u001b[0m\u001b[0;34m\u001b[0m\u001b[0m\n",
      "\u001b[0;32m/opt/conda/lib/python3.7/site-packages/torch/nn/modules/module.py\u001b[0m in \u001b[0;36m_apply\u001b[0;34m(self, fn)\u001b[0m\n\u001b[1;32m    637\u001b[0m     \u001b[0;32mdef\u001b[0m \u001b[0m_apply\u001b[0m\u001b[0;34m(\u001b[0m\u001b[0mself\u001b[0m\u001b[0;34m,\u001b[0m \u001b[0mfn\u001b[0m\u001b[0;34m)\u001b[0m\u001b[0;34m:\u001b[0m\u001b[0;34m\u001b[0m\u001b[0;34m\u001b[0m\u001b[0m\n\u001b[1;32m    638\u001b[0m         \u001b[0;32mfor\u001b[0m \u001b[0mmodule\u001b[0m \u001b[0;32min\u001b[0m \u001b[0mself\u001b[0m\u001b[0;34m.\u001b[0m\u001b[0mchildren\u001b[0m\u001b[0;34m(\u001b[0m\u001b[0;34m)\u001b[0m\u001b[0;34m:\u001b[0m\u001b[0;34m\u001b[0m\u001b[0;34m\u001b[0m\u001b[0m\n\u001b[0;32m--> 639\u001b[0;31m             \u001b[0mmodule\u001b[0m\u001b[0;34m.\u001b[0m\u001b[0m_apply\u001b[0m\u001b[0;34m(\u001b[0m\u001b[0mfn\u001b[0m\u001b[0;34m)\u001b[0m\u001b[0;34m\u001b[0m\u001b[0;34m\u001b[0m\u001b[0m\n\u001b[0m\u001b[1;32m    640\u001b[0m \u001b[0;34m\u001b[0m\u001b[0m\n\u001b[1;32m    641\u001b[0m         \u001b[0;32mdef\u001b[0m \u001b[0mcompute_should_use_set_data\u001b[0m\u001b[0;34m(\u001b[0m\u001b[0mtensor\u001b[0m\u001b[0;34m,\u001b[0m \u001b[0mtensor_applied\u001b[0m\u001b[0;34m)\u001b[0m\u001b[0;34m:\u001b[0m\u001b[0;34m\u001b[0m\u001b[0;34m\u001b[0m\u001b[0m\n",
      "\u001b[0;32m/opt/conda/lib/python3.7/site-packages/torch/nn/modules/module.py\u001b[0m in \u001b[0;36m_apply\u001b[0;34m(self, fn)\u001b[0m\n\u001b[1;32m    660\u001b[0m             \u001b[0;31m# `with torch.no_grad():`\u001b[0m\u001b[0;34m\u001b[0m\u001b[0;34m\u001b[0m\u001b[0;34m\u001b[0m\u001b[0m\n\u001b[1;32m    661\u001b[0m             \u001b[0;32mwith\u001b[0m \u001b[0mtorch\u001b[0m\u001b[0;34m.\u001b[0m\u001b[0mno_grad\u001b[0m\u001b[0;34m(\u001b[0m\u001b[0;34m)\u001b[0m\u001b[0;34m:\u001b[0m\u001b[0;34m\u001b[0m\u001b[0;34m\u001b[0m\u001b[0m\n\u001b[0;32m--> 662\u001b[0;31m                 \u001b[0mparam_applied\u001b[0m \u001b[0;34m=\u001b[0m \u001b[0mfn\u001b[0m\u001b[0;34m(\u001b[0m\u001b[0mparam\u001b[0m\u001b[0;34m)\u001b[0m\u001b[0;34m\u001b[0m\u001b[0;34m\u001b[0m\u001b[0m\n\u001b[0m\u001b[1;32m    663\u001b[0m             \u001b[0mshould_use_set_data\u001b[0m \u001b[0;34m=\u001b[0m \u001b[0mcompute_should_use_set_data\u001b[0m\u001b[0;34m(\u001b[0m\u001b[0mparam\u001b[0m\u001b[0;34m,\u001b[0m \u001b[0mparam_applied\u001b[0m\u001b[0;34m)\u001b[0m\u001b[0;34m\u001b[0m\u001b[0;34m\u001b[0m\u001b[0m\n\u001b[1;32m    664\u001b[0m             \u001b[0;32mif\u001b[0m \u001b[0mshould_use_set_data\u001b[0m\u001b[0;34m:\u001b[0m\u001b[0;34m\u001b[0m\u001b[0;34m\u001b[0m\u001b[0m\n",
      "\u001b[0;32m/opt/conda/lib/python3.7/site-packages/torch/nn/modules/module.py\u001b[0m in \u001b[0;36m<lambda>\u001b[0;34m(t)\u001b[0m\n\u001b[1;32m    745\u001b[0m             \u001b[0mModule\u001b[0m\u001b[0;34m:\u001b[0m \u001b[0mself\u001b[0m\u001b[0;34m\u001b[0m\u001b[0;34m\u001b[0m\u001b[0m\n\u001b[1;32m    746\u001b[0m         \"\"\"\n\u001b[0;32m--> 747\u001b[0;31m         \u001b[0;32mreturn\u001b[0m \u001b[0mself\u001b[0m\u001b[0;34m.\u001b[0m\u001b[0m_apply\u001b[0m\u001b[0;34m(\u001b[0m\u001b[0;32mlambda\u001b[0m \u001b[0mt\u001b[0m\u001b[0;34m:\u001b[0m \u001b[0mt\u001b[0m\u001b[0;34m.\u001b[0m\u001b[0mcuda\u001b[0m\u001b[0;34m(\u001b[0m\u001b[0mdevice\u001b[0m\u001b[0;34m)\u001b[0m\u001b[0;34m)\u001b[0m\u001b[0;34m\u001b[0m\u001b[0;34m\u001b[0m\u001b[0m\n\u001b[0m\u001b[1;32m    748\u001b[0m \u001b[0;34m\u001b[0m\u001b[0m\n\u001b[1;32m    749\u001b[0m     \u001b[0;32mdef\u001b[0m \u001b[0mipu\u001b[0m\u001b[0;34m(\u001b[0m\u001b[0mself\u001b[0m\u001b[0;34m:\u001b[0m \u001b[0mT\u001b[0m\u001b[0;34m,\u001b[0m \u001b[0mdevice\u001b[0m\u001b[0;34m:\u001b[0m \u001b[0mOptional\u001b[0m\u001b[0;34m[\u001b[0m\u001b[0mUnion\u001b[0m\u001b[0;34m[\u001b[0m\u001b[0mint\u001b[0m\u001b[0;34m,\u001b[0m \u001b[0mdevice\u001b[0m\u001b[0;34m]\u001b[0m\u001b[0;34m]\u001b[0m \u001b[0;34m=\u001b[0m \u001b[0;32mNone\u001b[0m\u001b[0;34m)\u001b[0m \u001b[0;34m->\u001b[0m \u001b[0mT\u001b[0m\u001b[0;34m:\u001b[0m\u001b[0;34m\u001b[0m\u001b[0;34m\u001b[0m\u001b[0m\n",
      "\u001b[0;32m/opt/conda/lib/python3.7/site-packages/torch/cuda/__init__.py\u001b[0m in \u001b[0;36m_lazy_init\u001b[0;34m()\u001b[0m\n\u001b[1;32m    227\u001b[0m         \u001b[0;32mif\u001b[0m \u001b[0;34m'CUDA_MODULE_LOADING'\u001b[0m \u001b[0;32mnot\u001b[0m \u001b[0;32min\u001b[0m \u001b[0mos\u001b[0m\u001b[0;34m.\u001b[0m\u001b[0menviron\u001b[0m\u001b[0;34m:\u001b[0m\u001b[0;34m\u001b[0m\u001b[0;34m\u001b[0m\u001b[0m\n\u001b[1;32m    228\u001b[0m             \u001b[0mos\u001b[0m\u001b[0;34m.\u001b[0m\u001b[0menviron\u001b[0m\u001b[0;34m[\u001b[0m\u001b[0;34m'CUDA_MODULE_LOADING'\u001b[0m\u001b[0;34m]\u001b[0m \u001b[0;34m=\u001b[0m \u001b[0;34m'LAZY'\u001b[0m\u001b[0;34m\u001b[0m\u001b[0;34m\u001b[0m\u001b[0m\n\u001b[0;32m--> 229\u001b[0;31m         \u001b[0mtorch\u001b[0m\u001b[0;34m.\u001b[0m\u001b[0m_C\u001b[0m\u001b[0;34m.\u001b[0m\u001b[0m_cuda_init\u001b[0m\u001b[0;34m(\u001b[0m\u001b[0;34m)\u001b[0m\u001b[0;34m\u001b[0m\u001b[0;34m\u001b[0m\u001b[0m\n\u001b[0m\u001b[1;32m    230\u001b[0m         \u001b[0;31m# Some of the queued calls may reentrantly call _lazy_init();\u001b[0m\u001b[0;34m\u001b[0m\u001b[0;34m\u001b[0m\u001b[0;34m\u001b[0m\u001b[0m\n\u001b[1;32m    231\u001b[0m         \u001b[0;31m# we need to just return without initializing in that case.\u001b[0m\u001b[0;34m\u001b[0m\u001b[0;34m\u001b[0m\u001b[0;34m\u001b[0m\u001b[0m\n",
      "\u001b[0;31mRuntimeError\u001b[0m: No CUDA GPUs are available"
     ]
    }
   ],
   "source": [
    "ctx_encoder.cuda()"
   ]
  },
  {
   "cell_type": "code",
   "execution_count": null,
   "metadata": {},
   "outputs": [],
   "source": []
  }
 ],
 "metadata": {
  "kernelspec": {
   "display_name": "Python 3.7.12 ('base')",
   "language": "python",
   "name": "python3"
  },
  "language_info": {
   "codemirror_mode": {
    "name": "ipython",
    "version": 3
   },
   "file_extension": ".py",
   "mimetype": "text/x-python",
   "name": "python",
   "nbconvert_exporter": "python",
   "pygments_lexer": "ipython3",
   "version": "3.7.12"
  },
  "orig_nbformat": 4,
  "vscode": {
   "interpreter": {
    "hash": "d4d1e4263499bec80672ea0156c357c1ee493ec2b1c70f0acce89fc37c4a6abe"
   }
  }
 },
 "nbformat": 4,
 "nbformat_minor": 2
}
